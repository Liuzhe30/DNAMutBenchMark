{
 "cells": [
  {
   "cell_type": "markdown",
   "metadata": {},
   "source": [
    "### coding strategy benchmarking"
   ]
  },
  {
   "cell_type": "code",
   "execution_count": 1,
   "metadata": {},
   "outputs": [],
   "source": [
    "import numpy as np\n",
    "import pandas as pd\n",
    "\n",
    "benchmark_df = pd.DataFrame(columns=['coding strategy','abundance','differentiation','time cost','can be pooled?',\n",
    "                'positional interpretability','functional interpretability'])\n",
    "data_path = '../datasets/benchmark_datasets/'"
   ]
  },
  {
   "cell_type": "markdown",
   "metadata": {},
   "source": [
    "#### coding 1: One-Hot"
   ]
  },
  {
   "cell_type": "code",
   "execution_count": 2,
   "metadata": {},
   "outputs": [
    {
     "name": "stdout",
     "output_type": "stream",
     "text": [
      "  coding strategy  abundance  differentiation     time cost can be pooled?  \\\n",
      "0         One-Hot        4.0         0.003992  7.958231e-07             No   \n",
      "\n",
      "  positional interpretability functional interpretability  \n",
      "0                         Yes                          No  \n"
     ]
    },
    {
     "name": "stderr",
     "output_type": "stream",
     "text": [
      "/tmp/ipykernel_740546/3179760328.py:39: FutureWarning: The behavior of DataFrame concatenation with empty or all-NA entries is deprecated. In a future version, this will no longer exclude empty or all-NA columns when determining the result dtypes. To retain the old behavior, exclude the relevant entries before the concat operation.\n",
      "  benchmark_df = benchmark_df._append({'coding strategy': coding_strategy, 'abundance': abundance, 'differentiation': differentiation,\n"
     ]
    }
   ],
   "source": [
    "# benchmarking coding strategy\n",
    "coding_strategy = 'One-Hot'\n",
    "can_be_pooled = 'No'\n",
    "positional_interpretability = 'Yes'\n",
    "functional_interpretability = 'No'\n",
    "\n",
    "# calculating metrics\n",
    "L = 501\n",
    "data = pd.read_pickle(data_path + 'onehot.dataset')\n",
    "#print(data.head())\n",
    "\n",
    "T_list = []\n",
    "abundance_list = []\n",
    "differentiation_list = []\n",
    "for i in range(len(data)):\n",
    "    embedding_before = np.array(data['embedding_before'][i])\n",
    "    embedding_after = np.array(data['embedding_after'][i])\n",
    "    time_before = data['time_before'][i]\n",
    "    time_after = data['time_after'][i]\n",
    "\n",
    "    embedding_shape = embedding_before.shape\n",
    "    dim_sum = 1\n",
    "    for j in range(len(embedding_shape)):\n",
    "        dim_sum *= embedding_shape[j]\n",
    "    #print(embedding_shape)\n",
    "    T_list.append((time_before + time_after)/float(L))\n",
    "    abundance_list.append(dim_sum/float(L))\n",
    "\n",
    "    x_before_normal = (embedding_before - np.amin(embedding_before))/float(np.ptp(embedding_before))\n",
    "    x_after_normal = (embedding_after - np.amin(embedding_after))/float(np.ptp(embedding_after))\n",
    "    x_normal = x_after_normal - x_before_normal\n",
    "    differentiation_list.append(np.sum(np.absolute(x_normal))/float(L))\n",
    "\n",
    "T = sum(T_list)/float(len(data))\n",
    "abundance = sum(abundance_list)/float(len(data))\n",
    "differentiation = sum(differentiation_list)/float(len(data))\n",
    "\n",
    "# generate dataframe\n",
    "benchmark_df = benchmark_df._append({'coding strategy': coding_strategy, 'abundance': abundance, 'differentiation': differentiation,\n",
    "                                    'time cost': T, 'can be pooled?': can_be_pooled, \n",
    "                                    'positional interpretability':positional_interpretability,\n",
    "                                    'functional interpretability':functional_interpretability},ignore_index=True)\n",
    "print(benchmark_df)"
   ]
  },
  {
   "cell_type": "markdown",
   "metadata": {},
   "source": [
    "#### coding 2: DNABert2"
   ]
  },
  {
   "cell_type": "code",
   "execution_count": 3,
   "metadata": {},
   "outputs": [
    {
     "name": "stdout",
     "output_type": "stream",
     "text": [
      "  coding strategy   abundance  differentiation     time cost can be pooled?  \\\n",
      "0         One-Hot    4.000000         0.003992  7.958231e-07             No   \n",
      "1        DNABert2  469.537725         9.314390  1.075537e-03            Yes   \n",
      "\n",
      "  positional interpretability functional interpretability  \n",
      "0                         Yes                          No  \n",
      "1                          No                         Yes  \n"
     ]
    }
   ],
   "source": [
    "# benchmarking coding strategy\n",
    "coding_strategy = 'DNABert2'\n",
    "can_be_pooled = 'Yes'\n",
    "positional_interpretability = 'No'\n",
    "functional_interpretability = 'Yes'\n",
    "\n",
    "# calculating metrics\n",
    "L = 501\n",
    "data = pd.read_pickle(data_path + 'dnabert.dataset')\n",
    "#print(data.head())\n",
    "\n",
    "T_list = []\n",
    "abundance_list = []\n",
    "differentiation_list = []\n",
    "for i in range(len(data)):\n",
    "    embedding_before = np.squeeze(data['embedding_before'][i])\n",
    "    embedding_after = np.squeeze(data['embedding_after'][i])\n",
    "    time_before = data['time_before'][i]\n",
    "    time_after = data['time_after'][i]\n",
    "\n",
    "    embedding_shape_before = embedding_before.shape\n",
    "    embedding_shape_after = embedding_after.shape\n",
    "    # if shape doesn't match\n",
    "    if(embedding_shape_before[0] < embedding_shape_after[0]):\n",
    "        embedding_before = np.pad(embedding_before,((0,0),(0,embedding_shape_after[0]-embedding_shape_before[0])),constant_values = (0,0))\n",
    "    elif(embedding_shape_before[0] > embedding_shape_after[0]):\n",
    "        embedding_after = np.pad(embedding_after,((0,embedding_shape_before[0]-embedding_shape_after[0]),(0,0)),constant_values = (0,0))\n",
    "\n",
    "    embedding_shape = embedding_shape_before\n",
    "    dim_sum = 1\n",
    "    for j in range(len(embedding_shape)):\n",
    "        dim_sum *= embedding_shape[j]\n",
    "\n",
    "    T_list.append((time_before + time_after)/float(L))\n",
    "    abundance_list.append(dim_sum/float(L))\n",
    "\n",
    "    x_before_normal = (embedding_before - np.amin(embedding_before))/float(np.ptp(embedding_before))\n",
    "    x_after_normal = (embedding_after - np.amin(embedding_after))/float(np.ptp(embedding_after))\n",
    "    x_normal = x_after_normal - x_before_normal\n",
    "    differentiation_list.append(np.sum(np.absolute(x_normal))/float(L))\n",
    "\n",
    "T = sum(T_list)/float(len(data))\n",
    "abundance = sum(abundance_list)/float(len(data))\n",
    "differentiation = sum(differentiation_list)/float(len(data))\n",
    "\n",
    "# generate dataframe\n",
    "benchmark_df = benchmark_df._append({'coding strategy': coding_strategy, 'abundance': abundance, 'differentiation': differentiation,\n",
    "                                    'time cost': T, 'can be pooled?': can_be_pooled, \n",
    "                                    'positional interpretability':positional_interpretability,\n",
    "                                    'functional interpretability':functional_interpretability},ignore_index=True)\n",
    "print(benchmark_df)"
   ]
  },
  {
   "cell_type": "markdown",
   "metadata": {},
   "source": [
    "#### coding 3: GPN"
   ]
  },
  {
   "cell_type": "code",
   "execution_count": 4,
   "metadata": {},
   "outputs": [
    {
     "name": "stdout",
     "output_type": "stream",
     "text": [
      "  coding strategy   abundance  differentiation     time cost can be pooled?  \\\n",
      "0         One-Hot    4.000000         0.003992  7.958231e-07             No   \n",
      "1        DNABert2  469.537725         9.314390  1.075537e-03            Yes   \n",
      "2             GPN  512.000000         1.308631  5.871583e-03            Yes   \n",
      "\n",
      "  positional interpretability functional interpretability  \n",
      "0                         Yes                          No  \n",
      "1                          No                         Yes  \n",
      "2                         Yes                         Yes  \n"
     ]
    }
   ],
   "source": [
    "# benchmarking coding strategy\n",
    "coding_strategy = 'GPN'\n",
    "can_be_pooled = 'Yes'\n",
    "positional_interpretability = 'Yes'\n",
    "functional_interpretability = 'Yes'\n",
    "\n",
    "# calculating metrics\n",
    "L = 501\n",
    "data = pd.read_pickle(data_path + 'gpn.dataset')\n",
    "#print(data.head())\n",
    "\n",
    "T_list = []\n",
    "abundance_list = []\n",
    "differentiation_list = []\n",
    "for i in range(len(data)):\n",
    "    embedding_before = np.array(data['embedding_before'][i])\n",
    "    embedding_after = np.array(data['embedding_after'][i])\n",
    "    time_before = data['time_before'][i]\n",
    "    time_after = data['time_after'][i]\n",
    "\n",
    "    embedding_shape = embedding_before.shape\n",
    "    dim_sum = 1\n",
    "    for j in range(len(embedding_shape)):\n",
    "        dim_sum *= embedding_shape[j]\n",
    "    #print(embedding_shape) # (1, 501, 512)\n",
    "    T_list.append((time_before + time_after)/float(L))\n",
    "    abundance_list.append(dim_sum/float(L))\n",
    "\n",
    "    x_before_normal = (embedding_before - np.amin(embedding_before))/float(np.ptp(embedding_before))\n",
    "    x_after_normal = (embedding_after - np.amin(embedding_after))/float(np.ptp(embedding_after))\n",
    "    x_normal = x_after_normal - x_before_normal\n",
    "    differentiation_list.append(np.sum(np.absolute(x_normal))/float(L))\n",
    "\n",
    "T = sum(T_list)/float(len(data))\n",
    "abundance = sum(abundance_list)/float(len(data))\n",
    "differentiation = sum(differentiation_list)/float(len(data))\n",
    "\n",
    "# generate dataframe\n",
    "benchmark_df = benchmark_df._append({'coding strategy': coding_strategy, 'abundance': abundance, 'differentiation': differentiation,\n",
    "                                    'time cost': T, 'can be pooled?': can_be_pooled, \n",
    "                                    'positional interpretability':positional_interpretability,\n",
    "                                    'functional interpretability':functional_interpretability},ignore_index=True)\n",
    "print(benchmark_df)"
   ]
  },
  {
   "cell_type": "markdown",
   "metadata": {},
   "source": [
    "#### coding 4: Hyena"
   ]
  },
  {
   "cell_type": "code",
   "execution_count": 5,
   "metadata": {},
   "outputs": [
    {
     "name": "stdout",
     "output_type": "stream",
     "text": [
      "  coding strategy   abundance  differentiation     time cost can be pooled?  \\\n",
      "0         One-Hot    4.000000         0.003992  7.958231e-07             No   \n",
      "1        DNABert2  469.537725         9.314390  1.075537e-03            Yes   \n",
      "2             GPN  512.000000         1.308631  5.871583e-03            Yes   \n",
      "3           hyena  128.510978         0.523388  6.818338e-05            Yes   \n",
      "\n",
      "  positional interpretability functional interpretability  \n",
      "0                         Yes                          No  \n",
      "1                          No                         Yes  \n",
      "2                         Yes                         Yes  \n",
      "3                         Yes                         Yes  \n"
     ]
    }
   ],
   "source": [
    "# benchmarking coding strategy\n",
    "coding_strategy = 'hyena'\n",
    "can_be_pooled = 'Yes'\n",
    "positional_interpretability = 'Yes'\n",
    "functional_interpretability = 'Yes'\n",
    "\n",
    "# calculating metrics\n",
    "L = 501\n",
    "data = pd.read_pickle(data_path + 'hyena.dataset')\n",
    "#print(data.head())\n",
    "\n",
    "T_list = []\n",
    "abundance_list = []\n",
    "differentiation_list = []\n",
    "for i in range(len(data)):\n",
    "    embedding_before = np.array(data['hyena_before'][i])\n",
    "    embedding_after = np.array(data['hyena_after'][i])\n",
    "    time_before = data['time_before'][i]\n",
    "    time_after = data['time_after'][i]\n",
    "\n",
    "    embedding_shape = embedding_before.shape\n",
    "    dim_sum = 1\n",
    "    for j in range(len(embedding_shape)):\n",
    "        dim_sum *= embedding_shape[j]\n",
    "    #print(embedding_shape) # (1, 501, 512)\n",
    "    T_list.append((time_before + time_after)/float(L))\n",
    "    abundance_list.append(dim_sum/float(L))\n",
    "\n",
    "    x_before_normal = (embedding_before - np.amin(embedding_before))/float(np.ptp(embedding_before))\n",
    "    x_after_normal = (embedding_after - np.amin(embedding_after))/float(np.ptp(embedding_after))\n",
    "    x_normal = x_after_normal - x_before_normal\n",
    "    differentiation_list.append(np.sum(np.absolute(x_normal))/float(L))\n",
    "\n",
    "T = sum(T_list)/float(len(data))\n",
    "abundance = sum(abundance_list)/float(len(data))\n",
    "differentiation = sum(differentiation_list)/float(len(data))\n",
    "\n",
    "# generate dataframe\n",
    "benchmark_df = benchmark_df._append({'coding strategy': coding_strategy, 'abundance': abundance, 'differentiation': differentiation,\n",
    "                                    'time cost': T, 'can be pooled?': can_be_pooled, \n",
    "                                    'positional interpretability':positional_interpretability,\n",
    "                                    'functional interpretability':functional_interpretability},ignore_index=True)\n",
    "print(benchmark_df)"
   ]
  },
  {
   "cell_type": "markdown",
   "metadata": {},
   "source": [
    "#### coding 5: NT"
   ]
  },
  {
   "cell_type": "code",
   "execution_count": 6,
   "metadata": {},
   "outputs": [
    {
     "name": "stdout",
     "output_type": "stream",
     "text": [
      "  coding strategy    abundance  differentiation     time cost can be pooled?  \\\n",
      "0         One-Hot     4.000000         0.003992  7.958231e-07             No   \n",
      "1        DNABert2   469.537725         9.314390  1.075537e-03            Yes   \n",
      "2             GPN   512.000000         1.308631  5.871583e-03            Yes   \n",
      "3           hyena   128.510978         0.523388  6.818338e-05            Yes   \n",
      "4              NT  1277.445110         4.602806  1.372732e-02            Yes   \n",
      "\n",
      "  positional interpretability functional interpretability  \n",
      "0                         Yes                          No  \n",
      "1                          No                         Yes  \n",
      "2                         Yes                         Yes  \n",
      "3                         Yes                         Yes  \n",
      "4                         Yes                         Yes  \n"
     ]
    }
   ],
   "source": [
    "# benchmarking coding strategy\n",
    "coding_strategy = 'NT'\n",
    "can_be_pooled = 'Yes'\n",
    "positional_interpretability = 'Yes'\n",
    "functional_interpretability = 'Yes'\n",
    "\n",
    "# calculating metrics\n",
    "L = 501\n",
    "data = pd.read_pickle(data_path + 'NT.dataset')\n",
    "#print(data.head())\n",
    "\n",
    "T_list = []\n",
    "abundance_list = []\n",
    "differentiation_list = []\n",
    "for i in range(len(data)):\n",
    "    embedding_before = np.array(data['NT_before'][i])\n",
    "    embedding_after = np.array(data['NT_after'][i])\n",
    "    time_before = data['time_before'][i]\n",
    "    time_after = data['time_after'][i]\n",
    "\n",
    "    embedding_shape = embedding_before.shape\n",
    "    dim_sum = 1\n",
    "    for j in range(len(embedding_shape)):\n",
    "        dim_sum *= embedding_shape[j]\n",
    "    #print(embedding_shape) # (1, 501, 512)\n",
    "    T_list.append((time_before + time_after)/float(L))\n",
    "    abundance_list.append(dim_sum/float(L))\n",
    "\n",
    "    x_before_normal = (embedding_before - np.amin(embedding_before))/float(np.ptp(embedding_before))\n",
    "    x_after_normal = (embedding_after - np.amin(embedding_after))/float(np.ptp(embedding_after))\n",
    "    x_normal = x_after_normal - x_before_normal\n",
    "    differentiation_list.append(np.sum(np.absolute(x_normal))/float(L))\n",
    "\n",
    "T = sum(T_list)/float(len(data))\n",
    "abundance = sum(abundance_list)/float(len(data))\n",
    "differentiation = sum(differentiation_list)/float(len(data))\n",
    "\n",
    "# generate dataframe\n",
    "benchmark_df = benchmark_df._append({'coding strategy': coding_strategy, 'abundance': abundance, 'differentiation': differentiation,\n",
    "                                    'time cost': T, 'can be pooled?': can_be_pooled, \n",
    "                                    'positional interpretability':positional_interpretability,\n",
    "                                    'functional interpretability':functional_interpretability},ignore_index=True)\n",
    "print(benchmark_df)"
   ]
  },
  {
   "cell_type": "markdown",
   "metadata": {},
   "source": [
    "#### code 5: enformer"
   ]
  },
  {
   "cell_type": "code",
   "execution_count": 7,
   "metadata": {},
   "outputs": [
    {
     "name": "stdout",
     "output_type": "stream",
     "text": [
      "  coding strategy    abundance  differentiation     time cost can be pooled?  \\\n",
      "0         One-Hot     4.000000         0.003992  7.958231e-07             No   \n",
      "1        DNABert2   469.537725         9.314390  1.075537e-03            Yes   \n",
      "2             GPN   512.000000         1.308631  5.871583e-03            Yes   \n",
      "3           hyena   128.510978         0.523388  6.818338e-05            Yes   \n",
      "4              NT  1277.445110         4.602806  1.372732e-02            Yes   \n",
      "5        enformer  9501.892216         0.024141  8.842315e-02            Yes   \n",
      "\n",
      "  positional interpretability functional interpretability  \n",
      "0                         Yes                          No  \n",
      "1                          No                         Yes  \n",
      "2                         Yes                         Yes  \n",
      "3                         Yes                         Yes  \n",
      "4                         Yes                         Yes  \n",
      "5                          No                         Yes  \n"
     ]
    }
   ],
   "source": [
    "# benchmarking coding strategy\n",
    "coding_strategy = 'enformer'\n",
    "can_be_pooled = 'Yes'\n",
    "positional_interpretability = 'No'\n",
    "functional_interpretability = 'Yes'\n",
    "\n",
    "# calculating metrics\n",
    "L = 501\n",
    "data = pd.read_pickle(data_path + 'enformer.dataset')\n",
    "#print(data.head())\n",
    "\n",
    "T_list = []\n",
    "abundance_list = []\n",
    "differentiation_list = []\n",
    "for i in range(len(data)):\n",
    "    embedding_before = np.array(data['embedding_before'][i])\n",
    "    embedding_after = np.array(data['embedding_after'][i])\n",
    "    time_before = data['time_before'][i]\n",
    "    time_after = data['time_after'][i]\n",
    "\n",
    "    embedding_shape = embedding_before.shape\n",
    "    dim_sum = 1\n",
    "    for j in range(len(embedding_shape)):\n",
    "        dim_sum *= embedding_shape[j]\n",
    "    #print(embedding_shape) # (1, 501, 512)\n",
    "    T_list.append((time_before + time_after)/float(L))\n",
    "    abundance_list.append(dim_sum/float(L))\n",
    "\n",
    "    x_before_normal = (embedding_before - np.amin(embedding_before))/float(np.ptp(embedding_before))\n",
    "    x_after_normal = (embedding_after - np.amin(embedding_after))/float(np.ptp(embedding_after))\n",
    "    x_normal = x_after_normal - x_before_normal\n",
    "    differentiation_list.append(np.sum(np.absolute(x_normal))/float(L))\n",
    "\n",
    "T = sum(T_list)/float(len(data))\n",
    "abundance = sum(abundance_list)/float(len(data))\n",
    "differentiation = sum(differentiation_list)/float(len(data))\n",
    "\n",
    "# generate dataframe\n",
    "benchmark_df = benchmark_df._append({'coding strategy': coding_strategy, 'abundance': abundance, 'differentiation': differentiation,\n",
    "                                    'time cost': T, 'can be pooled?': can_be_pooled, \n",
    "                                    'positional interpretability':positional_interpretability,\n",
    "                                    'functional interpretability':functional_interpretability},ignore_index=True)\n",
    "print(benchmark_df)"
   ]
  }
 ],
 "metadata": {
  "kernelspec": {
   "display_name": "Python 3.9.12 64-bit",
   "language": "python",
   "name": "python3"
  },
  "language_info": {
   "codemirror_mode": {
    "name": "ipython",
    "version": 3
   },
   "file_extension": ".py",
   "mimetype": "text/x-python",
   "name": "python",
   "nbconvert_exporter": "python",
   "pygments_lexer": "ipython3",
   "version": "3.9.12"
  },
  "vscode": {
   "interpreter": {
    "hash": "6fff98fc3b3d81bd655c2cc48858186e4d9e2db7b515bf1c3221888f12a62f87"
   }
  }
 },
 "nbformat": 4,
 "nbformat_minor": 2
}
