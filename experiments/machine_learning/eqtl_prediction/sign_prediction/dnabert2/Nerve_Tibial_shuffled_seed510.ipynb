{
 "cells": [
  {
   "cell_type": "markdown",
   "metadata": {},
   "source": [
    "### exp: eqtl prediction, sign prediction, dnabert2 for machine learning"
   ]
  },
  {
   "cell_type": "code",
   "execution_count": 2,
   "metadata": {},
   "outputs": [],
   "source": [
    "import os\n",
    "import pandas as pd\n",
    "import numpy as np\n",
    "import seaborn as sns\n",
    "\n",
    "import warnings\n",
    "warnings.filterwarnings('ignore')\n",
    "\n",
    "from tensorflow.keras.utils import to_categorical\n",
    "from sklearn.metrics import confusion_matrix, precision_score, accuracy_score,recall_score, f1_score,roc_auc_score\n",
    "from sklearn.metrics import roc_curve, auc\n",
    "import matplotlib.pyplot as plt\n",
    "%matplotlib inline"
   ]
  },
  {
   "cell_type": "code",
   "execution_count": 3,
   "metadata": {},
   "outputs": [],
   "source": [
    "model_size = ['small','middle','large']\n",
    "model_list = ['xgboost','lightgbm','random forest','knn','svm']\n",
    "tissue = 'Nerve_Tibial'\n",
    "data_path = '../../../../../datasets_embedding/dnabert2/eqtl_datasets/sign_prediction/' + tissue + '/'\n",
    "image_path = 'images_shuffled_seed510/'\n",
    "# set seed\n",
    "seed = 510\n",
    "import random\n",
    "random.seed(seed)\n",
    "np.random.seed(seed)"
   ]
  },
  {
   "cell_type": "markdown",
   "metadata": {},
   "source": [
    "#### small model"
   ]
  },
  {
   "cell_type": "code",
   "execution_count": 4,
   "metadata": {},
   "outputs": [
    {
     "name": "stdout",
     "output_type": "stream",
     "text": [
      "         phenotype_id             variant_id  tss_distance       maf  \\\n",
      "0   ENSG00000242485.5   chr1_1407232_G_C_b38           -81  0.182648   \n",
      "1  ENSG00000157881.13   chr1_2526571_G_C_b38           -57  0.020548   \n",
      "2   ENSG00000231789.2   chr1_9687685_C_T_b38           130  0.043379   \n",
      "3   ENSG00000272084.1  chr1_19075748_C_A_b38           237  0.109589   \n",
      "4   ENSG00000090432.6  chr1_20508117_C_A_b38           -44  0.110599   \n",
      "\n",
      "  ma_samples ma_count  pval_nominal     slope  slope_se  label  \\\n",
      "0        147      160  3.926291e-46  0.436504  0.026472      1   \n",
      "1         17       18  5.059731e-09  0.500525  0.083591      1   \n",
      "2         36       38  1.409246e-08  0.738330  0.127241      1   \n",
      "3         91       96  7.632423e-09  0.404185  0.068344      1   \n",
      "4         93       96  3.275938e-73  0.996535  0.043319      1   \n",
      "\n",
      "                                          seq_before  \\\n",
      "0  gcactccagcctgggtgacagcgcgagactccgtctcggggtaaga...   \n",
      "1  cgaaaagggagtaattcgcgttcctcccctagaggtggctgggagg...   \n",
      "2  tgtggcccaggctggtcttgaactcctgggctcaagtgatcctcct...   \n",
      "3  TTTCAATGTGTGTTAAGTCACTTGTTTATTTCTCAAGATGTGCACA...   \n",
      "4  agcccagatcccgccactgcactccagcctgggcgacacagcaaga...   \n",
      "\n",
      "                                           seq_after  seq_len  \\\n",
      "0  gcactccagcctgggtgacagcgcgagactccgtctcggggtaaga...     2001   \n",
      "1  cgaaaagggagtaattcgcgttcctcccctagaggtggctgggagg...     2001   \n",
      "2  tgtggcccaggctggtcttgaactcctgggctcaagtgatcctcct...     2001   \n",
      "3  TTTCAATGTGTGTTAAGTCACTTGTTTATTTCTCAAGATGTGCACA...     2001   \n",
      "4  agcccagatcccgccactgcactccagcctgggcgacacagcaaga...     2001   \n",
      "\n",
      "                                      dnabert_before  dnabert_before_time  \\\n",
      "0  [-0.12093086, -0.007128178, 0.03273655, 0.0340...             0.927519   \n",
      "1  [-0.09564482, -0.02095394, 0.08733331, -0.0424...             0.200243   \n",
      "2  [-0.12957117, -0.055873822, 0.11003261, -0.017...             0.214236   \n",
      "3  [-0.18533288, 0.0020447446, 0.08210068, -0.037...             0.199046   \n",
      "4  [-0.13061391, -0.031179642, 0.104500555, 0.096...             0.408322   \n",
      "\n",
      "                                       dnabert_after  dnabert_after_time  \n",
      "0  [-0.12083353, -0.006909905, 0.032713495, 0.034...            0.347753  \n",
      "1  [-0.09495614, -0.02100612, 0.08822812, -0.0413...            0.198964  \n",
      "2  [-0.12897326, -0.056055073, 0.11003238, -0.017...            0.212698  \n",
      "3  [-0.18643162, 0.0033350312, 0.081003144, -0.03...            0.198064  \n",
      "4  [-0.1300129, -0.030255111, 0.104464486, 0.0959...            0.732885  \n",
      "X_train shape: (410, 1536)\n",
      "Y_train shape: (410,)\n",
      "X_test shape: (46, 1536)\n",
      "Y_test shape: (46,)\n"
     ]
    }
   ],
   "source": [
    "model = model_size[0]\n",
    "train_data = pd.read_pickle(data_path + model + '_train.dataset')\n",
    "valid_data = pd.read_pickle(data_path + model + '_valid.dataset')\n",
    "test_data = pd.read_pickle(data_path + model + '_test.dataset')\n",
    "print(train_data.head())\n",
    "\n",
    "merged_data = pd.concat([train_data, valid_data, test_data]) # for machine learning, grid search\n",
    "# new split\n",
    "merged_data = merged_data.sample(frac=1).reset_index(drop=True)\n",
    "train_data = merged_data[0:int(0.9*len(merged_data))].reset_index(drop=True)\n",
    "test_data = merged_data[int(0.9*len(merged_data)):].reset_index(drop=True)\n",
    "\n",
    "sample_list = []\n",
    "y_list = []\n",
    "for i in range(train_data.shape[0]):\n",
    "    feature_list = []\n",
    "    feature_list += train_data['dnabert_before'][i].flatten().tolist()\n",
    "    feature_list += train_data['dnabert_after'][i].flatten().tolist()\n",
    "    sample_list.append(feature_list)\n",
    "    y_list.append(train_data['label'][i])\n",
    "X_train = np.array(sample_list)\n",
    "Y_train = np.array(y_list)\n",
    "print('X_train shape: ' + str(X_train.shape))\n",
    "print('Y_train shape: ' + str(Y_train.shape))\n",
    "\n",
    "sample_list = []\n",
    "y_list = []\n",
    "for i in range(test_data.shape[0]):\n",
    "    feature_list = []\n",
    "    feature_list += test_data['dnabert_before'][i].flatten().tolist()\n",
    "    feature_list += test_data['dnabert_after'][i].flatten().tolist()\n",
    "    sample_list.append(feature_list)\n",
    "    y_list.append(test_data['label'][i])\n",
    "X_test = np.array(sample_list)\n",
    "Y_test = np.array(y_list)\n",
    "print('X_test shape: ' + str(X_test.shape))\n",
    "print('Y_test shape: ' + str(Y_test.shape))"
   ]
  },
  {
   "cell_type": "code",
   "execution_count": 5,
   "metadata": {},
   "outputs": [
    {
     "name": "stdout",
     "output_type": "stream",
     "text": [
      "[0 1]\n"
     ]
    }
   ],
   "source": [
    "print(train_data['label'].unique())"
   ]
  },
  {
   "cell_type": "markdown",
   "metadata": {},
   "source": [
    "##### model 1: xgboost"
   ]
  },
  {
   "cell_type": "code",
   "execution_count": 6,
   "metadata": {},
   "outputs": [
    {
     "name": "stdout",
     "output_type": "stream",
     "text": [
      "{'n_estimators': 10}\n",
      "{'max_depth': 6}\n"
     ]
    }
   ],
   "source": [
    "# model 1: xgboost\n",
    "import xgboost as xgb\n",
    "from sklearn.model_selection import GridSearchCV\n",
    "\n",
    "cv_params = {'n_estimators': np.linspace(10, 300, 10, dtype=int)} # \n",
    "xgb_model = xgb.XGBClassifier(seed=seed)\n",
    "# https://scikit-learn.org/stable/modules/model_evaluation.html\n",
    "gs = GridSearchCV(xgb_model, cv_params, refit=True, cv=5, scoring='roc_auc')\n",
    "gs.fit(X_train,Y_train)\n",
    "n_estimators = gs.best_params_['n_estimators']\n",
    "print(gs.best_params_)\n",
    "\n",
    "cv_params = {'max_depth': np.linspace(1, 10, 10, dtype=int)} # \n",
    "xgb_model = xgb.XGBClassifier(seed=seed,n_estimators=n_estimators)\n",
    "gs = GridSearchCV(xgb_model, cv_params, refit=True, cv=5, scoring='roc_auc')\n",
    "gs.fit(X_train,Y_train)\n",
    "max_depth = gs.best_params_['max_depth']\n",
    "print(gs.best_params_)"
   ]
  },
  {
   "cell_type": "code",
   "execution_count": 7,
   "metadata": {},
   "outputs": [
    {
     "name": "stdout",
     "output_type": "stream",
     "text": [
      "accuracy:0.6304347826086957\n",
      "precision:0.6428571428571429\n",
      "recall:0.72\n",
      "f1-score:0.6792452830188679\n"
     ]
    },
    {
     "data": {
      "image/png": "[encoded data removed]",
      "text/plain": [
       "<Figure size 300x300 with 2 Axes>"
      ]
     },
     "metadata": {},
     "output_type": "display_data"
    },
    {
     "data": {
      "image/png": "[encoded data removed]",
      "text/plain": [
       "<Figure size 300x300 with 1 Axes>"
      ]
     },
     "metadata": {},
     "output_type": "display_data"
    }
   ],
   "source": [
    "ml_model = model_list[0]\n",
    "clf_xgb = xgb.XGBClassifier(n_estimators=n_estimators, max_depth=max_depth) # from grid search\n",
    "clf_xgb.fit(X_train,Y_train)\n",
    "\n",
    "y_score = clf_xgb.predict(X_test)                                   \n",
    "y_score_pro = clf_xgb.predict_proba(X_test) \n",
    "y_one_hot = to_categorical(Y_test)\n",
    "y_score_one_hot = to_categorical(y_score)\n",
    "\n",
    "obj1 = confusion_matrix(Y_test, y_score)\n",
    "print('accuracy:{}'.format(accuracy_score(Y_test, y_score)))\n",
    "print('precision:{}'.format(precision_score(Y_test, y_score)))\n",
    "print('recall:{}'.format(recall_score(Y_test, y_score)))\n",
    "print('f1-score:{}'.format(f1_score(Y_test, y_score)))\n",
    "\n",
    "# update confusion matrix\n",
    "sum_all1 = obj1[0][0] + obj1[0][1]\n",
    "sum_all2 = obj1[1][0] + obj1[1][1]\n",
    "new_obj = np.array(\n",
    "    [\n",
    "        [float(obj1[0][0])/sum_all1, float(obj1[0][1])/sum_all1],\n",
    "        [float(obj1[1][0])/sum_all2, float(obj1[1][1])/sum_all2]\n",
    "    ]\n",
    ")\n",
    "ax = plt.subplots(figsize=(3,3))\n",
    "sns.heatmap(new_obj, fmt='.2f', cmap='PuBuGn', annot=True)\n",
    "plt.xlabel(\"true label\")\n",
    "plt.ylabel(\"predict label\")\n",
    "plt.title('small model (sign prediction)\\n' + tissue + ', ' + ml_model)\n",
    "plt.savefig(image_path + 'cm-small-sign-' + tissue + '-' + ml_model + '.png',dpi=300, bbox_inches = 'tight')\n",
    "plt.show()\n",
    "\n",
    "fpr, tpr, thresholds = roc_curve(y_one_hot.ravel(),y_score_pro.ravel())   \n",
    "auc_ = auc(fpr, tpr)\n",
    "#print(\"AUC : \", auc)\n",
    "ax = plt.subplots(figsize=(3,3))\n",
    "plt.title('small model (sign prediction)\\n' + tissue + ', ' + ml_model)\n",
    "plt.plot(fpr, tpr, linewidth = 2,label='AUC=%.3f' % auc_,color='#006400')\n",
    "plt.plot([0,1],[0,1], 'k--')\n",
    "plt.axis([0,1.1,0,1.1])\n",
    "plt.xlabel('False Postivie Rate')\n",
    "plt.ylabel('True Positive Rate')\n",
    "plt.legend(loc=\"lower right\")\n",
    "plt.savefig(image_path + 'auc-small-sign-' + tissue + '-' + ml_model + '.png',dpi=300, bbox_inches = 'tight')\n",
    "plt.show()"
   ]
  },
  {
   "cell_type": "markdown",
   "metadata": {},
   "source": [
    "##### model 2:lightgbm"
   ]
  },
  {
   "cell_type": "code",
   "execution_count": 8,
   "metadata": {},
   "outputs": [
    {
     "name": "stdout",
     "output_type": "stream",
     "text": [
      "{'max_depth': 6}\n",
      "{'num_leaves': 14}\n"
     ]
    }
   ],
   "source": [
    "import lightgbm as lgb\n",
    "from sklearn.model_selection import GridSearchCV\n",
    "\n",
    "cv_params = {'max_depth': np.linspace(1, 50, 10, dtype=int)} # \n",
    "gbm = lgb.LGBMClassifier(seed=seed,verbose=-1)\n",
    "gsearch = GridSearchCV(gbm, param_grid=cv_params, cv=5, scoring='roc_auc')\n",
    "gsearch.fit(X_train, Y_train)\n",
    "max_depth = gsearch.best_params_['max_depth']\n",
    "print(gsearch.best_params_)\n",
    "\n",
    "cv_params = {'num_leaves': np.linspace(2, 50, 5, dtype=int)} # \n",
    "gbm = lgb.LGBMClassifier(seed=seed,max_depth=max_depth,verbose=-1)\n",
    "gsearch = GridSearchCV(gbm, param_grid=cv_params, cv=5, scoring='roc_auc')\n",
    "gsearch.fit(X_train, Y_train)\n",
    "num_leaves = gsearch.best_params_['num_leaves']\n",
    "print(gsearch.best_params_)"
   ]
  },
  {
   "cell_type": "code",
   "execution_count": 9,
   "metadata": {},
   "outputs": [
    {
     "name": "stdout",
     "output_type": "stream",
     "text": [
      "[LightGBM] [Info] Number of positive: 217, number of negative: 193\n",
      "[LightGBM] [Info] Auto-choosing row-wise multi-threading, the overhead of testing was 0.152355 seconds.\n",
      "You can set `force_row_wise=true` to remove the overhead.\n",
      "And if memory is not enough, you can set `force_col_wise=true`.\n",
      "[LightGBM] [Info] Total Bins 210706\n",
      "[LightGBM] [Info] Number of data points in the train set: 410, number of used features: 1536\n",
      "[LightGBM] [Info] [binary:BoostFromScore]: pavg=0.529268 -> initscore=0.117207\n",
      "[LightGBM] [Info] Start training from score 0.117207\n",
      "[LightGBM] [Warning] No further splits with positive gain, best gain: -inf\n",
      "[LightGBM] [Warning] No further splits with positive gain, best gain: -inf\n",
      "[LightGBM] [Warning] No further splits with positive gain, best gain: -inf\n",
      "[LightGBM] [Warning] No further splits with positive gain, best gain: -inf\n",
      "[LightGBM] [Warning] No further splits with positive gain, best gain: -inf\n",
      "[LightGBM] [Warning] No further splits with positive gain, best gain: -inf\n",
      "[LightGBM] [Warning] No further splits with positive gain, best gain: -inf\n",
      "[LightGBM] [Warning] No further splits with positive gain, best gain: -inf\n",
      "[LightGBM] [Warning] No further splits with positive gain, best gain: -inf\n",
      "[LightGBM] [Warning] No further splits with positive gain, best gain: -inf\n",
      "[LightGBM] [Warning] No further splits with positive gain, best gain: -inf\n",
      "[LightGBM] [Warning] No further splits with positive gain, best gain: -inf\n",
      "[LightGBM] [Warning] No further splits with positive gain, best gain: -inf\n",
      "[LightGBM] [Warning] No further splits with positive gain, best gain: -inf\n",
      "[LightGBM] [Warning] No further splits with positive gain, best gain: -inf\n",
      "[LightGBM] [Warning] No further splits with positive gain, best gain: -inf\n",
      "[LightGBM] [Warning] No further splits with positive gain, best gain: -inf\n",
      "[LightGBM] [Warning] No further splits with positive gain, best gain: -inf\n",
      "[LightGBM] [Warning] No further splits with positive gain, best gain: -inf\n",
      "[LightGBM] [Warning] No further splits with positive gain, best gain: -inf\n",
      "[LightGBM] [Warning] No further splits with positive gain, best gain: -inf\n",
      "[LightGBM] [Warning] No further splits with positive gain, best gain: -inf\n",
      "[LightGBM] [Warning] No further splits with positive gain, best gain: -inf\n",
      "[LightGBM] [Warning] No further splits with positive gain, best gain: -inf\n",
      "[LightGBM] [Warning] No further splits with positive gain, best gain: -inf\n",
      "[LightGBM] [Warning] No further splits with positive gain, best gain: -inf\n",
      "[LightGBM] [Warning] No further splits with positive gain, best gain: -inf\n",
      "[LightGBM] [Warning] No further splits with positive gain, best gain: -inf\n",
      "[LightGBM] [Warning] No further splits with positive gain, best gain: -inf\n",
      "[LightGBM] [Warning] No further splits with positive gain, best gain: -inf\n",
      "[LightGBM] [Warning] No further splits with positive gain, best gain: -inf\n",
      "[LightGBM] [Warning] No further splits with positive gain, best gain: -inf\n",
      "[LightGBM] [Warning] No further splits with positive gain, best gain: -inf\n",
      "[LightGBM] [Warning] No further splits with positive gain, best gain: -inf\n",
      "[LightGBM] [Warning] No further splits with positive gain, best gain: -inf\n",
      "[LightGBM] [Warning] No further splits with positive gain, best gain: -inf\n",
      "[LightGBM] [Warning] No further splits with positive gain, best gain: -inf\n",
      "[LightGBM] [Warning] No further splits with positive gain, best gain: -inf\n",
      "[LightGBM] [Warning] No further splits with positive gain, best gain: -inf\n",
      "[LightGBM] [Warning] No further splits with positive gain, best gain: -inf\n",
      "[LightGBM] [Warning] No further splits with positive gain, best gain: -inf\n",
      "[LightGBM] [Warning] No further splits with positive gain, best gain: -inf\n",
      "[LightGBM] [Warning] No further splits with positive gain, best gain: -inf\n",
      "[LightGBM] [Warning] No further splits with positive gain, best gain: -inf\n",
      "[LightGBM] [Warning] No further splits with positive gain, best gain: -inf\n",
      "[LightGBM] [Warning] No further splits with positive gain, best gain: -inf\n",
      "[LightGBM] [Warning] No further splits with positive gain, best gain: -inf\n",
      "[LightGBM] [Warning] No further splits with positive gain, best gain: -inf\n",
      "[LightGBM] [Warning] No further splits with positive gain, best gain: -inf\n",
      "[LightGBM] [Warning] No further splits with positive gain, best gain: -inf\n",
      "[LightGBM] [Warning] No further splits with positive gain, best gain: -inf\n",
      "[LightGBM] [Warning] No further splits with positive gain, best gain: -inf\n",
      "[LightGBM] [Warning] No further splits with positive gain, best gain: -inf\n",
      "[LightGBM] [Warning] No further splits with positive gain, best gain: -inf\n",
      "[LightGBM] [Warning] No further splits with positive gain, best gain: -inf\n",
      "[LightGBM] [Warning] No further splits with positive gain, best gain: -inf\n",
      "[LightGBM] [Warning] No further splits with positive gain, best gain: -inf\n",
      "[LightGBM] [Warning] No further splits with positive gain, best gain: -inf\n",
      "[LightGBM] [Warning] No further splits with positive gain, best gain: -inf\n",
      "[LightGBM] [Warning] No further splits with positive gain, best gain: -inf\n",
      "[LightGBM] [Warning] No further splits with positive gain, best gain: -inf\n",
      "[LightGBM] [Warning] No further splits with positive gain, best gain: -inf\n",
      "[LightGBM] [Warning] No further splits with positive gain, best gain: -inf\n",
      "[LightGBM] [Warning] No further splits with positive gain, best gain: -inf\n",
      "[LightGBM] [Warning] No further splits with positive gain, best gain: -inf\n",
      "[LightGBM] [Warning] No further splits with positive gain, best gain: -inf\n",
      "[LightGBM] [Warning] No further splits with positive gain, best gain: -inf\n",
      "[LightGBM] [Warning] No further splits with positive gain, best gain: -inf\n",
      "[LightGBM] [Warning] No further splits with positive gain, best gain: -inf\n",
      "[LightGBM] [Warning] No further splits with positive gain, best gain: -inf\n",
      "[LightGBM] [Warning] No further splits with positive gain, best gain: -inf\n",
      "[LightGBM] [Warning] No further splits with positive gain, best gain: -inf\n",
      "[LightGBM] [Warning] No further splits with positive gain, best gain: -inf\n",
      "[LightGBM] [Warning] No further splits with positive gain, best gain: -inf\n",
      "[LightGBM] [Warning] No further splits with positive gain, best gain: -inf\n",
      "accuracy:0.5652173913043478\n",
      "precision:0.5925925925925926\n",
      "recall:0.64\n",
      "f1-score:0.6153846153846154\n"
     ]
    },
    {
     "data": {
      "image/png": "[encoded data removed]",
      "text/plain": [
       "<Figure size 300x300 with 2 Axes>"
      ]
     },
     "metadata": {},
     "output_type": "display_data"
    },
    {
     "data": {
      "image/png": "[encoded data removed]",
      "text/plain": [
       "<Figure size 300x300 with 1 Axes>"
      ]
     },
     "metadata": {},
     "output_type": "display_data"
    }
   ],
   "source": [
    "ml_model = model_list[1]\n",
    "clf_lgb = lgb.LGBMClassifier(max_depth=max_depth, num_leaves=num_leaves)\n",
    "clf_lgb.fit(X_train,Y_train)\n",
    "\n",
    "y_score = clf_lgb.predict(X_test)                                   \n",
    "y_score_pro = clf_lgb.predict_proba(X_test) \n",
    "y_one_hot = to_categorical(Y_test)\n",
    "y_score_one_hot = to_categorical(y_score)\n",
    "\n",
    "obj1 = confusion_matrix(Y_test, y_score)\n",
    "print('accuracy:{}'.format(accuracy_score(Y_test, y_score)))\n",
    "print('precision:{}'.format(precision_score(Y_test, y_score)))\n",
    "print('recall:{}'.format(recall_score(Y_test, y_score)))\n",
    "print('f1-score:{}'.format(f1_score(Y_test, y_score)))\n",
    "\n",
    "# update confusion matrix\n",
    "sum_all1 = obj1[0][0] + obj1[0][1]\n",
    "sum_all2 = obj1[1][0] + obj1[1][1]\n",
    "new_obj = np.array(\n",
    "    [\n",
    "        [float(obj1[0][0])/sum_all1, float(obj1[0][1])/sum_all1],\n",
    "        [float(obj1[1][0])/sum_all2, float(obj1[1][1])/sum_all2]\n",
    "    ]\n",
    ")\n",
    "ax = plt.subplots(figsize=(3,3))\n",
    "sns.heatmap(new_obj, fmt='.2f', cmap='PuBuGn', annot=True)\n",
    "plt.xlabel(\"true label\")\n",
    "plt.ylabel(\"predict label\")\n",
    "plt.title('small model (sign prediction)\\n' + tissue + ', ' + ml_model)\n",
    "plt.savefig(image_path + 'cm-small-sign-' + tissue + '-' + ml_model + '.png',dpi=300, bbox_inches = 'tight')\n",
    "plt.show()\n",
    "\n",
    "fpr, tpr, thresholds = roc_curve(y_one_hot.ravel(),y_score_pro.ravel())   \n",
    "auc_ = auc(fpr, tpr)\n",
    "#print(\"AUC : \", auc)\n",
    "ax = plt.subplots(figsize=(3,3))\n",
    "plt.title('small model (sign prediction)\\n' + tissue + ', ' + ml_model)\n",
    "plt.plot(fpr, tpr, linewidth = 2,label='AUC=%.3f' % auc_,color='#006400')\n",
    "plt.plot([0,1],[0,1], 'k--')\n",
    "plt.axis([0,1.1,0,1.1])\n",
    "plt.xlabel('False Postivie Rate')\n",
    "plt.ylabel('True Positive Rate')\n",
    "plt.legend(loc=\"lower right\")\n",
    "plt.savefig(image_path + 'auc-small-sign-' + tissue + '-' + ml_model + '.png',dpi=300, bbox_inches = 'tight')\n",
    "plt.show()"
   ]
  },
  {
   "cell_type": "markdown",
   "metadata": {},
   "source": [
    "##### model 3: random forest"
   ]
  },
  {
   "cell_type": "code",
   "execution_count": 10,
   "metadata": {},
   "outputs": [
    {
     "name": "stdout",
     "output_type": "stream",
     "text": [
      "{'n_estimators': 10}\n",
      "{'max_depth': 3}\n"
     ]
    }
   ],
   "source": [
    "from sklearn.ensemble import RandomForestClassifier\n",
    "from sklearn.model_selection import GridSearchCV\n",
    "\n",
    "cv_params = {'n_estimators': np.linspace(10, 200, 10, dtype=int)} \n",
    "rfModel = RandomForestClassifier(random_state = random.seed(seed))\n",
    "grid = GridSearchCV(\n",
    "    rfModel,cv_params,cv = 5,return_train_score = True, scoring='roc_auc')\n",
    "grid.fit(X_train, Y_train)\n",
    "n_estimators = grid.best_params_['n_estimators']\n",
    "print(grid.best_params_)\n",
    "\n",
    "cv_params = {'max_depth': np.linspace(1, 10, 10, dtype=int)} \n",
    "rfModel = RandomForestClassifier(random_state = random.seed(seed),n_estimators=n_estimators)\n",
    "grid = GridSearchCV(\n",
    "    rfModel,cv_params,cv = 5,return_train_score = True, scoring='roc_auc')\n",
    "grid.fit(X_train, Y_train)\n",
    "max_depth=grid.best_params_['max_depth']\n",
    "print(grid.best_params_)"
   ]
  },
  {
   "cell_type": "code",
   "execution_count": 11,
   "metadata": {},
   "outputs": [
    {
     "name": "stdout",
     "output_type": "stream",
     "text": [
      "accuracy:0.5434782608695652\n",
      "precision:0.5769230769230769\n",
      "recall:0.6\n",
      "f1-score:0.5882352941176471\n"
     ]
    },
    {
     "data": {
      "image/png": "[encoded data removed]",
      "text/plain": [
       "<Figure size 300x300 with 2 Axes>"
      ]
     },
     "metadata": {},
     "output_type": "display_data"
    },
    {
     "data": {
      "image/png": "[encoded data removed]",
      "text/plain": [
       "<Figure size 300x300 with 1 Axes>"
      ]
     },
     "metadata": {},
     "output_type": "display_data"
    }
   ],
   "source": [
    "ml_model = model_list[2]\n",
    "clf_rf = RandomForestClassifier(n_estimators=n_estimators, max_depth=max_depth)\n",
    "clf_rf.fit(X_train,Y_train)\n",
    "\n",
    "y_score = clf_rf.predict(X_test)                                   \n",
    "y_score_pro = clf_rf.predict_proba(X_test) \n",
    "y_one_hot = to_categorical(Y_test)\n",
    "y_score_one_hot = to_categorical(y_score)\n",
    "\n",
    "obj1 = confusion_matrix(Y_test, y_score)\n",
    "print('accuracy:{}'.format(accuracy_score(Y_test, y_score)))\n",
    "print('precision:{}'.format(precision_score(Y_test, y_score)))\n",
    "print('recall:{}'.format(recall_score(Y_test, y_score)))\n",
    "print('f1-score:{}'.format(f1_score(Y_test, y_score)))\n",
    "\n",
    "# update confusion matrix\n",
    "sum_all1 = obj1[0][0] + obj1[0][1]\n",
    "sum_all2 = obj1[1][0] + obj1[1][1]\n",
    "new_obj = np.array(\n",
    "    [\n",
    "        [float(obj1[0][0])/sum_all1, float(obj1[0][1])/sum_all1],\n",
    "        [float(obj1[1][0])/sum_all2, float(obj1[1][1])/sum_all2]\n",
    "    ]\n",
    ")\n",
    "ax = plt.subplots(figsize=(3,3))\n",
    "sns.heatmap(new_obj, fmt='.2f', cmap='PuBuGn', annot=True)\n",
    "plt.xlabel(\"true label\")\n",
    "plt.ylabel(\"predict label\")\n",
    "plt.title('small model (sign prediction)\\n' + tissue + ', ' + ml_model)\n",
    "plt.savefig(image_path + 'cm-small-sign-' + tissue + '-' + ml_model + '.png',dpi=300, bbox_inches = 'tight')\n",
    "plt.show()\n",
    "\n",
    "fpr, tpr, thresholds = roc_curve(y_one_hot.ravel(),y_score_pro.ravel())   \n",
    "auc_ = auc(fpr, tpr)\n",
    "#print(\"AUC : \", auc)\n",
    "ax = plt.subplots(figsize=(3,3))\n",
    "plt.title('small model (sign prediction)\\n' + tissue + ', ' + ml_model)\n",
    "plt.plot(fpr, tpr, linewidth = 2,label='AUC=%.3f' % auc_,color='#006400')\n",
    "plt.plot([0,1],[0,1], 'k--')\n",
    "plt.axis([0,1.1,0,1.1])\n",
    "plt.xlabel('False Postivie Rate')\n",
    "plt.ylabel('True Positive Rate')\n",
    "plt.legend(loc=\"lower right\")\n",
    "plt.savefig(image_path + 'auc-small-sign-' + tissue + '-' + ml_model + '.png',dpi=300, bbox_inches = 'tight')\n",
    "plt.show()"
   ]
  },
  {
   "cell_type": "markdown",
   "metadata": {},
   "source": [
    "##### model 4: knn"
   ]
  },
  {
   "cell_type": "code",
   "execution_count": 12,
   "metadata": {},
   "outputs": [
    {
     "data": {
      "text/plain": [
       "{'n_neighbors': 300}"
      ]
     },
     "execution_count": 12,
     "metadata": {},
     "output_type": "execute_result"
    }
   ],
   "source": [
    "from sklearn.neighbors import KNeighborsClassifier\n",
    "from sklearn.model_selection import GridSearchCV\n",
    "\n",
    "paramGride = {'n_neighbors': np.linspace(100, 300, 10, dtype=int)} \n",
    "\n",
    "knnModel = KNeighborsClassifier()\n",
    "grid = GridSearchCV(\n",
    "    knnModel,paramGride,cv = 5,return_train_score = True, scoring='roc_auc')\n",
    "grid = grid.fit(X_train,Y_train)\n",
    "grid.best_params_"
   ]
  },
  {
   "cell_type": "code",
   "execution_count": 13,
   "metadata": {},
   "outputs": [
    {
     "name": "stdout",
     "output_type": "stream",
     "text": [
      "accuracy:0.5434782608695652\n",
      "precision:0.5434782608695652\n",
      "recall:1.0\n",
      "f1-score:0.704225352112676\n"
     ]
    },
    {
     "data": {
      "image/png": "[encoded data removed]",
      "text/plain": [
       "<Figure size 300x300 with 2 Axes>"
      ]
     },
     "metadata": {},
     "output_type": "display_data"
    },
    {
     "data": {
      "image/png": "[encoded data removed]",
      "text/plain": [
       "<Figure size 300x300 with 1 Axes>"
      ]
     },
     "metadata": {},
     "output_type": "display_data"
    }
   ],
   "source": [
    "ml_model = model_list[3]\n",
    "clf_knn = KNeighborsClassifier(n_neighbors = grid.best_params_['n_neighbors'])\n",
    "clf_knn.fit(X_train,Y_train)\n",
    "\n",
    "y_score = clf_knn.predict(X_test)                                   \n",
    "y_score_pro = clf_knn.predict_proba(X_test) \n",
    "y_one_hot = to_categorical(Y_test)\n",
    "y_score_one_hot = to_categorical(y_score)\n",
    "\n",
    "obj1 = confusion_matrix(Y_test, y_score)\n",
    "print('accuracy:{}'.format(accuracy_score(Y_test, y_score)))\n",
    "print('precision:{}'.format(precision_score(Y_test, y_score)))\n",
    "print('recall:{}'.format(recall_score(Y_test, y_score)))\n",
    "print('f1-score:{}'.format(f1_score(Y_test, y_score)))\n",
    "\n",
    "# update confusion matrix\n",
    "sum_all1 = obj1[0][0] + obj1[0][1]\n",
    "sum_all2 = obj1[1][0] + obj1[1][1]\n",
    "new_obj = np.array(\n",
    "    [\n",
    "        [float(obj1[0][0])/sum_all1, float(obj1[0][1])/sum_all1],\n",
    "        [float(obj1[1][0])/sum_all2, float(obj1[1][1])/sum_all2]\n",
    "    ]\n",
    ")\n",
    "ax = plt.subplots(figsize=(3,3))\n",
    "sns.heatmap(new_obj, fmt='.2f', cmap='PuBuGn', annot=True)\n",
    "plt.xlabel(\"true label\")\n",
    "plt.ylabel(\"predict label\")\n",
    "plt.title('small model (sign prediction)\\n' + tissue + ', ' + ml_model)\n",
    "plt.savefig(image_path + 'cm-small-sign-' + tissue + '-' + ml_model + '.png',dpi=300, bbox_inches = 'tight')\n",
    "plt.show()\n",
    "\n",
    "fpr, tpr, thresholds = roc_curve(y_one_hot.ravel(),y_score_pro.ravel())   \n",
    "auc_ = auc(fpr, tpr)\n",
    "#print(\"AUC : \", auc)\n",
    "ax = plt.subplots(figsize=(3,3))\n",
    "plt.title('small model (sign prediction)\\n' + tissue + ', ' + ml_model)\n",
    "plt.plot(fpr, tpr, linewidth = 2,label='AUC=%.3f' % auc_,color='#006400')\n",
    "plt.plot([0,1],[0,1], 'k--')\n",
    "plt.axis([0,1.1,0,1.1])\n",
    "plt.xlabel('False Postivie Rate')\n",
    "plt.ylabel('True Positive Rate')\n",
    "plt.legend(loc=\"lower right\")\n",
    "plt.savefig(image_path + 'auc-small-sign-' + tissue + '-' + ml_model + '.png',dpi=300, bbox_inches = 'tight')\n",
    "plt.show()"
   ]
  },
  {
   "cell_type": "markdown",
   "metadata": {},
   "source": [
    "##### model 5: svm"
   ]
  },
  {
   "cell_type": "code",
   "execution_count": 14,
   "metadata": {},
   "outputs": [
    {
     "name": "stdout",
     "output_type": "stream",
     "text": [
      "{'gamma': 1000}\n",
      "{'C': 0.001}\n"
     ]
    }
   ],
   "source": [
    "from sklearn.svm import SVC\n",
    "from sklearn.model_selection import GridSearchCV\n",
    "\n",
    "cv_params = {'gamma': [1e-4,1e-3,1e-2,1e-1,1,10,100,1000]} \n",
    "svmModel = SVC()\n",
    "grid = GridSearchCV(\n",
    "    svmModel,cv_params,cv = 5,return_train_score = True, scoring='roc_auc')\n",
    "grid = grid.fit(X_train,Y_train)\n",
    "gamma = grid.best_params_['gamma']\n",
    "print(grid.best_params_)\n",
    "\n",
    "cv_params = {'C': [1e-4,1e-3,1e-2,1e-1,1,10,100,1000]} \n",
    "svmModel = SVC(gamma=gamma)\n",
    "grid = GridSearchCV(\n",
    "    svmModel,cv_params,cv = 5,return_train_score = True, scoring='roc_auc')\n",
    "grid = grid.fit(X_train,Y_train)\n",
    "C = grid.best_params_['C']\n",
    "print(grid.best_params_)"
   ]
  },
  {
   "cell_type": "code",
   "execution_count": 15,
   "metadata": {},
   "outputs": [
    {
     "name": "stdout",
     "output_type": "stream",
     "text": [
      "accuracy:0.5434782608695652\n",
      "precision:0.5434782608695652\n",
      "recall:1.0\n",
      "f1-score:0.704225352112676\n"
     ]
    },
    {
     "data": {
      "image/png": "[encoded data removed]",
      "text/plain": [
       "<Figure size 300x300 with 2 Axes>"
      ]
     },
     "metadata": {},
     "output_type": "display_data"
    },
    {
     "data": {
      "image/png": "[encoded data removed]",
      "text/plain": [
       "<Figure size 300x300 with 1 Axes>"
      ]
     },
     "metadata": {},
     "output_type": "display_data"
    }
   ],
   "source": [
    "ml_model = model_list[4]\n",
    "clf_svm = SVC(probability = True, gamma = gamma, C = C)\n",
    "clf_svm.fit(X_train,Y_train)\n",
    "\n",
    "y_score = clf_svm.predict(X_test)                                   \n",
    "y_score_pro = clf_svm.predict_proba(X_test) \n",
    "y_one_hot = to_categorical(Y_test)\n",
    "y_score_one_hot = to_categorical(y_score)\n",
    "\n",
    "obj1 = confusion_matrix(Y_test, y_score)\n",
    "print('accuracy:{}'.format(accuracy_score(Y_test, y_score)))\n",
    "print('precision:{}'.format(precision_score(Y_test, y_score)))\n",
    "print('recall:{}'.format(recall_score(Y_test, y_score)))\n",
    "print('f1-score:{}'.format(f1_score(Y_test, y_score)))\n",
    "\n",
    "# update confusion matrix\n",
    "sum_all1 = obj1[0][0] + obj1[0][1]\n",
    "sum_all2 = obj1[1][0] + obj1[1][1]\n",
    "new_obj = np.array(\n",
    "    [\n",
    "        [float(obj1[0][0])/sum_all1, float(obj1[0][1])/sum_all1],\n",
    "        [float(obj1[1][0])/sum_all2, float(obj1[1][1])/sum_all2]\n",
    "    ]\n",
    ")\n",
    "ax = plt.subplots(figsize=(3,3))\n",
    "sns.heatmap(new_obj, fmt='.2f', cmap='PuBuGn', annot=True)\n",
    "plt.xlabel(\"true label\")\n",
    "plt.ylabel(\"predict label\")\n",
    "plt.title('small model (sign prediction)\\n' + tissue + ', ' + ml_model)\n",
    "plt.savefig(image_path + 'cm-small-sign-' + tissue + '-' + ml_model + '.png',dpi=300, bbox_inches = 'tight')\n",
    "plt.show()\n",
    "\n",
    "fpr, tpr, thresholds = roc_curve(y_one_hot.ravel(),y_score_pro.ravel())   \n",
    "auc_ = auc(fpr, tpr)\n",
    "#print(\"AUC : \", auc)\n",
    "ax = plt.subplots(figsize=(3,3))\n",
    "plt.title('small model (sign prediction)\\n' + tissue + ', ' + ml_model)\n",
    "plt.plot(fpr, tpr, linewidth = 2,label='AUC=%.3f' % auc_,color='#006400')\n",
    "plt.plot([0,1],[0,1], 'k--')\n",
    "plt.axis([0,1.1,0,1.1])\n",
    "plt.xlabel('False Postivie Rate')\n",
    "plt.ylabel('True Positive Rate')\n",
    "plt.legend(loc=\"lower right\")\n",
    "plt.savefig(image_path + 'auc-small-sign-' + tissue + '-' + ml_model + '.png',dpi=300, bbox_inches = 'tight')\n",
    "plt.show()"
   ]
  },
  {
   "cell_type": "markdown",
   "metadata": {},
   "source": [
    "#### middle model"
   ]
  },
  {
   "cell_type": "code",
   "execution_count": 16,
   "metadata": {},
   "outputs": [
    {
     "name": "stdout",
     "output_type": "stream",
     "text": [
      "         phenotype_id            variant_id  tss_distance       maf  \\\n",
      "0   ENSG00000272512.1   chr1_989148_C_A_b38         -8903  0.455742   \n",
      "1   ENSG00000272512.1   chr1_999842_C_A_b38          1791  0.444064   \n",
      "2  ENSG00000008128.22  chr1_1733506_G_A_b38          9182  0.013699   \n",
      "3  ENSG00000008130.15  chr1_1777680_C_T_b38         -2777  0.076484   \n",
      "4   ENSG00000182873.5  chr1_2189679_C_T_b38          5290  0.378995   \n",
      "\n",
      "  ma_samples ma_count  pval_nominal     slope  slope_se  label  \\\n",
      "0        315      400  6.301756e-45  0.753825  0.046540      1   \n",
      "1        301      389  2.103221e-49  0.757170  0.043822      1   \n",
      "2         12       12  2.895097e-10  1.414804  0.218233      1   \n",
      "3         66       67  3.749908e-13  0.248043  0.032905      1   \n",
      "4        276      332  4.958885e-20  0.558117  0.057414      1   \n",
      "\n",
      "                                          seq_before  \\\n",
      "0  cttccttttaatgaagtctaatttgcccatttttcttgatgtatta...   \n",
      "1  cttccttttaatgaagtctaatttgcccatttttcttgatgtatta...   \n",
      "2  ttcagaatggataatttctactgctccatccacaagttgtttccaa...   \n",
      "3  gtttcagaaggcaaattcaatacacaaaaatcgcctgtatttctat...   \n",
      "4  GGGACCTGCTCCTGGTCTGGAATTCAGTGCTGTGGGGATGTGGGAT...   \n",
      "\n",
      "                                           seq_after  seq_len  \\\n",
      "0  cttccttttaatgaagtctaatttgcccatttttcttgatgtatta...    20001   \n",
      "1  cttccttttaatgaagtctaatttgcccatttttcttgatgtatta...    20001   \n",
      "2  ttcagaatggataatttctactgctccatccacaagttgtttccaa...    20001   \n",
      "3  gtttcagaaggcaaattcaatacacaaaaatcgcctgtatttctat...    20001   \n",
      "4  GGGACCTGCTCCTGGTCTGGAATTCAGTGCTGTGGGGATGTGGGAT...    20001   \n",
      "\n",
      "                                      dnabert_before  dnabert_before_time  \\\n",
      "0  [-0.25756967, -0.08894562, 0.10563574, 0.04573...             3.255493   \n",
      "1  [-0.25756967, -0.08894562, 0.10563574, 0.04573...             3.200184   \n",
      "2  [-0.2316106, -0.06678604, 0.11404514, 0.031122...             3.568606   \n",
      "3  [-0.2205847, -0.06142659, 0.097757705, 0.04563...             3.114073   \n",
      "4  [-0.11199187, -0.013163523, 0.07811511, -0.000...             2.285734   \n",
      "\n",
      "                                       dnabert_after  dnabert_after_time  \n",
      "0  [-0.25755897, -0.08893357, 0.10565319, 0.04576...            3.254367  \n",
      "1  [-0.25759318, -0.08892761, 0.10561695, 0.04570...            3.162361  \n",
      "2  [-0.23173012, -0.06678667, 0.11405057, 0.03105...            3.285948  \n",
      "3  [-0.22062881, -0.061433055, 0.0977544, 0.04565...            3.083312  \n",
      "4  [-0.111773945, -0.012991084, 0.078196734, -0.0...            2.301363  \n",
      "X_train shape: (604, 1536)\n",
      "Y_train shape: (604,)\n",
      "X_test shape: (68, 1536)\n",
      "Y_test shape: (68,)\n"
     ]
    }
   ],
   "source": [
    "model = model_size[1]\n",
    "train_data = pd.read_pickle(data_path + model + '_train.dataset')\n",
    "valid_data = pd.read_pickle(data_path + model + '_valid.dataset')\n",
    "test_data = pd.read_pickle(data_path + model + '_test.dataset')\n",
    "print(train_data.head())\n",
    "\n",
    "merged_data = pd.concat([train_data, valid_data, test_data]) # for machine learning, grid search\n",
    "# new split\n",
    "merged_data = merged_data.sample(frac=1).reset_index(drop=True)\n",
    "train_data = merged_data[0:int(0.9*len(merged_data))].reset_index(drop=True)\n",
    "test_data = merged_data[int(0.9*len(merged_data)):].reset_index(drop=True)\n",
    "\n",
    "sample_list = []\n",
    "y_list = []\n",
    "for i in range(train_data.shape[0]):\n",
    "    feature_list = []\n",
    "    feature_list += train_data['dnabert_before'][i].flatten().tolist()\n",
    "    feature_list += train_data['dnabert_after'][i].flatten().tolist()\n",
    "    sample_list.append(feature_list)\n",
    "    y_list.append(train_data['label'][i])\n",
    "X_train = np.array(sample_list)\n",
    "Y_train = np.array(y_list)\n",
    "print('X_train shape: ' + str(X_train.shape))\n",
    "print('Y_train shape: ' + str(Y_train.shape))\n",
    "\n",
    "sample_list = []\n",
    "y_list = []\n",
    "for i in range(test_data.shape[0]):\n",
    "    feature_list = []\n",
    "    feature_list += test_data['dnabert_before'][i].flatten().tolist()\n",
    "    feature_list += test_data['dnabert_after'][i].flatten().tolist()\n",
    "    sample_list.append(feature_list)\n",
    "    y_list.append(test_data['label'][i])\n",
    "X_test = np.array(sample_list)\n",
    "Y_test = np.array(y_list)\n",
    "print('X_test shape: ' + str(X_test.shape))\n",
    "print('Y_test shape: ' + str(Y_test.shape))"
   ]
  },
  {
   "cell_type": "markdown",
   "metadata": {},
   "source": [
    "##### model 1: xgboost"
   ]
  },
  {
   "cell_type": "code",
   "execution_count": null,
   "metadata": {},
   "outputs": [
    {
     "name": "stdout",
     "output_type": "stream",
     "text": [
      "{'n_estimators': 235}\n"
     ]
    }
   ],
   "source": [
    "# model 1: xgboost\n",
    "import xgboost as xgb\n",
    "from sklearn.model_selection import GridSearchCV\n",
    "\n",
    "cv_params = {'n_estimators': np.linspace(10, 300, 10, dtype=int)} # \n",
    "xgb_model = xgb.XGBClassifier(seed=seed)\n",
    "# https://scikit-learn.org/stable/modules/model_evaluation.html\n",
    "gs = GridSearchCV(xgb_model, cv_params, refit=True, cv=5, scoring='roc_auc')\n",
    "gs.fit(X_train,Y_train)\n",
    "n_estimators = gs.best_params_['n_estimators']\n",
    "print(gs.best_params_)\n",
    "\n",
    "cv_params = {'max_depth': np.linspace(1, 10, 10, dtype=int)} # \n",
    "xgb_model = xgb.XGBClassifier(seed=seed,n_estimators=n_estimators)\n",
    "gs = GridSearchCV(xgb_model, cv_params, refit=True, cv=5, scoring='roc_auc')\n",
    "gs.fit(X_train,Y_train)\n",
    "max_depth = gs.best_params_['max_depth']\n",
    "print(gs.best_params_)"
   ]
  },
  {
   "cell_type": "code",
   "execution_count": null,
   "metadata": {},
   "outputs": [],
   "source": [
    "ml_model = model_list[0]\n",
    "clf_xgb = xgb.XGBClassifier(n_estimators=n_estimators, max_depth=max_depth) # from grid search\n",
    "clf_xgb.fit(X_train,Y_train)\n",
    "\n",
    "y_score = clf_xgb.predict(X_test)                                   \n",
    "y_score_pro = clf_xgb.predict_proba(X_test) \n",
    "y_one_hot = to_categorical(Y_test)\n",
    "y_score_one_hot = to_categorical(y_score)\n",
    "\n",
    "obj1 = confusion_matrix(Y_test, y_score)\n",
    "print('accuracy:{}'.format(accuracy_score(Y_test, y_score)))\n",
    "print('precision:{}'.format(precision_score(Y_test, y_score)))\n",
    "print('recall:{}'.format(recall_score(Y_test, y_score)))\n",
    "print('f1-score:{}'.format(f1_score(Y_test, y_score)))\n",
    "\n",
    "# update confusion matrix\n",
    "sum_all1 = obj1[0][0] + obj1[0][1]\n",
    "sum_all2 = obj1[1][0] + obj1[1][1]\n",
    "new_obj = np.array(\n",
    "    [\n",
    "        [float(obj1[0][0])/sum_all1, float(obj1[0][1])/sum_all1],\n",
    "        [float(obj1[1][0])/sum_all2, float(obj1[1][1])/sum_all2]\n",
    "    ]\n",
    ")\n",
    "ax = plt.subplots(figsize=(3,3))\n",
    "sns.heatmap(new_obj, fmt='.2f', cmap='Oranges', annot=True)\n",
    "plt.xlabel(\"true label\")\n",
    "plt.ylabel(\"predict label\")\n",
    "plt.title('middle model (sign prediction)\\n' + tissue + ', ' + ml_model)\n",
    "plt.savefig(image_path + 'cm-middle-sign-' + tissue + '-' + ml_model + '.png',dpi=300, bbox_inches = 'tight')\n",
    "plt.show()\n",
    "\n",
    "fpr, tpr, thresholds = roc_curve(y_one_hot.ravel(),y_score_pro.ravel())   \n",
    "auc_ = auc(fpr, tpr)\n",
    "#print(\"AUC : \", auc)\n",
    "ax = plt.subplots(figsize=(3,3))\n",
    "plt.title('middle model (sign prediction)\\n' + tissue + ', ' + ml_model)\n",
    "plt.plot(fpr, tpr, linewidth = 2,label='AUC=%.3f' % auc_,color='#CD853F')\n",
    "plt.plot([0,1],[0,1], 'k--')\n",
    "plt.axis([0,1.1,0,1.1])\n",
    "plt.xlabel('False Postivie Rate')\n",
    "plt.ylabel('True Positive Rate')\n",
    "plt.legend(loc=\"lower right\")\n",
    "plt.savefig(image_path + 'auc-middle-sign-' + tissue + '-' + ml_model + '.png',dpi=300, bbox_inches = 'tight')\n",
    "plt.show()"
   ]
  },
  {
   "cell_type": "markdown",
   "metadata": {},
   "source": [
    "##### model 2:lightgbm"
   ]
  },
  {
   "cell_type": "code",
   "execution_count": null,
   "metadata": {},
   "outputs": [],
   "source": [
    "import lightgbm as lgb\n",
    "from sklearn.model_selection import GridSearchCV\n",
    "\n",
    "cv_params = {'max_depth': np.linspace(1, 50, 10, dtype=int)} # \n",
    "gbm = lgb.LGBMClassifier(seed=seed,verbose=-1)\n",
    "gsearch = GridSearchCV(gbm, param_grid=cv_params, cv=5, scoring='roc_auc')\n",
    "gsearch.fit(X_train, Y_train)\n",
    "max_depth = gsearch.best_params_['max_depth']\n",
    "print(gsearch.best_params_)\n",
    "\n",
    "cv_params = {'num_leaves': np.linspace(2, 50, 5, dtype=int)} # \n",
    "gbm = lgb.LGBMClassifier(seed=seed,max_depth=max_depth,verbose=-1)\n",
    "gsearch = GridSearchCV(gbm, param_grid=cv_params, cv=5, scoring='roc_auc')\n",
    "gsearch.fit(X_train, Y_train)\n",
    "num_leaves = gsearch.best_params_['num_leaves']\n",
    "print(gsearch.best_params_)"
   ]
  },
  {
   "cell_type": "code",
   "execution_count": null,
   "metadata": {},
   "outputs": [],
   "source": [
    "ml_model = model_list[1]\n",
    "clf_lgb = lgb.LGBMClassifier(max_depth=max_depth, num_leaves=num_leaves)\n",
    "clf_lgb.fit(X_train,Y_train)\n",
    "\n",
    "y_score = clf_lgb.predict(X_test)                                   \n",
    "y_score_pro = clf_lgb.predict_proba(X_test) \n",
    "y_one_hot = to_categorical(Y_test)\n",
    "y_score_one_hot = to_categorical(y_score)\n",
    "\n",
    "obj1 = confusion_matrix(Y_test, y_score)\n",
    "print('accuracy:{}'.format(accuracy_score(Y_test, y_score)))\n",
    "print('precision:{}'.format(precision_score(Y_test, y_score)))\n",
    "print('recall:{}'.format(recall_score(Y_test, y_score)))\n",
    "print('f1-score:{}'.format(f1_score(Y_test, y_score)))\n",
    "\n",
    "# update confusion matrix\n",
    "sum_all1 = obj1[0][0] + obj1[0][1]\n",
    "sum_all2 = obj1[1][0] + obj1[1][1]\n",
    "new_obj = np.array(\n",
    "    [\n",
    "        [float(obj1[0][0])/sum_all1, float(obj1[0][1])/sum_all1],\n",
    "        [float(obj1[1][0])/sum_all2, float(obj1[1][1])/sum_all2]\n",
    "    ]\n",
    ")\n",
    "ax = plt.subplots(figsize=(3,3))\n",
    "sns.heatmap(new_obj, fmt='.2f', cmap='Oranges', annot=True)\n",
    "plt.xlabel(\"true label\")\n",
    "plt.ylabel(\"predict label\")\n",
    "plt.title('middle model (sign prediction)\\n' + tissue + ', ' + ml_model)\n",
    "plt.savefig(image_path + 'cm-middle-sign-' + tissue + '-' + ml_model + '.png',dpi=300, bbox_inches = 'tight')\n",
    "plt.show()\n",
    "\n",
    "fpr, tpr, thresholds = roc_curve(y_one_hot.ravel(),y_score_pro.ravel())   \n",
    "auc_ = auc(fpr, tpr)\n",
    "#print(\"AUC : \", auc)\n",
    "ax = plt.subplots(figsize=(3,3))\n",
    "plt.title('middle model (sign prediction)\\n' + tissue + ', ' + ml_model)\n",
    "plt.plot(fpr, tpr, linewidth = 2,label='AUC=%.3f' % auc_,color='#CD853F')\n",
    "plt.plot([0,1],[0,1], 'k--')\n",
    "plt.axis([0,1.1,0,1.1])\n",
    "plt.xlabel('False Postivie Rate')\n",
    "plt.ylabel('True Positive Rate')\n",
    "plt.legend(loc=\"lower right\")\n",
    "plt.savefig(image_path + 'auc-middle-sign-' + tissue + '-' + ml_model + '.png',dpi=300, bbox_inches = 'tight')\n",
    "plt.show()"
   ]
  },
  {
   "cell_type": "markdown",
   "metadata": {},
   "source": [
    "##### model 3: random forest"
   ]
  },
  {
   "cell_type": "code",
   "execution_count": null,
   "metadata": {},
   "outputs": [],
   "source": [
    "from sklearn.ensemble import RandomForestClassifier\n",
    "from sklearn.model_selection import GridSearchCV\n",
    "\n",
    "cv_params = {'n_estimators': np.linspace(10, 200, 10, dtype=int)} \n",
    "rfModel = RandomForestClassifier(random_state = random.seed(seed))\n",
    "grid = GridSearchCV(\n",
    "    rfModel,cv_params,cv = 5,return_train_score = True, scoring='roc_auc')\n",
    "grid.fit(X_train, Y_train)\n",
    "n_estimators = grid.best_params_['n_estimators']\n",
    "print(grid.best_params_)\n",
    "\n",
    "cv_params = {'max_depth': np.linspace(1, 10, 10, dtype=int)} \n",
    "rfModel = RandomForestClassifier(random_state = random.seed(seed),n_estimators=n_estimators)\n",
    "grid = GridSearchCV(\n",
    "    rfModel,cv_params,cv = 5,return_train_score = True, scoring='roc_auc')\n",
    "grid.fit(X_train, Y_train)\n",
    "max_depth=grid.best_params_['max_depth']\n",
    "print(grid.best_params_)"
   ]
  },
  {
   "cell_type": "code",
   "execution_count": null,
   "metadata": {},
   "outputs": [],
   "source": [
    "ml_model = model_list[2]\n",
    "clf_rf = RandomForestClassifier(n_estimators=n_estimators, max_depth=max_depth)\n",
    "clf_rf.fit(X_train,Y_train)\n",
    "\n",
    "y_score = clf_rf.predict(X_test)                                   \n",
    "y_score_pro = clf_rf.predict_proba(X_test) \n",
    "y_one_hot = to_categorical(Y_test)\n",
    "y_score_one_hot = to_categorical(y_score)\n",
    "\n",
    "obj1 = confusion_matrix(Y_test, y_score)\n",
    "print('accuracy:{}'.format(accuracy_score(Y_test, y_score)))\n",
    "print('precision:{}'.format(precision_score(Y_test, y_score)))\n",
    "print('recall:{}'.format(recall_score(Y_test, y_score)))\n",
    "print('f1-score:{}'.format(f1_score(Y_test, y_score)))\n",
    "\n",
    "# update confusion matrix\n",
    "sum_all1 = obj1[0][0] + obj1[0][1]\n",
    "sum_all2 = obj1[1][0] + obj1[1][1]\n",
    "new_obj = np.array(\n",
    "    [\n",
    "        [float(obj1[0][0])/sum_all1, float(obj1[0][1])/sum_all1],\n",
    "        [float(obj1[1][0])/sum_all2, float(obj1[1][1])/sum_all2]\n",
    "    ]\n",
    ")\n",
    "ax = plt.subplots(figsize=(3,3))\n",
    "sns.heatmap(new_obj, fmt='.2f', cmap='Oranges', annot=True)\n",
    "plt.xlabel(\"true label\")\n",
    "plt.ylabel(\"predict label\")\n",
    "plt.title('middle model (sign prediction)\\n' + tissue + ', ' + ml_model)\n",
    "plt.savefig(image_path + 'cm-middle-sign-' + tissue + '-' + ml_model + '.png',dpi=300, bbox_inches = 'tight')\n",
    "plt.show()\n",
    "\n",
    "fpr, tpr, thresholds = roc_curve(y_one_hot.ravel(),y_score_pro.ravel())   \n",
    "auc_ = auc(fpr, tpr)\n",
    "#print(\"AUC : \", auc)\n",
    "ax = plt.subplots(figsize=(3,3))\n",
    "plt.title('middle model (sign prediction)\\n' + tissue + ', ' + ml_model)\n",
    "plt.plot(fpr, tpr, linewidth = 2,label='AUC=%.3f' % auc_,color='#CD853F')\n",
    "plt.plot([0,1],[0,1], 'k--')\n",
    "plt.axis([0,1.1,0,1.1])\n",
    "plt.xlabel('False Postivie Rate')\n",
    "plt.ylabel('True Positive Rate')\n",
    "plt.legend(loc=\"lower right\")\n",
    "plt.savefig(image_path + 'auc-middle-sign-' + tissue + '-' + ml_model + '.png',dpi=300, bbox_inches = 'tight')\n",
    "plt.show()"
   ]
  },
  {
   "cell_type": "markdown",
   "metadata": {},
   "source": [
    "##### model 4: knn"
   ]
  },
  {
   "cell_type": "code",
   "execution_count": null,
   "metadata": {},
   "outputs": [],
   "source": [
    "from sklearn.neighbors import KNeighborsClassifier\n",
    "from sklearn.model_selection import GridSearchCV\n",
    "\n",
    "paramGride = {'n_neighbors': np.linspace(100, 300, 10, dtype=int)} \n",
    "\n",
    "knnModel = KNeighborsClassifier()\n",
    "grid = GridSearchCV(\n",
    "    knnModel,paramGride,cv = 5,return_train_score = True, scoring='roc_auc')\n",
    "grid = grid.fit(X_train,Y_train)\n",
    "grid.best_params_"
   ]
  },
  {
   "cell_type": "code",
   "execution_count": null,
   "metadata": {},
   "outputs": [],
   "source": [
    "ml_model = model_list[3]\n",
    "clf_knn = KNeighborsClassifier(n_neighbors = grid.best_params_['n_neighbors'])\n",
    "clf_knn.fit(X_train,Y_train)\n",
    "\n",
    "y_score = clf_knn.predict(X_test)                                   \n",
    "y_score_pro = clf_knn.predict_proba(X_test) \n",
    "y_one_hot = to_categorical(Y_test)\n",
    "y_score_one_hot = to_categorical(y_score)\n",
    "\n",
    "obj1 = confusion_matrix(Y_test, y_score)\n",
    "print('accuracy:{}'.format(accuracy_score(Y_test, y_score)))\n",
    "print('precision:{}'.format(precision_score(Y_test, y_score)))\n",
    "print('recall:{}'.format(recall_score(Y_test, y_score)))\n",
    "print('f1-score:{}'.format(f1_score(Y_test, y_score)))\n",
    "\n",
    "# update confusion matrix\n",
    "sum_all1 = obj1[0][0] + obj1[0][1]\n",
    "sum_all2 = obj1[1][0] + obj1[1][1]\n",
    "new_obj = np.array(\n",
    "    [\n",
    "        [float(obj1[0][0])/sum_all1, float(obj1[0][1])/sum_all1],\n",
    "        [float(obj1[1][0])/sum_all2, float(obj1[1][1])/sum_all2]\n",
    "    ]\n",
    ")\n",
    "ax = plt.subplots(figsize=(3,3))\n",
    "sns.heatmap(new_obj, fmt='.2f', cmap='Oranges', annot=True)\n",
    "plt.xlabel(\"true label\")\n",
    "plt.ylabel(\"predict label\")\n",
    "plt.title('middle model (sign prediction)\\n' + tissue + ', ' + ml_model)\n",
    "plt.savefig(image_path + 'cm-middle-sign-' + tissue + '-' + ml_model + '.png',dpi=300, bbox_inches = 'tight')\n",
    "plt.show()\n",
    "\n",
    "fpr, tpr, thresholds = roc_curve(y_one_hot.ravel(),y_score_pro.ravel())   \n",
    "auc_ = auc(fpr, tpr)\n",
    "#print(\"AUC : \", auc)\n",
    "ax = plt.subplots(figsize=(3,3))\n",
    "plt.title('middle model (sign prediction)\\n' + tissue + ', ' + ml_model)\n",
    "plt.plot(fpr, tpr, linewidth = 2,label='AUC=%.3f' % auc_,color='#CD853F')\n",
    "plt.plot([0,1],[0,1], 'k--')\n",
    "plt.axis([0,1.1,0,1.1])\n",
    "plt.xlabel('False Postivie Rate')\n",
    "plt.ylabel('True Positive Rate')\n",
    "plt.legend(loc=\"lower right\")\n",
    "plt.savefig(image_path + 'auc-middle-sign-' + tissue + '-' + ml_model + '.png',dpi=300, bbox_inches = 'tight')\n",
    "plt.show()"
   ]
  },
  {
   "cell_type": "markdown",
   "metadata": {},
   "source": [
    "##### model 5: svm"
   ]
  },
  {
   "cell_type": "code",
   "execution_count": null,
   "metadata": {},
   "outputs": [],
   "source": [
    "from sklearn.svm import SVC\n",
    "from sklearn.model_selection import GridSearchCV\n",
    "\n",
    "cv_params = {'gamma': [1e-4,1e-3,1e-2,1e-1,1,10,100,1000]} \n",
    "svmModel = SVC()\n",
    "grid = GridSearchCV(\n",
    "    svmModel,cv_params,cv = 5,return_train_score = True, scoring='roc_auc')\n",
    "grid = grid.fit(X_train,Y_train)\n",
    "gamma = grid.best_params_['gamma']\n",
    "print(grid.best_params_)\n",
    "\n",
    "cv_params = {'C': [1e-4,1e-3,1e-2,1e-1,1,10,100,1000]} \n",
    "svmModel = SVC(gamma=gamma)\n",
    "grid = GridSearchCV(\n",
    "    svmModel,cv_params,cv = 5,return_train_score = True, scoring='roc_auc')\n",
    "grid = grid.fit(X_train,Y_train)\n",
    "C = grid.best_params_['C']\n",
    "print(grid.best_params_)"
   ]
  },
  {
   "cell_type": "code",
   "execution_count": null,
   "metadata": {},
   "outputs": [],
   "source": [
    "ml_model = model_list[4]\n",
    "clf_svm = SVC(probability = True, gamma = gamma, C = C)\n",
    "clf_svm.fit(X_train,Y_train)\n",
    "\n",
    "y_score = clf_svm.predict(X_test)                                   \n",
    "y_score_pro = clf_svm.predict_proba(X_test) \n",
    "y_one_hot = to_categorical(Y_test)\n",
    "y_score_one_hot = to_categorical(y_score)\n",
    "\n",
    "obj1 = confusion_matrix(Y_test, y_score)\n",
    "print('accuracy:{}'.format(accuracy_score(Y_test, y_score)))\n",
    "print('precision:{}'.format(precision_score(Y_test, y_score)))\n",
    "print('recall:{}'.format(recall_score(Y_test, y_score)))\n",
    "print('f1-score:{}'.format(f1_score(Y_test, y_score)))\n",
    "\n",
    "# update confusion matrix\n",
    "sum_all1 = obj1[0][0] + obj1[0][1]\n",
    "sum_all2 = obj1[1][0] + obj1[1][1]\n",
    "new_obj = np.array(\n",
    "    [\n",
    "        [float(obj1[0][0])/sum_all1, float(obj1[0][1])/sum_all1],\n",
    "        [float(obj1[1][0])/sum_all2, float(obj1[1][1])/sum_all2]\n",
    "    ]\n",
    ")\n",
    "ax = plt.subplots(figsize=(3,3))\n",
    "sns.heatmap(new_obj, fmt='.2f', cmap='Oranges', annot=True)\n",
    "plt.xlabel(\"true label\")\n",
    "plt.ylabel(\"predict label\")\n",
    "plt.title('middle model (sign prediction)\\n' + tissue + ', ' + ml_model)\n",
    "plt.savefig(image_path + 'cm-middle-sign-' + tissue + '-' + ml_model + '.png',dpi=300, bbox_inches = 'tight')\n",
    "plt.show()\n",
    "\n",
    "fpr, tpr, thresholds = roc_curve(y_one_hot.ravel(),y_score_pro.ravel())   \n",
    "auc_ = auc(fpr, tpr)\n",
    "#print(\"AUC : \", auc)\n",
    "ax = plt.subplots(figsize=(3,3))\n",
    "plt.title('middle model (sign prediction)\\n' + tissue + ', ' + ml_model)\n",
    "plt.plot(fpr, tpr, linewidth = 2,label='AUC=%.3f' % auc_,color='#CD853F')\n",
    "plt.plot([0,1],[0,1], 'k--')\n",
    "plt.axis([0,1.1,0,1.1])\n",
    "plt.xlabel('False Postivie Rate')\n",
    "plt.ylabel('True Positive Rate')\n",
    "plt.legend(loc=\"lower right\")\n",
    "plt.savefig(image_path + 'auc-middle-sign-' + tissue + '-' + ml_model + '.png',dpi=300, bbox_inches = 'tight')\n",
    "plt.show()"
   ]
  },
  {
   "cell_type": "markdown",
   "metadata": {},
   "source": [
    "#### large model"
   ]
  },
  {
   "cell_type": "code",
   "execution_count": null,
   "metadata": {},
   "outputs": [],
   "source": [
    "model = model_size[2]\n",
    "train_data = pd.read_pickle(data_path + model + '_train.dataset')\n",
    "valid_data = pd.read_pickle(data_path + model + '_valid.dataset')\n",
    "test_data = pd.read_pickle(data_path + model + '_test.dataset')\n",
    "print(train_data.head())\n",
    "\n",
    "merged_data = pd.concat([train_data, valid_data, test_data]) # for machine learning, grid search\n",
    "# new split\n",
    "merged_data = merged_data.sample(frac=1).reset_index(drop=True)\n",
    "train_data = merged_data[0:int(0.9*len(merged_data))].reset_index(drop=True)\n",
    "test_data = merged_data[int(0.9*len(merged_data)):].reset_index(drop=True)\n",
    "\n",
    "sample_list = []\n",
    "y_list = []\n",
    "for i in range(train_data.shape[0]):\n",
    "    feature_list = []\n",
    "    feature_list += train_data['dnabert_before'][i].flatten().tolist()\n",
    "    feature_list += train_data['dnabert_after'][i].flatten().tolist()\n",
    "    sample_list.append(feature_list)\n",
    "    y_list.append(train_data['label'][i])\n",
    "X_train = np.array(sample_list)\n",
    "Y_train = np.array(y_list)\n",
    "print('X_train shape: ' + str(X_train.shape))\n",
    "print('Y_train shape: ' + str(Y_train.shape))\n",
    "\n",
    "sample_list = []\n",
    "y_list = []\n",
    "for i in range(test_data.shape[0]):\n",
    "    feature_list = []\n",
    "    feature_list += test_data['dnabert_before'][i].flatten().tolist()\n",
    "    feature_list += test_data['dnabert_after'][i].flatten().tolist()\n",
    "    sample_list.append(feature_list)\n",
    "    y_list.append(test_data['label'][i])\n",
    "X_test = np.array(sample_list)\n",
    "Y_test = np.array(y_list)\n",
    "print('X_test shape: ' + str(X_test.shape))\n",
    "print('Y_test shape: ' + str(Y_test.shape))"
   ]
  },
  {
   "cell_type": "markdown",
   "metadata": {},
   "source": [
    "##### model 1: xgboost"
   ]
  },
  {
   "cell_type": "code",
   "execution_count": null,
   "metadata": {},
   "outputs": [],
   "source": [
    "# model 1: xgboost\n",
    "import xgboost as xgb\n",
    "from sklearn.model_selection import GridSearchCV\n",
    "\n",
    "cv_params = {'n_estimators': np.linspace(10, 300, 10, dtype=int)} # \n",
    "xgb_model = xgb.XGBClassifier(seed=seed)\n",
    "# https://scikit-learn.org/stable/modules/model_evaluation.html\n",
    "gs = GridSearchCV(xgb_model, cv_params, refit=True, cv=5, scoring='roc_auc')\n",
    "gs.fit(X_train,Y_train)\n",
    "n_estimators = gs.best_params_['n_estimators']\n",
    "print(gs.best_params_)\n",
    "\n",
    "cv_params = {'max_depth': np.linspace(1, 10, 10, dtype=int)} # \n",
    "xgb_model = xgb.XGBClassifier(seed=seed,n_estimators=n_estimators)\n",
    "gs = GridSearchCV(xgb_model, cv_params, refit=True, cv=5, scoring='roc_auc')\n",
    "gs.fit(X_train,Y_train)\n",
    "max_depth = gs.best_params_['max_depth']\n",
    "print(gs.best_params_)"
   ]
  },
  {
   "cell_type": "code",
   "execution_count": null,
   "metadata": {},
   "outputs": [],
   "source": [
    "ml_model = model_list[0]\n",
    "clf_xgb = xgb.XGBClassifier(n_estimators=n_estimators, max_depth=max_depth) # from grid search\n",
    "clf_xgb.fit(X_train,Y_train)\n",
    "\n",
    "y_score = clf_xgb.predict(X_test)                                   \n",
    "y_score_pro = clf_xgb.predict_proba(X_test) \n",
    "y_one_hot = to_categorical(Y_test)\n",
    "y_score_one_hot = to_categorical(y_score)\n",
    "\n",
    "obj1 = confusion_matrix(Y_test, y_score)\n",
    "print('accuracy:{}'.format(accuracy_score(Y_test, y_score)))\n",
    "print('precision:{}'.format(precision_score(Y_test, y_score)))\n",
    "print('recall:{}'.format(recall_score(Y_test, y_score)))\n",
    "print('f1-score:{}'.format(f1_score(Y_test, y_score)))\n",
    "\n",
    "# update confusion matrix\n",
    "sum_all1 = obj1[0][0] + obj1[0][1]\n",
    "sum_all2 = obj1[1][0] + obj1[1][1]\n",
    "new_obj = np.array(\n",
    "    [\n",
    "        [float(obj1[0][0])/sum_all1, float(obj1[0][1])/sum_all1],\n",
    "        [float(obj1[1][0])/sum_all2, float(obj1[1][1])/sum_all2]\n",
    "    ]\n",
    ")\n",
    "ax = plt.subplots(figsize=(3,3))\n",
    "sns.heatmap(new_obj, fmt='.2f', cmap='RdPu', annot=True)\n",
    "plt.xlabel(\"true label\")\n",
    "plt.ylabel(\"predict label\")\n",
    "plt.title('large model (sign prediction)\\n' + tissue + ', ' + ml_model)\n",
    "plt.savefig(image_path + 'cm-large-sign-' + tissue + '-' + ml_model + '.png',dpi=300, bbox_inches = 'tight')\n",
    "plt.show()\n",
    "\n",
    "fpr, tpr, thresholds = roc_curve(y_one_hot.ravel(),y_score_pro.ravel())   \n",
    "auc_ = auc(fpr, tpr)\n",
    "#print(\"AUC : \", auc)\n",
    "ax = plt.subplots(figsize=(3,3))\n",
    "plt.title('large model (sign prediction)\\n' + tissue + ', ' + ml_model)\n",
    "plt.plot(fpr, tpr, linewidth = 2,label='AUC=%.3f' % auc_,color='#8A2BE2')\n",
    "plt.plot([0,1],[0,1], 'k--')\n",
    "plt.axis([0,1.1,0,1.1])\n",
    "plt.xlabel('False Postivie Rate')\n",
    "plt.ylabel('True Positive Rate')\n",
    "plt.legend(loc=\"lower right\")\n",
    "plt.savefig(image_path + 'auc-large-sign-' + tissue + '-' + ml_model + '.png',dpi=300, bbox_inches = 'tight')\n",
    "plt.show()"
   ]
  },
  {
   "cell_type": "markdown",
   "metadata": {},
   "source": [
    "##### model 2:lightgbm"
   ]
  },
  {
   "cell_type": "code",
   "execution_count": null,
   "metadata": {},
   "outputs": [],
   "source": [
    "import lightgbm as lgb\n",
    "from sklearn.model_selection import GridSearchCV\n",
    "\n",
    "cv_params = {'max_depth': np.linspace(1, 50, 10, dtype=int)} # \n",
    "gbm = lgb.LGBMClassifier(seed=seed,verbose=-1)\n",
    "gsearch = GridSearchCV(gbm, param_grid=cv_params, cv=5, scoring='roc_auc')\n",
    "gsearch.fit(X_train, Y_train)\n",
    "max_depth = gsearch.best_params_['max_depth']\n",
    "print(gsearch.best_params_)\n",
    "\n",
    "cv_params = {'num_leaves': np.linspace(2, 50, 5, dtype=int)} # \n",
    "gbm = lgb.LGBMClassifier(seed=seed,max_depth=max_depth,verbose=-1)\n",
    "gsearch = GridSearchCV(gbm, param_grid=cv_params, cv=5, scoring='roc_auc')\n",
    "gsearch.fit(X_train, Y_train)\n",
    "num_leaves = gsearch.best_params_['num_leaves']\n",
    "print(gsearch.best_params_)"
   ]
  },
  {
   "cell_type": "code",
   "execution_count": null,
   "metadata": {},
   "outputs": [],
   "source": [
    "ml_model = model_list[1]\n",
    "clf_lgb = lgb.LGBMClassifier(max_depth=max_depth, num_leaves=num_leaves)\n",
    "clf_lgb.fit(X_train,Y_train)\n",
    "\n",
    "y_score = clf_lgb.predict(X_test)                                   \n",
    "y_score_pro = clf_lgb.predict_proba(X_test) \n",
    "y_one_hot = to_categorical(Y_test)\n",
    "y_score_one_hot = to_categorical(y_score)\n",
    "\n",
    "obj1 = confusion_matrix(Y_test, y_score)\n",
    "print('accuracy:{}'.format(accuracy_score(Y_test, y_score)))\n",
    "print('precision:{}'.format(precision_score(Y_test, y_score)))\n",
    "print('recall:{}'.format(recall_score(Y_test, y_score)))\n",
    "print('f1-score:{}'.format(f1_score(Y_test, y_score)))\n",
    "\n",
    "# update confusion matrix\n",
    "sum_all1 = obj1[0][0] + obj1[0][1]\n",
    "sum_all2 = obj1[1][0] + obj1[1][1]\n",
    "new_obj = np.array(\n",
    "    [\n",
    "        [float(obj1[0][0])/sum_all1, float(obj1[0][1])/sum_all1],\n",
    "        [float(obj1[1][0])/sum_all2, float(obj1[1][1])/sum_all2]\n",
    "    ]\n",
    ")\n",
    "ax = plt.subplots(figsize=(3,3))\n",
    "sns.heatmap(new_obj, fmt='.2f', cmap='RdPu', annot=True)\n",
    "plt.xlabel(\"true label\")\n",
    "plt.ylabel(\"predict label\")\n",
    "plt.title('large model (sign prediction)\\n' + tissue + ', ' + ml_model)\n",
    "plt.savefig(image_path + 'cm-large-sign-' + tissue + '-' + ml_model + '.png',dpi=300, bbox_inches = 'tight')\n",
    "plt.show()\n",
    "\n",
    "fpr, tpr, thresholds = roc_curve(y_one_hot.ravel(),y_score_pro.ravel())   \n",
    "auc_ = auc(fpr, tpr)\n",
    "#print(\"AUC : \", auc)\n",
    "ax = plt.subplots(figsize=(3,3))\n",
    "plt.title('large model (sign prediction)\\n' + tissue + ', ' + ml_model)\n",
    "plt.plot(fpr, tpr, linewidth = 2,label='AUC=%.3f' % auc_,color='#8A2BE2')\n",
    "plt.plot([0,1],[0,1], 'k--')\n",
    "plt.axis([0,1.1,0,1.1])\n",
    "plt.xlabel('False Postivie Rate')\n",
    "plt.ylabel('True Positive Rate')\n",
    "plt.legend(loc=\"lower right\")\n",
    "plt.savefig(image_path + 'auc-large-sign-' + tissue + '-' + ml_model + '.png',dpi=300, bbox_inches = 'tight')\n",
    "plt.show()"
   ]
  },
  {
   "cell_type": "markdown",
   "metadata": {},
   "source": [
    "##### model 3: random forest"
   ]
  },
  {
   "cell_type": "code",
   "execution_count": null,
   "metadata": {},
   "outputs": [],
   "source": [
    "from sklearn.ensemble import RandomForestClassifier\n",
    "from sklearn.model_selection import GridSearchCV\n",
    "\n",
    "cv_params = {'n_estimators': np.linspace(10, 200, 10, dtype=int)} \n",
    "rfModel = RandomForestClassifier(random_state = random.seed(seed))\n",
    "grid = GridSearchCV(\n",
    "    rfModel,cv_params,cv = 5,return_train_score = True, scoring='roc_auc')\n",
    "grid.fit(X_train, Y_train)\n",
    "n_estimators = grid.best_params_['n_estimators']\n",
    "print(grid.best_params_)\n",
    "\n",
    "cv_params = {'max_depth': np.linspace(1, 10, 10, dtype=int)} \n",
    "rfModel = RandomForestClassifier(random_state = random.seed(seed),n_estimators=n_estimators)\n",
    "grid = GridSearchCV(\n",
    "    rfModel,cv_params,cv = 5,return_train_score = True, scoring='roc_auc')\n",
    "grid.fit(X_train, Y_train)\n",
    "max_depth=grid.best_params_['max_depth']\n",
    "print(grid.best_params_)"
   ]
  },
  {
   "cell_type": "code",
   "execution_count": null,
   "metadata": {},
   "outputs": [],
   "source": [
    "ml_model = model_list[2]\n",
    "clf_rf = RandomForestClassifier(n_estimators=n_estimators, max_depth=max_depth)\n",
    "clf_rf.fit(X_train,Y_train)\n",
    "\n",
    "y_score = clf_rf.predict(X_test)                                   \n",
    "y_score_pro = clf_rf.predict_proba(X_test) \n",
    "y_one_hot = to_categorical(Y_test)\n",
    "y_score_one_hot = to_categorical(y_score)\n",
    "\n",
    "obj1 = confusion_matrix(Y_test, y_score)\n",
    "print('accuracy:{}'.format(accuracy_score(Y_test, y_score)))\n",
    "print('precision:{}'.format(precision_score(Y_test, y_score)))\n",
    "print('recall:{}'.format(recall_score(Y_test, y_score)))\n",
    "print('f1-score:{}'.format(f1_score(Y_test, y_score)))\n",
    "\n",
    "# update confusion matrix\n",
    "sum_all1 = obj1[0][0] + obj1[0][1]\n",
    "sum_all2 = obj1[1][0] + obj1[1][1]\n",
    "new_obj = np.array(\n",
    "    [\n",
    "        [float(obj1[0][0])/sum_all1, float(obj1[0][1])/sum_all1],\n",
    "        [float(obj1[1][0])/sum_all2, float(obj1[1][1])/sum_all2]\n",
    "    ]\n",
    ")\n",
    "ax = plt.subplots(figsize=(3,3))\n",
    "sns.heatmap(new_obj, fmt='.2f', cmap='RdPu', annot=True)\n",
    "plt.xlabel(\"true label\")\n",
    "plt.ylabel(\"predict label\")\n",
    "plt.title('large model (sign prediction)\\n' + tissue + ', ' + ml_model)\n",
    "plt.savefig(image_path + 'cm-large-sign-' + tissue + '-' + ml_model + '.png',dpi=300, bbox_inches = 'tight')\n",
    "plt.show()\n",
    "\n",
    "fpr, tpr, thresholds = roc_curve(y_one_hot.ravel(),y_score_pro.ravel())   \n",
    "auc_ = auc(fpr, tpr)\n",
    "#print(\"AUC : \", auc)\n",
    "ax = plt.subplots(figsize=(3,3))\n",
    "plt.title('large model (sign prediction)\\n' + tissue + ', ' + ml_model)\n",
    "plt.plot(fpr, tpr, linewidth = 2,label='AUC=%.3f' % auc_,color='#8A2BE2')\n",
    "plt.plot([0,1],[0,1], 'k--')\n",
    "plt.axis([0,1.1,0,1.1])\n",
    "plt.xlabel('False Postivie Rate')\n",
    "plt.ylabel('True Positive Rate')\n",
    "plt.legend(loc=\"lower right\")\n",
    "plt.savefig(image_path + 'auc-large-sign-' + tissue + '-' + ml_model + '.png',dpi=300, bbox_inches = 'tight')\n",
    "plt.show()"
   ]
  },
  {
   "cell_type": "markdown",
   "metadata": {},
   "source": [
    "##### model 4: knn"
   ]
  },
  {
   "cell_type": "code",
   "execution_count": null,
   "metadata": {},
   "outputs": [],
   "source": [
    "from sklearn.neighbors import KNeighborsClassifier\n",
    "from sklearn.model_selection import GridSearchCV\n",
    "\n",
    "paramGride = {'n_neighbors': np.linspace(100, 300, 10, dtype=int)} \n",
    "\n",
    "knnModel = KNeighborsClassifier()\n",
    "grid = GridSearchCV(\n",
    "    knnModel,paramGride,cv = 5,return_train_score = True, scoring='roc_auc')\n",
    "grid = grid.fit(X_train,Y_train)\n",
    "grid.best_params_"
   ]
  },
  {
   "cell_type": "code",
   "execution_count": null,
   "metadata": {},
   "outputs": [],
   "source": [
    "ml_model = model_list[3]\n",
    "clf_knn = KNeighborsClassifier(n_neighbors = grid.best_params_['n_neighbors'])\n",
    "clf_knn.fit(X_train,Y_train)\n",
    "\n",
    "y_score = clf_knn.predict(X_test)                                   \n",
    "y_score_pro = clf_knn.predict_proba(X_test) \n",
    "y_one_hot = to_categorical(Y_test)\n",
    "y_score_one_hot = to_categorical(y_score)\n",
    "\n",
    "obj1 = confusion_matrix(Y_test, y_score)\n",
    "print('accuracy:{}'.format(accuracy_score(Y_test, y_score)))\n",
    "print('precision:{}'.format(precision_score(Y_test, y_score)))\n",
    "print('recall:{}'.format(recall_score(Y_test, y_score)))\n",
    "print('f1-score:{}'.format(f1_score(Y_test, y_score)))\n",
    "\n",
    "# update confusion matrix\n",
    "sum_all1 = obj1[0][0] + obj1[0][1]\n",
    "sum_all2 = obj1[1][0] + obj1[1][1]\n",
    "new_obj = np.array(\n",
    "    [\n",
    "        [float(obj1[0][0])/sum_all1, float(obj1[0][1])/sum_all1],\n",
    "        [float(obj1[1][0])/sum_all2, float(obj1[1][1])/sum_all2]\n",
    "    ]\n",
    ")\n",
    "ax = plt.subplots(figsize=(3,3))\n",
    "sns.heatmap(new_obj, fmt='.2f', cmap='RdPu', annot=True)\n",
    "plt.xlabel(\"true label\")\n",
    "plt.ylabel(\"predict label\")\n",
    "plt.title('large model (sign prediction)\\n' + tissue + ', ' + ml_model)\n",
    "plt.savefig(image_path + 'cm-large-sign-' + tissue + '-' + ml_model + '.png',dpi=300, bbox_inches = 'tight')\n",
    "plt.show()\n",
    "\n",
    "fpr, tpr, thresholds = roc_curve(y_one_hot.ravel(),y_score_pro.ravel())   \n",
    "auc_ = auc(fpr, tpr)\n",
    "#print(\"AUC : \", auc)\n",
    "ax = plt.subplots(figsize=(3,3))\n",
    "plt.title('large model (sign prediction)\\n' + tissue + ', ' + ml_model)\n",
    "plt.plot(fpr, tpr, linewidth = 2,label='AUC=%.3f' % auc_,color='#8A2BE2')\n",
    "plt.plot([0,1],[0,1], 'k--')\n",
    "plt.axis([0,1.1,0,1.1])\n",
    "plt.xlabel('False Postivie Rate')\n",
    "plt.ylabel('True Positive Rate')\n",
    "plt.legend(loc=\"lower right\")\n",
    "plt.savefig(image_path + 'auc-large-sign-' + tissue + '-' + ml_model + '.png',dpi=300, bbox_inches = 'tight')\n",
    "plt.show()"
   ]
  },
  {
   "cell_type": "markdown",
   "metadata": {},
   "source": [
    "##### model 5: svm"
   ]
  },
  {
   "cell_type": "code",
   "execution_count": null,
   "metadata": {},
   "outputs": [],
   "source": [
    "from sklearn.svm import SVC\n",
    "from sklearn.model_selection import GridSearchCV\n",
    "\n",
    "cv_params = {'gamma': [1e-4,1e-3,1e-2,1e-1,1,10,100,1000]} \n",
    "svmModel = SVC()\n",
    "grid = GridSearchCV(\n",
    "    svmModel,cv_params,cv = 5,return_train_score = True, scoring='roc_auc')\n",
    "grid = grid.fit(X_train,Y_train)\n",
    "gamma = grid.best_params_['gamma']\n",
    "print(grid.best_params_)\n",
    "\n",
    "cv_params = {'C': [1e-4,1e-3,1e-2,1e-1,1,10,100,1000]} \n",
    "svmModel = SVC(gamma=gamma)\n",
    "grid = GridSearchCV(\n",
    "    svmModel,cv_params,cv = 5,return_train_score = True, scoring='roc_auc')\n",
    "grid = grid.fit(X_train,Y_train)\n",
    "C = grid.best_params_['C']\n",
    "print(grid.best_params_)"
   ]
  },
  {
   "cell_type": "code",
   "execution_count": null,
   "metadata": {},
   "outputs": [],
   "source": [
    "ml_model = model_list[4]\n",
    "clf_svm = SVC(probability = True, gamma = gamma, C = C)\n",
    "clf_svm.fit(X_train,Y_train)\n",
    "\n",
    "y_score = clf_svm.predict(X_test)                                   \n",
    "y_score_pro = clf_svm.predict_proba(X_test) \n",
    "y_one_hot = to_categorical(Y_test)\n",
    "y_score_one_hot = to_categorical(y_score)\n",
    "\n",
    "obj1 = confusion_matrix(Y_test, y_score)\n",
    "print('accuracy:{}'.format(accuracy_score(Y_test, y_score)))\n",
    "print('precision:{}'.format(precision_score(Y_test, y_score)))\n",
    "print('recall:{}'.format(recall_score(Y_test, y_score)))\n",
    "print('f1-score:{}'.format(f1_score(Y_test, y_score)))\n",
    "\n",
    "# update confusion matrix\n",
    "sum_all1 = obj1[0][0] + obj1[0][1]\n",
    "sum_all2 = obj1[1][0] + obj1[1][1]\n",
    "new_obj = np.array(\n",
    "    [\n",
    "        [float(obj1[0][0])/sum_all1, float(obj1[0][1])/sum_all1],\n",
    "        [float(obj1[1][0])/sum_all2, float(obj1[1][1])/sum_all2]\n",
    "    ]\n",
    ")\n",
    "ax = plt.subplots(figsize=(3,3))\n",
    "sns.heatmap(new_obj, fmt='.2f', cmap='RdPu', annot=True)\n",
    "plt.xlabel(\"true label\")\n",
    "plt.ylabel(\"predict label\")\n",
    "plt.title('large model (sign prediction)\\n' + tissue + ', ' + ml_model)\n",
    "plt.savefig(image_path + 'cm-large-sign-' + tissue + '-' + ml_model + '.png',dpi=300, bbox_inches = 'tight')\n",
    "plt.show()\n",
    "\n",
    "fpr, tpr, thresholds = roc_curve(y_one_hot.ravel(),y_score_pro.ravel())   \n",
    "auc_ = auc(fpr, tpr)\n",
    "#print(\"AUC : \", auc)\n",
    "ax = plt.subplots(figsize=(3,3))\n",
    "plt.title('large model (sign prediction)\\n' + tissue + ', ' + ml_model)\n",
    "plt.plot(fpr, tpr, linewidth = 2,label='AUC=%.3f' % auc_,color='#8A2BE2')\n",
    "plt.plot([0,1],[0,1], 'k--')\n",
    "plt.axis([0,1.1,0,1.1])\n",
    "plt.xlabel('False Postivie Rate')\n",
    "plt.ylabel('True Positive Rate')\n",
    "plt.legend(loc=\"lower right\")\n",
    "plt.savefig(image_path + 'auc-large-sign-' + tissue + '-' + ml_model + '.png',dpi=300, bbox_inches = 'tight')\n",
    "plt.show()"
   ]
  }
 ],
 "metadata": {
  "kernelspec": {
   "display_name": "benchmark-env",
   "language": "python",
   "name": "benchmark"
  },
  "language_info": {
   "codemirror_mode": {
    "name": "ipython",
    "version": 3
   },
   "file_extension": ".py",
   "mimetype": "text/x-python",
   "name": "python",
   "nbconvert_exporter": "python",
   "pygments_lexer": "ipython3",
   "version": "3.9.19"
  },
  "vscode": {
   "interpreter": {
    "hash": "6fff98fc3b3d81bd655c2cc48858186e4d9e2db7b515bf1c3221888f12a62f87"
   }
  }
 },
 "nbformat": 4,
 "nbformat_minor": 2
}
