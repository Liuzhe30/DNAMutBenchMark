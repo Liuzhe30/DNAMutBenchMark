{
 "cells": [
  {
   "cell_type": "markdown",
   "metadata": {},
   "source": [
    "### exp: eqtl prediction, sign prediction, enformer_pca for machine learning"
   ]
  },
  {
   "cell_type": "code",
   "execution_count": 2,
   "metadata": {},
   "outputs": [],
   "source": [
    "import os\n",
    "import pandas as pd\n",
    "import numpy as np\n",
    "import seaborn as sns\n",
    "\n",
    "import warnings\n",
    "warnings.filterwarnings('ignore')\n",
    "\n",
    "from tensorflow.keras.utils import to_categorical\n",
    "from sklearn.metrics import confusion_matrix, precision_score, accuracy_score,recall_score, f1_score,roc_auc_score\n",
    "from sklearn.metrics import roc_curve, auc\n",
    "import matplotlib.pyplot as plt\n",
    "%matplotlib inline"
   ]
  },
  {
   "cell_type": "code",
   "execution_count": 3,
   "metadata": {},
   "outputs": [],
   "source": [
    "model_size = ['small','middle','large']\n",
    "model_list = ['xgboost','lightgbm','random forest','knn','svm']\n",
    "tissue = 'Esophagus_Mucosa'\n",
    "data_path = '../../../../../datasets_embedding/enformer_pca/eqtl_datasets/sign_prediction/' + tissue + '/'\n",
    "image_path = 'images_shuffled_seed510/'\n",
    "# set seed\n",
    "seed = 510\n",
    "import random\n",
    "random.seed(seed)\n",
    "np.random.seed(seed)"
   ]
  },
  {
   "cell_type": "markdown",
   "metadata": {},
   "source": [
    "#### small model"
   ]
  },
  {
   "cell_type": "code",
   "execution_count": 4,
   "metadata": {},
   "outputs": [
    {
     "name": "stdout",
     "output_type": "stream",
     "text": [
      "              variant_id label  \\\n",
      "0   chr1_1407232_G_C_b38     1   \n",
      "1   chr1_2493455_T_C_b38     1   \n",
      "2  chr1_16889585_T_C_b38     1   \n",
      "3  chr1_20508117_C_A_b38     1   \n",
      "4  chr1_22025454_G_T_b38     1   \n",
      "\n",
      "                                 enformer_pca_before  \\\n",
      "0  [[202.36273, 688.57306, -40.228397, -82.51773,...   \n",
      "1  [[-65.29498, 8.857524, -16.338726, 52.522667, ...   \n",
      "2  [[-83.12351, 22.751055, -44.277607, 6.292816, ...   \n",
      "3  [[-46.711304, -49.93935, -5.2461877, 22.846964...   \n",
      "4  [[-30.531317, -72.42038, -63.15713, 9.621544, ...   \n",
      "\n",
      "                                  enformer_pca_after  \n",
      "0  [[204.92616, 687.50775, -40.21996, -83.023834,...  \n",
      "1  [[-65.29567, 8.846896, -16.341778, 52.489758, ...  \n",
      "2  [[-83.52669, 22.351473, -44.16648, 7.162715, -...  \n",
      "3  [[-47.005497, -49.855995, -5.0390067, 22.79902...  \n",
      "4  [[-30.66005, -72.46989, -63.306225, 6.5045924,...  \n",
      "X_train shape: (380, 17920)\n",
      "Y_train shape: (380,)\n",
      "X_test shape: (43, 17920)\n",
      "Y_test shape: (43,)\n"
     ]
    }
   ],
   "source": [
    "model = model_size[0]\n",
    "train_data = pd.read_pickle(data_path + model + '_train.dataset')\n",
    "valid_data = pd.read_pickle(data_path + model + '_valid.dataset')\n",
    "test_data = pd.read_pickle(data_path + model + '_test.dataset')\n",
    "print(train_data.head())\n",
    "\n",
    "merged_data = pd.concat([train_data, valid_data, test_data]) # for machine learning, grid search\n",
    "# new split\n",
    "merged_data = merged_data.sample(frac=1).reset_index(drop=True)\n",
    "train_data = merged_data[0:int(0.9*len(merged_data))].reset_index(drop=True)\n",
    "test_data = merged_data[int(0.9*len(merged_data)):].reset_index(drop=True)\n",
    "\n",
    "sample_list = []\n",
    "y_list = []\n",
    "for i in range(train_data.shape[0]):\n",
    "    feature_list = []\n",
    "    feature_list += train_data['enformer_pca_before'][i].flatten().tolist()\n",
    "    feature_list += train_data['enformer_pca_after'][i].flatten().tolist()\n",
    "    sample_list.append(feature_list)\n",
    "    y_list.append(train_data['label'][i])\n",
    "X_train = np.array(sample_list)\n",
    "Y_train = np.array(y_list)\n",
    "print('X_train shape: ' + str(X_train.shape))\n",
    "print('Y_train shape: ' + str(Y_train.shape))\n",
    "\n",
    "sample_list = []\n",
    "y_list = []\n",
    "for i in range(test_data.shape[0]):\n",
    "    feature_list = []\n",
    "    feature_list += test_data['enformer_pca_before'][i].flatten().tolist()\n",
    "    feature_list += test_data['enformer_pca_after'][i].flatten().tolist()\n",
    "    sample_list.append(feature_list)\n",
    "    y_list.append(test_data['label'][i])\n",
    "X_test = np.array(sample_list)\n",
    "Y_test = np.array(y_list)\n",
    "print('X_test shape: ' + str(X_test.shape))\n",
    "print('Y_test shape: ' + str(Y_test.shape))"
   ]
  },
  {
   "cell_type": "code",
   "execution_count": 5,
   "metadata": {},
   "outputs": [
    {
     "name": "stdout",
     "output_type": "stream",
     "text": [
      "[0 1]\n"
     ]
    }
   ],
   "source": [
    "print(train_data['label'].unique())"
   ]
  },
  {
   "cell_type": "markdown",
   "metadata": {},
   "source": [
    "##### model 1: xgboost"
   ]
  },
  {
   "cell_type": "code",
   "execution_count": 6,
   "metadata": {},
   "outputs": [
    {
     "name": "stdout",
     "output_type": "stream",
     "text": [
      "{'n_estimators': 171}\n",
      "{'max_depth': 8}\n"
     ]
    }
   ],
   "source": [
    "# model 1: xgboost\n",
    "import xgboost as xgb\n",
    "from sklearn.model_selection import GridSearchCV\n",
    "\n",
    "cv_params = {'n_estimators': np.linspace(10, 300, 10, dtype=int)} # \n",
    "xgb_model = xgb.XGBClassifier(seed=seed)\n",
    "# https://scikit-learn.org/stable/modules/model_evaluation.html\n",
    "gs = GridSearchCV(xgb_model, cv_params, refit=True, cv=5, scoring='roc_auc')\n",
    "gs.fit(X_train,Y_train)\n",
    "n_estimators = gs.best_params_['n_estimators']\n",
    "print(gs.best_params_)\n",
    "\n",
    "cv_params = {'max_depth': np.linspace(1, 10, 10, dtype=int)} # \n",
    "xgb_model = xgb.XGBClassifier(seed=seed,n_estimators=n_estimators)\n",
    "gs = GridSearchCV(xgb_model, cv_params, refit=True, cv=5, scoring='roc_auc')\n",
    "gs.fit(X_train,Y_train)\n",
    "max_depth = gs.best_params_['max_depth']\n",
    "print(gs.best_params_)"
   ]
  },
  {
   "cell_type": "code",
   "execution_count": 7,
   "metadata": {},
   "outputs": [
    {
     "name": "stdout",
     "output_type": "stream",
     "text": [
      "accuracy:0.5116279069767442\n",
      "precision:0.5\n",
      "recall:0.38095238095238093\n",
      "f1-score:0.43243243243243246\n"
     ]
    },
    {
     "data": {
      "image/png": "[encoded data removed]",
      "text/plain": [
       "<Figure size 300x300 with 2 Axes>"
      ]
     },
     "metadata": {},
     "output_type": "display_data"
    },
    {
     "data": {
      "image/png": "[encoded data removed]",
      "text/plain": [
       "<Figure size 300x300 with 1 Axes>"
      ]
     },
     "metadata": {},
     "output_type": "display_data"
    }
   ],
   "source": [
    "ml_model = model_list[0]\n",
    "clf_xgb = xgb.XGBClassifier(n_estimators=n_estimators, max_depth=max_depth) # from grid search\n",
    "clf_xgb.fit(X_train,Y_train)\n",
    "\n",
    "y_score = clf_xgb.predict(X_test)                                   \n",
    "y_score_pro = clf_xgb.predict_proba(X_test) \n",
    "y_one_hot = to_categorical(Y_test)\n",
    "y_score_one_hot = to_categorical(y_score)\n",
    "\n",
    "obj1 = confusion_matrix(Y_test, y_score)\n",
    "print('accuracy:{}'.format(accuracy_score(Y_test, y_score)))\n",
    "print('precision:{}'.format(precision_score(Y_test, y_score)))\n",
    "print('recall:{}'.format(recall_score(Y_test, y_score)))\n",
    "print('f1-score:{}'.format(f1_score(Y_test, y_score)))\n",
    "\n",
    "# update confusion matrix\n",
    "sum_all1 = obj1[0][0] + obj1[0][1]\n",
    "sum_all2 = obj1[1][0] + obj1[1][1]\n",
    "new_obj = np.array(\n",
    "    [\n",
    "        [float(obj1[0][0])/sum_all1, float(obj1[0][1])/sum_all1],\n",
    "        [float(obj1[1][0])/sum_all2, float(obj1[1][1])/sum_all2]\n",
    "    ]\n",
    ")\n",
    "ax = plt.subplots(figsize=(3,3))\n",
    "sns.heatmap(new_obj, fmt='.2f', cmap='PuBuGn', annot=True)\n",
    "plt.xlabel(\"true label\")\n",
    "plt.ylabel(\"predict label\")\n",
    "plt.title('small model (sign prediction)\\n' + tissue + ', ' + ml_model)\n",
    "plt.savefig(image_path + 'cm-small-sign-' + tissue + '-' + ml_model + '.png',dpi=300, bbox_inches = 'tight')\n",
    "plt.show()\n",
    "\n",
    "fpr, tpr, thresholds = roc_curve(y_one_hot.ravel(),y_score_pro.ravel())   \n",
    "auc_ = auc(fpr, tpr)\n",
    "#print(\"AUC : \", auc)\n",
    "ax = plt.subplots(figsize=(3,3))\n",
    "plt.title('small model (sign prediction)\\n' + tissue + ', ' + ml_model)\n",
    "plt.plot(fpr, tpr, linewidth = 2,label='AUC=%.3f' % auc_,color='#006400')\n",
    "plt.plot([0,1],[0,1], 'k--')\n",
    "plt.axis([0,1.1,0,1.1])\n",
    "plt.xlabel('False Postivie Rate')\n",
    "plt.ylabel('True Positive Rate')\n",
    "plt.legend(loc=\"lower right\")\n",
    "plt.savefig(image_path + 'auc-small-sign-' + tissue + '-' + ml_model + '.png',dpi=300, bbox_inches = 'tight')\n",
    "plt.show()"
   ]
  },
  {
   "cell_type": "markdown",
   "metadata": {},
   "source": [
    "##### model 2:lightgbm"
   ]
  },
  {
   "cell_type": "code",
   "execution_count": 8,
   "metadata": {},
   "outputs": [
    {
     "name": "stdout",
     "output_type": "stream",
     "text": [
      "{'max_depth': 1}\n",
      "{'num_leaves': 2}\n"
     ]
    }
   ],
   "source": [
    "import lightgbm as lgb\n",
    "from sklearn.model_selection import GridSearchCV\n",
    "\n",
    "cv_params = {'max_depth': np.linspace(1, 50, 10, dtype=int)} # \n",
    "gbm = lgb.LGBMClassifier(seed=seed,verbose=-1)\n",
    "gsearch = GridSearchCV(gbm, param_grid=cv_params, cv=5, scoring='roc_auc')\n",
    "gsearch.fit(X_train, Y_train)\n",
    "max_depth = gsearch.best_params_['max_depth']\n",
    "print(gsearch.best_params_)\n",
    "\n",
    "cv_params = {'num_leaves': np.linspace(2, 50, 5, dtype=int)} # \n",
    "gbm = lgb.LGBMClassifier(seed=seed,max_depth=max_depth,verbose=-1)\n",
    "gsearch = GridSearchCV(gbm, param_grid=cv_params, cv=5, scoring='roc_auc')\n",
    "gsearch.fit(X_train, Y_train)\n",
    "num_leaves = gsearch.best_params_['num_leaves']\n",
    "print(gsearch.best_params_)"
   ]
  },
  {
   "cell_type": "code",
   "execution_count": 9,
   "metadata": {},
   "outputs": [
    {
     "name": "stdout",
     "output_type": "stream",
     "text": [
      "[LightGBM] [Info] Number of positive: 176, number of negative: 204\n",
      "[LightGBM] [Info] Auto-choosing col-wise multi-threading, the overhead of testing was 1.165971 seconds.\n",
      "You can set `force_col_wise=true` to remove the overhead.\n",
      "[LightGBM] [Info] Total Bins 2284597\n",
      "[LightGBM] [Info] Number of data points in the train set: 380, number of used features: 17920\n",
      "[LightGBM] [Info] [binary:BoostFromScore]: pavg=0.463158 -> initscore=-0.147636\n",
      "[LightGBM] [Info] Start training from score -0.147636\n",
      "accuracy:0.46511627906976744\n",
      "precision:0.4375\n",
      "recall:0.3333333333333333\n",
      "f1-score:0.3783783783783784\n"
     ]
    },
    {
     "data": {
      "image/png": "[encoded data removed]",
      "text/plain": [
       "<Figure size 300x300 with 2 Axes>"
      ]
     },
     "metadata": {},
     "output_type": "display_data"
    },
    {
     "data": {
      "image/png": "[encoded data removed]",
      "text/plain": [
       "<Figure size 300x300 with 1 Axes>"
      ]
     },
     "metadata": {},
     "output_type": "display_data"
    }
   ],
   "source": [
    "ml_model = model_list[1]\n",
    "clf_lgb = lgb.LGBMClassifier(max_depth=max_depth, num_leaves=num_leaves)\n",
    "clf_lgb.fit(X_train,Y_train)\n",
    "\n",
    "y_score = clf_lgb.predict(X_test)                                   \n",
    "y_score_pro = clf_lgb.predict_proba(X_test) \n",
    "y_one_hot = to_categorical(Y_test)\n",
    "y_score_one_hot = to_categorical(y_score)\n",
    "\n",
    "obj1 = confusion_matrix(Y_test, y_score)\n",
    "print('accuracy:{}'.format(accuracy_score(Y_test, y_score)))\n",
    "print('precision:{}'.format(precision_score(Y_test, y_score)))\n",
    "print('recall:{}'.format(recall_score(Y_test, y_score)))\n",
    "print('f1-score:{}'.format(f1_score(Y_test, y_score)))\n",
    "\n",
    "# update confusion matrix\n",
    "sum_all1 = obj1[0][0] + obj1[0][1]\n",
    "sum_all2 = obj1[1][0] + obj1[1][1]\n",
    "new_obj = np.array(\n",
    "    [\n",
    "        [float(obj1[0][0])/sum_all1, float(obj1[0][1])/sum_all1],\n",
    "        [float(obj1[1][0])/sum_all2, float(obj1[1][1])/sum_all2]\n",
    "    ]\n",
    ")\n",
    "ax = plt.subplots(figsize=(3,3))\n",
    "sns.heatmap(new_obj, fmt='.2f', cmap='PuBuGn', annot=True)\n",
    "plt.xlabel(\"true label\")\n",
    "plt.ylabel(\"predict label\")\n",
    "plt.title('small model (sign prediction)\\n' + tissue + ', ' + ml_model)\n",
    "plt.savefig(image_path + 'cm-small-sign-' + tissue + '-' + ml_model + '.png',dpi=300, bbox_inches = 'tight')\n",
    "plt.show()\n",
    "\n",
    "fpr, tpr, thresholds = roc_curve(y_one_hot.ravel(),y_score_pro.ravel())   \n",
    "auc_ = auc(fpr, tpr)\n",
    "#print(\"AUC : \", auc)\n",
    "ax = plt.subplots(figsize=(3,3))\n",
    "plt.title('small model (sign prediction)\\n' + tissue + ', ' + ml_model)\n",
    "plt.plot(fpr, tpr, linewidth = 2,label='AUC=%.3f' % auc_,color='#006400')\n",
    "plt.plot([0,1],[0,1], 'k--')\n",
    "plt.axis([0,1.1,0,1.1])\n",
    "plt.xlabel('False Postivie Rate')\n",
    "plt.ylabel('True Positive Rate')\n",
    "plt.legend(loc=\"lower right\")\n",
    "plt.savefig(image_path + 'auc-small-sign-' + tissue + '-' + ml_model + '.png',dpi=300, bbox_inches = 'tight')\n",
    "plt.show()"
   ]
  },
  {
   "cell_type": "markdown",
   "metadata": {},
   "source": [
    "##### model 3: random forest"
   ]
  },
  {
   "cell_type": "code",
   "execution_count": 10,
   "metadata": {},
   "outputs": [
    {
     "name": "stdout",
     "output_type": "stream",
     "text": [
      "{'n_estimators': 157}\n",
      "{'max_depth': 9}\n"
     ]
    }
   ],
   "source": [
    "from sklearn.ensemble import RandomForestClassifier\n",
    "from sklearn.model_selection import GridSearchCV\n",
    "\n",
    "cv_params = {'n_estimators': np.linspace(10, 200, 10, dtype=int)} \n",
    "rfModel = RandomForestClassifier(random_state = random.seed(seed))\n",
    "grid = GridSearchCV(\n",
    "    rfModel,cv_params,cv = 5,return_train_score = True, scoring='roc_auc')\n",
    "grid.fit(X_train, Y_train)\n",
    "n_estimators = grid.best_params_['n_estimators']\n",
    "print(grid.best_params_)\n",
    "\n",
    "cv_params = {'max_depth': np.linspace(1, 10, 10, dtype=int)} \n",
    "rfModel = RandomForestClassifier(random_state = random.seed(seed),n_estimators=n_estimators)\n",
    "grid = GridSearchCV(\n",
    "    rfModel,cv_params,cv = 5,return_train_score = True, scoring='roc_auc')\n",
    "grid.fit(X_train, Y_train)\n",
    "max_depth=grid.best_params_['max_depth']\n",
    "print(grid.best_params_)"
   ]
  },
  {
   "cell_type": "code",
   "execution_count": 11,
   "metadata": {},
   "outputs": [
    {
     "name": "stdout",
     "output_type": "stream",
     "text": [
      "accuracy:0.5581395348837209\n",
      "precision:0.6666666666666666\n",
      "recall:0.19047619047619047\n",
      "f1-score:0.2962962962962963\n"
     ]
    },
    {
     "data": {
      "image/png": "[encoded data removed]",
      "text/plain": [
       "<Figure size 300x300 with 2 Axes>"
      ]
     },
     "metadata": {},
     "output_type": "display_data"
    },
    {
     "data": {
      "image/png": "[encoded data removed]",
      "text/plain": [
       "<Figure size 300x300 with 1 Axes>"
      ]
     },
     "metadata": {},
     "output_type": "display_data"
    }
   ],
   "source": [
    "ml_model = model_list[2]\n",
    "clf_rf = RandomForestClassifier(n_estimators=n_estimators, max_depth=max_depth)\n",
    "clf_rf.fit(X_train,Y_train)\n",
    "\n",
    "y_score = clf_rf.predict(X_test)                                   \n",
    "y_score_pro = clf_rf.predict_proba(X_test) \n",
    "y_one_hot = to_categorical(Y_test)\n",
    "y_score_one_hot = to_categorical(y_score)\n",
    "\n",
    "obj1 = confusion_matrix(Y_test, y_score)\n",
    "print('accuracy:{}'.format(accuracy_score(Y_test, y_score)))\n",
    "print('precision:{}'.format(precision_score(Y_test, y_score)))\n",
    "print('recall:{}'.format(recall_score(Y_test, y_score)))\n",
    "print('f1-score:{}'.format(f1_score(Y_test, y_score)))\n",
    "\n",
    "# update confusion matrix\n",
    "sum_all1 = obj1[0][0] + obj1[0][1]\n",
    "sum_all2 = obj1[1][0] + obj1[1][1]\n",
    "new_obj = np.array(\n",
    "    [\n",
    "        [float(obj1[0][0])/sum_all1, float(obj1[0][1])/sum_all1],\n",
    "        [float(obj1[1][0])/sum_all2, float(obj1[1][1])/sum_all2]\n",
    "    ]\n",
    ")\n",
    "ax = plt.subplots(figsize=(3,3))\n",
    "sns.heatmap(new_obj, fmt='.2f', cmap='PuBuGn', annot=True)\n",
    "plt.xlabel(\"true label\")\n",
    "plt.ylabel(\"predict label\")\n",
    "plt.title('small model (sign prediction)\\n' + tissue + ', ' + ml_model)\n",
    "plt.savefig(image_path + 'cm-small-sign-' + tissue + '-' + ml_model + '.png',dpi=300, bbox_inches = 'tight')\n",
    "plt.show()\n",
    "\n",
    "fpr, tpr, thresholds = roc_curve(y_one_hot.ravel(),y_score_pro.ravel())   \n",
    "auc_ = auc(fpr, tpr)\n",
    "#print(\"AUC : \", auc)\n",
    "ax = plt.subplots(figsize=(3,3))\n",
    "plt.title('small model (sign prediction)\\n' + tissue + ', ' + ml_model)\n",
    "plt.plot(fpr, tpr, linewidth = 2,label='AUC=%.3f' % auc_,color='#006400')\n",
    "plt.plot([0,1],[0,1], 'k--')\n",
    "plt.axis([0,1.1,0,1.1])\n",
    "plt.xlabel('False Postivie Rate')\n",
    "plt.ylabel('True Positive Rate')\n",
    "plt.legend(loc=\"lower right\")\n",
    "plt.savefig(image_path + 'auc-small-sign-' + tissue + '-' + ml_model + '.png',dpi=300, bbox_inches = 'tight')\n",
    "plt.show()"
   ]
  },
  {
   "cell_type": "markdown",
   "metadata": {},
   "source": [
    "##### model 4: knn"
   ]
  },
  {
   "cell_type": "code",
   "execution_count": 12,
   "metadata": {},
   "outputs": [
    {
     "data": {
      "text/plain": [
       "{'n_neighbors': 100}"
      ]
     },
     "execution_count": 12,
     "metadata": {},
     "output_type": "execute_result"
    }
   ],
   "source": [
    "from sklearn.neighbors import KNeighborsClassifier\n",
    "from sklearn.model_selection import GridSearchCV\n",
    "\n",
    "paramGride = {'n_neighbors': np.linspace(100, 300, 10, dtype=int)} \n",
    "\n",
    "knnModel = KNeighborsClassifier()\n",
    "grid = GridSearchCV(\n",
    "    knnModel,paramGride,cv = 5,return_train_score = True, scoring='roc_auc')\n",
    "grid = grid.fit(X_train,Y_train)\n",
    "grid.best_params_"
   ]
  },
  {
   "cell_type": "code",
   "execution_count": 13,
   "metadata": {},
   "outputs": [
    {
     "name": "stdout",
     "output_type": "stream",
     "text": [
      "accuracy:0.5116279069767442\n",
      "precision:0.0\n",
      "recall:0.0\n",
      "f1-score:0.0\n"
     ]
    },
    {
     "data": {
      "image/png": "[encoded data removed]",
      "text/plain": [
       "<Figure size 300x300 with 2 Axes>"
      ]
     },
     "metadata": {},
     "output_type": "display_data"
    },
    {
     "data": {
      "image/png": "[encoded data removed]",
      "text/plain": [
       "<Figure size 300x300 with 1 Axes>"
      ]
     },
     "metadata": {},
     "output_type": "display_data"
    }
   ],
   "source": [
    "ml_model = model_list[3]\n",
    "clf_knn = KNeighborsClassifier(n_neighbors = grid.best_params_['n_neighbors'])\n",
    "clf_knn.fit(X_train,Y_train)\n",
    "\n",
    "y_score = clf_knn.predict(X_test)                                   \n",
    "y_score_pro = clf_knn.predict_proba(X_test) \n",
    "y_one_hot = to_categorical(Y_test)\n",
    "y_score_one_hot = to_categorical(y_score)\n",
    "\n",
    "obj1 = confusion_matrix(Y_test, y_score)\n",
    "print('accuracy:{}'.format(accuracy_score(Y_test, y_score)))\n",
    "print('precision:{}'.format(precision_score(Y_test, y_score)))\n",
    "print('recall:{}'.format(recall_score(Y_test, y_score)))\n",
    "print('f1-score:{}'.format(f1_score(Y_test, y_score)))\n",
    "\n",
    "# update confusion matrix\n",
    "sum_all1 = obj1[0][0] + obj1[0][1]\n",
    "sum_all2 = obj1[1][0] + obj1[1][1]\n",
    "new_obj = np.array(\n",
    "    [\n",
    "        [float(obj1[0][0])/sum_all1, float(obj1[0][1])/sum_all1],\n",
    "        [float(obj1[1][0])/sum_all2, float(obj1[1][1])/sum_all2]\n",
    "    ]\n",
    ")\n",
    "ax = plt.subplots(figsize=(3,3))\n",
    "sns.heatmap(new_obj, fmt='.2f', cmap='PuBuGn', annot=True)\n",
    "plt.xlabel(\"true label\")\n",
    "plt.ylabel(\"predict label\")\n",
    "plt.title('small model (sign prediction)\\n' + tissue + ', ' + ml_model)\n",
    "plt.savefig(image_path + 'cm-small-sign-' + tissue + '-' + ml_model + '.png',dpi=300, bbox_inches = 'tight')\n",
    "plt.show()\n",
    "\n",
    "fpr, tpr, thresholds = roc_curve(y_one_hot.ravel(),y_score_pro.ravel())   \n",
    "auc_ = auc(fpr, tpr)\n",
    "#print(\"AUC : \", auc)\n",
    "ax = plt.subplots(figsize=(3,3))\n",
    "plt.title('small model (sign prediction)\\n' + tissue + ', ' + ml_model)\n",
    "plt.plot(fpr, tpr, linewidth = 2,label='AUC=%.3f' % auc_,color='#006400')\n",
    "plt.plot([0,1],[0,1], 'k--')\n",
    "plt.axis([0,1.1,0,1.1])\n",
    "plt.xlabel('False Postivie Rate')\n",
    "plt.ylabel('True Positive Rate')\n",
    "plt.legend(loc=\"lower right\")\n",
    "plt.savefig(image_path + 'auc-small-sign-' + tissue + '-' + ml_model + '.png',dpi=300, bbox_inches = 'tight')\n",
    "plt.show()"
   ]
  },
  {
   "cell_type": "markdown",
   "metadata": {},
   "source": [
    "##### model 5: svm"
   ]
  },
  {
   "cell_type": "code",
   "execution_count": null,
   "metadata": {},
   "outputs": [],
   "source": [
    "from sklearn.svm import SVC\n",
    "from sklearn.model_selection import GridSearchCV\n",
    "\n",
    "cv_params = {'gamma': [1e-4,1e-3,1e-2,1e-1,1,10,100,1000]} \n",
    "svmModel = SVC()\n",
    "grid = GridSearchCV(\n",
    "    svmModel,cv_params,cv = 5,return_train_score = True, scoring='roc_auc')\n",
    "grid = grid.fit(X_train,Y_train)\n",
    "gamma = grid.best_params_['gamma']\n",
    "print(grid.best_params_)\n",
    "\n",
    "cv_params = {'C': [1e-4,1e-3,1e-2,1e-1,1,10,100,1000]} \n",
    "svmModel = SVC(gamma=gamma)\n",
    "grid = GridSearchCV(\n",
    "    svmModel,cv_params,cv = 5,return_train_score = True, scoring='roc_auc')\n",
    "grid = grid.fit(X_train,Y_train)\n",
    "C = grid.best_params_['C']\n",
    "print(grid.best_params_)"
   ]
  },
  {
   "cell_type": "code",
   "execution_count": null,
   "metadata": {},
   "outputs": [],
   "source": [
    "ml_model = model_list[4]\n",
    "clf_svm = SVC(probability = True, gamma = gamma, C = C)\n",
    "clf_svm.fit(X_train,Y_train)\n",
    "\n",
    "y_score = clf_svm.predict(X_test)                                   \n",
    "y_score_pro = clf_svm.predict_proba(X_test) \n",
    "y_one_hot = to_categorical(Y_test)\n",
    "y_score_one_hot = to_categorical(y_score)\n",
    "\n",
    "obj1 = confusion_matrix(Y_test, y_score)\n",
    "print('accuracy:{}'.format(accuracy_score(Y_test, y_score)))\n",
    "print('precision:{}'.format(precision_score(Y_test, y_score)))\n",
    "print('recall:{}'.format(recall_score(Y_test, y_score)))\n",
    "print('f1-score:{}'.format(f1_score(Y_test, y_score)))\n",
    "\n",
    "# update confusion matrix\n",
    "sum_all1 = obj1[0][0] + obj1[0][1]\n",
    "sum_all2 = obj1[1][0] + obj1[1][1]\n",
    "new_obj = np.array(\n",
    "    [\n",
    "        [float(obj1[0][0])/sum_all1, float(obj1[0][1])/sum_all1],\n",
    "        [float(obj1[1][0])/sum_all2, float(obj1[1][1])/sum_all2]\n",
    "    ]\n",
    ")\n",
    "ax = plt.subplots(figsize=(3,3))\n",
    "sns.heatmap(new_obj, fmt='.2f', cmap='PuBuGn', annot=True)\n",
    "plt.xlabel(\"true label\")\n",
    "plt.ylabel(\"predict label\")\n",
    "plt.title('small model (sign prediction)\\n' + tissue + ', ' + ml_model)\n",
    "plt.savefig(image_path + 'cm-small-sign-' + tissue + '-' + ml_model + '.png',dpi=300, bbox_inches = 'tight')\n",
    "plt.show()\n",
    "\n",
    "fpr, tpr, thresholds = roc_curve(y_one_hot.ravel(),y_score_pro.ravel())   \n",
    "auc_ = auc(fpr, tpr)\n",
    "#print(\"AUC : \", auc)\n",
    "ax = plt.subplots(figsize=(3,3))\n",
    "plt.title('small model (sign prediction)\\n' + tissue + ', ' + ml_model)\n",
    "plt.plot(fpr, tpr, linewidth = 2,label='AUC=%.3f' % auc_,color='#006400')\n",
    "plt.plot([0,1],[0,1], 'k--')\n",
    "plt.axis([0,1.1,0,1.1])\n",
    "plt.xlabel('False Postivie Rate')\n",
    "plt.ylabel('True Positive Rate')\n",
    "plt.legend(loc=\"lower right\")\n",
    "plt.savefig(image_path + 'auc-small-sign-' + tissue + '-' + ml_model + '.png',dpi=300, bbox_inches = 'tight')\n",
    "plt.show()"
   ]
  },
  {
   "cell_type": "markdown",
   "metadata": {},
   "source": [
    "#### middle model"
   ]
  },
  {
   "cell_type": "code",
   "execution_count": null,
   "metadata": {},
   "outputs": [],
   "source": [
    "model = model_size[1]\n",
    "train_data = pd.read_pickle(data_path + model + '_train.dataset')\n",
    "valid_data = pd.read_pickle(data_path + model + '_valid.dataset')\n",
    "test_data = pd.read_pickle(data_path + model + '_test.dataset')\n",
    "print(train_data.head())\n",
    "\n",
    "merged_data = pd.concat([train_data, valid_data, test_data]) # for machine learning, grid search\n",
    "# new split\n",
    "merged_data = merged_data.sample(frac=1).reset_index(drop=True)\n",
    "train_data = merged_data[0:int(0.9*len(merged_data))].reset_index(drop=True)\n",
    "test_data = merged_data[int(0.9*len(merged_data)):].reset_index(drop=True)\n",
    "\n",
    "sample_list = []\n",
    "y_list = []\n",
    "for i in range(train_data.shape[0]):\n",
    "    feature_list = []\n",
    "    feature_list += train_data['enformer_pca_before'][i].flatten().tolist()\n",
    "    feature_list += train_data['enformer_pca_after'][i].flatten().tolist()\n",
    "    sample_list.append(feature_list)\n",
    "    y_list.append(train_data['label'][i])\n",
    "X_train = np.array(sample_list)\n",
    "Y_train = np.array(y_list)\n",
    "print('X_train shape: ' + str(X_train.shape))\n",
    "print('Y_train shape: ' + str(Y_train.shape))\n",
    "\n",
    "sample_list = []\n",
    "y_list = []\n",
    "for i in range(test_data.shape[0]):\n",
    "    feature_list = []\n",
    "    feature_list += test_data['enformer_pca_before'][i].flatten().tolist()\n",
    "    feature_list += test_data['enformer_pca_after'][i].flatten().tolist()\n",
    "    sample_list.append(feature_list)\n",
    "    y_list.append(test_data['label'][i])\n",
    "X_test = np.array(sample_list)\n",
    "Y_test = np.array(y_list)\n",
    "print('X_test shape: ' + str(X_test.shape))\n",
    "print('Y_test shape: ' + str(Y_test.shape))"
   ]
  },
  {
   "cell_type": "markdown",
   "metadata": {},
   "source": [
    "##### model 1: xgboost"
   ]
  },
  {
   "cell_type": "code",
   "execution_count": null,
   "metadata": {},
   "outputs": [],
   "source": [
    "# model 1: xgboost\n",
    "import xgboost as xgb\n",
    "from sklearn.model_selection import GridSearchCV\n",
    "\n",
    "cv_params = {'n_estimators': np.linspace(10, 300, 10, dtype=int)} # \n",
    "xgb_model = xgb.XGBClassifier(seed=seed)\n",
    "# https://scikit-learn.org/stable/modules/model_evaluation.html\n",
    "gs = GridSearchCV(xgb_model, cv_params, refit=True, cv=5, scoring='roc_auc')\n",
    "gs.fit(X_train,Y_train)\n",
    "n_estimators = gs.best_params_['n_estimators']\n",
    "print(gs.best_params_)\n",
    "\n",
    "cv_params = {'max_depth': np.linspace(1, 10, 10, dtype=int)} # \n",
    "xgb_model = xgb.XGBClassifier(seed=seed,n_estimators=n_estimators)\n",
    "gs = GridSearchCV(xgb_model, cv_params, refit=True, cv=5, scoring='roc_auc')\n",
    "gs.fit(X_train,Y_train)\n",
    "max_depth = gs.best_params_['max_depth']\n",
    "print(gs.best_params_)"
   ]
  },
  {
   "cell_type": "code",
   "execution_count": null,
   "metadata": {},
   "outputs": [],
   "source": [
    "ml_model = model_list[0]\n",
    "clf_xgb = xgb.XGBClassifier(n_estimators=n_estimators, max_depth=max_depth) # from grid search\n",
    "clf_xgb.fit(X_train,Y_train)\n",
    "\n",
    "y_score = clf_xgb.predict(X_test)                                   \n",
    "y_score_pro = clf_xgb.predict_proba(X_test) \n",
    "y_one_hot = to_categorical(Y_test)\n",
    "y_score_one_hot = to_categorical(y_score)\n",
    "\n",
    "obj1 = confusion_matrix(Y_test, y_score)\n",
    "print('accuracy:{}'.format(accuracy_score(Y_test, y_score)))\n",
    "print('precision:{}'.format(precision_score(Y_test, y_score)))\n",
    "print('recall:{}'.format(recall_score(Y_test, y_score)))\n",
    "print('f1-score:{}'.format(f1_score(Y_test, y_score)))\n",
    "\n",
    "# update confusion matrix\n",
    "sum_all1 = obj1[0][0] + obj1[0][1]\n",
    "sum_all2 = obj1[1][0] + obj1[1][1]\n",
    "new_obj = np.array(\n",
    "    [\n",
    "        [float(obj1[0][0])/sum_all1, float(obj1[0][1])/sum_all1],\n",
    "        [float(obj1[1][0])/sum_all2, float(obj1[1][1])/sum_all2]\n",
    "    ]\n",
    ")\n",
    "ax = plt.subplots(figsize=(3,3))\n",
    "sns.heatmap(new_obj, fmt='.2f', cmap='Oranges', annot=True)\n",
    "plt.xlabel(\"true label\")\n",
    "plt.ylabel(\"predict label\")\n",
    "plt.title('middle model (sign prediction)\\n' + tissue + ', ' + ml_model)\n",
    "plt.savefig(image_path + 'cm-middle-sign-' + tissue + '-' + ml_model + '.png',dpi=300, bbox_inches = 'tight')\n",
    "plt.show()\n",
    "\n",
    "fpr, tpr, thresholds = roc_curve(y_one_hot.ravel(),y_score_pro.ravel())   \n",
    "auc_ = auc(fpr, tpr)\n",
    "#print(\"AUC : \", auc)\n",
    "ax = plt.subplots(figsize=(3,3))\n",
    "plt.title('middle model (sign prediction)\\n' + tissue + ', ' + ml_model)\n",
    "plt.plot(fpr, tpr, linewidth = 2,label='AUC=%.3f' % auc_,color='#CD853F')\n",
    "plt.plot([0,1],[0,1], 'k--')\n",
    "plt.axis([0,1.1,0,1.1])\n",
    "plt.xlabel('False Postivie Rate')\n",
    "plt.ylabel('True Positive Rate')\n",
    "plt.legend(loc=\"lower right\")\n",
    "plt.savefig(image_path + 'auc-middle-sign-' + tissue + '-' + ml_model + '.png',dpi=300, bbox_inches = 'tight')\n",
    "plt.show()"
   ]
  },
  {
   "cell_type": "markdown",
   "metadata": {},
   "source": [
    "##### model 2:lightgbm"
   ]
  },
  {
   "cell_type": "code",
   "execution_count": null,
   "metadata": {},
   "outputs": [],
   "source": [
    "import lightgbm as lgb\n",
    "from sklearn.model_selection import GridSearchCV\n",
    "\n",
    "cv_params = {'max_depth': np.linspace(1, 50, 10, dtype=int)} # \n",
    "gbm = lgb.LGBMClassifier(seed=seed,verbose=-1)\n",
    "gsearch = GridSearchCV(gbm, param_grid=cv_params, cv=5, scoring='roc_auc')\n",
    "gsearch.fit(X_train, Y_train)\n",
    "max_depth = gsearch.best_params_['max_depth']\n",
    "print(gsearch.best_params_)\n",
    "\n",
    "cv_params = {'num_leaves': np.linspace(2, 50, 5, dtype=int)} # \n",
    "gbm = lgb.LGBMClassifier(seed=seed,max_depth=max_depth,verbose=-1)\n",
    "gsearch = GridSearchCV(gbm, param_grid=cv_params, cv=5, scoring='roc_auc')\n",
    "gsearch.fit(X_train, Y_train)\n",
    "num_leaves = gsearch.best_params_['num_leaves']\n",
    "print(gsearch.best_params_)"
   ]
  },
  {
   "cell_type": "code",
   "execution_count": null,
   "metadata": {},
   "outputs": [],
   "source": [
    "ml_model = model_list[1]\n",
    "clf_lgb = lgb.LGBMClassifier(max_depth=max_depth, num_leaves=num_leaves)\n",
    "clf_lgb.fit(X_train,Y_train)\n",
    "\n",
    "y_score = clf_lgb.predict(X_test)                                   \n",
    "y_score_pro = clf_lgb.predict_proba(X_test) \n",
    "y_one_hot = to_categorical(Y_test)\n",
    "y_score_one_hot = to_categorical(y_score)\n",
    "\n",
    "obj1 = confusion_matrix(Y_test, y_score)\n",
    "print('accuracy:{}'.format(accuracy_score(Y_test, y_score)))\n",
    "print('precision:{}'.format(precision_score(Y_test, y_score)))\n",
    "print('recall:{}'.format(recall_score(Y_test, y_score)))\n",
    "print('f1-score:{}'.format(f1_score(Y_test, y_score)))\n",
    "\n",
    "# update confusion matrix\n",
    "sum_all1 = obj1[0][0] + obj1[0][1]\n",
    "sum_all2 = obj1[1][0] + obj1[1][1]\n",
    "new_obj = np.array(\n",
    "    [\n",
    "        [float(obj1[0][0])/sum_all1, float(obj1[0][1])/sum_all1],\n",
    "        [float(obj1[1][0])/sum_all2, float(obj1[1][1])/sum_all2]\n",
    "    ]\n",
    ")\n",
    "ax = plt.subplots(figsize=(3,3))\n",
    "sns.heatmap(new_obj, fmt='.2f', cmap='Oranges', annot=True)\n",
    "plt.xlabel(\"true label\")\n",
    "plt.ylabel(\"predict label\")\n",
    "plt.title('middle model (sign prediction)\\n' + tissue + ', ' + ml_model)\n",
    "plt.savefig(image_path + 'cm-middle-sign-' + tissue + '-' + ml_model + '.png',dpi=300, bbox_inches = 'tight')\n",
    "plt.show()\n",
    "\n",
    "fpr, tpr, thresholds = roc_curve(y_one_hot.ravel(),y_score_pro.ravel())   \n",
    "auc_ = auc(fpr, tpr)\n",
    "#print(\"AUC : \", auc)\n",
    "ax = plt.subplots(figsize=(3,3))\n",
    "plt.title('middle model (sign prediction)\\n' + tissue + ', ' + ml_model)\n",
    "plt.plot(fpr, tpr, linewidth = 2,label='AUC=%.3f' % auc_,color='#CD853F')\n",
    "plt.plot([0,1],[0,1], 'k--')\n",
    "plt.axis([0,1.1,0,1.1])\n",
    "plt.xlabel('False Postivie Rate')\n",
    "plt.ylabel('True Positive Rate')\n",
    "plt.legend(loc=\"lower right\")\n",
    "plt.savefig(image_path + 'auc-middle-sign-' + tissue + '-' + ml_model + '.png',dpi=300, bbox_inches = 'tight')\n",
    "plt.show()"
   ]
  },
  {
   "cell_type": "markdown",
   "metadata": {},
   "source": [
    "##### model 3: random forest"
   ]
  },
  {
   "cell_type": "code",
   "execution_count": null,
   "metadata": {},
   "outputs": [],
   "source": [
    "from sklearn.ensemble import RandomForestClassifier\n",
    "from sklearn.model_selection import GridSearchCV\n",
    "\n",
    "cv_params = {'n_estimators': np.linspace(10, 200, 10, dtype=int)} \n",
    "rfModel = RandomForestClassifier(random_state = random.seed(seed))\n",
    "grid = GridSearchCV(\n",
    "    rfModel,cv_params,cv = 5,return_train_score = True, scoring='roc_auc')\n",
    "grid.fit(X_train, Y_train)\n",
    "n_estimators = grid.best_params_['n_estimators']\n",
    "print(grid.best_params_)\n",
    "\n",
    "cv_params = {'max_depth': np.linspace(1, 10, 10, dtype=int)} \n",
    "rfModel = RandomForestClassifier(random_state = random.seed(seed),n_estimators=n_estimators)\n",
    "grid = GridSearchCV(\n",
    "    rfModel,cv_params,cv = 5,return_train_score = True, scoring='roc_auc')\n",
    "grid.fit(X_train, Y_train)\n",
    "max_depth=grid.best_params_['max_depth']\n",
    "print(grid.best_params_)"
   ]
  },
  {
   "cell_type": "code",
   "execution_count": null,
   "metadata": {},
   "outputs": [],
   "source": [
    "ml_model = model_list[2]\n",
    "clf_rf = RandomForestClassifier(n_estimators=n_estimators, max_depth=max_depth)\n",
    "clf_rf.fit(X_train,Y_train)\n",
    "\n",
    "y_score = clf_rf.predict(X_test)                                   \n",
    "y_score_pro = clf_rf.predict_proba(X_test) \n",
    "y_one_hot = to_categorical(Y_test)\n",
    "y_score_one_hot = to_categorical(y_score)\n",
    "\n",
    "obj1 = confusion_matrix(Y_test, y_score)\n",
    "print('accuracy:{}'.format(accuracy_score(Y_test, y_score)))\n",
    "print('precision:{}'.format(precision_score(Y_test, y_score)))\n",
    "print('recall:{}'.format(recall_score(Y_test, y_score)))\n",
    "print('f1-score:{}'.format(f1_score(Y_test, y_score)))\n",
    "\n",
    "# update confusion matrix\n",
    "sum_all1 = obj1[0][0] + obj1[0][1]\n",
    "sum_all2 = obj1[1][0] + obj1[1][1]\n",
    "new_obj = np.array(\n",
    "    [\n",
    "        [float(obj1[0][0])/sum_all1, float(obj1[0][1])/sum_all1],\n",
    "        [float(obj1[1][0])/sum_all2, float(obj1[1][1])/sum_all2]\n",
    "    ]\n",
    ")\n",
    "ax = plt.subplots(figsize=(3,3))\n",
    "sns.heatmap(new_obj, fmt='.2f', cmap='Oranges', annot=True)\n",
    "plt.xlabel(\"true label\")\n",
    "plt.ylabel(\"predict label\")\n",
    "plt.title('middle model (sign prediction)\\n' + tissue + ', ' + ml_model)\n",
    "plt.savefig(image_path + 'cm-middle-sign-' + tissue + '-' + ml_model + '.png',dpi=300, bbox_inches = 'tight')\n",
    "plt.show()\n",
    "\n",
    "fpr, tpr, thresholds = roc_curve(y_one_hot.ravel(),y_score_pro.ravel())   \n",
    "auc_ = auc(fpr, tpr)\n",
    "#print(\"AUC : \", auc)\n",
    "ax = plt.subplots(figsize=(3,3))\n",
    "plt.title('middle model (sign prediction)\\n' + tissue + ', ' + ml_model)\n",
    "plt.plot(fpr, tpr, linewidth = 2,label='AUC=%.3f' % auc_,color='#CD853F')\n",
    "plt.plot([0,1],[0,1], 'k--')\n",
    "plt.axis([0,1.1,0,1.1])\n",
    "plt.xlabel('False Postivie Rate')\n",
    "plt.ylabel('True Positive Rate')\n",
    "plt.legend(loc=\"lower right\")\n",
    "plt.savefig(image_path + 'auc-middle-sign-' + tissue + '-' + ml_model + '.png',dpi=300, bbox_inches = 'tight')\n",
    "plt.show()"
   ]
  },
  {
   "cell_type": "markdown",
   "metadata": {},
   "source": [
    "##### model 4: knn"
   ]
  },
  {
   "cell_type": "code",
   "execution_count": null,
   "metadata": {},
   "outputs": [],
   "source": [
    "from sklearn.neighbors import KNeighborsClassifier\n",
    "from sklearn.model_selection import GridSearchCV\n",
    "\n",
    "paramGride = {'n_neighbors': np.linspace(100, 300, 10, dtype=int)} \n",
    "\n",
    "knnModel = KNeighborsClassifier()\n",
    "grid = GridSearchCV(\n",
    "    knnModel,paramGride,cv = 5,return_train_score = True, scoring='roc_auc')\n",
    "grid = grid.fit(X_train,Y_train)\n",
    "grid.best_params_"
   ]
  },
  {
   "cell_type": "code",
   "execution_count": null,
   "metadata": {},
   "outputs": [],
   "source": [
    "ml_model = model_list[3]\n",
    "clf_knn = KNeighborsClassifier(n_neighbors = grid.best_params_['n_neighbors'])\n",
    "clf_knn.fit(X_train,Y_train)\n",
    "\n",
    "y_score = clf_knn.predict(X_test)                                   \n",
    "y_score_pro = clf_knn.predict_proba(X_test) \n",
    "y_one_hot = to_categorical(Y_test)\n",
    "y_score_one_hot = to_categorical(y_score)\n",
    "\n",
    "obj1 = confusion_matrix(Y_test, y_score)\n",
    "print('accuracy:{}'.format(accuracy_score(Y_test, y_score)))\n",
    "print('precision:{}'.format(precision_score(Y_test, y_score)))\n",
    "print('recall:{}'.format(recall_score(Y_test, y_score)))\n",
    "print('f1-score:{}'.format(f1_score(Y_test, y_score)))\n",
    "\n",
    "# update confusion matrix\n",
    "sum_all1 = obj1[0][0] + obj1[0][1]\n",
    "sum_all2 = obj1[1][0] + obj1[1][1]\n",
    "new_obj = np.array(\n",
    "    [\n",
    "        [float(obj1[0][0])/sum_all1, float(obj1[0][1])/sum_all1],\n",
    "        [float(obj1[1][0])/sum_all2, float(obj1[1][1])/sum_all2]\n",
    "    ]\n",
    ")\n",
    "ax = plt.subplots(figsize=(3,3))\n",
    "sns.heatmap(new_obj, fmt='.2f', cmap='Oranges', annot=True)\n",
    "plt.xlabel(\"true label\")\n",
    "plt.ylabel(\"predict label\")\n",
    "plt.title('middle model (sign prediction)\\n' + tissue + ', ' + ml_model)\n",
    "plt.savefig(image_path + 'cm-middle-sign-' + tissue + '-' + ml_model + '.png',dpi=300, bbox_inches = 'tight')\n",
    "plt.show()\n",
    "\n",
    "fpr, tpr, thresholds = roc_curve(y_one_hot.ravel(),y_score_pro.ravel())   \n",
    "auc_ = auc(fpr, tpr)\n",
    "#print(\"AUC : \", auc)\n",
    "ax = plt.subplots(figsize=(3,3))\n",
    "plt.title('middle model (sign prediction)\\n' + tissue + ', ' + ml_model)\n",
    "plt.plot(fpr, tpr, linewidth = 2,label='AUC=%.3f' % auc_,color='#CD853F')\n",
    "plt.plot([0,1],[0,1], 'k--')\n",
    "plt.axis([0,1.1,0,1.1])\n",
    "plt.xlabel('False Postivie Rate')\n",
    "plt.ylabel('True Positive Rate')\n",
    "plt.legend(loc=\"lower right\")\n",
    "plt.savefig(image_path + 'auc-middle-sign-' + tissue + '-' + ml_model + '.png',dpi=300, bbox_inches = 'tight')\n",
    "plt.show()"
   ]
  },
  {
   "cell_type": "markdown",
   "metadata": {},
   "source": [
    "##### model 5: svm"
   ]
  },
  {
   "cell_type": "code",
   "execution_count": null,
   "metadata": {},
   "outputs": [],
   "source": [
    "from sklearn.svm import SVC\n",
    "from sklearn.model_selection import GridSearchCV\n",
    "\n",
    "cv_params = {'gamma': [1e-4,1e-3,1e-2,1e-1,1,10,100,1000]} \n",
    "svmModel = SVC()\n",
    "grid = GridSearchCV(\n",
    "    svmModel,cv_params,cv = 5,return_train_score = True, scoring='roc_auc')\n",
    "grid = grid.fit(X_train,Y_train)\n",
    "gamma = grid.best_params_['gamma']\n",
    "print(grid.best_params_)\n",
    "\n",
    "cv_params = {'C': [1e-4,1e-3,1e-2,1e-1,1,10,100,1000]} \n",
    "svmModel = SVC(gamma=gamma)\n",
    "grid = GridSearchCV(\n",
    "    svmModel,cv_params,cv = 5,return_train_score = True, scoring='roc_auc')\n",
    "grid = grid.fit(X_train,Y_train)\n",
    "C = grid.best_params_['C']\n",
    "print(grid.best_params_)"
   ]
  },
  {
   "cell_type": "code",
   "execution_count": null,
   "metadata": {},
   "outputs": [],
   "source": [
    "ml_model = model_list[4]\n",
    "clf_svm = SVC(probability = True, gamma = gamma, C = C)\n",
    "clf_svm.fit(X_train,Y_train)\n",
    "\n",
    "y_score = clf_svm.predict(X_test)                                   \n",
    "y_score_pro = clf_svm.predict_proba(X_test) \n",
    "y_one_hot = to_categorical(Y_test)\n",
    "y_score_one_hot = to_categorical(y_score)\n",
    "\n",
    "obj1 = confusion_matrix(Y_test, y_score)\n",
    "print('accuracy:{}'.format(accuracy_score(Y_test, y_score)))\n",
    "print('precision:{}'.format(precision_score(Y_test, y_score)))\n",
    "print('recall:{}'.format(recall_score(Y_test, y_score)))\n",
    "print('f1-score:{}'.format(f1_score(Y_test, y_score)))\n",
    "\n",
    "# update confusion matrix\n",
    "sum_all1 = obj1[0][0] + obj1[0][1]\n",
    "sum_all2 = obj1[1][0] + obj1[1][1]\n",
    "new_obj = np.array(\n",
    "    [\n",
    "        [float(obj1[0][0])/sum_all1, float(obj1[0][1])/sum_all1],\n",
    "        [float(obj1[1][0])/sum_all2, float(obj1[1][1])/sum_all2]\n",
    "    ]\n",
    ")\n",
    "ax = plt.subplots(figsize=(3,3))\n",
    "sns.heatmap(new_obj, fmt='.2f', cmap='Oranges', annot=True)\n",
    "plt.xlabel(\"true label\")\n",
    "plt.ylabel(\"predict label\")\n",
    "plt.title('middle model (sign prediction)\\n' + tissue + ', ' + ml_model)\n",
    "plt.savefig(image_path + 'cm-middle-sign-' + tissue + '-' + ml_model + '.png',dpi=300, bbox_inches = 'tight')\n",
    "plt.show()\n",
    "\n",
    "fpr, tpr, thresholds = roc_curve(y_one_hot.ravel(),y_score_pro.ravel())   \n",
    "auc_ = auc(fpr, tpr)\n",
    "#print(\"AUC : \", auc)\n",
    "ax = plt.subplots(figsize=(3,3))\n",
    "plt.title('middle model (sign prediction)\\n' + tissue + ', ' + ml_model)\n",
    "plt.plot(fpr, tpr, linewidth = 2,label='AUC=%.3f' % auc_,color='#CD853F')\n",
    "plt.plot([0,1],[0,1], 'k--')\n",
    "plt.axis([0,1.1,0,1.1])\n",
    "plt.xlabel('False Postivie Rate')\n",
    "plt.ylabel('True Positive Rate')\n",
    "plt.legend(loc=\"lower right\")\n",
    "plt.savefig(image_path + 'auc-middle-sign-' + tissue + '-' + ml_model + '.png',dpi=300, bbox_inches = 'tight')\n",
    "plt.show()"
   ]
  },
  {
   "cell_type": "markdown",
   "metadata": {},
   "source": [
    "#### large model"
   ]
  },
  {
   "cell_type": "code",
   "execution_count": null,
   "metadata": {},
   "outputs": [],
   "source": [
    "model = model_size[2]\n",
    "train_data = pd.read_pickle(data_path + model + '_train.dataset')\n",
    "valid_data = pd.read_pickle(data_path + model + '_valid.dataset')\n",
    "test_data = pd.read_pickle(data_path + model + '_test.dataset')\n",
    "print(train_data.head())\n",
    "\n",
    "merged_data = pd.concat([train_data, valid_data, test_data]) # for machine learning, grid search\n",
    "# new split\n",
    "merged_data = merged_data.sample(frac=1).reset_index(drop=True)\n",
    "train_data = merged_data[0:int(0.9*len(merged_data))].reset_index(drop=True)\n",
    "test_data = merged_data[int(0.9*len(merged_data)):].reset_index(drop=True)\n",
    "\n",
    "sample_list = []\n",
    "y_list = []\n",
    "for i in range(train_data.shape[0]):\n",
    "    feature_list = []\n",
    "    feature_list += train_data['enformer_pca_before'][i].flatten().tolist()\n",
    "    feature_list += train_data['enformer_pca_after'][i].flatten().tolist()\n",
    "    sample_list.append(feature_list)\n",
    "    y_list.append(train_data['label'][i])\n",
    "X_train = np.array(sample_list)\n",
    "Y_train = np.array(y_list)\n",
    "print('X_train shape: ' + str(X_train.shape))\n",
    "print('Y_train shape: ' + str(Y_train.shape))\n",
    "\n",
    "sample_list = []\n",
    "y_list = []\n",
    "for i in range(test_data.shape[0]):\n",
    "    feature_list = []\n",
    "    feature_list += test_data['enformer_pca_before'][i].flatten().tolist()\n",
    "    feature_list += test_data['enformer_pca_after'][i].flatten().tolist()\n",
    "    sample_list.append(feature_list)\n",
    "    y_list.append(test_data['label'][i])\n",
    "X_test = np.array(sample_list)\n",
    "Y_test = np.array(y_list)\n",
    "print('X_test shape: ' + str(X_test.shape))\n",
    "print('Y_test shape: ' + str(Y_test.shape))"
   ]
  },
  {
   "cell_type": "markdown",
   "metadata": {},
   "source": [
    "##### model 1: xgboost"
   ]
  },
  {
   "cell_type": "code",
   "execution_count": null,
   "metadata": {},
   "outputs": [],
   "source": [
    "# model 1: xgboost\n",
    "import xgboost as xgb\n",
    "from sklearn.model_selection import GridSearchCV\n",
    "\n",
    "cv_params = {'n_estimators': np.linspace(10, 300, 10, dtype=int)} # \n",
    "xgb_model = xgb.XGBClassifier(seed=seed)\n",
    "# https://scikit-learn.org/stable/modules/model_evaluation.html\n",
    "gs = GridSearchCV(xgb_model, cv_params, refit=True, cv=5, scoring='roc_auc')\n",
    "gs.fit(X_train,Y_train)\n",
    "n_estimators = gs.best_params_['n_estimators']\n",
    "print(gs.best_params_)\n",
    "\n",
    "cv_params = {'max_depth': np.linspace(1, 10, 10, dtype=int)} # \n",
    "xgb_model = xgb.XGBClassifier(seed=seed,n_estimators=n_estimators)\n",
    "gs = GridSearchCV(xgb_model, cv_params, refit=True, cv=5, scoring='roc_auc')\n",
    "gs.fit(X_train,Y_train)\n",
    "max_depth = gs.best_params_['max_depth']\n",
    "print(gs.best_params_)"
   ]
  },
  {
   "cell_type": "code",
   "execution_count": null,
   "metadata": {},
   "outputs": [],
   "source": [
    "ml_model = model_list[0]\n",
    "clf_xgb = xgb.XGBClassifier(n_estimators=n_estimators, max_depth=max_depth) # from grid search\n",
    "clf_xgb.fit(X_train,Y_train)\n",
    "\n",
    "y_score = clf_xgb.predict(X_test)                                   \n",
    "y_score_pro = clf_xgb.predict_proba(X_test) \n",
    "y_one_hot = to_categorical(Y_test)\n",
    "y_score_one_hot = to_categorical(y_score)\n",
    "\n",
    "obj1 = confusion_matrix(Y_test, y_score)\n",
    "print('accuracy:{}'.format(accuracy_score(Y_test, y_score)))\n",
    "print('precision:{}'.format(precision_score(Y_test, y_score)))\n",
    "print('recall:{}'.format(recall_score(Y_test, y_score)))\n",
    "print('f1-score:{}'.format(f1_score(Y_test, y_score)))\n",
    "\n",
    "# update confusion matrix\n",
    "sum_all1 = obj1[0][0] + obj1[0][1]\n",
    "sum_all2 = obj1[1][0] + obj1[1][1]\n",
    "new_obj = np.array(\n",
    "    [\n",
    "        [float(obj1[0][0])/sum_all1, float(obj1[0][1])/sum_all1],\n",
    "        [float(obj1[1][0])/sum_all2, float(obj1[1][1])/sum_all2]\n",
    "    ]\n",
    ")\n",
    "ax = plt.subplots(figsize=(3,3))\n",
    "sns.heatmap(new_obj, fmt='.2f', cmap='RdPu', annot=True)\n",
    "plt.xlabel(\"true label\")\n",
    "plt.ylabel(\"predict label\")\n",
    "plt.title('large model (sign prediction)\\n' + tissue + ', ' + ml_model)\n",
    "plt.savefig(image_path + 'cm-large-sign-' + tissue + '-' + ml_model + '.png',dpi=300, bbox_inches = 'tight')\n",
    "plt.show()\n",
    "\n",
    "fpr, tpr, thresholds = roc_curve(y_one_hot.ravel(),y_score_pro.ravel())   \n",
    "auc_ = auc(fpr, tpr)\n",
    "#print(\"AUC : \", auc)\n",
    "ax = plt.subplots(figsize=(3,3))\n",
    "plt.title('large model (sign prediction)\\n' + tissue + ', ' + ml_model)\n",
    "plt.plot(fpr, tpr, linewidth = 2,label='AUC=%.3f' % auc_,color='#8A2BE2')\n",
    "plt.plot([0,1],[0,1], 'k--')\n",
    "plt.axis([0,1.1,0,1.1])\n",
    "plt.xlabel('False Postivie Rate')\n",
    "plt.ylabel('True Positive Rate')\n",
    "plt.legend(loc=\"lower right\")\n",
    "plt.savefig(image_path + 'auc-large-sign-' + tissue + '-' + ml_model + '.png',dpi=300, bbox_inches = 'tight')\n",
    "plt.show()"
   ]
  },
  {
   "cell_type": "markdown",
   "metadata": {},
   "source": [
    "##### model 2:lightgbm"
   ]
  },
  {
   "cell_type": "code",
   "execution_count": null,
   "metadata": {},
   "outputs": [],
   "source": [
    "import lightgbm as lgb\n",
    "from sklearn.model_selection import GridSearchCV\n",
    "\n",
    "cv_params = {'max_depth': np.linspace(1, 50, 10, dtype=int)} # \n",
    "gbm = lgb.LGBMClassifier(seed=seed,verbose=-1)\n",
    "gsearch = GridSearchCV(gbm, param_grid=cv_params, cv=5, scoring='roc_auc')\n",
    "gsearch.fit(X_train, Y_train)\n",
    "max_depth = gsearch.best_params_['max_depth']\n",
    "print(gsearch.best_params_)\n",
    "\n",
    "cv_params = {'num_leaves': np.linspace(2, 50, 5, dtype=int)} # \n",
    "gbm = lgb.LGBMClassifier(seed=seed,max_depth=max_depth,verbose=-1)\n",
    "gsearch = GridSearchCV(gbm, param_grid=cv_params, cv=5, scoring='roc_auc')\n",
    "gsearch.fit(X_train, Y_train)\n",
    "num_leaves = gsearch.best_params_['num_leaves']\n",
    "print(gsearch.best_params_)"
   ]
  },
  {
   "cell_type": "code",
   "execution_count": null,
   "metadata": {},
   "outputs": [],
   "source": [
    "ml_model = model_list[1]\n",
    "clf_lgb = lgb.LGBMClassifier(max_depth=max_depth, num_leaves=num_leaves)\n",
    "clf_lgb.fit(X_train,Y_train)\n",
    "\n",
    "y_score = clf_lgb.predict(X_test)                                   \n",
    "y_score_pro = clf_lgb.predict_proba(X_test) \n",
    "y_one_hot = to_categorical(Y_test)\n",
    "y_score_one_hot = to_categorical(y_score)\n",
    "\n",
    "obj1 = confusion_matrix(Y_test, y_score)\n",
    "print('accuracy:{}'.format(accuracy_score(Y_test, y_score)))\n",
    "print('precision:{}'.format(precision_score(Y_test, y_score)))\n",
    "print('recall:{}'.format(recall_score(Y_test, y_score)))\n",
    "print('f1-score:{}'.format(f1_score(Y_test, y_score)))\n",
    "\n",
    "# update confusion matrix\n",
    "sum_all1 = obj1[0][0] + obj1[0][1]\n",
    "sum_all2 = obj1[1][0] + obj1[1][1]\n",
    "new_obj = np.array(\n",
    "    [\n",
    "        [float(obj1[0][0])/sum_all1, float(obj1[0][1])/sum_all1],\n",
    "        [float(obj1[1][0])/sum_all2, float(obj1[1][1])/sum_all2]\n",
    "    ]\n",
    ")\n",
    "ax = plt.subplots(figsize=(3,3))\n",
    "sns.heatmap(new_obj, fmt='.2f', cmap='RdPu', annot=True)\n",
    "plt.xlabel(\"true label\")\n",
    "plt.ylabel(\"predict label\")\n",
    "plt.title('large model (sign prediction)\\n' + tissue + ', ' + ml_model)\n",
    "plt.savefig(image_path + 'cm-large-sign-' + tissue + '-' + ml_model + '.png',dpi=300, bbox_inches = 'tight')\n",
    "plt.show()\n",
    "\n",
    "fpr, tpr, thresholds = roc_curve(y_one_hot.ravel(),y_score_pro.ravel())   \n",
    "auc_ = auc(fpr, tpr)\n",
    "#print(\"AUC : \", auc)\n",
    "ax = plt.subplots(figsize=(3,3))\n",
    "plt.title('large model (sign prediction)\\n' + tissue + ', ' + ml_model)\n",
    "plt.plot(fpr, tpr, linewidth = 2,label='AUC=%.3f' % auc_,color='#8A2BE2')\n",
    "plt.plot([0,1],[0,1], 'k--')\n",
    "plt.axis([0,1.1,0,1.1])\n",
    "plt.xlabel('False Postivie Rate')\n",
    "plt.ylabel('True Positive Rate')\n",
    "plt.legend(loc=\"lower right\")\n",
    "plt.savefig(image_path + 'auc-large-sign-' + tissue + '-' + ml_model + '.png',dpi=300, bbox_inches = 'tight')\n",
    "plt.show()"
   ]
  },
  {
   "cell_type": "markdown",
   "metadata": {},
   "source": [
    "##### model 3: random forest"
   ]
  },
  {
   "cell_type": "code",
   "execution_count": null,
   "metadata": {},
   "outputs": [],
   "source": [
    "from sklearn.ensemble import RandomForestClassifier\n",
    "from sklearn.model_selection import GridSearchCV\n",
    "\n",
    "cv_params = {'n_estimators': np.linspace(10, 200, 10, dtype=int)} \n",
    "rfModel = RandomForestClassifier(random_state = random.seed(seed))\n",
    "grid = GridSearchCV(\n",
    "    rfModel,cv_params,cv = 5,return_train_score = True, scoring='roc_auc')\n",
    "grid.fit(X_train, Y_train)\n",
    "n_estimators = grid.best_params_['n_estimators']\n",
    "print(grid.best_params_)\n",
    "\n",
    "cv_params = {'max_depth': np.linspace(1, 10, 10, dtype=int)} \n",
    "rfModel = RandomForestClassifier(random_state = random.seed(seed),n_estimators=n_estimators)\n",
    "grid = GridSearchCV(\n",
    "    rfModel,cv_params,cv = 5,return_train_score = True, scoring='roc_auc')\n",
    "grid.fit(X_train, Y_train)\n",
    "max_depth=grid.best_params_['max_depth']\n",
    "print(grid.best_params_)"
   ]
  },
  {
   "cell_type": "code",
   "execution_count": null,
   "metadata": {},
   "outputs": [],
   "source": [
    "ml_model = model_list[2]\n",
    "clf_rf = RandomForestClassifier(n_estimators=n_estimators, max_depth=max_depth)\n",
    "clf_rf.fit(X_train,Y_train)\n",
    "\n",
    "y_score = clf_rf.predict(X_test)                                   \n",
    "y_score_pro = clf_rf.predict_proba(X_test) \n",
    "y_one_hot = to_categorical(Y_test)\n",
    "y_score_one_hot = to_categorical(y_score)\n",
    "\n",
    "obj1 = confusion_matrix(Y_test, y_score)\n",
    "print('accuracy:{}'.format(accuracy_score(Y_test, y_score)))\n",
    "print('precision:{}'.format(precision_score(Y_test, y_score)))\n",
    "print('recall:{}'.format(recall_score(Y_test, y_score)))\n",
    "print('f1-score:{}'.format(f1_score(Y_test, y_score)))\n",
    "\n",
    "# update confusion matrix\n",
    "sum_all1 = obj1[0][0] + obj1[0][1]\n",
    "sum_all2 = obj1[1][0] + obj1[1][1]\n",
    "new_obj = np.array(\n",
    "    [\n",
    "        [float(obj1[0][0])/sum_all1, float(obj1[0][1])/sum_all1],\n",
    "        [float(obj1[1][0])/sum_all2, float(obj1[1][1])/sum_all2]\n",
    "    ]\n",
    ")\n",
    "ax = plt.subplots(figsize=(3,3))\n",
    "sns.heatmap(new_obj, fmt='.2f', cmap='RdPu', annot=True)\n",
    "plt.xlabel(\"true label\")\n",
    "plt.ylabel(\"predict label\")\n",
    "plt.title('large model (sign prediction)\\n' + tissue + ', ' + ml_model)\n",
    "plt.savefig(image_path + 'cm-large-sign-' + tissue + '-' + ml_model + '.png',dpi=300, bbox_inches = 'tight')\n",
    "plt.show()\n",
    "\n",
    "fpr, tpr, thresholds = roc_curve(y_one_hot.ravel(),y_score_pro.ravel())   \n",
    "auc_ = auc(fpr, tpr)\n",
    "#print(\"AUC : \", auc)\n",
    "ax = plt.subplots(figsize=(3,3))\n",
    "plt.title('large model (sign prediction)\\n' + tissue + ', ' + ml_model)\n",
    "plt.plot(fpr, tpr, linewidth = 2,label='AUC=%.3f' % auc_,color='#8A2BE2')\n",
    "plt.plot([0,1],[0,1], 'k--')\n",
    "plt.axis([0,1.1,0,1.1])\n",
    "plt.xlabel('False Postivie Rate')\n",
    "plt.ylabel('True Positive Rate')\n",
    "plt.legend(loc=\"lower right\")\n",
    "plt.savefig(image_path + 'auc-large-sign-' + tissue + '-' + ml_model + '.png',dpi=300, bbox_inches = 'tight')\n",
    "plt.show()"
   ]
  },
  {
   "cell_type": "markdown",
   "metadata": {},
   "source": [
    "##### model 4: knn"
   ]
  },
  {
   "cell_type": "code",
   "execution_count": null,
   "metadata": {},
   "outputs": [],
   "source": [
    "from sklearn.neighbors import KNeighborsClassifier\n",
    "from sklearn.model_selection import GridSearchCV\n",
    "\n",
    "paramGride = {'n_neighbors': np.linspace(100, 300, 10, dtype=int)} \n",
    "\n",
    "knnModel = KNeighborsClassifier()\n",
    "grid = GridSearchCV(\n",
    "    knnModel,paramGride,cv = 5,return_train_score = True, scoring='roc_auc')\n",
    "grid = grid.fit(X_train,Y_train)\n",
    "grid.best_params_"
   ]
  },
  {
   "cell_type": "code",
   "execution_count": null,
   "metadata": {},
   "outputs": [],
   "source": [
    "ml_model = model_list[3]\n",
    "clf_knn = KNeighborsClassifier(n_neighbors = grid.best_params_['n_neighbors'])\n",
    "clf_knn.fit(X_train,Y_train)\n",
    "\n",
    "y_score = clf_knn.predict(X_test)                                   \n",
    "y_score_pro = clf_knn.predict_proba(X_test) \n",
    "y_one_hot = to_categorical(Y_test)\n",
    "y_score_one_hot = to_categorical(y_score)\n",
    "\n",
    "obj1 = confusion_matrix(Y_test, y_score)\n",
    "print('accuracy:{}'.format(accuracy_score(Y_test, y_score)))\n",
    "print('precision:{}'.format(precision_score(Y_test, y_score)))\n",
    "print('recall:{}'.format(recall_score(Y_test, y_score)))\n",
    "print('f1-score:{}'.format(f1_score(Y_test, y_score)))\n",
    "\n",
    "# update confusion matrix\n",
    "sum_all1 = obj1[0][0] + obj1[0][1]\n",
    "sum_all2 = obj1[1][0] + obj1[1][1]\n",
    "new_obj = np.array(\n",
    "    [\n",
    "        [float(obj1[0][0])/sum_all1, float(obj1[0][1])/sum_all1],\n",
    "        [float(obj1[1][0])/sum_all2, float(obj1[1][1])/sum_all2]\n",
    "    ]\n",
    ")\n",
    "ax = plt.subplots(figsize=(3,3))\n",
    "sns.heatmap(new_obj, fmt='.2f', cmap='RdPu', annot=True)\n",
    "plt.xlabel(\"true label\")\n",
    "plt.ylabel(\"predict label\")\n",
    "plt.title('large model (sign prediction)\\n' + tissue + ', ' + ml_model)\n",
    "plt.savefig(image_path + 'cm-large-sign-' + tissue + '-' + ml_model + '.png',dpi=300, bbox_inches = 'tight')\n",
    "plt.show()\n",
    "\n",
    "fpr, tpr, thresholds = roc_curve(y_one_hot.ravel(),y_score_pro.ravel())   \n",
    "auc_ = auc(fpr, tpr)\n",
    "#print(\"AUC : \", auc)\n",
    "ax = plt.subplots(figsize=(3,3))\n",
    "plt.title('large model (sign prediction)\\n' + tissue + ', ' + ml_model)\n",
    "plt.plot(fpr, tpr, linewidth = 2,label='AUC=%.3f' % auc_,color='#8A2BE2')\n",
    "plt.plot([0,1],[0,1], 'k--')\n",
    "plt.axis([0,1.1,0,1.1])\n",
    "plt.xlabel('False Postivie Rate')\n",
    "plt.ylabel('True Positive Rate')\n",
    "plt.legend(loc=\"lower right\")\n",
    "plt.savefig(image_path + 'auc-large-sign-' + tissue + '-' + ml_model + '.png',dpi=300, bbox_inches = 'tight')\n",
    "plt.show()"
   ]
  },
  {
   "cell_type": "markdown",
   "metadata": {},
   "source": [
    "##### model 5: svm"
   ]
  },
  {
   "cell_type": "code",
   "execution_count": null,
   "metadata": {},
   "outputs": [],
   "source": [
    "from sklearn.svm import SVC\n",
    "from sklearn.model_selection import GridSearchCV\n",
    "\n",
    "cv_params = {'gamma': [1e-4,1e-3,1e-2,1e-1,1,10,100,1000]} \n",
    "svmModel = SVC()\n",
    "grid = GridSearchCV(\n",
    "    svmModel,cv_params,cv = 5,return_train_score = True, scoring='roc_auc')\n",
    "grid = grid.fit(X_train,Y_train)\n",
    "gamma = grid.best_params_['gamma']\n",
    "print(grid.best_params_)\n",
    "\n",
    "cv_params = {'C': [1e-4,1e-3,1e-2,1e-1,1,10,100,1000]} \n",
    "svmModel = SVC(gamma=gamma)\n",
    "grid = GridSearchCV(\n",
    "    svmModel,cv_params,cv = 5,return_train_score = True, scoring='roc_auc')\n",
    "grid = grid.fit(X_train,Y_train)\n",
    "C = grid.best_params_['C']\n",
    "print(grid.best_params_)"
   ]
  },
  {
   "cell_type": "code",
   "execution_count": null,
   "metadata": {},
   "outputs": [],
   "source": [
    "ml_model = model_list[4]\n",
    "clf_svm = SVC(probability = True, gamma = gamma, C = C)\n",
    "clf_svm.fit(X_train,Y_train)\n",
    "\n",
    "y_score = clf_svm.predict(X_test)                                   \n",
    "y_score_pro = clf_svm.predict_proba(X_test) \n",
    "y_one_hot = to_categorical(Y_test)\n",
    "y_score_one_hot = to_categorical(y_score)\n",
    "\n",
    "obj1 = confusion_matrix(Y_test, y_score)\n",
    "print('accuracy:{}'.format(accuracy_score(Y_test, y_score)))\n",
    "print('precision:{}'.format(precision_score(Y_test, y_score)))\n",
    "print('recall:{}'.format(recall_score(Y_test, y_score)))\n",
    "print('f1-score:{}'.format(f1_score(Y_test, y_score)))\n",
    "\n",
    "# update confusion matrix\n",
    "sum_all1 = obj1[0][0] + obj1[0][1]\n",
    "sum_all2 = obj1[1][0] + obj1[1][1]\n",
    "new_obj = np.array(\n",
    "    [\n",
    "        [float(obj1[0][0])/sum_all1, float(obj1[0][1])/sum_all1],\n",
    "        [float(obj1[1][0])/sum_all2, float(obj1[1][1])/sum_all2]\n",
    "    ]\n",
    ")\n",
    "ax = plt.subplots(figsize=(3,3))\n",
    "sns.heatmap(new_obj, fmt='.2f', cmap='RdPu', annot=True)\n",
    "plt.xlabel(\"true label\")\n",
    "plt.ylabel(\"predict label\")\n",
    "plt.title('large model (sign prediction)\\n' + tissue + ', ' + ml_model)\n",
    "plt.savefig(image_path + 'cm-large-sign-' + tissue + '-' + ml_model + '.png',dpi=300, bbox_inches = 'tight')\n",
    "plt.show()\n",
    "\n",
    "fpr, tpr, thresholds = roc_curve(y_one_hot.ravel(),y_score_pro.ravel())   \n",
    "auc_ = auc(fpr, tpr)\n",
    "#print(\"AUC : \", auc)\n",
    "ax = plt.subplots(figsize=(3,3))\n",
    "plt.title('large model (sign prediction)\\n' + tissue + ', ' + ml_model)\n",
    "plt.plot(fpr, tpr, linewidth = 2,label='AUC=%.3f' % auc_,color='#8A2BE2')\n",
    "plt.plot([0,1],[0,1], 'k--')\n",
    "plt.axis([0,1.1,0,1.1])\n",
    "plt.xlabel('False Postivie Rate')\n",
    "plt.ylabel('True Positive Rate')\n",
    "plt.legend(loc=\"lower right\")\n",
    "plt.savefig(image_path + 'auc-large-sign-' + tissue + '-' + ml_model + '.png',dpi=300, bbox_inches = 'tight')\n",
    "plt.show()"
   ]
  }
 ],
 "metadata": {
  "kernelspec": {
   "display_name": "benchmark-env",
   "language": "python",
   "name": "benchmark"
  },
  "language_info": {
   "codemirror_mode": {
    "name": "ipython",
    "version": 3
   },
   "file_extension": ".py",
   "mimetype": "text/x-python",
   "name": "python",
   "nbconvert_exporter": "python",
   "pygments_lexer": "ipython3",
   "version": "3.9.19"
  },
  "vscode": {
   "interpreter": {
    "hash": "6fff98fc3b3d81bd655c2cc48858186e4d9e2db7b515bf1c3221888f12a62f87"
   }
  }
 },
 "nbformat": 4,
 "nbformat_minor": 2
}
