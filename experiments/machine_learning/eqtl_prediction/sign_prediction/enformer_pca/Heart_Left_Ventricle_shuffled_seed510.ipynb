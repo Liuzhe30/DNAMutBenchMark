{
 "cells": [
  {
   "cell_type": "markdown",
   "metadata": {},
   "source": [
    "### exp: eqtl prediction, sign prediction, enformer_pca for machine learning"
   ]
  },
  {
   "cell_type": "code",
   "execution_count": 2,
   "metadata": {},
   "outputs": [],
   "source": [
    "import os\n",
    "import pandas as pd\n",
    "import numpy as np\n",
    "import seaborn as sns\n",
    "\n",
    "import warnings\n",
    "warnings.filterwarnings('ignore')\n",
    "\n",
    "from tensorflow.keras.utils import to_categorical\n",
    "from sklearn.metrics import confusion_matrix, precision_score, accuracy_score,recall_score, f1_score,roc_auc_score\n",
    "from sklearn.metrics import roc_curve, auc\n",
    "import matplotlib.pyplot as plt\n",
    "%matplotlib inline"
   ]
  },
  {
   "cell_type": "code",
   "execution_count": 3,
   "metadata": {},
   "outputs": [],
   "source": [
    "model_size = ['small','middle','large']\n",
    "model_list = ['xgboost','lightgbm','random forest','knn','svm']\n",
    "tissue = 'Heart_Left_Ventricle'\n",
    "data_path = '../../../../../datasets_embedding/enformer_pca/eqtl_datasets/sign_prediction/' + tissue + '/'\n",
    "image_path = 'images_shuffled_seed510/'\n",
    "# set seed\n",
    "seed = 510\n",
    "import random\n",
    "random.seed(seed)\n",
    "np.random.seed(seed)"
   ]
  },
  {
   "cell_type": "markdown",
   "metadata": {},
   "source": [
    "#### small model"
   ]
  },
  {
   "cell_type": "code",
   "execution_count": 4,
   "metadata": {},
   "outputs": [
    {
     "name": "stdout",
     "output_type": "stream",
     "text": [
      "              variant_id label  \\\n",
      "0   chr1_3900688_T_C_b38     1   \n",
      "1  chr1_20508117_C_A_b38     1   \n",
      "2  chr1_25820023_G_C_b38     1   \n",
      "3  chr1_25820023_G_C_b38     1   \n",
      "4  chr1_27634281_G_A_b38     1   \n",
      "\n",
      "                                 enformer_pca_before  \\\n",
      "0  [[-47.38889, 17.172152, 4.4252434, 24.459711, ...   \n",
      "1  [[-46.711678, -49.9396, -5.2462454, 22.84694, ...   \n",
      "2  [[-74.805466, 1.2244583, -24.92188, 39.529617,...   \n",
      "3  [[-74.80549, 1.2245289, -24.92187, 39.52967, -...   \n",
      "4  [[-28.760225, 40.542706, -49.007996, -7.458251...   \n",
      "\n",
      "                                  enformer_pca_after  \n",
      "0  [[-47.451256, 17.190086, 4.484256, 24.391268, ...  \n",
      "1  [[-47.006046, -49.85613, -5.0389643, 22.79903,...  \n",
      "2  [[-74.90455, 1.8904057, -25.01256, 40.296684, ...  \n",
      "3  [[-74.904785, 1.8902549, -25.012568, 40.296623...  \n",
      "4  [[-28.330782, 42.714336, -46.69965, -7.3497467...  \n",
      "X_train shape: (216, 17920)\n",
      "Y_train shape: (216,)\n",
      "X_test shape: (24, 17920)\n",
      "Y_test shape: (24,)\n"
     ]
    }
   ],
   "source": [
    "model = model_size[0]\n",
    "train_data = pd.read_pickle(data_path + model + '_train.dataset')\n",
    "valid_data = pd.read_pickle(data_path + model + '_valid.dataset')\n",
    "test_data = pd.read_pickle(data_path + model + '_test.dataset')\n",
    "print(train_data.head())\n",
    "\n",
    "merged_data = pd.concat([train_data, valid_data, test_data]) # for machine learning, grid search\n",
    "# new split\n",
    "merged_data = merged_data.sample(frac=1).reset_index(drop=True)\n",
    "train_data = merged_data[0:int(0.9*len(merged_data))].reset_index(drop=True)\n",
    "test_data = merged_data[int(0.9*len(merged_data)):].reset_index(drop=True)\n",
    "\n",
    "sample_list = []\n",
    "y_list = []\n",
    "for i in range(train_data.shape[0]):\n",
    "    feature_list = []\n",
    "    feature_list += train_data['enformer_pca_before'][i].flatten().tolist()\n",
    "    feature_list += train_data['enformer_pca_after'][i].flatten().tolist()\n",
    "    sample_list.append(feature_list)\n",
    "    y_list.append(train_data['label'][i])\n",
    "X_train = np.array(sample_list)\n",
    "Y_train = np.array(y_list)\n",
    "print('X_train shape: ' + str(X_train.shape))\n",
    "print('Y_train shape: ' + str(Y_train.shape))\n",
    "\n",
    "sample_list = []\n",
    "y_list = []\n",
    "for i in range(test_data.shape[0]):\n",
    "    feature_list = []\n",
    "    feature_list += test_data['enformer_pca_before'][i].flatten().tolist()\n",
    "    feature_list += test_data['enformer_pca_after'][i].flatten().tolist()\n",
    "    sample_list.append(feature_list)\n",
    "    y_list.append(test_data['label'][i])\n",
    "X_test = np.array(sample_list)\n",
    "Y_test = np.array(y_list)\n",
    "print('X_test shape: ' + str(X_test.shape))\n",
    "print('Y_test shape: ' + str(Y_test.shape))"
   ]
  },
  {
   "cell_type": "code",
   "execution_count": 5,
   "metadata": {},
   "outputs": [
    {
     "name": "stdout",
     "output_type": "stream",
     "text": [
      "[0 1]\n"
     ]
    }
   ],
   "source": [
    "print(train_data['label'].unique())"
   ]
  },
  {
   "cell_type": "markdown",
   "metadata": {},
   "source": [
    "##### model 1: xgboost"
   ]
  },
  {
   "cell_type": "code",
   "execution_count": 6,
   "metadata": {},
   "outputs": [
    {
     "name": "stdout",
     "output_type": "stream",
     "text": [
      "{'n_estimators': 10}\n",
      "{'max_depth': 6}\n"
     ]
    }
   ],
   "source": [
    "# model 1: xgboost\n",
    "import xgboost as xgb\n",
    "from sklearn.model_selection import GridSearchCV\n",
    "\n",
    "cv_params = {'n_estimators': np.linspace(10, 300, 10, dtype=int)} # \n",
    "xgb_model = xgb.XGBClassifier(seed=seed)\n",
    "# https://scikit-learn.org/stable/modules/model_evaluation.html\n",
    "gs = GridSearchCV(xgb_model, cv_params, refit=True, cv=5, scoring='roc_auc')\n",
    "gs.fit(X_train,Y_train)\n",
    "n_estimators = gs.best_params_['n_estimators']\n",
    "print(gs.best_params_)\n",
    "\n",
    "cv_params = {'max_depth': np.linspace(1, 10, 10, dtype=int)} # \n",
    "xgb_model = xgb.XGBClassifier(seed=seed,n_estimators=n_estimators)\n",
    "gs = GridSearchCV(xgb_model, cv_params, refit=True, cv=5, scoring='roc_auc')\n",
    "gs.fit(X_train,Y_train)\n",
    "max_depth = gs.best_params_['max_depth']\n",
    "print(gs.best_params_)"
   ]
  },
  {
   "cell_type": "code",
   "execution_count": 7,
   "metadata": {},
   "outputs": [
    {
     "name": "stdout",
     "output_type": "stream",
     "text": [
      "accuracy:0.625\n",
      "precision:0.6666666666666666\n",
      "recall:0.8\n",
      "f1-score:0.7272727272727273\n"
     ]
    },
    {
     "data": {
      "image/png": "[encoded data removed]",
      "text/plain": [
       "<Figure size 300x300 with 2 Axes>"
      ]
     },
     "metadata": {},
     "output_type": "display_data"
    },
    {
     "data": {
      "image/png": "[encoded data removed]",
      "text/plain": [
       "<Figure size 300x300 with 1 Axes>"
      ]
     },
     "metadata": {},
     "output_type": "display_data"
    }
   ],
   "source": [
    "ml_model = model_list[0]\n",
    "clf_xgb = xgb.XGBClassifier(n_estimators=n_estimators, max_depth=max_depth) # from grid search\n",
    "clf_xgb.fit(X_train,Y_train)\n",
    "\n",
    "y_score = clf_xgb.predict(X_test)                                   \n",
    "y_score_pro = clf_xgb.predict_proba(X_test) \n",
    "y_one_hot = to_categorical(Y_test)\n",
    "y_score_one_hot = to_categorical(y_score)\n",
    "\n",
    "obj1 = confusion_matrix(Y_test, y_score)\n",
    "print('accuracy:{}'.format(accuracy_score(Y_test, y_score)))\n",
    "print('precision:{}'.format(precision_score(Y_test, y_score)))\n",
    "print('recall:{}'.format(recall_score(Y_test, y_score)))\n",
    "print('f1-score:{}'.format(f1_score(Y_test, y_score)))\n",
    "\n",
    "# update confusion matrix\n",
    "sum_all1 = obj1[0][0] + obj1[0][1]\n",
    "sum_all2 = obj1[1][0] + obj1[1][1]\n",
    "new_obj = np.array(\n",
    "    [\n",
    "        [float(obj1[0][0])/sum_all1, float(obj1[0][1])/sum_all1],\n",
    "        [float(obj1[1][0])/sum_all2, float(obj1[1][1])/sum_all2]\n",
    "    ]\n",
    ")\n",
    "ax = plt.subplots(figsize=(3,3))\n",
    "sns.heatmap(new_obj, fmt='.2f', cmap='PuBuGn', annot=True)\n",
    "plt.xlabel(\"true label\")\n",
    "plt.ylabel(\"predict label\")\n",
    "plt.title('small model (sign prediction)\\n' + tissue + ', ' + ml_model)\n",
    "plt.savefig(image_path + 'cm-small-sign-' + tissue + '-' + ml_model + '.png',dpi=300, bbox_inches = 'tight')\n",
    "plt.show()\n",
    "\n",
    "fpr, tpr, thresholds = roc_curve(y_one_hot.ravel(),y_score_pro.ravel())   \n",
    "auc_ = auc(fpr, tpr)\n",
    "#print(\"AUC : \", auc)\n",
    "ax = plt.subplots(figsize=(3,3))\n",
    "plt.title('small model (sign prediction)\\n' + tissue + ', ' + ml_model)\n",
    "plt.plot(fpr, tpr, linewidth = 2,label='AUC=%.3f' % auc_,color='#006400')\n",
    "plt.plot([0,1],[0,1], 'k--')\n",
    "plt.axis([0,1.1,0,1.1])\n",
    "plt.xlabel('False Postivie Rate')\n",
    "plt.ylabel('True Positive Rate')\n",
    "plt.legend(loc=\"lower right\")\n",
    "plt.savefig(image_path + 'auc-small-sign-' + tissue + '-' + ml_model + '.png',dpi=300, bbox_inches = 'tight')\n",
    "plt.show()"
   ]
  },
  {
   "cell_type": "markdown",
   "metadata": {},
   "source": [
    "##### model 2:lightgbm"
   ]
  },
  {
   "cell_type": "code",
   "execution_count": 8,
   "metadata": {},
   "outputs": [
    {
     "name": "stdout",
     "output_type": "stream",
     "text": [
      "{'max_depth': 6}\n",
      "{'num_leaves': 14}\n"
     ]
    }
   ],
   "source": [
    "import lightgbm as lgb\n",
    "from sklearn.model_selection import GridSearchCV\n",
    "\n",
    "cv_params = {'max_depth': np.linspace(1, 50, 10, dtype=int)} # \n",
    "gbm = lgb.LGBMClassifier(seed=seed,verbose=-1)\n",
    "gsearch = GridSearchCV(gbm, param_grid=cv_params, cv=5, scoring='roc_auc')\n",
    "gsearch.fit(X_train, Y_train)\n",
    "max_depth = gsearch.best_params_['max_depth']\n",
    "print(gsearch.best_params_)\n",
    "\n",
    "cv_params = {'num_leaves': np.linspace(2, 50, 5, dtype=int)} # \n",
    "gbm = lgb.LGBMClassifier(seed=seed,max_depth=max_depth,verbose=-1)\n",
    "gsearch = GridSearchCV(gbm, param_grid=cv_params, cv=5, scoring='roc_auc')\n",
    "gsearch.fit(X_train, Y_train)\n",
    "num_leaves = gsearch.best_params_['num_leaves']\n",
    "print(gsearch.best_params_)"
   ]
  },
  {
   "cell_type": "code",
   "execution_count": 9,
   "metadata": {},
   "outputs": [
    {
     "name": "stdout",
     "output_type": "stream",
     "text": [
      "[LightGBM] [Info] Number of positive: 126, number of negative: 90\n",
      "[LightGBM] [Info] Auto-choosing col-wise multi-threading, the overhead of testing was 0.296449 seconds.\n",
      "You can set `force_col_wise=true` to remove the overhead.\n",
      "[LightGBM] [Info] Total Bins 1319878\n",
      "[LightGBM] [Info] Number of data points in the train set: 216, number of used features: 17920\n",
      "[LightGBM] [Info] [binary:BoostFromScore]: pavg=0.583333 -> initscore=0.336472\n",
      "[LightGBM] [Info] Start training from score 0.336472\n",
      "[LightGBM] [Warning] No further splits with positive gain, best gain: -inf\n",
      "[LightGBM] [Warning] No further splits with positive gain, best gain: -inf\n",
      "[LightGBM] [Warning] No further splits with positive gain, best gain: -inf\n",
      "[LightGBM] [Warning] No further splits with positive gain, best gain: -inf\n",
      "[LightGBM] [Warning] No further splits with positive gain, best gain: -inf\n",
      "[LightGBM] [Warning] No further splits with positive gain, best gain: -inf\n",
      "[LightGBM] [Warning] No further splits with positive gain, best gain: -inf\n",
      "[LightGBM] [Warning] No further splits with positive gain, best gain: -inf\n",
      "[LightGBM] [Warning] No further splits with positive gain, best gain: -inf\n",
      "[LightGBM] [Warning] No further splits with positive gain, best gain: -inf\n",
      "[LightGBM] [Warning] No further splits with positive gain, best gain: -inf\n",
      "[LightGBM] [Warning] No further splits with positive gain, best gain: -inf\n",
      "[LightGBM] [Warning] No further splits with positive gain, best gain: -inf\n",
      "[LightGBM] [Warning] No further splits with positive gain, best gain: -inf\n",
      "[LightGBM] [Warning] No further splits with positive gain, best gain: -inf\n",
      "[LightGBM] [Warning] No further splits with positive gain, best gain: -inf\n",
      "[LightGBM] [Warning] No further splits with positive gain, best gain: -inf\n",
      "[LightGBM] [Warning] No further splits with positive gain, best gain: -inf\n",
      "[LightGBM] [Warning] No further splits with positive gain, best gain: -inf\n",
      "[LightGBM] [Warning] No further splits with positive gain, best gain: -inf\n",
      "[LightGBM] [Warning] No further splits with positive gain, best gain: -inf\n",
      "[LightGBM] [Warning] No further splits with positive gain, best gain: -inf\n",
      "[LightGBM] [Warning] No further splits with positive gain, best gain: -inf\n",
      "[LightGBM] [Warning] No further splits with positive gain, best gain: -inf\n",
      "[LightGBM] [Warning] No further splits with positive gain, best gain: -inf\n",
      "[LightGBM] [Warning] No further splits with positive gain, best gain: -inf\n",
      "[LightGBM] [Warning] No further splits with positive gain, best gain: -inf\n",
      "[LightGBM] [Warning] No further splits with positive gain, best gain: -inf\n",
      "[LightGBM] [Warning] No further splits with positive gain, best gain: -inf\n",
      "[LightGBM] [Warning] No further splits with positive gain, best gain: -inf\n",
      "[LightGBM] [Warning] No further splits with positive gain, best gain: -inf\n",
      "[LightGBM] [Warning] No further splits with positive gain, best gain: -inf\n",
      "[LightGBM] [Warning] No further splits with positive gain, best gain: -inf\n",
      "[LightGBM] [Warning] No further splits with positive gain, best gain: -inf\n",
      "[LightGBM] [Warning] No further splits with positive gain, best gain: -inf\n",
      "[LightGBM] [Warning] No further splits with positive gain, best gain: -inf\n",
      "[LightGBM] [Warning] No further splits with positive gain, best gain: -inf\n",
      "[LightGBM] [Warning] No further splits with positive gain, best gain: -inf\n",
      "[LightGBM] [Warning] No further splits with positive gain, best gain: -inf\n",
      "[LightGBM] [Warning] No further splits with positive gain, best gain: -inf\n",
      "[LightGBM] [Warning] No further splits with positive gain, best gain: -inf\n",
      "[LightGBM] [Warning] No further splits with positive gain, best gain: -inf\n",
      "[LightGBM] [Warning] No further splits with positive gain, best gain: -inf\n",
      "[LightGBM] [Warning] No further splits with positive gain, best gain: -inf\n",
      "[LightGBM] [Warning] No further splits with positive gain, best gain: -inf\n",
      "[LightGBM] [Warning] No further splits with positive gain, best gain: -inf\n",
      "[LightGBM] [Warning] No further splits with positive gain, best gain: -inf\n",
      "[LightGBM] [Warning] No further splits with positive gain, best gain: -inf\n",
      "[LightGBM] [Warning] No further splits with positive gain, best gain: -inf\n",
      "[LightGBM] [Warning] No further splits with positive gain, best gain: -inf\n",
      "[LightGBM] [Warning] No further splits with positive gain, best gain: -inf\n",
      "[LightGBM] [Warning] No further splits with positive gain, best gain: -inf\n",
      "[LightGBM] [Warning] No further splits with positive gain, best gain: -inf\n",
      "[LightGBM] [Warning] No further splits with positive gain, best gain: -inf\n",
      "[LightGBM] [Warning] No further splits with positive gain, best gain: -inf\n",
      "[LightGBM] [Warning] No further splits with positive gain, best gain: -inf\n",
      "[LightGBM] [Warning] No further splits with positive gain, best gain: -inf\n",
      "[LightGBM] [Warning] No further splits with positive gain, best gain: -inf\n",
      "[LightGBM] [Warning] No further splits with positive gain, best gain: -inf\n",
      "[LightGBM] [Warning] No further splits with positive gain, best gain: -inf\n",
      "[LightGBM] [Warning] No further splits with positive gain, best gain: -inf\n",
      "[LightGBM] [Warning] No further splits with positive gain, best gain: -inf\n",
      "[LightGBM] [Warning] No further splits with positive gain, best gain: -inf\n",
      "[LightGBM] [Warning] No further splits with positive gain, best gain: -inf\n",
      "[LightGBM] [Warning] No further splits with positive gain, best gain: -inf\n",
      "[LightGBM] [Warning] No further splits with positive gain, best gain: -inf\n",
      "[LightGBM] [Warning] No further splits with positive gain, best gain: -inf\n",
      "[LightGBM] [Warning] No further splits with positive gain, best gain: -inf\n",
      "[LightGBM] [Warning] No further splits with positive gain, best gain: -inf\n",
      "[LightGBM] [Warning] No further splits with positive gain, best gain: -inf\n",
      "[LightGBM] [Warning] No further splits with positive gain, best gain: -inf\n",
      "[LightGBM] [Warning] No further splits with positive gain, best gain: -inf\n",
      "[LightGBM] [Warning] No further splits with positive gain, best gain: -inf\n",
      "[LightGBM] [Warning] No further splits with positive gain, best gain: -inf\n",
      "[LightGBM] [Warning] No further splits with positive gain, best gain: -inf\n",
      "[LightGBM] [Warning] No further splits with positive gain, best gain: -inf\n",
      "[LightGBM] [Warning] No further splits with positive gain, best gain: -inf\n",
      "[LightGBM] [Warning] No further splits with positive gain, best gain: -inf\n",
      "[LightGBM] [Warning] No further splits with positive gain, best gain: -inf\n",
      "[LightGBM] [Warning] No further splits with positive gain, best gain: -inf\n",
      "[LightGBM] [Warning] No further splits with positive gain, best gain: -inf\n",
      "[LightGBM] [Warning] No further splits with positive gain, best gain: -inf\n",
      "[LightGBM] [Warning] No further splits with positive gain, best gain: -inf\n",
      "[LightGBM] [Warning] No further splits with positive gain, best gain: -inf\n",
      "[LightGBM] [Warning] No further splits with positive gain, best gain: -inf\n",
      "[LightGBM] [Warning] No further splits with positive gain, best gain: -inf\n",
      "[LightGBM] [Warning] No further splits with positive gain, best gain: -inf\n",
      "[LightGBM] [Warning] No further splits with positive gain, best gain: -inf\n",
      "[LightGBM] [Warning] No further splits with positive gain, best gain: -inf\n",
      "[LightGBM] [Warning] No further splits with positive gain, best gain: -inf\n",
      "[LightGBM] [Warning] No further splits with positive gain, best gain: -inf\n",
      "[LightGBM] [Warning] No further splits with positive gain, best gain: -inf\n",
      "[LightGBM] [Warning] No further splits with positive gain, best gain: -inf\n",
      "[LightGBM] [Warning] No further splits with positive gain, best gain: -inf\n",
      "[LightGBM] [Warning] No further splits with positive gain, best gain: -inf\n",
      "[LightGBM] [Warning] No further splits with positive gain, best gain: -inf\n",
      "[LightGBM] [Warning] No further splits with positive gain, best gain: -inf\n",
      "[LightGBM] [Warning] No further splits with positive gain, best gain: -inf\n",
      "[LightGBM] [Warning] No further splits with positive gain, best gain: -inf\n",
      "[LightGBM] [Warning] No further splits with positive gain, best gain: -inf\n",
      "accuracy:0.625\n",
      "precision:0.6666666666666666\n",
      "recall:0.8\n",
      "f1-score:0.7272727272727273\n"
     ]
    },
    {
     "data": {
      "image/png": "[encoded data removed]",
      "text/plain": [
       "<Figure size 300x300 with 2 Axes>"
      ]
     },
     "metadata": {},
     "output_type": "display_data"
    },
    {
     "data": {
      "image/png": "[encoded data removed]",
      "text/plain": [
       "<Figure size 300x300 with 1 Axes>"
      ]
     },
     "metadata": {},
     "output_type": "display_data"
    }
   ],
   "source": [
    "ml_model = model_list[1]\n",
    "clf_lgb = lgb.LGBMClassifier(max_depth=max_depth, num_leaves=num_leaves)\n",
    "clf_lgb.fit(X_train,Y_train)\n",
    "\n",
    "y_score = clf_lgb.predict(X_test)                                   \n",
    "y_score_pro = clf_lgb.predict_proba(X_test) \n",
    "y_one_hot = to_categorical(Y_test)\n",
    "y_score_one_hot = to_categorical(y_score)\n",
    "\n",
    "obj1 = confusion_matrix(Y_test, y_score)\n",
    "print('accuracy:{}'.format(accuracy_score(Y_test, y_score)))\n",
    "print('precision:{}'.format(precision_score(Y_test, y_score)))\n",
    "print('recall:{}'.format(recall_score(Y_test, y_score)))\n",
    "print('f1-score:{}'.format(f1_score(Y_test, y_score)))\n",
    "\n",
    "# update confusion matrix\n",
    "sum_all1 = obj1[0][0] + obj1[0][1]\n",
    "sum_all2 = obj1[1][0] + obj1[1][1]\n",
    "new_obj = np.array(\n",
    "    [\n",
    "        [float(obj1[0][0])/sum_all1, float(obj1[0][1])/sum_all1],\n",
    "        [float(obj1[1][0])/sum_all2, float(obj1[1][1])/sum_all2]\n",
    "    ]\n",
    ")\n",
    "ax = plt.subplots(figsize=(3,3))\n",
    "sns.heatmap(new_obj, fmt='.2f', cmap='PuBuGn', annot=True)\n",
    "plt.xlabel(\"true label\")\n",
    "plt.ylabel(\"predict label\")\n",
    "plt.title('small model (sign prediction)\\n' + tissue + ', ' + ml_model)\n",
    "plt.savefig(image_path + 'cm-small-sign-' + tissue + '-' + ml_model + '.png',dpi=300, bbox_inches = 'tight')\n",
    "plt.show()\n",
    "\n",
    "fpr, tpr, thresholds = roc_curve(y_one_hot.ravel(),y_score_pro.ravel())   \n",
    "auc_ = auc(fpr, tpr)\n",
    "#print(\"AUC : \", auc)\n",
    "ax = plt.subplots(figsize=(3,3))\n",
    "plt.title('small model (sign prediction)\\n' + tissue + ', ' + ml_model)\n",
    "plt.plot(fpr, tpr, linewidth = 2,label='AUC=%.3f' % auc_,color='#006400')\n",
    "plt.plot([0,1],[0,1], 'k--')\n",
    "plt.axis([0,1.1,0,1.1])\n",
    "plt.xlabel('False Postivie Rate')\n",
    "plt.ylabel('True Positive Rate')\n",
    "plt.legend(loc=\"lower right\")\n",
    "plt.savefig(image_path + 'auc-small-sign-' + tissue + '-' + ml_model + '.png',dpi=300, bbox_inches = 'tight')\n",
    "plt.show()"
   ]
  },
  {
   "cell_type": "markdown",
   "metadata": {},
   "source": [
    "##### model 3: random forest"
   ]
  },
  {
   "cell_type": "code",
   "execution_count": 10,
   "metadata": {},
   "outputs": [
    {
     "name": "stdout",
     "output_type": "stream",
     "text": [
      "{'n_estimators': 178}\n",
      "{'max_depth': 4}\n"
     ]
    }
   ],
   "source": [
    "from sklearn.ensemble import RandomForestClassifier\n",
    "from sklearn.model_selection import GridSearchCV\n",
    "\n",
    "cv_params = {'n_estimators': np.linspace(10, 200, 10, dtype=int)} \n",
    "rfModel = RandomForestClassifier(random_state = random.seed(seed))\n",
    "grid = GridSearchCV(\n",
    "    rfModel,cv_params,cv = 5,return_train_score = True, scoring='roc_auc')\n",
    "grid.fit(X_train, Y_train)\n",
    "n_estimators = grid.best_params_['n_estimators']\n",
    "print(grid.best_params_)\n",
    "\n",
    "cv_params = {'max_depth': np.linspace(1, 10, 10, dtype=int)} \n",
    "rfModel = RandomForestClassifier(random_state = random.seed(seed),n_estimators=n_estimators)\n",
    "grid = GridSearchCV(\n",
    "    rfModel,cv_params,cv = 5,return_train_score = True, scoring='roc_auc')\n",
    "grid.fit(X_train, Y_train)\n",
    "max_depth=grid.best_params_['max_depth']\n",
    "print(grid.best_params_)"
   ]
  },
  {
   "cell_type": "code",
   "execution_count": 11,
   "metadata": {},
   "outputs": [
    {
     "name": "stdout",
     "output_type": "stream",
     "text": [
      "accuracy:0.7083333333333334\n",
      "precision:0.7222222222222222\n",
      "recall:0.8666666666666667\n",
      "f1-score:0.7878787878787878\n"
     ]
    },
    {
     "data": {
      "image/png": "[encoded data removed]",
      "text/plain": [
       "<Figure size 300x300 with 2 Axes>"
      ]
     },
     "metadata": {},
     "output_type": "display_data"
    },
    {
     "data": {
      "image/png": "[encoded data removed]",
      "text/plain": [
       "<Figure size 300x300 with 1 Axes>"
      ]
     },
     "metadata": {},
     "output_type": "display_data"
    }
   ],
   "source": [
    "ml_model = model_list[2]\n",
    "clf_rf = RandomForestClassifier(n_estimators=n_estimators, max_depth=max_depth)\n",
    "clf_rf.fit(X_train,Y_train)\n",
    "\n",
    "y_score = clf_rf.predict(X_test)                                   \n",
    "y_score_pro = clf_rf.predict_proba(X_test) \n",
    "y_one_hot = to_categorical(Y_test)\n",
    "y_score_one_hot = to_categorical(y_score)\n",
    "\n",
    "obj1 = confusion_matrix(Y_test, y_score)\n",
    "print('accuracy:{}'.format(accuracy_score(Y_test, y_score)))\n",
    "print('precision:{}'.format(precision_score(Y_test, y_score)))\n",
    "print('recall:{}'.format(recall_score(Y_test, y_score)))\n",
    "print('f1-score:{}'.format(f1_score(Y_test, y_score)))\n",
    "\n",
    "# update confusion matrix\n",
    "sum_all1 = obj1[0][0] + obj1[0][1]\n",
    "sum_all2 = obj1[1][0] + obj1[1][1]\n",
    "new_obj = np.array(\n",
    "    [\n",
    "        [float(obj1[0][0])/sum_all1, float(obj1[0][1])/sum_all1],\n",
    "        [float(obj1[1][0])/sum_all2, float(obj1[1][1])/sum_all2]\n",
    "    ]\n",
    ")\n",
    "ax = plt.subplots(figsize=(3,3))\n",
    "sns.heatmap(new_obj, fmt='.2f', cmap='PuBuGn', annot=True)\n",
    "plt.xlabel(\"true label\")\n",
    "plt.ylabel(\"predict label\")\n",
    "plt.title('small model (sign prediction)\\n' + tissue + ', ' + ml_model)\n",
    "plt.savefig(image_path + 'cm-small-sign-' + tissue + '-' + ml_model + '.png',dpi=300, bbox_inches = 'tight')\n",
    "plt.show()\n",
    "\n",
    "fpr, tpr, thresholds = roc_curve(y_one_hot.ravel(),y_score_pro.ravel())   \n",
    "auc_ = auc(fpr, tpr)\n",
    "#print(\"AUC : \", auc)\n",
    "ax = plt.subplots(figsize=(3,3))\n",
    "plt.title('small model (sign prediction)\\n' + tissue + ', ' + ml_model)\n",
    "plt.plot(fpr, tpr, linewidth = 2,label='AUC=%.3f' % auc_,color='#006400')\n",
    "plt.plot([0,1],[0,1], 'k--')\n",
    "plt.axis([0,1.1,0,1.1])\n",
    "plt.xlabel('False Postivie Rate')\n",
    "plt.ylabel('True Positive Rate')\n",
    "plt.legend(loc=\"lower right\")\n",
    "plt.savefig(image_path + 'auc-small-sign-' + tissue + '-' + ml_model + '.png',dpi=300, bbox_inches = 'tight')\n",
    "plt.show()"
   ]
  },
  {
   "cell_type": "markdown",
   "metadata": {},
   "source": [
    "##### model 4: knn"
   ]
  },
  {
   "cell_type": "code",
   "execution_count": 12,
   "metadata": {},
   "outputs": [
    {
     "data": {
      "text/plain": [
       "{'n_neighbors': 100}"
      ]
     },
     "execution_count": 12,
     "metadata": {},
     "output_type": "execute_result"
    }
   ],
   "source": [
    "from sklearn.neighbors import KNeighborsClassifier\n",
    "from sklearn.model_selection import GridSearchCV\n",
    "\n",
    "paramGride = {'n_neighbors': np.linspace(100, 300, 10, dtype=int)} \n",
    "\n",
    "knnModel = KNeighborsClassifier()\n",
    "grid = GridSearchCV(\n",
    "    knnModel,paramGride,cv = 5,return_train_score = True, scoring='roc_auc')\n",
    "grid = grid.fit(X_train,Y_train)\n",
    "grid.best_params_"
   ]
  },
  {
   "cell_type": "code",
   "execution_count": 13,
   "metadata": {},
   "outputs": [
    {
     "name": "stdout",
     "output_type": "stream",
     "text": [
      "accuracy:0.625\n",
      "precision:0.625\n",
      "recall:1.0\n",
      "f1-score:0.7692307692307693\n"
     ]
    },
    {
     "data": {
      "image/png": "[encoded data removed]",
      "text/plain": [
       "<Figure size 300x300 with 2 Axes>"
      ]
     },
     "metadata": {},
     "output_type": "display_data"
    },
    {
     "data": {
      "image/png": "[encoded data removed]",
      "text/plain": [
       "<Figure size 300x300 with 1 Axes>"
      ]
     },
     "metadata": {},
     "output_type": "display_data"
    }
   ],
   "source": [
    "ml_model = model_list[3]\n",
    "clf_knn = KNeighborsClassifier(n_neighbors = grid.best_params_['n_neighbors'])\n",
    "clf_knn.fit(X_train,Y_train)\n",
    "\n",
    "y_score = clf_knn.predict(X_test)                                   \n",
    "y_score_pro = clf_knn.predict_proba(X_test) \n",
    "y_one_hot = to_categorical(Y_test)\n",
    "y_score_one_hot = to_categorical(y_score)\n",
    "\n",
    "obj1 = confusion_matrix(Y_test, y_score)\n",
    "print('accuracy:{}'.format(accuracy_score(Y_test, y_score)))\n",
    "print('precision:{}'.format(precision_score(Y_test, y_score)))\n",
    "print('recall:{}'.format(recall_score(Y_test, y_score)))\n",
    "print('f1-score:{}'.format(f1_score(Y_test, y_score)))\n",
    "\n",
    "# update confusion matrix\n",
    "sum_all1 = obj1[0][0] + obj1[0][1]\n",
    "sum_all2 = obj1[1][0] + obj1[1][1]\n",
    "new_obj = np.array(\n",
    "    [\n",
    "        [float(obj1[0][0])/sum_all1, float(obj1[0][1])/sum_all1],\n",
    "        [float(obj1[1][0])/sum_all2, float(obj1[1][1])/sum_all2]\n",
    "    ]\n",
    ")\n",
    "ax = plt.subplots(figsize=(3,3))\n",
    "sns.heatmap(new_obj, fmt='.2f', cmap='PuBuGn', annot=True)\n",
    "plt.xlabel(\"true label\")\n",
    "plt.ylabel(\"predict label\")\n",
    "plt.title('small model (sign prediction)\\n' + tissue + ', ' + ml_model)\n",
    "plt.savefig(image_path + 'cm-small-sign-' + tissue + '-' + ml_model + '.png',dpi=300, bbox_inches = 'tight')\n",
    "plt.show()\n",
    "\n",
    "fpr, tpr, thresholds = roc_curve(y_one_hot.ravel(),y_score_pro.ravel())   \n",
    "auc_ = auc(fpr, tpr)\n",
    "#print(\"AUC : \", auc)\n",
    "ax = plt.subplots(figsize=(3,3))\n",
    "plt.title('small model (sign prediction)\\n' + tissue + ', ' + ml_model)\n",
    "plt.plot(fpr, tpr, linewidth = 2,label='AUC=%.3f' % auc_,color='#006400')\n",
    "plt.plot([0,1],[0,1], 'k--')\n",
    "plt.axis([0,1.1,0,1.1])\n",
    "plt.xlabel('False Postivie Rate')\n",
    "plt.ylabel('True Positive Rate')\n",
    "plt.legend(loc=\"lower right\")\n",
    "plt.savefig(image_path + 'auc-small-sign-' + tissue + '-' + ml_model + '.png',dpi=300, bbox_inches = 'tight')\n",
    "plt.show()"
   ]
  },
  {
   "cell_type": "markdown",
   "metadata": {},
   "source": [
    "##### model 5: svm"
   ]
  },
  {
   "cell_type": "code",
   "execution_count": 5,
   "metadata": {},
   "outputs": [
    {
     "name": "stdout",
     "output_type": "stream",
     "text": [
      "{'gamma': 0.0001}\n",
      "{'C': 0.001}\n"
     ]
    }
   ],
   "source": [
    "from sklearn.svm import SVC\n",
    "from sklearn.model_selection import GridSearchCV\n",
    "\n",
    "cv_params = {'gamma': [1e-4,1e-3,1e-2,1e-1,1,10,100,1000]} \n",
    "svmModel = SVC()\n",
    "grid = GridSearchCV(\n",
    "    svmModel,cv_params,cv = 5,return_train_score = True, scoring='roc_auc')\n",
    "grid = grid.fit(X_train,Y_train)\n",
    "gamma = grid.best_params_['gamma']\n",
    "print(grid.best_params_)\n",
    "\n",
    "cv_params = {'C': [1e-4,1e-3,1e-2,1e-1,1,10,100,1000]} \n",
    "svmModel = SVC(gamma=gamma)\n",
    "grid = GridSearchCV(\n",
    "    svmModel,cv_params,cv = 5,return_train_score = True, scoring='roc_auc')\n",
    "grid = grid.fit(X_train,Y_train)\n",
    "C = grid.best_params_['C']\n",
    "print(grid.best_params_)"
   ]
  },
  {
   "cell_type": "code",
   "execution_count": 6,
   "metadata": {},
   "outputs": [
    {
     "name": "stdout",
     "output_type": "stream",
     "text": [
      "accuracy:0.625\n",
      "precision:0.625\n",
      "recall:1.0\n",
      "f1-score:0.7692307692307693\n"
     ]
    },
    {
     "data": {
      "image/png": "[encoded data removed]",
      "text/plain": [
       "<Figure size 300x300 with 2 Axes>"
      ]
     },
     "metadata": {},
     "output_type": "display_data"
    },
    {
     "data": {
      "image/png": "[encoded data removed]",
      "text/plain": [
       "<Figure size 300x300 with 1 Axes>"
      ]
     },
     "metadata": {},
     "output_type": "display_data"
    }
   ],
   "source": [
    "ml_model = model_list[4]\n",
    "clf_svm = SVC(probability = True, gamma = gamma, C = C)\n",
    "clf_svm.fit(X_train,Y_train)\n",
    "\n",
    "y_score = clf_svm.predict(X_test)                                   \n",
    "y_score_pro = clf_svm.predict_proba(X_test) \n",
    "y_one_hot = to_categorical(Y_test)\n",
    "y_score_one_hot = to_categorical(y_score)\n",
    "\n",
    "obj1 = confusion_matrix(Y_test, y_score)\n",
    "print('accuracy:{}'.format(accuracy_score(Y_test, y_score)))\n",
    "print('precision:{}'.format(precision_score(Y_test, y_score)))\n",
    "print('recall:{}'.format(recall_score(Y_test, y_score)))\n",
    "print('f1-score:{}'.format(f1_score(Y_test, y_score)))\n",
    "\n",
    "# update confusion matrix\n",
    "sum_all1 = obj1[0][0] + obj1[0][1]\n",
    "sum_all2 = obj1[1][0] + obj1[1][1]\n",
    "new_obj = np.array(\n",
    "    [\n",
    "        [float(obj1[0][0])/sum_all1, float(obj1[0][1])/sum_all1],\n",
    "        [float(obj1[1][0])/sum_all2, float(obj1[1][1])/sum_all2]\n",
    "    ]\n",
    ")\n",
    "ax = plt.subplots(figsize=(3,3))\n",
    "sns.heatmap(new_obj, fmt='.2f', cmap='PuBuGn', annot=True)\n",
    "plt.xlabel(\"true label\")\n",
    "plt.ylabel(\"predict label\")\n",
    "plt.title('small model (sign prediction)\\n' + tissue + ', ' + ml_model)\n",
    "plt.savefig(image_path + 'cm-small-sign-' + tissue + '-' + ml_model + '.png',dpi=300, bbox_inches = 'tight')\n",
    "plt.show()\n",
    "\n",
    "fpr, tpr, thresholds = roc_curve(y_one_hot.ravel(),y_score_pro.ravel())   \n",
    "auc_ = auc(fpr, tpr)\n",
    "#print(\"AUC : \", auc)\n",
    "ax = plt.subplots(figsize=(3,3))\n",
    "plt.title('small model (sign prediction)\\n' + tissue + ', ' + ml_model)\n",
    "plt.plot(fpr, tpr, linewidth = 2,label='AUC=%.3f' % auc_,color='#006400')\n",
    "plt.plot([0,1],[0,1], 'k--')\n",
    "plt.axis([0,1.1,0,1.1])\n",
    "plt.xlabel('False Postivie Rate')\n",
    "plt.ylabel('True Positive Rate')\n",
    "plt.legend(loc=\"lower right\")\n",
    "plt.savefig(image_path + 'auc-small-sign-' + tissue + '-' + ml_model + '.png',dpi=300, bbox_inches = 'tight')\n",
    "plt.show()"
   ]
  },
  {
   "cell_type": "markdown",
   "metadata": {},
   "source": [
    "#### middle model"
   ]
  },
  {
   "cell_type": "code",
   "execution_count": 7,
   "metadata": {},
   "outputs": [
    {
     "name": "stdout",
     "output_type": "stream",
     "text": [
      "              variant_id label  \\\n",
      "0   chr1_3891607_T_C_b38     1   \n",
      "1   chr1_6262459_G_C_b38     1   \n",
      "2  chr1_16988930_G_A_b38     1   \n",
      "3  chr1_37997832_C_T_b38     1   \n",
      "4  chr1_61723869_T_C_b38     1   \n",
      "\n",
      "                                 enformer_pca_before  \\\n",
      "0  [[-54.254864, 19.755293, 14.650912, -12.296528...   \n",
      "1  [[77.76379, 301.2418, 227.43192, 96.21971, 75....   \n",
      "2  [[-24.199247, -25.074013, 2.2626061, -3.375508...   \n",
      "3  [[-38.60687, -39.963623, -7.986704, 16.639254,...   \n",
      "4  [[-24.758247, 17.85358, 2.9820795, -19.989668,...   \n",
      "\n",
      "                                  enformer_pca_after  \n",
      "0  [[-54.24615, 19.755226, 14.684302, -12.204931,...  \n",
      "1  [[77.76416, 301.05472, 227.5727, 95.23226, 41....  \n",
      "2  [[-24.205233, -25.07739, 2.2590106, -3.3884814...  \n",
      "3  [[-38.635754, -39.99292, -8.00738, 16.64308, -...  \n",
      "4  [[-24.670681, 17.963009, 3.0367699, -20.635277...  \n",
      "X_train shape: (220, 17920)\n",
      "Y_train shape: (220,)\n",
      "X_test shape: (25, 17920)\n",
      "Y_test shape: (25,)\n"
     ]
    }
   ],
   "source": [
    "model = model_size[1]\n",
    "train_data = pd.read_pickle(data_path + model + '_train.dataset')\n",
    "valid_data = pd.read_pickle(data_path + model + '_valid.dataset')\n",
    "test_data = pd.read_pickle(data_path + model + '_test.dataset')\n",
    "print(train_data.head())\n",
    "\n",
    "merged_data = pd.concat([train_data, valid_data, test_data]) # for machine learning, grid search\n",
    "# new split\n",
    "merged_data = merged_data.sample(frac=1).reset_index(drop=True)\n",
    "train_data = merged_data[0:int(0.9*len(merged_data))].reset_index(drop=True)\n",
    "test_data = merged_data[int(0.9*len(merged_data)):].reset_index(drop=True)\n",
    "\n",
    "sample_list = []\n",
    "y_list = []\n",
    "for i in range(train_data.shape[0]):\n",
    "    feature_list = []\n",
    "    feature_list += train_data['enformer_pca_before'][i].flatten().tolist()\n",
    "    feature_list += train_data['enformer_pca_after'][i].flatten().tolist()\n",
    "    sample_list.append(feature_list)\n",
    "    y_list.append(train_data['label'][i])\n",
    "X_train = np.array(sample_list)\n",
    "Y_train = np.array(y_list)\n",
    "print('X_train shape: ' + str(X_train.shape))\n",
    "print('Y_train shape: ' + str(Y_train.shape))\n",
    "\n",
    "sample_list = []\n",
    "y_list = []\n",
    "for i in range(test_data.shape[0]):\n",
    "    feature_list = []\n",
    "    feature_list += test_data['enformer_pca_before'][i].flatten().tolist()\n",
    "    feature_list += test_data['enformer_pca_after'][i].flatten().tolist()\n",
    "    sample_list.append(feature_list)\n",
    "    y_list.append(test_data['label'][i])\n",
    "X_test = np.array(sample_list)\n",
    "Y_test = np.array(y_list)\n",
    "print('X_test shape: ' + str(X_test.shape))\n",
    "print('Y_test shape: ' + str(Y_test.shape))"
   ]
  },
  {
   "cell_type": "markdown",
   "metadata": {},
   "source": [
    "##### model 1: xgboost"
   ]
  },
  {
   "cell_type": "code",
   "execution_count": null,
   "metadata": {},
   "outputs": [],
   "source": [
    "# model 1: xgboost\n",
    "import xgboost as xgb\n",
    "from sklearn.model_selection import GridSearchCV\n",
    "\n",
    "cv_params = {'n_estimators': np.linspace(10, 300, 10, dtype=int)} # \n",
    "xgb_model = xgb.XGBClassifier(seed=seed)\n",
    "# https://scikit-learn.org/stable/modules/model_evaluation.html\n",
    "gs = GridSearchCV(xgb_model, cv_params, refit=True, cv=5, scoring='roc_auc')\n",
    "gs.fit(X_train,Y_train)\n",
    "n_estimators = gs.best_params_['n_estimators']\n",
    "print(gs.best_params_)\n",
    "\n",
    "cv_params = {'max_depth': np.linspace(1, 10, 10, dtype=int)} # \n",
    "xgb_model = xgb.XGBClassifier(seed=seed,n_estimators=n_estimators)\n",
    "gs = GridSearchCV(xgb_model, cv_params, refit=True, cv=5, scoring='roc_auc')\n",
    "gs.fit(X_train,Y_train)\n",
    "max_depth = gs.best_params_['max_depth']\n",
    "print(gs.best_params_)"
   ]
  },
  {
   "cell_type": "code",
   "execution_count": null,
   "metadata": {},
   "outputs": [],
   "source": [
    "ml_model = model_list[0]\n",
    "clf_xgb = xgb.XGBClassifier(n_estimators=n_estimators, max_depth=max_depth) # from grid search\n",
    "clf_xgb.fit(X_train,Y_train)\n",
    "\n",
    "y_score = clf_xgb.predict(X_test)                                   \n",
    "y_score_pro = clf_xgb.predict_proba(X_test) \n",
    "y_one_hot = to_categorical(Y_test)\n",
    "y_score_one_hot = to_categorical(y_score)\n",
    "\n",
    "obj1 = confusion_matrix(Y_test, y_score)\n",
    "print('accuracy:{}'.format(accuracy_score(Y_test, y_score)))\n",
    "print('precision:{}'.format(precision_score(Y_test, y_score)))\n",
    "print('recall:{}'.format(recall_score(Y_test, y_score)))\n",
    "print('f1-score:{}'.format(f1_score(Y_test, y_score)))\n",
    "\n",
    "# update confusion matrix\n",
    "sum_all1 = obj1[0][0] + obj1[0][1]\n",
    "sum_all2 = obj1[1][0] + obj1[1][1]\n",
    "new_obj = np.array(\n",
    "    [\n",
    "        [float(obj1[0][0])/sum_all1, float(obj1[0][1])/sum_all1],\n",
    "        [float(obj1[1][0])/sum_all2, float(obj1[1][1])/sum_all2]\n",
    "    ]\n",
    ")\n",
    "ax = plt.subplots(figsize=(3,3))\n",
    "sns.heatmap(new_obj, fmt='.2f', cmap='Oranges', annot=True)\n",
    "plt.xlabel(\"true label\")\n",
    "plt.ylabel(\"predict label\")\n",
    "plt.title('middle model (sign prediction)\\n' + tissue + ', ' + ml_model)\n",
    "plt.savefig(image_path + 'cm-middle-sign-' + tissue + '-' + ml_model + '.png',dpi=300, bbox_inches = 'tight')\n",
    "plt.show()\n",
    "\n",
    "fpr, tpr, thresholds = roc_curve(y_one_hot.ravel(),y_score_pro.ravel())   \n",
    "auc_ = auc(fpr, tpr)\n",
    "#print(\"AUC : \", auc)\n",
    "ax = plt.subplots(figsize=(3,3))\n",
    "plt.title('middle model (sign prediction)\\n' + tissue + ', ' + ml_model)\n",
    "plt.plot(fpr, tpr, linewidth = 2,label='AUC=%.3f' % auc_,color='#CD853F')\n",
    "plt.plot([0,1],[0,1], 'k--')\n",
    "plt.axis([0,1.1,0,1.1])\n",
    "plt.xlabel('False Postivie Rate')\n",
    "plt.ylabel('True Positive Rate')\n",
    "plt.legend(loc=\"lower right\")\n",
    "plt.savefig(image_path + 'auc-middle-sign-' + tissue + '-' + ml_model + '.png',dpi=300, bbox_inches = 'tight')\n",
    "plt.show()"
   ]
  },
  {
   "cell_type": "markdown",
   "metadata": {},
   "source": [
    "##### model 2:lightgbm"
   ]
  },
  {
   "cell_type": "code",
   "execution_count": null,
   "metadata": {},
   "outputs": [],
   "source": [
    "import lightgbm as lgb\n",
    "from sklearn.model_selection import GridSearchCV\n",
    "\n",
    "cv_params = {'max_depth': np.linspace(1, 50, 10, dtype=int)} # \n",
    "gbm = lgb.LGBMClassifier(seed=seed,verbose=-1)\n",
    "gsearch = GridSearchCV(gbm, param_grid=cv_params, cv=5, scoring='roc_auc')\n",
    "gsearch.fit(X_train, Y_train)\n",
    "max_depth = gsearch.best_params_['max_depth']\n",
    "print(gsearch.best_params_)\n",
    "\n",
    "cv_params = {'num_leaves': np.linspace(2, 50, 5, dtype=int)} # \n",
    "gbm = lgb.LGBMClassifier(seed=seed,max_depth=max_depth,verbose=-1)\n",
    "gsearch = GridSearchCV(gbm, param_grid=cv_params, cv=5, scoring='roc_auc')\n",
    "gsearch.fit(X_train, Y_train)\n",
    "num_leaves = gsearch.best_params_['num_leaves']\n",
    "print(gsearch.best_params_)"
   ]
  },
  {
   "cell_type": "code",
   "execution_count": null,
   "metadata": {},
   "outputs": [],
   "source": [
    "ml_model = model_list[1]\n",
    "clf_lgb = lgb.LGBMClassifier(max_depth=max_depth, num_leaves=num_leaves)\n",
    "clf_lgb.fit(X_train,Y_train)\n",
    "\n",
    "y_score = clf_lgb.predict(X_test)                                   \n",
    "y_score_pro = clf_lgb.predict_proba(X_test) \n",
    "y_one_hot = to_categorical(Y_test)\n",
    "y_score_one_hot = to_categorical(y_score)\n",
    "\n",
    "obj1 = confusion_matrix(Y_test, y_score)\n",
    "print('accuracy:{}'.format(accuracy_score(Y_test, y_score)))\n",
    "print('precision:{}'.format(precision_score(Y_test, y_score)))\n",
    "print('recall:{}'.format(recall_score(Y_test, y_score)))\n",
    "print('f1-score:{}'.format(f1_score(Y_test, y_score)))\n",
    "\n",
    "# update confusion matrix\n",
    "sum_all1 = obj1[0][0] + obj1[0][1]\n",
    "sum_all2 = obj1[1][0] + obj1[1][1]\n",
    "new_obj = np.array(\n",
    "    [\n",
    "        [float(obj1[0][0])/sum_all1, float(obj1[0][1])/sum_all1],\n",
    "        [float(obj1[1][0])/sum_all2, float(obj1[1][1])/sum_all2]\n",
    "    ]\n",
    ")\n",
    "ax = plt.subplots(figsize=(3,3))\n",
    "sns.heatmap(new_obj, fmt='.2f', cmap='Oranges', annot=True)\n",
    "plt.xlabel(\"true label\")\n",
    "plt.ylabel(\"predict label\")\n",
    "plt.title('middle model (sign prediction)\\n' + tissue + ', ' + ml_model)\n",
    "plt.savefig(image_path + 'cm-middle-sign-' + tissue + '-' + ml_model + '.png',dpi=300, bbox_inches = 'tight')\n",
    "plt.show()\n",
    "\n",
    "fpr, tpr, thresholds = roc_curve(y_one_hot.ravel(),y_score_pro.ravel())   \n",
    "auc_ = auc(fpr, tpr)\n",
    "#print(\"AUC : \", auc)\n",
    "ax = plt.subplots(figsize=(3,3))\n",
    "plt.title('middle model (sign prediction)\\n' + tissue + ', ' + ml_model)\n",
    "plt.plot(fpr, tpr, linewidth = 2,label='AUC=%.3f' % auc_,color='#CD853F')\n",
    "plt.plot([0,1],[0,1], 'k--')\n",
    "plt.axis([0,1.1,0,1.1])\n",
    "plt.xlabel('False Postivie Rate')\n",
    "plt.ylabel('True Positive Rate')\n",
    "plt.legend(loc=\"lower right\")\n",
    "plt.savefig(image_path + 'auc-middle-sign-' + tissue + '-' + ml_model + '.png',dpi=300, bbox_inches = 'tight')\n",
    "plt.show()"
   ]
  },
  {
   "cell_type": "markdown",
   "metadata": {},
   "source": [
    "##### model 3: random forest"
   ]
  },
  {
   "cell_type": "code",
   "execution_count": null,
   "metadata": {},
   "outputs": [],
   "source": [
    "from sklearn.ensemble import RandomForestClassifier\n",
    "from sklearn.model_selection import GridSearchCV\n",
    "\n",
    "cv_params = {'n_estimators': np.linspace(10, 200, 10, dtype=int)} \n",
    "rfModel = RandomForestClassifier(random_state = random.seed(seed))\n",
    "grid = GridSearchCV(\n",
    "    rfModel,cv_params,cv = 5,return_train_score = True, scoring='roc_auc')\n",
    "grid.fit(X_train, Y_train)\n",
    "n_estimators = grid.best_params_['n_estimators']\n",
    "print(grid.best_params_)\n",
    "\n",
    "cv_params = {'max_depth': np.linspace(1, 10, 10, dtype=int)} \n",
    "rfModel = RandomForestClassifier(random_state = random.seed(seed),n_estimators=n_estimators)\n",
    "grid = GridSearchCV(\n",
    "    rfModel,cv_params,cv = 5,return_train_score = True, scoring='roc_auc')\n",
    "grid.fit(X_train, Y_train)\n",
    "max_depth=grid.best_params_['max_depth']\n",
    "print(grid.best_params_)"
   ]
  },
  {
   "cell_type": "code",
   "execution_count": null,
   "metadata": {},
   "outputs": [],
   "source": [
    "ml_model = model_list[2]\n",
    "clf_rf = RandomForestClassifier(n_estimators=n_estimators, max_depth=max_depth)\n",
    "clf_rf.fit(X_train,Y_train)\n",
    "\n",
    "y_score = clf_rf.predict(X_test)                                   \n",
    "y_score_pro = clf_rf.predict_proba(X_test) \n",
    "y_one_hot = to_categorical(Y_test)\n",
    "y_score_one_hot = to_categorical(y_score)\n",
    "\n",
    "obj1 = confusion_matrix(Y_test, y_score)\n",
    "print('accuracy:{}'.format(accuracy_score(Y_test, y_score)))\n",
    "print('precision:{}'.format(precision_score(Y_test, y_score)))\n",
    "print('recall:{}'.format(recall_score(Y_test, y_score)))\n",
    "print('f1-score:{}'.format(f1_score(Y_test, y_score)))\n",
    "\n",
    "# update confusion matrix\n",
    "sum_all1 = obj1[0][0] + obj1[0][1]\n",
    "sum_all2 = obj1[1][0] + obj1[1][1]\n",
    "new_obj = np.array(\n",
    "    [\n",
    "        [float(obj1[0][0])/sum_all1, float(obj1[0][1])/sum_all1],\n",
    "        [float(obj1[1][0])/sum_all2, float(obj1[1][1])/sum_all2]\n",
    "    ]\n",
    ")\n",
    "ax = plt.subplots(figsize=(3,3))\n",
    "sns.heatmap(new_obj, fmt='.2f', cmap='Oranges', annot=True)\n",
    "plt.xlabel(\"true label\")\n",
    "plt.ylabel(\"predict label\")\n",
    "plt.title('middle model (sign prediction)\\n' + tissue + ', ' + ml_model)\n",
    "plt.savefig(image_path + 'cm-middle-sign-' + tissue + '-' + ml_model + '.png',dpi=300, bbox_inches = 'tight')\n",
    "plt.show()\n",
    "\n",
    "fpr, tpr, thresholds = roc_curve(y_one_hot.ravel(),y_score_pro.ravel())   \n",
    "auc_ = auc(fpr, tpr)\n",
    "#print(\"AUC : \", auc)\n",
    "ax = plt.subplots(figsize=(3,3))\n",
    "plt.title('middle model (sign prediction)\\n' + tissue + ', ' + ml_model)\n",
    "plt.plot(fpr, tpr, linewidth = 2,label='AUC=%.3f' % auc_,color='#CD853F')\n",
    "plt.plot([0,1],[0,1], 'k--')\n",
    "plt.axis([0,1.1,0,1.1])\n",
    "plt.xlabel('False Postivie Rate')\n",
    "plt.ylabel('True Positive Rate')\n",
    "plt.legend(loc=\"lower right\")\n",
    "plt.savefig(image_path + 'auc-middle-sign-' + tissue + '-' + ml_model + '.png',dpi=300, bbox_inches = 'tight')\n",
    "plt.show()"
   ]
  },
  {
   "cell_type": "markdown",
   "metadata": {},
   "source": [
    "##### model 4: knn"
   ]
  },
  {
   "cell_type": "code",
   "execution_count": null,
   "metadata": {},
   "outputs": [],
   "source": [
    "from sklearn.neighbors import KNeighborsClassifier\n",
    "from sklearn.model_selection import GridSearchCV\n",
    "\n",
    "paramGride = {'n_neighbors': np.linspace(100, 300, 10, dtype=int)} \n",
    "\n",
    "knnModel = KNeighborsClassifier()\n",
    "grid = GridSearchCV(\n",
    "    knnModel,paramGride,cv = 5,return_train_score = True, scoring='roc_auc')\n",
    "grid = grid.fit(X_train,Y_train)\n",
    "grid.best_params_"
   ]
  },
  {
   "cell_type": "code",
   "execution_count": null,
   "metadata": {},
   "outputs": [],
   "source": [
    "ml_model = model_list[3]\n",
    "clf_knn = KNeighborsClassifier(n_neighbors = grid.best_params_['n_neighbors'])\n",
    "clf_knn.fit(X_train,Y_train)\n",
    "\n",
    "y_score = clf_knn.predict(X_test)                                   \n",
    "y_score_pro = clf_knn.predict_proba(X_test) \n",
    "y_one_hot = to_categorical(Y_test)\n",
    "y_score_one_hot = to_categorical(y_score)\n",
    "\n",
    "obj1 = confusion_matrix(Y_test, y_score)\n",
    "print('accuracy:{}'.format(accuracy_score(Y_test, y_score)))\n",
    "print('precision:{}'.format(precision_score(Y_test, y_score)))\n",
    "print('recall:{}'.format(recall_score(Y_test, y_score)))\n",
    "print('f1-score:{}'.format(f1_score(Y_test, y_score)))\n",
    "\n",
    "# update confusion matrix\n",
    "sum_all1 = obj1[0][0] + obj1[0][1]\n",
    "sum_all2 = obj1[1][0] + obj1[1][1]\n",
    "new_obj = np.array(\n",
    "    [\n",
    "        [float(obj1[0][0])/sum_all1, float(obj1[0][1])/sum_all1],\n",
    "        [float(obj1[1][0])/sum_all2, float(obj1[1][1])/sum_all2]\n",
    "    ]\n",
    ")\n",
    "ax = plt.subplots(figsize=(3,3))\n",
    "sns.heatmap(new_obj, fmt='.2f', cmap='Oranges', annot=True)\n",
    "plt.xlabel(\"true label\")\n",
    "plt.ylabel(\"predict label\")\n",
    "plt.title('middle model (sign prediction)\\n' + tissue + ', ' + ml_model)\n",
    "plt.savefig(image_path + 'cm-middle-sign-' + tissue + '-' + ml_model + '.png',dpi=300, bbox_inches = 'tight')\n",
    "plt.show()\n",
    "\n",
    "fpr, tpr, thresholds = roc_curve(y_one_hot.ravel(),y_score_pro.ravel())   \n",
    "auc_ = auc(fpr, tpr)\n",
    "#print(\"AUC : \", auc)\n",
    "ax = plt.subplots(figsize=(3,3))\n",
    "plt.title('middle model (sign prediction)\\n' + tissue + ', ' + ml_model)\n",
    "plt.plot(fpr, tpr, linewidth = 2,label='AUC=%.3f' % auc_,color='#CD853F')\n",
    "plt.plot([0,1],[0,1], 'k--')\n",
    "plt.axis([0,1.1,0,1.1])\n",
    "plt.xlabel('False Postivie Rate')\n",
    "plt.ylabel('True Positive Rate')\n",
    "plt.legend(loc=\"lower right\")\n",
    "plt.savefig(image_path + 'auc-middle-sign-' + tissue + '-' + ml_model + '.png',dpi=300, bbox_inches = 'tight')\n",
    "plt.show()"
   ]
  },
  {
   "cell_type": "markdown",
   "metadata": {},
   "source": [
    "##### model 5: svm"
   ]
  },
  {
   "cell_type": "code",
   "execution_count": null,
   "metadata": {},
   "outputs": [],
   "source": [
    "from sklearn.svm import SVC\n",
    "from sklearn.model_selection import GridSearchCV\n",
    "\n",
    "cv_params = {'gamma': [1e-4,1e-3,1e-2,1e-1,1,10,100,1000]} \n",
    "svmModel = SVC()\n",
    "grid = GridSearchCV(\n",
    "    svmModel,cv_params,cv = 5,return_train_score = True, scoring='roc_auc')\n",
    "grid = grid.fit(X_train,Y_train)\n",
    "gamma = grid.best_params_['gamma']\n",
    "print(grid.best_params_)\n",
    "\n",
    "cv_params = {'C': [1e-4,1e-3,1e-2,1e-1,1,10,100,1000]} \n",
    "svmModel = SVC(gamma=gamma)\n",
    "grid = GridSearchCV(\n",
    "    svmModel,cv_params,cv = 5,return_train_score = True, scoring='roc_auc')\n",
    "grid = grid.fit(X_train,Y_train)\n",
    "C = grid.best_params_['C']\n",
    "print(grid.best_params_)"
   ]
  },
  {
   "cell_type": "code",
   "execution_count": null,
   "metadata": {},
   "outputs": [],
   "source": [
    "ml_model = model_list[4]\n",
    "clf_svm = SVC(probability = True, gamma = gamma, C = C)\n",
    "clf_svm.fit(X_train,Y_train)\n",
    "\n",
    "y_score = clf_svm.predict(X_test)                                   \n",
    "y_score_pro = clf_svm.predict_proba(X_test) \n",
    "y_one_hot = to_categorical(Y_test)\n",
    "y_score_one_hot = to_categorical(y_score)\n",
    "\n",
    "obj1 = confusion_matrix(Y_test, y_score)\n",
    "print('accuracy:{}'.format(accuracy_score(Y_test, y_score)))\n",
    "print('precision:{}'.format(precision_score(Y_test, y_score)))\n",
    "print('recall:{}'.format(recall_score(Y_test, y_score)))\n",
    "print('f1-score:{}'.format(f1_score(Y_test, y_score)))\n",
    "\n",
    "# update confusion matrix\n",
    "sum_all1 = obj1[0][0] + obj1[0][1]\n",
    "sum_all2 = obj1[1][0] + obj1[1][1]\n",
    "new_obj = np.array(\n",
    "    [\n",
    "        [float(obj1[0][0])/sum_all1, float(obj1[0][1])/sum_all1],\n",
    "        [float(obj1[1][0])/sum_all2, float(obj1[1][1])/sum_all2]\n",
    "    ]\n",
    ")\n",
    "ax = plt.subplots(figsize=(3,3))\n",
    "sns.heatmap(new_obj, fmt='.2f', cmap='Oranges', annot=True)\n",
    "plt.xlabel(\"true label\")\n",
    "plt.ylabel(\"predict label\")\n",
    "plt.title('middle model (sign prediction)\\n' + tissue + ', ' + ml_model)\n",
    "plt.savefig(image_path + 'cm-middle-sign-' + tissue + '-' + ml_model + '.png',dpi=300, bbox_inches = 'tight')\n",
    "plt.show()\n",
    "\n",
    "fpr, tpr, thresholds = roc_curve(y_one_hot.ravel(),y_score_pro.ravel())   \n",
    "auc_ = auc(fpr, tpr)\n",
    "#print(\"AUC : \", auc)\n",
    "ax = plt.subplots(figsize=(3,3))\n",
    "plt.title('middle model (sign prediction)\\n' + tissue + ', ' + ml_model)\n",
    "plt.plot(fpr, tpr, linewidth = 2,label='AUC=%.3f' % auc_,color='#CD853F')\n",
    "plt.plot([0,1],[0,1], 'k--')\n",
    "plt.axis([0,1.1,0,1.1])\n",
    "plt.xlabel('False Postivie Rate')\n",
    "plt.ylabel('True Positive Rate')\n",
    "plt.legend(loc=\"lower right\")\n",
    "plt.savefig(image_path + 'auc-middle-sign-' + tissue + '-' + ml_model + '.png',dpi=300, bbox_inches = 'tight')\n",
    "plt.show()"
   ]
  },
  {
   "cell_type": "markdown",
   "metadata": {},
   "source": [
    "#### large model"
   ]
  },
  {
   "cell_type": "code",
   "execution_count": null,
   "metadata": {},
   "outputs": [],
   "source": [
    "model = model_size[2]\n",
    "train_data = pd.read_pickle(data_path + model + '_train.dataset')\n",
    "valid_data = pd.read_pickle(data_path + model + '_valid.dataset')\n",
    "test_data = pd.read_pickle(data_path + model + '_test.dataset')\n",
    "print(train_data.head())\n",
    "\n",
    "merged_data = pd.concat([train_data, valid_data, test_data]) # for machine learning, grid search\n",
    "# new split\n",
    "merged_data = merged_data.sample(frac=1).reset_index(drop=True)\n",
    "train_data = merged_data[0:int(0.9*len(merged_data))].reset_index(drop=True)\n",
    "test_data = merged_data[int(0.9*len(merged_data)):].reset_index(drop=True)\n",
    "\n",
    "sample_list = []\n",
    "y_list = []\n",
    "for i in range(train_data.shape[0]):\n",
    "    feature_list = []\n",
    "    feature_list += train_data['enformer_pca_before'][i].flatten().tolist()\n",
    "    feature_list += train_data['enformer_pca_after'][i].flatten().tolist()\n",
    "    sample_list.append(feature_list)\n",
    "    y_list.append(train_data['label'][i])\n",
    "X_train = np.array(sample_list)\n",
    "Y_train = np.array(y_list)\n",
    "print('X_train shape: ' + str(X_train.shape))\n",
    "print('Y_train shape: ' + str(Y_train.shape))\n",
    "\n",
    "sample_list = []\n",
    "y_list = []\n",
    "for i in range(test_data.shape[0]):\n",
    "    feature_list = []\n",
    "    feature_list += test_data['enformer_pca_before'][i].flatten().tolist()\n",
    "    feature_list += test_data['enformer_pca_after'][i].flatten().tolist()\n",
    "    sample_list.append(feature_list)\n",
    "    y_list.append(test_data['label'][i])\n",
    "X_test = np.array(sample_list)\n",
    "Y_test = np.array(y_list)\n",
    "print('X_test shape: ' + str(X_test.shape))\n",
    "print('Y_test shape: ' + str(Y_test.shape))"
   ]
  },
  {
   "cell_type": "markdown",
   "metadata": {},
   "source": [
    "##### model 1: xgboost"
   ]
  },
  {
   "cell_type": "code",
   "execution_count": null,
   "metadata": {},
   "outputs": [],
   "source": [
    "# model 1: xgboost\n",
    "import xgboost as xgb\n",
    "from sklearn.model_selection import GridSearchCV\n",
    "\n",
    "cv_params = {'n_estimators': np.linspace(10, 300, 10, dtype=int)} # \n",
    "xgb_model = xgb.XGBClassifier(seed=seed)\n",
    "# https://scikit-learn.org/stable/modules/model_evaluation.html\n",
    "gs = GridSearchCV(xgb_model, cv_params, refit=True, cv=5, scoring='roc_auc')\n",
    "gs.fit(X_train,Y_train)\n",
    "n_estimators = gs.best_params_['n_estimators']\n",
    "print(gs.best_params_)\n",
    "\n",
    "cv_params = {'max_depth': np.linspace(1, 10, 10, dtype=int)} # \n",
    "xgb_model = xgb.XGBClassifier(seed=seed,n_estimators=n_estimators)\n",
    "gs = GridSearchCV(xgb_model, cv_params, refit=True, cv=5, scoring='roc_auc')\n",
    "gs.fit(X_train,Y_train)\n",
    "max_depth = gs.best_params_['max_depth']\n",
    "print(gs.best_params_)"
   ]
  },
  {
   "cell_type": "code",
   "execution_count": null,
   "metadata": {},
   "outputs": [],
   "source": [
    "ml_model = model_list[0]\n",
    "clf_xgb = xgb.XGBClassifier(n_estimators=n_estimators, max_depth=max_depth) # from grid search\n",
    "clf_xgb.fit(X_train,Y_train)\n",
    "\n",
    "y_score = clf_xgb.predict(X_test)                                   \n",
    "y_score_pro = clf_xgb.predict_proba(X_test) \n",
    "y_one_hot = to_categorical(Y_test)\n",
    "y_score_one_hot = to_categorical(y_score)\n",
    "\n",
    "obj1 = confusion_matrix(Y_test, y_score)\n",
    "print('accuracy:{}'.format(accuracy_score(Y_test, y_score)))\n",
    "print('precision:{}'.format(precision_score(Y_test, y_score)))\n",
    "print('recall:{}'.format(recall_score(Y_test, y_score)))\n",
    "print('f1-score:{}'.format(f1_score(Y_test, y_score)))\n",
    "\n",
    "# update confusion matrix\n",
    "sum_all1 = obj1[0][0] + obj1[0][1]\n",
    "sum_all2 = obj1[1][0] + obj1[1][1]\n",
    "new_obj = np.array(\n",
    "    [\n",
    "        [float(obj1[0][0])/sum_all1, float(obj1[0][1])/sum_all1],\n",
    "        [float(obj1[1][0])/sum_all2, float(obj1[1][1])/sum_all2]\n",
    "    ]\n",
    ")\n",
    "ax = plt.subplots(figsize=(3,3))\n",
    "sns.heatmap(new_obj, fmt='.2f', cmap='RdPu', annot=True)\n",
    "plt.xlabel(\"true label\")\n",
    "plt.ylabel(\"predict label\")\n",
    "plt.title('large model (sign prediction)\\n' + tissue + ', ' + ml_model)\n",
    "plt.savefig(image_path + 'cm-large-sign-' + tissue + '-' + ml_model + '.png',dpi=300, bbox_inches = 'tight')\n",
    "plt.show()\n",
    "\n",
    "fpr, tpr, thresholds = roc_curve(y_one_hot.ravel(),y_score_pro.ravel())   \n",
    "auc_ = auc(fpr, tpr)\n",
    "#print(\"AUC : \", auc)\n",
    "ax = plt.subplots(figsize=(3,3))\n",
    "plt.title('large model (sign prediction)\\n' + tissue + ', ' + ml_model)\n",
    "plt.plot(fpr, tpr, linewidth = 2,label='AUC=%.3f' % auc_,color='#8A2BE2')\n",
    "plt.plot([0,1],[0,1], 'k--')\n",
    "plt.axis([0,1.1,0,1.1])\n",
    "plt.xlabel('False Postivie Rate')\n",
    "plt.ylabel('True Positive Rate')\n",
    "plt.legend(loc=\"lower right\")\n",
    "plt.savefig(image_path + 'auc-large-sign-' + tissue + '-' + ml_model + '.png',dpi=300, bbox_inches = 'tight')\n",
    "plt.show()"
   ]
  },
  {
   "cell_type": "markdown",
   "metadata": {},
   "source": [
    "##### model 2:lightgbm"
   ]
  },
  {
   "cell_type": "code",
   "execution_count": null,
   "metadata": {},
   "outputs": [],
   "source": [
    "import lightgbm as lgb\n",
    "from sklearn.model_selection import GridSearchCV\n",
    "\n",
    "cv_params = {'max_depth': np.linspace(1, 50, 10, dtype=int)} # \n",
    "gbm = lgb.LGBMClassifier(seed=seed,verbose=-1)\n",
    "gsearch = GridSearchCV(gbm, param_grid=cv_params, cv=5, scoring='roc_auc')\n",
    "gsearch.fit(X_train, Y_train)\n",
    "max_depth = gsearch.best_params_['max_depth']\n",
    "print(gsearch.best_params_)\n",
    "\n",
    "cv_params = {'num_leaves': np.linspace(2, 50, 5, dtype=int)} # \n",
    "gbm = lgb.LGBMClassifier(seed=seed,max_depth=max_depth,verbose=-1)\n",
    "gsearch = GridSearchCV(gbm, param_grid=cv_params, cv=5, scoring='roc_auc')\n",
    "gsearch.fit(X_train, Y_train)\n",
    "num_leaves = gsearch.best_params_['num_leaves']\n",
    "print(gsearch.best_params_)"
   ]
  },
  {
   "cell_type": "code",
   "execution_count": null,
   "metadata": {},
   "outputs": [],
   "source": [
    "ml_model = model_list[1]\n",
    "clf_lgb = lgb.LGBMClassifier(max_depth=max_depth, num_leaves=num_leaves)\n",
    "clf_lgb.fit(X_train,Y_train)\n",
    "\n",
    "y_score = clf_lgb.predict(X_test)                                   \n",
    "y_score_pro = clf_lgb.predict_proba(X_test) \n",
    "y_one_hot = to_categorical(Y_test)\n",
    "y_score_one_hot = to_categorical(y_score)\n",
    "\n",
    "obj1 = confusion_matrix(Y_test, y_score)\n",
    "print('accuracy:{}'.format(accuracy_score(Y_test, y_score)))\n",
    "print('precision:{}'.format(precision_score(Y_test, y_score)))\n",
    "print('recall:{}'.format(recall_score(Y_test, y_score)))\n",
    "print('f1-score:{}'.format(f1_score(Y_test, y_score)))\n",
    "\n",
    "# update confusion matrix\n",
    "sum_all1 = obj1[0][0] + obj1[0][1]\n",
    "sum_all2 = obj1[1][0] + obj1[1][1]\n",
    "new_obj = np.array(\n",
    "    [\n",
    "        [float(obj1[0][0])/sum_all1, float(obj1[0][1])/sum_all1],\n",
    "        [float(obj1[1][0])/sum_all2, float(obj1[1][1])/sum_all2]\n",
    "    ]\n",
    ")\n",
    "ax = plt.subplots(figsize=(3,3))\n",
    "sns.heatmap(new_obj, fmt='.2f', cmap='RdPu', annot=True)\n",
    "plt.xlabel(\"true label\")\n",
    "plt.ylabel(\"predict label\")\n",
    "plt.title('large model (sign prediction)\\n' + tissue + ', ' + ml_model)\n",
    "plt.savefig(image_path + 'cm-large-sign-' + tissue + '-' + ml_model + '.png',dpi=300, bbox_inches = 'tight')\n",
    "plt.show()\n",
    "\n",
    "fpr, tpr, thresholds = roc_curve(y_one_hot.ravel(),y_score_pro.ravel())   \n",
    "auc_ = auc(fpr, tpr)\n",
    "#print(\"AUC : \", auc)\n",
    "ax = plt.subplots(figsize=(3,3))\n",
    "plt.title('large model (sign prediction)\\n' + tissue + ', ' + ml_model)\n",
    "plt.plot(fpr, tpr, linewidth = 2,label='AUC=%.3f' % auc_,color='#8A2BE2')\n",
    "plt.plot([0,1],[0,1], 'k--')\n",
    "plt.axis([0,1.1,0,1.1])\n",
    "plt.xlabel('False Postivie Rate')\n",
    "plt.ylabel('True Positive Rate')\n",
    "plt.legend(loc=\"lower right\")\n",
    "plt.savefig(image_path + 'auc-large-sign-' + tissue + '-' + ml_model + '.png',dpi=300, bbox_inches = 'tight')\n",
    "plt.show()"
   ]
  },
  {
   "cell_type": "markdown",
   "metadata": {},
   "source": [
    "##### model 3: random forest"
   ]
  },
  {
   "cell_type": "code",
   "execution_count": null,
   "metadata": {},
   "outputs": [],
   "source": [
    "from sklearn.ensemble import RandomForestClassifier\n",
    "from sklearn.model_selection import GridSearchCV\n",
    "\n",
    "cv_params = {'n_estimators': np.linspace(10, 200, 10, dtype=int)} \n",
    "rfModel = RandomForestClassifier(random_state = random.seed(seed))\n",
    "grid = GridSearchCV(\n",
    "    rfModel,cv_params,cv = 5,return_train_score = True, scoring='roc_auc')\n",
    "grid.fit(X_train, Y_train)\n",
    "n_estimators = grid.best_params_['n_estimators']\n",
    "print(grid.best_params_)\n",
    "\n",
    "cv_params = {'max_depth': np.linspace(1, 10, 10, dtype=int)} \n",
    "rfModel = RandomForestClassifier(random_state = random.seed(seed),n_estimators=n_estimators)\n",
    "grid = GridSearchCV(\n",
    "    rfModel,cv_params,cv = 5,return_train_score = True, scoring='roc_auc')\n",
    "grid.fit(X_train, Y_train)\n",
    "max_depth=grid.best_params_['max_depth']\n",
    "print(grid.best_params_)"
   ]
  },
  {
   "cell_type": "code",
   "execution_count": null,
   "metadata": {},
   "outputs": [],
   "source": [
    "ml_model = model_list[2]\n",
    "clf_rf = RandomForestClassifier(n_estimators=n_estimators, max_depth=max_depth)\n",
    "clf_rf.fit(X_train,Y_train)\n",
    "\n",
    "y_score = clf_rf.predict(X_test)                                   \n",
    "y_score_pro = clf_rf.predict_proba(X_test) \n",
    "y_one_hot = to_categorical(Y_test)\n",
    "y_score_one_hot = to_categorical(y_score)\n",
    "\n",
    "obj1 = confusion_matrix(Y_test, y_score)\n",
    "print('accuracy:{}'.format(accuracy_score(Y_test, y_score)))\n",
    "print('precision:{}'.format(precision_score(Y_test, y_score)))\n",
    "print('recall:{}'.format(recall_score(Y_test, y_score)))\n",
    "print('f1-score:{}'.format(f1_score(Y_test, y_score)))\n",
    "\n",
    "# update confusion matrix\n",
    "sum_all1 = obj1[0][0] + obj1[0][1]\n",
    "sum_all2 = obj1[1][0] + obj1[1][1]\n",
    "new_obj = np.array(\n",
    "    [\n",
    "        [float(obj1[0][0])/sum_all1, float(obj1[0][1])/sum_all1],\n",
    "        [float(obj1[1][0])/sum_all2, float(obj1[1][1])/sum_all2]\n",
    "    ]\n",
    ")\n",
    "ax = plt.subplots(figsize=(3,3))\n",
    "sns.heatmap(new_obj, fmt='.2f', cmap='RdPu', annot=True)\n",
    "plt.xlabel(\"true label\")\n",
    "plt.ylabel(\"predict label\")\n",
    "plt.title('large model (sign prediction)\\n' + tissue + ', ' + ml_model)\n",
    "plt.savefig(image_path + 'cm-large-sign-' + tissue + '-' + ml_model + '.png',dpi=300, bbox_inches = 'tight')\n",
    "plt.show()\n",
    "\n",
    "fpr, tpr, thresholds = roc_curve(y_one_hot.ravel(),y_score_pro.ravel())   \n",
    "auc_ = auc(fpr, tpr)\n",
    "#print(\"AUC : \", auc)\n",
    "ax = plt.subplots(figsize=(3,3))\n",
    "plt.title('large model (sign prediction)\\n' + tissue + ', ' + ml_model)\n",
    "plt.plot(fpr, tpr, linewidth = 2,label='AUC=%.3f' % auc_,color='#8A2BE2')\n",
    "plt.plot([0,1],[0,1], 'k--')\n",
    "plt.axis([0,1.1,0,1.1])\n",
    "plt.xlabel('False Postivie Rate')\n",
    "plt.ylabel('True Positive Rate')\n",
    "plt.legend(loc=\"lower right\")\n",
    "plt.savefig(image_path + 'auc-large-sign-' + tissue + '-' + ml_model + '.png',dpi=300, bbox_inches = 'tight')\n",
    "plt.show()"
   ]
  },
  {
   "cell_type": "markdown",
   "metadata": {},
   "source": [
    "##### model 4: knn"
   ]
  },
  {
   "cell_type": "code",
   "execution_count": null,
   "metadata": {},
   "outputs": [],
   "source": [
    "from sklearn.neighbors import KNeighborsClassifier\n",
    "from sklearn.model_selection import GridSearchCV\n",
    "\n",
    "paramGride = {'n_neighbors': np.linspace(100, 300, 10, dtype=int)} \n",
    "\n",
    "knnModel = KNeighborsClassifier()\n",
    "grid = GridSearchCV(\n",
    "    knnModel,paramGride,cv = 5,return_train_score = True, scoring='roc_auc')\n",
    "grid = grid.fit(X_train,Y_train)\n",
    "grid.best_params_"
   ]
  },
  {
   "cell_type": "code",
   "execution_count": null,
   "metadata": {},
   "outputs": [],
   "source": [
    "ml_model = model_list[3]\n",
    "clf_knn = KNeighborsClassifier(n_neighbors = grid.best_params_['n_neighbors'])\n",
    "clf_knn.fit(X_train,Y_train)\n",
    "\n",
    "y_score = clf_knn.predict(X_test)                                   \n",
    "y_score_pro = clf_knn.predict_proba(X_test) \n",
    "y_one_hot = to_categorical(Y_test)\n",
    "y_score_one_hot = to_categorical(y_score)\n",
    "\n",
    "obj1 = confusion_matrix(Y_test, y_score)\n",
    "print('accuracy:{}'.format(accuracy_score(Y_test, y_score)))\n",
    "print('precision:{}'.format(precision_score(Y_test, y_score)))\n",
    "print('recall:{}'.format(recall_score(Y_test, y_score)))\n",
    "print('f1-score:{}'.format(f1_score(Y_test, y_score)))\n",
    "\n",
    "# update confusion matrix\n",
    "sum_all1 = obj1[0][0] + obj1[0][1]\n",
    "sum_all2 = obj1[1][0] + obj1[1][1]\n",
    "new_obj = np.array(\n",
    "    [\n",
    "        [float(obj1[0][0])/sum_all1, float(obj1[0][1])/sum_all1],\n",
    "        [float(obj1[1][0])/sum_all2, float(obj1[1][1])/sum_all2]\n",
    "    ]\n",
    ")\n",
    "ax = plt.subplots(figsize=(3,3))\n",
    "sns.heatmap(new_obj, fmt='.2f', cmap='RdPu', annot=True)\n",
    "plt.xlabel(\"true label\")\n",
    "plt.ylabel(\"predict label\")\n",
    "plt.title('large model (sign prediction)\\n' + tissue + ', ' + ml_model)\n",
    "plt.savefig(image_path + 'cm-large-sign-' + tissue + '-' + ml_model + '.png',dpi=300, bbox_inches = 'tight')\n",
    "plt.show()\n",
    "\n",
    "fpr, tpr, thresholds = roc_curve(y_one_hot.ravel(),y_score_pro.ravel())   \n",
    "auc_ = auc(fpr, tpr)\n",
    "#print(\"AUC : \", auc)\n",
    "ax = plt.subplots(figsize=(3,3))\n",
    "plt.title('large model (sign prediction)\\n' + tissue + ', ' + ml_model)\n",
    "plt.plot(fpr, tpr, linewidth = 2,label='AUC=%.3f' % auc_,color='#8A2BE2')\n",
    "plt.plot([0,1],[0,1], 'k--')\n",
    "plt.axis([0,1.1,0,1.1])\n",
    "plt.xlabel('False Postivie Rate')\n",
    "plt.ylabel('True Positive Rate')\n",
    "plt.legend(loc=\"lower right\")\n",
    "plt.savefig(image_path + 'auc-large-sign-' + tissue + '-' + ml_model + '.png',dpi=300, bbox_inches = 'tight')\n",
    "plt.show()"
   ]
  },
  {
   "cell_type": "markdown",
   "metadata": {},
   "source": [
    "##### model 5: svm"
   ]
  },
  {
   "cell_type": "code",
   "execution_count": null,
   "metadata": {},
   "outputs": [],
   "source": [
    "from sklearn.svm import SVC\n",
    "from sklearn.model_selection import GridSearchCV\n",
    "\n",
    "cv_params = {'gamma': [1e-4,1e-3,1e-2,1e-1,1,10,100,1000]} \n",
    "svmModel = SVC()\n",
    "grid = GridSearchCV(\n",
    "    svmModel,cv_params,cv = 5,return_train_score = True, scoring='roc_auc')\n",
    "grid = grid.fit(X_train,Y_train)\n",
    "gamma = grid.best_params_['gamma']\n",
    "print(grid.best_params_)\n",
    "\n",
    "cv_params = {'C': [1e-4,1e-3,1e-2,1e-1,1,10,100,1000]} \n",
    "svmModel = SVC(gamma=gamma)\n",
    "grid = GridSearchCV(\n",
    "    svmModel,cv_params,cv = 5,return_train_score = True, scoring='roc_auc')\n",
    "grid = grid.fit(X_train,Y_train)\n",
    "C = grid.best_params_['C']\n",
    "print(grid.best_params_)"
   ]
  },
  {
   "cell_type": "code",
   "execution_count": null,
   "metadata": {},
   "outputs": [],
   "source": [
    "ml_model = model_list[4]\n",
    "clf_svm = SVC(probability = True, gamma = gamma, C = C)\n",
    "clf_svm.fit(X_train,Y_train)\n",
    "\n",
    "y_score = clf_svm.predict(X_test)                                   \n",
    "y_score_pro = clf_svm.predict_proba(X_test) \n",
    "y_one_hot = to_categorical(Y_test)\n",
    "y_score_one_hot = to_categorical(y_score)\n",
    "\n",
    "obj1 = confusion_matrix(Y_test, y_score)\n",
    "print('accuracy:{}'.format(accuracy_score(Y_test, y_score)))\n",
    "print('precision:{}'.format(precision_score(Y_test, y_score)))\n",
    "print('recall:{}'.format(recall_score(Y_test, y_score)))\n",
    "print('f1-score:{}'.format(f1_score(Y_test, y_score)))\n",
    "\n",
    "# update confusion matrix\n",
    "sum_all1 = obj1[0][0] + obj1[0][1]\n",
    "sum_all2 = obj1[1][0] + obj1[1][1]\n",
    "new_obj = np.array(\n",
    "    [\n",
    "        [float(obj1[0][0])/sum_all1, float(obj1[0][1])/sum_all1],\n",
    "        [float(obj1[1][0])/sum_all2, float(obj1[1][1])/sum_all2]\n",
    "    ]\n",
    ")\n",
    "ax = plt.subplots(figsize=(3,3))\n",
    "sns.heatmap(new_obj, fmt='.2f', cmap='RdPu', annot=True)\n",
    "plt.xlabel(\"true label\")\n",
    "plt.ylabel(\"predict label\")\n",
    "plt.title('large model (sign prediction)\\n' + tissue + ', ' + ml_model)\n",
    "plt.savefig(image_path + 'cm-large-sign-' + tissue + '-' + ml_model + '.png',dpi=300, bbox_inches = 'tight')\n",
    "plt.show()\n",
    "\n",
    "fpr, tpr, thresholds = roc_curve(y_one_hot.ravel(),y_score_pro.ravel())   \n",
    "auc_ = auc(fpr, tpr)\n",
    "#print(\"AUC : \", auc)\n",
    "ax = plt.subplots(figsize=(3,3))\n",
    "plt.title('large model (sign prediction)\\n' + tissue + ', ' + ml_model)\n",
    "plt.plot(fpr, tpr, linewidth = 2,label='AUC=%.3f' % auc_,color='#8A2BE2')\n",
    "plt.plot([0,1],[0,1], 'k--')\n",
    "plt.axis([0,1.1,0,1.1])\n",
    "plt.xlabel('False Postivie Rate')\n",
    "plt.ylabel('True Positive Rate')\n",
    "plt.legend(loc=\"lower right\")\n",
    "plt.savefig(image_path + 'auc-large-sign-' + tissue + '-' + ml_model + '.png',dpi=300, bbox_inches = 'tight')\n",
    "plt.show()"
   ]
  }
 ],
 "metadata": {
  "kernelspec": {
   "display_name": "benchmark-env",
   "language": "python",
   "name": "benchmark"
  },
  "language_info": {
   "codemirror_mode": {
    "name": "ipython",
    "version": 3
   },
   "file_extension": ".py",
   "mimetype": "text/x-python",
   "name": "python",
   "nbconvert_exporter": "python",
   "pygments_lexer": "ipython3",
   "version": "3.9.19"
  },
  "vscode": {
   "interpreter": {
    "hash": "6fff98fc3b3d81bd655c2cc48858186e4d9e2db7b515bf1c3221888f12a62f87"
   }
  }
 },
 "nbformat": 4,
 "nbformat_minor": 2
}
