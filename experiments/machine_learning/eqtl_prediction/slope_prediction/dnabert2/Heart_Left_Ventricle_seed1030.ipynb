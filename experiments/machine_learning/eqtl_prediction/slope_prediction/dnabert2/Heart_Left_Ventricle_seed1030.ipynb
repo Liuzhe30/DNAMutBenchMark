{
 "cells": [
  {
   "cell_type": "markdown",
   "metadata": {},
   "source": [
    "### exp: eqtl prediction, slope prediction, dnabert2 for machine learning"
   ]
  },
  {
   "cell_type": "code",
   "execution_count": 1,
   "metadata": {},
   "outputs": [],
   "source": [
    "import os\n",
    "import pandas as pd\n",
    "import numpy as np\n",
    "import seaborn as sns\n",
    "from sklearn.metrics import r2_score, mean_squared_error\n",
    "from scipy.stats import pearsonr\n",
    "import matplotlib.pyplot as plt\n",
    "%matplotlib inline\n",
    "\n",
    "import warnings\n",
    "warnings.filterwarnings('ignore')"
   ]
  },
  {
   "cell_type": "code",
   "execution_count": 2,
   "metadata": {},
   "outputs": [],
   "source": [
    "model_size = ['small','middle','large']\n",
    "model_list = ['xgboost','lightgbm','random forest','knn','svm']\n",
    "tissue = 'Heart_Left_Ventricle'\n",
    "data_path = '../../../../../datasets_embedding/dnabert2/eqtl_datasets/slope_prediction/' + tissue + '/'\n",
    "image_path = 'images_seed1030/'\n",
    "# set seed\n",
    "seed = 1030\n",
    "import random\n",
    "random.seed(seed)\n",
    "np.random.seed(seed)"
   ]
  },
  {
   "cell_type": "markdown",
   "metadata": {},
   "source": [
    "#### small model"
   ]
  },
  {
   "cell_type": "code",
   "execution_count": 3,
   "metadata": {},
   "outputs": [
    {
     "name": "stdout",
     "output_type": "stream",
     "text": [
      "         phenotype_id             variant_id  tss_distance       maf  \\\n",
      "0   ENSG00000236423.5   chr1_3900688_T_C_b38           316  0.084098   \n",
      "1   ENSG00000090432.6  chr1_20508117_C_A_b38           -44  0.134969   \n",
      "2   ENSG00000228172.5  chr1_25820023_G_C_b38          -738  0.463303   \n",
      "3  ENSG00000117640.17  chr1_25820023_G_C_b38          -775  0.463303   \n",
      "4  ENSG00000000938.12  chr1_27634281_G_A_b38          -996  0.067278   \n",
      "\n",
      "  ma_samples ma_count  pval_nominal     slope  slope_se  \\\n",
      "0         52       55  1.657173e-06  0.342601  0.069935   \n",
      "1         82       88  6.482217e-12  0.276024  0.038419   \n",
      "2        242      303  4.628220e-23  0.513832  0.047313   \n",
      "3        242      303  9.349158e-65  0.530491  0.023360   \n",
      "4         42       44  2.717342e-12  0.523637  0.071486   \n",
      "\n",
      "                                          seq_before  \\\n",
      "0  AGGAGAGCCTCCATGCAGCTCAGAGCCTCCCAAGTGGACCGGGACC...   \n",
      "1  agcccagatcccgccactgcactccagcctgggcgacacagcaaga...   \n",
      "2  CCCGCGGGGGCACGGTCTCGATGGAGGGGAGTGTGCTCCGCGGTAT...   \n",
      "3  CCGCGGTATCGGAGCCTACAGCCGCCAGCGCCTCGCCCACTCGGGG...   \n",
      "4  CGGGGAGCGCGGGCCGAGACCGCCGCGGGCGCGGAGGGGGCGCCCG...   \n",
      "\n",
      "                                           seq_after  seq_len  \\\n",
      "0  AGGAGAGCCTCCATGCAGCTCAGAGCCTCCCAAGTGGACCGGGACC...     2001   \n",
      "1  agcccagatcccgccactgcactccagcctgggcgacacagcaaga...     2001   \n",
      "2  CCCGCGGGGGCACGGTCTCGATGGAGGGGAGTGTGCTCCGCGGTAT...     2001   \n",
      "3  CCGCGGTATCGGAGCCTACAGCCGCCAGCGCCTCGCCCACTCGGGG...     2001   \n",
      "4  CGGGAAGCGCGGGCCGAGACCGCCGCGGGCGCGGAGGGGGCGCCCG...     2001   \n",
      "\n",
      "                                      dnabert_before  dnabert_before_time  \\\n",
      "0  [-0.084983654, 0.06441725, 0.08030583, -0.1089...             0.546120   \n",
      "1  [-0.13061391, -0.031179642, 0.104500555, 0.096...             0.422569   \n",
      "2  [-0.11185429, 0.0075859907, 0.13453141, 0.0174...             0.244957   \n",
      "3  [-0.08537432, 0.0030676348, 0.09144605, 0.0313...             0.246186   \n",
      "4  [-0.15449212, 0.0038669421, 0.05909222, 0.0352...             0.242172   \n",
      "\n",
      "                                       dnabert_after  dnabert_after_time  \n",
      "0  [-0.083976865, 0.06436349, 0.08060564, -0.1095...            0.183182  \n",
      "1  [-0.1300129, -0.030255111, 0.104464486, 0.0959...            0.467412  \n",
      "2  [-0.11145273, 0.0075547933, 0.13391916, 0.0171...            0.238765  \n",
      "3  [-0.08546762, 0.0027409324, 0.09156664, 0.0312...            0.245635  \n",
      "4  [-0.15460901, 0.0050147884, 0.060162775, 0.035...            0.239909  \n",
      "X_train shape: (222, 1536)\n",
      "Y_train shape: (222,)\n",
      "X_test shape: (19, 1536)\n",
      "Y_test shape: (19,)\n"
     ]
    }
   ],
   "source": [
    "model = model_size[0]\n",
    "train_data = pd.read_pickle(data_path + model + '_train.dataset')\n",
    "valid_data = pd.read_pickle(data_path + model + '_valid.dataset')\n",
    "test_data = pd.read_pickle(data_path + model + '_test.dataset')\n",
    "print(train_data.head())\n",
    "\n",
    "train_data = train_data.sample(frac=1).reset_index(drop=True)\n",
    "valid_data = valid_data.sample(frac=1).reset_index(drop=True)\n",
    "test_data = test_data.sample(frac=1).reset_index(drop=True)\n",
    "\n",
    "train_data = pd.concat([train_data, valid_data]).reset_index(drop=True) # for machine learning, grid search\n",
    "sample_list = []\n",
    "y_list = []\n",
    "for i in range(train_data.shape[0]):\n",
    "    feature_list = []\n",
    "    feature_list += train_data['dnabert_before'][i].flatten().tolist()\n",
    "    feature_list += train_data['dnabert_after'][i].flatten().tolist()\n",
    "    sample_list.append(feature_list)\n",
    "    y_list.append(train_data['slope'][i])\n",
    "X_train = np.array(sample_list)\n",
    "Y_train = np.array(y_list)\n",
    "print('X_train shape: ' + str(X_train.shape))\n",
    "print('Y_train shape: ' + str(Y_train.shape))\n",
    "\n",
    "sample_list = []\n",
    "y_list = []\n",
    "for i in range(test_data.shape[0]):\n",
    "    feature_list = []\n",
    "    feature_list += test_data['dnabert_before'][i].flatten().tolist()\n",
    "    feature_list += test_data['dnabert_after'][i].flatten().tolist()\n",
    "    sample_list.append(feature_list)\n",
    "    y_list.append(test_data['slope'][i])\n",
    "X_test = np.array(sample_list)\n",
    "Y_test = np.array(y_list)\n",
    "print('X_test shape: ' + str(X_test.shape))\n",
    "print('Y_test shape: ' + str(Y_test.shape))"
   ]
  },
  {
   "cell_type": "markdown",
   "metadata": {},
   "source": [
    "##### model 1: xgboost"
   ]
  },
  {
   "cell_type": "code",
   "execution_count": 4,
   "metadata": {},
   "outputs": [
    {
     "name": "stdout",
     "output_type": "stream",
     "text": [
      "{'n_estimators': 300}\n",
      "{'max_depth': 4}\n"
     ]
    }
   ],
   "source": [
    "# model 1: xgboost\n",
    "import xgboost as xgb\n",
    "from sklearn.model_selection import GridSearchCV\n",
    "\n",
    "cv_params = {'n_estimators': np.linspace(10, 300, 10, dtype=int)} # \n",
    "xgb_model = xgb.XGBRegressor(seed=seed)\n",
    "# https://scikit-learn.org/stable/modules/model_evaluation.html\n",
    "gs = GridSearchCV(xgb_model, cv_params, refit=True, cv=5, scoring='neg_mean_absolute_error')\n",
    "gs.fit(X_train,Y_train)\n",
    "n_estimators = gs.best_params_['n_estimators']\n",
    "print(gs.best_params_)\n",
    "\n",
    "cv_params = {'max_depth': np.linspace(1, 10, 10, dtype=int)} # \n",
    "xgb_model = xgb.XGBRegressor(seed=seed,n_estimators=n_estimators)\n",
    "gs = GridSearchCV(xgb_model, cv_params, refit=True, cv=5, scoring='neg_mean_absolute_error')\n",
    "gs.fit(X_train,Y_train)\n",
    "max_depth = gs.best_params_['max_depth']\n",
    "print(gs.best_params_)"
   ]
  },
  {
   "cell_type": "code",
   "execution_count": 5,
   "metadata": {},
   "outputs": [
    {
     "name": "stdout",
     "output_type": "stream",
     "text": [
      "rmse= 0.6568983788626929\n",
      "r2= -0.07409274645943231\n",
      "pcc= 0.22362936575893796\n",
      "pcc_p= 0.35739900369050787\n"
     ]
    },
    {
     "data": {
      "image/png": "[encoded data removed]",
      "text/plain": [
       "<Figure size 300x300 with 1 Axes>"
      ]
     },
     "metadata": {},
     "output_type": "display_data"
    }
   ],
   "source": [
    "ml_model = model_list[0]\n",
    "clf_xgb = xgb.XGBRegressor(n_estimators=n_estimators,  max_depth=max_depth) # from grid search\n",
    "\n",
    "clf_xgb.fit(X_train,Y_train)\n",
    "\n",
    "y_pred = clf_xgb.predict(X_test)                                   \n",
    "\n",
    "rmse = np.sqrt(mean_squared_error(Y_test, y_pred))\n",
    "r2 = r2_score(Y_test, y_pred)\n",
    "pcc = pearsonr(Y_test, y_pred)[0]\n",
    "pcc_p = pearsonr(Y_test, y_pred)[1]\n",
    "\n",
    "print('rmse=',rmse)\n",
    "print('r2=',r2)\n",
    "print('pcc=',pcc)\n",
    "print('pcc_p=',pcc_p)\n",
    "\n",
    "ax = plt.subplots(figsize=(3,3))\n",
    "plt.ylabel(\"true label\")\n",
    "plt.xlabel(\"pred label\")\n",
    "sns.regplot(x=y_pred,y=Y_test,x_jitter = 0.15,y_jitter = 0.15,\n",
    "            scatter_kws = {'color':'#2E8B57','alpha':0.7,'s':15}, line_kws={\"color\": \"#006400\"},truncate=False)\n",
    "plt.title('small model (slope prediction)\\n' + tissue + ', ' + ml_model)\n",
    "\n",
    "plt.savefig(image_path + 'cm-small-slope-' + tissue + '-' + ml_model + '.png',dpi=300, bbox_inches = 'tight')\n",
    "plt.show()"
   ]
  },
  {
   "cell_type": "markdown",
   "metadata": {},
   "source": [
    "##### model 2:lightgbm"
   ]
  },
  {
   "cell_type": "code",
   "execution_count": 6,
   "metadata": {},
   "outputs": [
    {
     "name": "stdout",
     "output_type": "stream",
     "text": [
      "{'max_depth': 11}\n",
      "{'num_leaves': 14}\n"
     ]
    }
   ],
   "source": [
    "import lightgbm as lgb\n",
    "from sklearn.model_selection import GridSearchCV\n",
    "\n",
    "cv_params = {'max_depth': np.linspace(1, 50, 10, dtype=int)} # \n",
    "gbm = lgb.LGBMRegressor(seed=seed,verbose=-1)\n",
    "gsearch = GridSearchCV(gbm, param_grid=cv_params, cv=5, scoring='neg_mean_absolute_error')\n",
    "gsearch.fit(X_train, Y_train)\n",
    "max_depth = gsearch.best_params_['max_depth']\n",
    "print(gsearch.best_params_)\n",
    "\n",
    "cv_params = {'num_leaves': np.linspace(2, 50, 5, dtype=int)} # \n",
    "gbm = lgb.LGBMRegressor(seed=seed,max_depth=max_depth,verbose=-1)\n",
    "gsearch = GridSearchCV(gbm, param_grid=cv_params, cv=5, scoring='neg_mean_absolute_error')\n",
    "gsearch.fit(X_train, Y_train)\n",
    "num_leaves = gsearch.best_params_['num_leaves']\n",
    "print(gsearch.best_params_)"
   ]
  },
  {
   "cell_type": "code",
   "execution_count": 7,
   "metadata": {},
   "outputs": [
    {
     "name": "stdout",
     "output_type": "stream",
     "text": [
      "[LightGBM] [Info] Auto-choosing col-wise multi-threading, the overhead of testing was 0.144363 seconds.\n",
      "You can set `force_col_wise=true` to remove the overhead.\n",
      "[LightGBM] [Info] Total Bins 114770\n",
      "[LightGBM] [Info] Number of data points in the train set: 222, number of used features: 1536\n",
      "[LightGBM] [Info] Start training from score 0.201104\n",
      "[LightGBM] [Warning] No further splits with positive gain, best gain: -inf\n",
      "[LightGBM] [Warning] No further splits with positive gain, best gain: -inf\n",
      "[LightGBM] [Warning] No further splits with positive gain, best gain: -inf\n",
      "[LightGBM] [Warning] No further splits with positive gain, best gain: -inf\n",
      "[LightGBM] [Warning] No further splits with positive gain, best gain: -inf\n",
      "[LightGBM] [Warning] No further splits with positive gain, best gain: -inf\n",
      "[LightGBM] [Warning] No further splits with positive gain, best gain: -inf\n",
      "[LightGBM] [Warning] No further splits with positive gain, best gain: -inf\n",
      "[LightGBM] [Warning] No further splits with positive gain, best gain: -inf\n",
      "[LightGBM] [Warning] No further splits with positive gain, best gain: -inf\n",
      "[LightGBM] [Warning] No further splits with positive gain, best gain: -inf\n",
      "[LightGBM] [Warning] No further splits with positive gain, best gain: -inf\n",
      "[LightGBM] [Warning] No further splits with positive gain, best gain: -inf\n",
      "[LightGBM] [Warning] No further splits with positive gain, best gain: -inf\n",
      "[LightGBM] [Warning] No further splits with positive gain, best gain: -inf\n",
      "[LightGBM] [Warning] No further splits with positive gain, best gain: -inf\n",
      "[LightGBM] [Warning] No further splits with positive gain, best gain: -inf\n",
      "[LightGBM] [Warning] No further splits with positive gain, best gain: -inf\n",
      "[LightGBM] [Warning] No further splits with positive gain, best gain: -inf\n",
      "[LightGBM] [Warning] No further splits with positive gain, best gain: -inf\n",
      "[LightGBM] [Warning] No further splits with positive gain, best gain: -inf\n",
      "[LightGBM] [Warning] No further splits with positive gain, best gain: -inf\n",
      "[LightGBM] [Warning] No further splits with positive gain, best gain: -inf\n",
      "[LightGBM] [Warning] No further splits with positive gain, best gain: -inf\n",
      "[LightGBM] [Warning] No further splits with positive gain, best gain: -inf\n",
      "[LightGBM] [Warning] No further splits with positive gain, best gain: -inf\n",
      "[LightGBM] [Warning] No further splits with positive gain, best gain: -inf\n",
      "[LightGBM] [Warning] No further splits with positive gain, best gain: -inf\n",
      "[LightGBM] [Warning] No further splits with positive gain, best gain: -inf\n",
      "[LightGBM] [Warning] No further splits with positive gain, best gain: -inf\n",
      "[LightGBM] [Warning] No further splits with positive gain, best gain: -inf\n",
      "[LightGBM] [Warning] No further splits with positive gain, best gain: -inf\n",
      "[LightGBM] [Warning] No further splits with positive gain, best gain: -inf\n",
      "[LightGBM] [Warning] No further splits with positive gain, best gain: -inf\n",
      "[LightGBM] [Warning] No further splits with positive gain, best gain: -inf\n",
      "[LightGBM] [Warning] No further splits with positive gain, best gain: -inf\n",
      "[LightGBM] [Warning] No further splits with positive gain, best gain: -inf\n",
      "[LightGBM] [Warning] No further splits with positive gain, best gain: -inf\n",
      "[LightGBM] [Warning] No further splits with positive gain, best gain: -inf\n",
      "[LightGBM] [Warning] No further splits with positive gain, best gain: -inf\n",
      "[LightGBM] [Warning] No further splits with positive gain, best gain: -inf\n",
      "[LightGBM] [Warning] No further splits with positive gain, best gain: -inf\n",
      "[LightGBM] [Warning] No further splits with positive gain, best gain: -inf\n",
      "[LightGBM] [Warning] No further splits with positive gain, best gain: -inf\n",
      "[LightGBM] [Warning] No further splits with positive gain, best gain: -inf\n",
      "[LightGBM] [Warning] No further splits with positive gain, best gain: -inf\n",
      "[LightGBM] [Warning] No further splits with positive gain, best gain: -inf\n",
      "[LightGBM] [Warning] No further splits with positive gain, best gain: -inf\n",
      "[LightGBM] [Warning] No further splits with positive gain, best gain: -inf\n",
      "[LightGBM] [Warning] No further splits with positive gain, best gain: -inf\n",
      "[LightGBM] [Warning] No further splits with positive gain, best gain: -inf\n",
      "[LightGBM] [Warning] No further splits with positive gain, best gain: -inf\n",
      "[LightGBM] [Warning] No further splits with positive gain, best gain: -inf\n",
      "[LightGBM] [Warning] No further splits with positive gain, best gain: -inf\n",
      "[LightGBM] [Warning] No further splits with positive gain, best gain: -inf\n",
      "[LightGBM] [Warning] No further splits with positive gain, best gain: -inf\n",
      "[LightGBM] [Warning] No further splits with positive gain, best gain: -inf\n",
      "[LightGBM] [Warning] No further splits with positive gain, best gain: -inf\n",
      "[LightGBM] [Warning] No further splits with positive gain, best gain: -inf\n",
      "[LightGBM] [Warning] No further splits with positive gain, best gain: -inf\n",
      "[LightGBM] [Warning] No further splits with positive gain, best gain: -inf\n",
      "[LightGBM] [Warning] No further splits with positive gain, best gain: -inf\n",
      "[LightGBM] [Warning] No further splits with positive gain, best gain: -inf\n",
      "[LightGBM] [Warning] No further splits with positive gain, best gain: -inf\n",
      "[LightGBM] [Warning] No further splits with positive gain, best gain: -inf\n",
      "[LightGBM] [Warning] No further splits with positive gain, best gain: -inf\n",
      "[LightGBM] [Warning] No further splits with positive gain, best gain: -inf\n",
      "[LightGBM] [Warning] No further splits with positive gain, best gain: -inf\n",
      "[LightGBM] [Warning] No further splits with positive gain, best gain: -inf\n",
      "[LightGBM] [Warning] No further splits with positive gain, best gain: -inf\n",
      "[LightGBM] [Warning] No further splits with positive gain, best gain: -inf\n",
      "[LightGBM] [Warning] No further splits with positive gain, best gain: -inf\n",
      "[LightGBM] [Warning] No further splits with positive gain, best gain: -inf\n",
      "[LightGBM] [Warning] No further splits with positive gain, best gain: -inf\n",
      "[LightGBM] [Warning] No further splits with positive gain, best gain: -inf\n",
      "[LightGBM] [Warning] No further splits with positive gain, best gain: -inf\n",
      "[LightGBM] [Warning] No further splits with positive gain, best gain: -inf\n",
      "[LightGBM] [Warning] No further splits with positive gain, best gain: -inf\n",
      "[LightGBM] [Warning] No further splits with positive gain, best gain: -inf\n",
      "[LightGBM] [Warning] No further splits with positive gain, best gain: -inf\n",
      "[LightGBM] [Warning] No further splits with positive gain, best gain: -inf\n",
      "[LightGBM] [Warning] No further splits with positive gain, best gain: -inf\n",
      "[LightGBM] [Warning] No further splits with positive gain, best gain: -inf\n",
      "[LightGBM] [Warning] No further splits with positive gain, best gain: -inf\n",
      "[LightGBM] [Warning] No further splits with positive gain, best gain: -inf\n",
      "[LightGBM] [Warning] No further splits with positive gain, best gain: -inf\n",
      "[LightGBM] [Warning] No further splits with positive gain, best gain: -inf\n",
      "[LightGBM] [Warning] No further splits with positive gain, best gain: -inf\n",
      "[LightGBM] [Warning] No further splits with positive gain, best gain: -inf\n",
      "[LightGBM] [Warning] No further splits with positive gain, best gain: -inf\n",
      "[LightGBM] [Warning] No further splits with positive gain, best gain: -inf\n",
      "[LightGBM] [Warning] No further splits with positive gain, best gain: -inf\n",
      "[LightGBM] [Warning] No further splits with positive gain, best gain: -inf\n",
      "[LightGBM] [Warning] No further splits with positive gain, best gain: -inf\n",
      "[LightGBM] [Warning] No further splits with positive gain, best gain: -inf\n",
      "[LightGBM] [Warning] No further splits with positive gain, best gain: -inf\n",
      "[LightGBM] [Warning] No further splits with positive gain, best gain: -inf\n",
      "[LightGBM] [Warning] No further splits with positive gain, best gain: -inf\n",
      "[LightGBM] [Warning] No further splits with positive gain, best gain: -inf\n",
      "[LightGBM] [Warning] No further splits with positive gain, best gain: -inf\n",
      "rmse= 0.731666451320992\n",
      "r2= -0.3325137146606627\n",
      "pcc= -0.01395337094916453\n",
      "pcc_p= 0.9547884614373112\n"
     ]
    },
    {
     "data": {
      "image/png": "[encoded data removed]",
      "text/plain": [
       "<Figure size 300x300 with 1 Axes>"
      ]
     },
     "metadata": {},
     "output_type": "display_data"
    }
   ],
   "source": [
    "ml_model = model_list[1]\n",
    "clf_lgb = lgb.LGBMRegressor(max_depth=max_depth, num_leaves=num_leaves)\n",
    "clf_lgb.fit(X_train,Y_train)\n",
    "\n",
    "y_pred = clf_lgb.predict(X_test)                                   \n",
    "\n",
    "rmse = np.sqrt(mean_squared_error(Y_test, y_pred))\n",
    "r2 = r2_score(Y_test, y_pred)\n",
    "pcc = pearsonr(Y_test, y_pred)[0]\n",
    "pcc_p = pearsonr(Y_test, y_pred)[1]\n",
    "\n",
    "print('rmse=',rmse)\n",
    "print('r2=',r2)\n",
    "print('pcc=',pcc)\n",
    "print('pcc_p=',pcc_p)\n",
    "\n",
    "ax = plt.subplots(figsize=(3,3))\n",
    "plt.ylabel(\"true label\")\n",
    "plt.xlabel(\"pred label\")\n",
    "sns.regplot(x=y_pred,y=Y_test,x_jitter = 0.15,y_jitter = 0.15,\n",
    "            scatter_kws = {'color':'#2E8B57','alpha':0.7,'s':15}, line_kws={\"color\": \"#006400\"},truncate=False)\n",
    "plt.title('small model (slope prediction)\\n' + tissue + ', ' + ml_model)\n",
    "\n",
    "plt.savefig(image_path + 'cm-small-slope-' + tissue + '-' + ml_model + '.png',dpi=300, bbox_inches = 'tight')\n",
    "plt.show()"
   ]
  },
  {
   "cell_type": "markdown",
   "metadata": {},
   "source": [
    "##### model 3: random forest"
   ]
  },
  {
   "cell_type": "code",
   "execution_count": 8,
   "metadata": {},
   "outputs": [
    {
     "name": "stdout",
     "output_type": "stream",
     "text": [
      "{'n_estimators': 73}\n",
      "{'max_depth': 7}\n"
     ]
    }
   ],
   "source": [
    "from sklearn.ensemble import RandomForestRegressor\n",
    "from sklearn.model_selection import GridSearchCV\n",
    "\n",
    "cv_params = {'n_estimators': np.linspace(10, 200, 10, dtype=int)} # 200\n",
    "rfModel = RandomForestRegressor(random_state = random.seed(seed))\n",
    "grid = GridSearchCV(\n",
    "    rfModel,cv_params,cv = 5,return_train_score = True, scoring='neg_mean_absolute_error')\n",
    "grid.fit(X_train, Y_train)\n",
    "n_estimators = grid.best_params_['n_estimators']\n",
    "print(grid.best_params_)\n",
    "\n",
    "cv_params = {'max_depth': np.linspace(1, 10, 10, dtype=int)} # 200\n",
    "rfModel = RandomForestRegressor(random_state = random.seed(seed),n_estimators=n_estimators)\n",
    "grid = GridSearchCV(\n",
    "    rfModel,cv_params,cv = 5,return_train_score = True, scoring='neg_mean_absolute_error')\n",
    "grid.fit(X_train, Y_train)\n",
    "max_depth=grid.best_params_['max_depth']\n",
    "print(grid.best_params_)"
   ]
  },
  {
   "cell_type": "code",
   "execution_count": 9,
   "metadata": {},
   "outputs": [
    {
     "name": "stdout",
     "output_type": "stream",
     "text": [
      "rmse= 0.6404507077084638\n",
      "r2= -0.020979032755804594\n",
      "pcc= 0.10692730362231179\n",
      "pcc_p= 0.6630572313067173\n"
     ]
    },
    {
     "data": {
      "image/png": "[encoded data removed]",
      "text/plain": [
       "<Figure size 300x300 with 1 Axes>"
      ]
     },
     "metadata": {},
     "output_type": "display_data"
    }
   ],
   "source": [
    "ml_model = model_list[2]\n",
    "clf_rf = RandomForestRegressor(n_estimators=n_estimators, max_depth=max_depth)\n",
    "clf_rf.fit(X_train,Y_train)\n",
    "\n",
    "y_pred = clf_rf.predict(X_test)        \n",
    "\n",
    "rmse = np.sqrt(mean_squared_error(Y_test, y_pred))\n",
    "r2 = r2_score(Y_test, y_pred)\n",
    "pcc = pearsonr(Y_test, y_pred)[0]\n",
    "pcc_p = pearsonr(Y_test, y_pred)[1]\n",
    "\n",
    "print('rmse=',rmse)\n",
    "print('r2=',r2)\n",
    "print('pcc=',pcc)\n",
    "print('pcc_p=',pcc_p)\n",
    "\n",
    "ax = plt.subplots(figsize=(3,3))\n",
    "plt.ylabel(\"true label\")\n",
    "plt.xlabel(\"pred label\")\n",
    "sns.regplot(x=y_pred,y=Y_test,x_jitter = 0.15,y_jitter = 0.15,\n",
    "            scatter_kws = {'color':'#2E8B57','alpha':0.7,'s':15}, line_kws={\"color\": \"#006400\"},truncate=False)\n",
    "plt.title('small model (slope prediction)\\n' + tissue + ', ' + ml_model)\n",
    "\n",
    "plt.savefig(image_path + 'cm-small-slope-' + tissue + '-' + ml_model + '.png',dpi=300, bbox_inches = 'tight')\n",
    "plt.show()"
   ]
  },
  {
   "cell_type": "markdown",
   "metadata": {},
   "source": [
    "##### model 4: knn"
   ]
  },
  {
   "cell_type": "code",
   "execution_count": 10,
   "metadata": {},
   "outputs": [
    {
     "data": {
      "text/plain": [
       "{'n_neighbors': 166}"
      ]
     },
     "execution_count": 10,
     "metadata": {},
     "output_type": "execute_result"
    }
   ],
   "source": [
    "from sklearn.neighbors import KNeighborsRegressor\n",
    "from sklearn.model_selection import GridSearchCV\n",
    "\n",
    "paramGride = {'n_neighbors': np.linspace(100, 300, 10, dtype=int)} \n",
    "\n",
    "knnModel = KNeighborsRegressor()\n",
    "grid = GridSearchCV(\n",
    "    knnModel,paramGride,cv = 5,return_train_score = True, scoring='neg_mean_absolute_error')\n",
    "grid = grid.fit(X_train,Y_train)\n",
    "grid.best_params_"
   ]
  },
  {
   "cell_type": "code",
   "execution_count": 11,
   "metadata": {},
   "outputs": [
    {
     "name": "stdout",
     "output_type": "stream",
     "text": [
      "rmse= 0.6317696030933208\n",
      "r2= 0.006511472262212603\n",
      "pcc= 0.10722510246187414\n",
      "pcc_p= 0.6621718225072097\n"
     ]
    },
    {
     "data": {
      "image/png": "[encoded data removed]",
      "text/plain": [
       "<Figure size 300x300 with 1 Axes>"
      ]
     },
     "metadata": {},
     "output_type": "display_data"
    }
   ],
   "source": [
    "ml_model = model_list[3]\n",
    "clf_knn = KNeighborsRegressor(n_neighbors = grid.best_params_['n_neighbors'])\n",
    "clf_knn.fit(X_train,Y_train)\n",
    "\n",
    "y_pred = clf_knn.predict(X_test)    \n",
    "\n",
    "rmse = np.sqrt(mean_squared_error(Y_test, y_pred))\n",
    "r2 = r2_score(Y_test, y_pred)\n",
    "pcc = pearsonr(Y_test, y_pred)[0]\n",
    "pcc_p = pearsonr(Y_test, y_pred)[1]\n",
    "\n",
    "print('rmse=',rmse)\n",
    "print('r2=',r2)\n",
    "print('pcc=',pcc)\n",
    "print('pcc_p=',pcc_p)\n",
    "\n",
    "ax = plt.subplots(figsize=(3,3))\n",
    "plt.ylabel(\"true label\")\n",
    "plt.xlabel(\"pred label\")\n",
    "sns.regplot(x=y_pred,y=Y_test,x_jitter = 0.15,y_jitter = 0.15,\n",
    "            scatter_kws = {'color':'#2E8B57','alpha':0.7,'s':15}, line_kws={\"color\": \"#006400\"},truncate=False)\n",
    "plt.title('small model (slope prediction)\\n' + tissue + ', ' + ml_model)\n",
    "\n",
    "plt.savefig(image_path + 'cm-small-slope-' + tissue + '-' + ml_model + '.png',dpi=300, bbox_inches = 'tight')\n",
    "plt.show()"
   ]
  },
  {
   "cell_type": "markdown",
   "metadata": {},
   "source": [
    "##### model 5: svm"
   ]
  },
  {
   "cell_type": "code",
   "execution_count": 12,
   "metadata": {},
   "outputs": [
    {
     "name": "stdout",
     "output_type": "stream",
     "text": [
      "{'gamma': 1}\n",
      "{'C': 1}\n"
     ]
    }
   ],
   "source": [
    "from sklearn.svm import SVR\n",
    "from sklearn.model_selection import GridSearchCV\n",
    "\n",
    "cv_params = {'gamma': [1e-4,1e-3,1e-2,1e-1,1,10,100,1000]} # 33\n",
    "svmModel = SVR()\n",
    "grid = GridSearchCV(\n",
    "    svmModel,cv_params,cv = 5,return_train_score = True, scoring='neg_mean_absolute_error')\n",
    "grid = grid.fit(X_train,Y_train)\n",
    "gamma = grid.best_params_['gamma']\n",
    "print(grid.best_params_)\n",
    "\n",
    "cv_params = {'C': [1e-4,1e-3,1e-2,1e-1,1,10,100,1000]} # 33\n",
    "svmModel = SVR(gamma=gamma)\n",
    "grid = GridSearchCV(\n",
    "    svmModel,cv_params,cv = 5,return_train_score = True, scoring='neg_mean_absolute_error')\n",
    "grid = grid.fit(X_train,Y_train)\n",
    "C = grid.best_params_['C']\n",
    "print(grid.best_params_)"
   ]
  },
  {
   "cell_type": "code",
   "execution_count": 13,
   "metadata": {},
   "outputs": [
    {
     "name": "stdout",
     "output_type": "stream",
     "text": [
      "rmse= 0.6419371596356443\n",
      "r2= -0.025723808298879325\n",
      "pcc= 0.13159786266317652\n",
      "pcc_p= 0.5912509224150736\n"
     ]
    },
    {
     "data": {
      "image/png": "[encoded data removed]",
      "text/plain": [
       "<Figure size 300x300 with 1 Axes>"
      ]
     },
     "metadata": {},
     "output_type": "display_data"
    }
   ],
   "source": [
    "ml_model = model_list[4]\n",
    "clf_svm = SVR(gamma = gamma, C = C)\n",
    "clf_svm.fit(X_train,Y_train)\n",
    "\n",
    "y_pred = clf_svm.predict(X_test)  \n",
    "\n",
    "rmse = np.sqrt(mean_squared_error(Y_test, y_pred))\n",
    "r2 = r2_score(Y_test, y_pred)\n",
    "pcc = pearsonr(Y_test, y_pred)[0]\n",
    "pcc_p = pearsonr(Y_test, y_pred)[1]\n",
    "\n",
    "print('rmse=',rmse)\n",
    "print('r2=',r2)\n",
    "print('pcc=',pcc)\n",
    "print('pcc_p=',pcc_p)\n",
    "\n",
    "ax = plt.subplots(figsize=(3,3))\n",
    "plt.ylabel(\"true label\")\n",
    "plt.xlabel(\"pred label\")\n",
    "sns.regplot(x=y_pred,y=Y_test,x_jitter = 0.15,y_jitter = 0.15,\n",
    "            scatter_kws = {'color':'#2E8B57','alpha':0.7,'s':15}, line_kws={\"color\": \"#006400\"},truncate=False)\n",
    "plt.title('small model (slope prediction)\\n' + tissue + ', ' + ml_model)\n",
    "\n",
    "plt.savefig(image_path + 'cm-small-slope-' + tissue + '-' + ml_model + '.png',dpi=300, bbox_inches = 'tight')\n",
    "plt.show()"
   ]
  },
  {
   "cell_type": "markdown",
   "metadata": {},
   "source": [
    "#### middle model"
   ]
  },
  {
   "cell_type": "code",
   "execution_count": 14,
   "metadata": {},
   "outputs": [
    {
     "name": "stdout",
     "output_type": "stream",
     "text": [
      "         phenotype_id             variant_id  tss_distance       maf  \\\n",
      "0  ENSG00000198912.10   chr1_3891607_T_C_b38         -8678  0.237003   \n",
      "1   ENSG00000158292.6   chr1_6262459_G_C_b38          1484  0.097859   \n",
      "2  ENSG00000117122.13  chr1_16988930_G_A_b38          8095  0.422018   \n",
      "3  ENSG00000183431.11  chr1_37997832_C_T_b38          6911  0.397554   \n",
      "4  ENSG00000162604.12  chr1_61723869_T_C_b38         -1554  0.226300   \n",
      "\n",
      "  ma_samples ma_count  pval_nominal     slope  slope_se  \\\n",
      "0        134      155  1.254417e-46  0.807717  0.046026   \n",
      "1         61       64  4.483494e-43  1.232429  0.074424   \n",
      "2        216      276  4.477894e-16  0.309680  0.035791   \n",
      "3        201      260  8.121680e-28  0.426557  0.034783   \n",
      "4        131      148  3.871276e-08  0.233419  0.041253   \n",
      "\n",
      "                                          seq_before  \\\n",
      "0  AACAAAAGAAATTAACAGCAAGCGCGGGGTGGATGTTCAAAAAAAC...   \n",
      "1  TATCCAGACAGGACCTCGGTCTGCAGGAGCCCCCAGGGCAGCTTGC...   \n",
      "2  GCTGATGGCCCAGCCAGCCCAGGGCCCATAACCCCCTCCCCCAGGA...   \n",
      "3  ctcaccacaacctccgcctcccgggttaaagcgattctcctgtctc...   \n",
      "4  ggatcacttgagtccaggaattcgagaccagcctggccaacatggt...   \n",
      "\n",
      "                                           seq_after  seq_len  \\\n",
      "0  AACAAAAGAAATTAACAGCAAGCGCGGGGTGGATGTTCAAAAAAAC...    20001   \n",
      "1  TATCCAGACAGGACCTCGGTCTGCAGGAGCCCCCAGGGCAGCTTGC...    20001   \n",
      "2  GCTGATGGCCCAGCCAGCCCAGGGCCCATAACCCCCTCCCCCAGGA...    20001   \n",
      "3  ctcaccacaacctccgcctcccgggttaaagcgattctcctgtctc...    20001   \n",
      "4  ggatcacttgagtccaggaattcgagaccagcctggccaacatggt...    20001   \n",
      "\n",
      "                                      dnabert_before  dnabert_before_time  \\\n",
      "0  [-0.2485867, -0.07239256, 0.11920186, 0.022649...             2.859010   \n",
      "1  [-0.1618208, -0.034818668, 0.10319052, 0.00681...             2.406675   \n",
      "2  [-0.18496758, -0.04896282, 0.101193905, 0.0422...             2.670841   \n",
      "3  [-0.19390312, -0.06017449, 0.1059212, 0.055468...             3.135265   \n",
      "4  [-0.24693654, -0.070206165, 0.09708156, 0.0793...             4.311570   \n",
      "\n",
      "                                       dnabert_after  dnabert_after_time  \n",
      "0  [-0.24852675, -0.072386116, 0.11918239, 0.0226...            2.842221  \n",
      "1  [-0.16187239, -0.034851324, 0.10311335, 0.0067...            2.808031  \n",
      "2  [-0.1849962, -0.048952635, 0.10115584, 0.04220...            2.674837  \n",
      "3  [-0.19392632, -0.060147554, 0.105861224, 0.055...            3.258926  \n",
      "4  [-0.24660484, -0.07040714, 0.09695493, 0.07918...            4.046326  \n",
      "X_train shape: (221, 1536)\n",
      "Y_train shape: (221,)\n",
      "X_test shape: (30, 1536)\n",
      "Y_test shape: (30,)\n"
     ]
    }
   ],
   "source": [
    "model = model_size[1]\n",
    "train_data = pd.read_pickle(data_path + model + '_train.dataset')\n",
    "valid_data = pd.read_pickle(data_path + model + '_valid.dataset')\n",
    "test_data = pd.read_pickle(data_path + model + '_test.dataset')\n",
    "print(train_data.head())\n",
    "\n",
    "train_data = train_data.sample(frac=1).reset_index(drop=True)\n",
    "valid_data = valid_data.sample(frac=1).reset_index(drop=True)\n",
    "test_data = test_data.sample(frac=1).reset_index(drop=True)\n",
    "\n",
    "train_data = pd.concat([train_data, valid_data]).reset_index(drop=True) # for machine learning, grid search\n",
    "sample_list = []\n",
    "y_list = []\n",
    "for i in range(train_data.shape[0]):\n",
    "    feature_list = []\n",
    "    feature_list += train_data['dnabert_before'][i].flatten().tolist()\n",
    "    feature_list += train_data['dnabert_after'][i].flatten().tolist()\n",
    "    sample_list.append(feature_list)\n",
    "    y_list.append(train_data['slope'][i])\n",
    "X_train = np.array(sample_list)\n",
    "Y_train = np.array(y_list)\n",
    "print('X_train shape: ' + str(X_train.shape))\n",
    "print('Y_train shape: ' + str(Y_train.shape))\n",
    "\n",
    "sample_list = []\n",
    "y_list = []\n",
    "for i in range(test_data.shape[0]):\n",
    "    feature_list = []\n",
    "    feature_list += test_data['dnabert_before'][i].flatten().tolist()\n",
    "    feature_list += test_data['dnabert_after'][i].flatten().tolist()\n",
    "    sample_list.append(feature_list)\n",
    "    y_list.append(test_data['slope'][i])\n",
    "X_test = np.array(sample_list)\n",
    "Y_test = np.array(y_list)\n",
    "print('X_test shape: ' + str(X_test.shape))\n",
    "print('Y_test shape: ' + str(Y_test.shape))"
   ]
  },
  {
   "cell_type": "markdown",
   "metadata": {},
   "source": [
    "##### model 1: xgboost"
   ]
  },
  {
   "cell_type": "code",
   "execution_count": 15,
   "metadata": {},
   "outputs": [
    {
     "name": "stdout",
     "output_type": "stream",
     "text": [
      "{'n_estimators': 10}\n",
      "{'max_depth': 5}\n"
     ]
    }
   ],
   "source": [
    "# model 1: xgboost\n",
    "import xgboost as xgb\n",
    "from sklearn.model_selection import GridSearchCV\n",
    "\n",
    "cv_params = {'n_estimators': np.linspace(10, 300, 3, dtype=int)} # \n",
    "xgb_model = xgb.XGBRegressor(seed=seed)\n",
    "# https://scikit-learn.org/stable/modules/model_evaluation.html\n",
    "gs = GridSearchCV(xgb_model, cv_params, refit=True, cv=5, scoring='neg_mean_absolute_error')\n",
    "gs.fit(X_train,Y_train)\n",
    "n_estimators = gs.best_params_['n_estimators']\n",
    "print(gs.best_params_)\n",
    "\n",
    "cv_params = {'max_depth': np.linspace(1, 10, 3, dtype=int)} # \n",
    "xgb_model = xgb.XGBRegressor(seed=seed,n_estimators=n_estimators)\n",
    "gs = GridSearchCV(xgb_model, cv_params, refit=True, cv=5, scoring='neg_mean_absolute_error')\n",
    "gs.fit(X_train,Y_train)\n",
    "max_depth = gs.best_params_['max_depth']\n",
    "print(gs.best_params_)"
   ]
  },
  {
   "cell_type": "code",
   "execution_count": 16,
   "metadata": {},
   "outputs": [
    {
     "name": "stdout",
     "output_type": "stream",
     "text": [
      "rmse= 0.8208940921674094\n",
      "r2= -0.12727759078301015\n",
      "pcc= 0.07605794404139297\n",
      "pcc_p= 0.6895509049403662\n"
     ]
    },
    {
     "data": {
      "image/png": "[encoded data removed]",
      "text/plain": [
       "<Figure size 300x300 with 1 Axes>"
      ]
     },
     "metadata": {},
     "output_type": "display_data"
    }
   ],
   "source": [
    "ml_model = model_list[0]\n",
    "\n",
    "clf_xgb = xgb.XGBRegressor(n_estimators=n_estimators, max_depth=max_depth) # from grid search\n",
    "clf_xgb.fit(X_train,Y_train)\n",
    "\n",
    "y_pred = clf_xgb.predict(X_test)                                   \n",
    "\n",
    "rmse = np.sqrt(mean_squared_error(Y_test, y_pred))\n",
    "r2 = r2_score(Y_test, y_pred)\n",
    "pcc = pearsonr(Y_test, y_pred)[0]\n",
    "pcc_p = pearsonr(Y_test, y_pred)[1]\n",
    "\n",
    "print('rmse=',rmse)\n",
    "print('r2=',r2)\n",
    "print('pcc=',pcc)\n",
    "print('pcc_p=',pcc_p)\n",
    "\n",
    "ax = plt.subplots(figsize=(3,3))\n",
    "plt.ylabel(\"true label\")\n",
    "plt.xlabel(\"pred label\")\n",
    "sns.regplot(x=y_pred,y=Y_test,x_jitter = 0.15,y_jitter = 0.15,\n",
    "            scatter_kws = {'color':'#D2691E','alpha':0.7,'s':15}, line_kws={\"color\": \"#8B4513\"},truncate=False)\n",
    "plt.title('middle model (slope prediction)\\n' + tissue + ', ' + ml_model)\n",
    "\n",
    "plt.savefig(image_path + 'cm-middle-slope-' + tissue + '-' + ml_model + '.png',dpi=300, bbox_inches = 'tight')\n",
    "plt.show()"
   ]
  },
  {
   "cell_type": "markdown",
   "metadata": {},
   "source": [
    "##### model 2:lightgbm"
   ]
  },
  {
   "cell_type": "code",
   "execution_count": null,
   "metadata": {},
   "outputs": [],
   "source": [
    "import lightgbm as lgb\n",
    "from sklearn.model_selection import GridSearchCV\n",
    "\n",
    "cv_params = {'max_depth': np.linspace(1, 50, 10, dtype=int)} # \n",
    "gbm = lgb.LGBMRegressor(seed=seed,verbose=-1)\n",
    "gsearch = GridSearchCV(gbm, param_grid=cv_params, cv=5, scoring='neg_mean_absolute_error')\n",
    "gsearch.fit(X_train, Y_train)\n",
    "max_depth = gsearch.best_params_['max_depth']\n",
    "print(gsearch.best_params_)\n",
    "\n",
    "cv_params = {'num_leaves': np.linspace(2, 50, 5, dtype=int)} # \n",
    "gbm = lgb.LGBMRegressor(seed=seed,max_depth=max_depth,verbose=-1)\n",
    "gsearch = GridSearchCV(gbm, param_grid=cv_params, cv=5, scoring='neg_mean_absolute_error')\n",
    "gsearch.fit(X_train, Y_train)\n",
    "num_leaves = gsearch.best_params_['num_leaves']\n",
    "print(gsearch.best_params_)"
   ]
  },
  {
   "cell_type": "code",
   "execution_count": null,
   "metadata": {},
   "outputs": [],
   "source": [
    "ml_model = model_list[1]\n",
    "clf_lgb = lgb.LGBMRegressor(max_depth=max_depth, num_leaves=num_leaves)\n",
    "clf_lgb.fit(X_train,Y_train)\n",
    "\n",
    "y_pred = clf_lgb.predict(X_test)   \n",
    "\n",
    "rmse = np.sqrt(mean_squared_error(Y_test, y_pred))\n",
    "r2 = r2_score(Y_test, y_pred)\n",
    "pcc = pearsonr(Y_test, y_pred)[0]\n",
    "pcc_p = pearsonr(Y_test, y_pred)[1]\n",
    "\n",
    "print('rmse=',rmse)\n",
    "print('r2=',r2)\n",
    "print('pcc=',pcc)\n",
    "print('pcc_p=',pcc_p)\n",
    "\n",
    "ax = plt.subplots(figsize=(3,3))\n",
    "plt.ylabel(\"true label\")\n",
    "plt.xlabel(\"pred label\")\n",
    "sns.regplot(x=y_pred,y=Y_test,x_jitter = 0.15,y_jitter = 0.15,\n",
    "            scatter_kws = {'color':'#D2691E','alpha':0.7,'s':15}, line_kws={\"color\": \"#8B4513\"},truncate=False)\n",
    "plt.title('middle model (slope prediction)\\n' + tissue + ', ' + ml_model)\n",
    "\n",
    "plt.savefig(image_path + 'cm-middle-slope-' + tissue + '-' + ml_model + '.png',dpi=300, bbox_inches = 'tight')\n",
    "plt.show()"
   ]
  },
  {
   "cell_type": "markdown",
   "metadata": {},
   "source": [
    "##### model 3: random forest"
   ]
  },
  {
   "cell_type": "code",
   "execution_count": null,
   "metadata": {},
   "outputs": [],
   "source": [
    "from sklearn.ensemble import RandomForestRegressor\n",
    "from sklearn.model_selection import GridSearchCV\n",
    "\n",
    "cv_params = {'n_estimators': np.linspace(10, 200, 10, dtype=int)} # 200\n",
    "rfModel = RandomForestRegressor(random_state = random.seed(seed))\n",
    "grid = GridSearchCV(\n",
    "    rfModel,cv_params,cv = 5,return_train_score = True, scoring='neg_mean_absolute_error')\n",
    "grid.fit(X_train, Y_train)\n",
    "n_estimators = grid.best_params_['n_estimators']\n",
    "print(grid.best_params_)\n",
    "\n",
    "cv_params = {'max_depth': np.linspace(1, 10, 10, dtype=int)} # 200\n",
    "rfModel = RandomForestRegressor(random_state = random.seed(seed),n_estimators=n_estimators)\n",
    "grid = GridSearchCV(\n",
    "    rfModel,cv_params,cv = 5,return_train_score = True, scoring='neg_mean_absolute_error')\n",
    "grid.fit(X_train, Y_train)\n",
    "max_depth=grid.best_params_['max_depth']\n",
    "print(grid.best_params_)"
   ]
  },
  {
   "cell_type": "code",
   "execution_count": null,
   "metadata": {},
   "outputs": [],
   "source": [
    "ml_model = model_list[2]\n",
    "clf_rf = RandomForestRegressor(n_estimators=n_estimators, max_depth=max_depth)\n",
    "clf_rf.fit(X_train,Y_train)\n",
    "\n",
    "y_pred = clf_rf.predict(X_test)         \n",
    "\n",
    "rmse = np.sqrt(mean_squared_error(Y_test, y_pred))\n",
    "r2 = r2_score(Y_test, y_pred)\n",
    "pcc = pearsonr(Y_test, y_pred)[0]\n",
    "pcc_p = pearsonr(Y_test, y_pred)[1]\n",
    "\n",
    "print('rmse=',rmse)\n",
    "print('r2=',r2)\n",
    "print('pcc=',pcc)\n",
    "print('pcc_p=',pcc_p)\n",
    "\n",
    "ax = plt.subplots(figsize=(3,3))\n",
    "plt.ylabel(\"true label\")\n",
    "plt.xlabel(\"pred label\")\n",
    "sns.regplot(x=y_pred,y=Y_test,x_jitter = 0.15,y_jitter = 0.15,\n",
    "            scatter_kws = {'color':'#D2691E','alpha':0.7,'s':15}, line_kws={\"color\": \"#8B4513\"},truncate=False)\n",
    "plt.title('middle model (slope prediction)\\n' + tissue + ', ' + ml_model)\n",
    "\n",
    "plt.savefig(image_path + 'cm-middle-slope-' + tissue + '-' + ml_model + '.png',dpi=300, bbox_inches = 'tight')\n",
    "plt.show()"
   ]
  },
  {
   "cell_type": "markdown",
   "metadata": {},
   "source": [
    "##### model 4: knn"
   ]
  },
  {
   "cell_type": "code",
   "execution_count": null,
   "metadata": {},
   "outputs": [],
   "source": [
    "from sklearn.neighbors import KNeighborsRegressor\n",
    "from sklearn.model_selection import GridSearchCV\n",
    "\n",
    "paramGride = {'n_neighbors': np.linspace(100, 300, 10, dtype=int)} \n",
    "\n",
    "knnModel = KNeighborsRegressor()\n",
    "grid = GridSearchCV(\n",
    "    knnModel,paramGride,cv = 5,return_train_score = True, scoring='neg_mean_absolute_error')\n",
    "grid = grid.fit(X_train,Y_train)\n",
    "grid.best_params_"
   ]
  },
  {
   "cell_type": "code",
   "execution_count": null,
   "metadata": {},
   "outputs": [],
   "source": [
    "ml_model = model_list[3]\n",
    "clf_knn = KNeighborsRegressor(n_neighbors = grid.best_params_['n_neighbors'])\n",
    "clf_knn.fit(X_train,Y_train)\n",
    "\n",
    "y_pred = clf_knn.predict(X_test)  \n",
    "\n",
    "rmse = np.sqrt(mean_squared_error(Y_test, y_pred))\n",
    "r2 = r2_score(Y_test, y_pred)\n",
    "pcc = pearsonr(Y_test, y_pred)[0]\n",
    "pcc_p = pearsonr(Y_test, y_pred)[1]\n",
    "\n",
    "print('rmse=',rmse)\n",
    "print('r2=',r2)\n",
    "print('pcc=',pcc)\n",
    "print('pcc_p=',pcc_p)\n",
    "\n",
    "ax = plt.subplots(figsize=(3,3))\n",
    "plt.ylabel(\"true label\")\n",
    "plt.xlabel(\"pred label\")\n",
    "sns.regplot(x=y_pred,y=Y_test,x_jitter = 0.15,y_jitter = 0.15,\n",
    "            scatter_kws = {'color':'#D2691E','alpha':0.7,'s':15}, line_kws={\"color\": \"#8B4513\"},truncate=False)\n",
    "plt.title('middle model (slope prediction)\\n' + tissue + ', ' + ml_model)\n",
    "\n",
    "plt.savefig(image_path + 'cm-middle-slope-' + tissue + '-' + ml_model + '.png',dpi=300, bbox_inches = 'tight')\n",
    "plt.show()"
   ]
  },
  {
   "cell_type": "markdown",
   "metadata": {},
   "source": [
    "##### model 5: svm"
   ]
  },
  {
   "cell_type": "code",
   "execution_count": null,
   "metadata": {},
   "outputs": [],
   "source": [
    "from sklearn.svm import SVR\n",
    "from sklearn.model_selection import GridSearchCV\n",
    "\n",
    "cv_params = {'gamma': [1e-4,1e-3,1e-2,1e-1,1,10,100,1000]} # 33\n",
    "svmModel = SVR()\n",
    "grid = GridSearchCV(\n",
    "    svmModel,cv_params,cv = 5,return_train_score = True, scoring='neg_mean_absolute_error')\n",
    "grid = grid.fit(X_train,Y_train)\n",
    "gamma = grid.best_params_['gamma']\n",
    "print(grid.best_params_)\n",
    "\n",
    "cv_params = {'C': [1e-4,1e-3,1e-2,1e-1,1,10,100,1000]} # 33\n",
    "svmModel = SVR(gamma=gamma)\n",
    "grid = GridSearchCV(\n",
    "    svmModel,cv_params,cv = 5,return_train_score = True, scoring='neg_mean_absolute_error')\n",
    "grid = grid.fit(X_train,Y_train)\n",
    "C = grid.best_params_['C']\n",
    "print(grid.best_params_)"
   ]
  },
  {
   "cell_type": "code",
   "execution_count": null,
   "metadata": {},
   "outputs": [],
   "source": [
    "ml_model = model_list[4]\n",
    "clf_svm = SVR(gamma = gamma, C = C)\n",
    "clf_svm.fit(X_train,Y_train)\n",
    "\n",
    "y_pred = clf_svm.predict(X_test)      \n",
    "\n",
    "rmse = np.sqrt(mean_squared_error(Y_test, y_pred))\n",
    "r2 = r2_score(Y_test, y_pred)\n",
    "pcc = pearsonr(Y_test, y_pred)[0]\n",
    "pcc_p = pearsonr(Y_test, y_pred)[1]\n",
    "\n",
    "print('rmse=',rmse)\n",
    "print('r2=',r2)\n",
    "print('pcc=',pcc)\n",
    "print('pcc_p=',pcc_p)\n",
    "\n",
    "ax = plt.subplots(figsize=(3,3))\n",
    "plt.ylabel(\"true label\")\n",
    "plt.xlabel(\"pred label\")\n",
    "sns.regplot(x=y_pred,y=Y_test,x_jitter = 0.15,y_jitter = 0.15,\n",
    "            scatter_kws = {'color':'#D2691E','alpha':0.7,'s':15}, line_kws={\"color\": \"#8B4513\"},truncate=False)\n",
    "plt.title('middle model (slope prediction)\\n' + tissue + ', ' + ml_model)\n",
    "\n",
    "plt.savefig(image_path + 'cm-middle-slope-' + tissue + '-' + ml_model + '.png',dpi=300, bbox_inches = 'tight')\n",
    "plt.show()"
   ]
  },
  {
   "cell_type": "markdown",
   "metadata": {},
   "source": [
    "#### large model"
   ]
  },
  {
   "cell_type": "code",
   "execution_count": null,
   "metadata": {},
   "outputs": [],
   "source": [
    "model = model_size[2]\n",
    "train_data = pd.read_pickle(data_path + model + '_train.dataset')\n",
    "valid_data = pd.read_pickle(data_path + model + '_valid.dataset')\n",
    "test_data = pd.read_pickle(data_path + model + '_test.dataset')\n",
    "print(train_data.head())\n",
    "\n",
    "train_data = train_data.sample(frac=1).reset_index(drop=True)\n",
    "valid_data = valid_data.sample(frac=1).reset_index(drop=True)\n",
    "test_data = test_data.sample(frac=1).reset_index(drop=True)\n",
    "\n",
    "train_data = pd.concat([train_data, valid_data]).reset_index(drop=True) # for machine learning, grid search\n",
    "sample_list = []\n",
    "y_list = []\n",
    "for i in range(train_data.shape[0]):\n",
    "    feature_list = []\n",
    "    feature_list += train_data['dnabert_before'][i].flatten().tolist()\n",
    "    feature_list += train_data['dnabert_after'][i].flatten().tolist()\n",
    "    sample_list.append(feature_list)\n",
    "    y_list.append(train_data['slope'][i])\n",
    "X_train = np.array(sample_list)\n",
    "Y_train = np.array(y_list)\n",
    "print('X_train shape: ' + str(X_train.shape))\n",
    "print('Y_train shape: ' + str(Y_train.shape))\n",
    "\n",
    "sample_list = []\n",
    "y_list = []\n",
    "for i in range(test_data.shape[0]):\n",
    "    feature_list = []\n",
    "    feature_list += test_data['dnabert_before'][i].flatten().tolist()\n",
    "    feature_list += test_data['dnabert_after'][i].flatten().tolist()\n",
    "    sample_list.append(feature_list)\n",
    "    y_list.append(test_data['slope'][i])\n",
    "X_test = np.array(sample_list)\n",
    "Y_test = np.array(y_list)\n",
    "print('X_test shape: ' + str(X_test.shape))\n",
    "print('Y_test shape: ' + str(Y_test.shape))"
   ]
  },
  {
   "cell_type": "markdown",
   "metadata": {},
   "source": [
    "##### model 1: xgboost"
   ]
  },
  {
   "cell_type": "code",
   "execution_count": null,
   "metadata": {},
   "outputs": [],
   "source": [
    "# model 1: xgboost\n",
    "import xgboost as xgb\n",
    "from sklearn.model_selection import GridSearchCV\n",
    "\n",
    "cv_params = {'n_estimators': np.linspace(10, 300, 10, dtype=int)} # \n",
    "xgb_model = xgb.XGBRegressor(seed=seed)\n",
    "# https://scikit-learn.org/stable/modules/model_evaluation.html\n",
    "gs = GridSearchCV(xgb_model, cv_params, refit=True, cv=5, scoring='neg_mean_absolute_error')\n",
    "gs.fit(X_train,Y_train)\n",
    "n_estimators = gs.best_params_['n_estimators']\n",
    "print(gs.best_params_)\n",
    "\n",
    "cv_params = {'max_depth': np.linspace(1, 10, 10, dtype=int)} # \n",
    "xgb_model = xgb.XGBRegressor(seed=seed,n_estimators=n_estimators)\n",
    "gs = GridSearchCV(xgb_model, cv_params, refit=True, cv=5, scoring='neg_mean_absolute_error')\n",
    "gs.fit(X_train,Y_train)\n",
    "max_depth = gs.best_params_['max_depth']\n",
    "print(gs.best_params_)"
   ]
  },
  {
   "cell_type": "code",
   "execution_count": null,
   "metadata": {},
   "outputs": [],
   "source": [
    "ml_model = model_list[0]\n",
    "\n",
    "clf_xgb = xgb.XGBRegressor(n_estimators=n_estimators, max_depth=max_depth) # from grid search\n",
    "clf_xgb.fit(X_train,Y_train)\n",
    "\n",
    "y_pred = clf_xgb.predict(X_test)                                   \n",
    "\n",
    "rmse = np.sqrt(mean_squared_error(Y_test, y_pred))\n",
    "r2 = r2_score(Y_test, y_pred)\n",
    "pcc = pearsonr(Y_test, y_pred)[0]\n",
    "pcc_p = pearsonr(Y_test, y_pred)[1]\n",
    "\n",
    "print('rmse=',rmse)\n",
    "print('r2=',r2)\n",
    "print('pcc=',pcc)\n",
    "print('pcc_p=',pcc_p)\n",
    "\n",
    "ax = plt.subplots(figsize=(3,3))\n",
    "plt.ylabel(\"true label\")\n",
    "plt.xlabel(\"pred label\")\n",
    "sns.regplot(x=y_pred,y=Y_test,x_jitter = 0.15,y_jitter = 0.15,\n",
    "            scatter_kws = {'color':'#800080','alpha':0.7,'s':15}, line_kws={\"color\": \"#4B0082\"},truncate=False)\n",
    "plt.title('large model (slope prediction)\\n' + tissue + ', ' + ml_model)\n",
    "\n",
    "plt.savefig(image_path + 'cm-large-slope-' + tissue + '-' + ml_model + '.png',dpi=300, bbox_inches = 'tight')\n",
    "plt.show()"
   ]
  },
  {
   "cell_type": "markdown",
   "metadata": {},
   "source": [
    "##### model 2:lightgbm"
   ]
  },
  {
   "cell_type": "code",
   "execution_count": null,
   "metadata": {},
   "outputs": [],
   "source": [
    "import lightgbm as lgb\n",
    "from sklearn.model_selection import GridSearchCV\n",
    "\n",
    "cv_params = {'max_depth': np.linspace(1, 50, 10, dtype=int)} # \n",
    "gbm = lgb.LGBMRegressor(seed=seed,verbose=-1)\n",
    "gsearch = GridSearchCV(gbm, param_grid=cv_params, cv=5, scoring='neg_mean_absolute_error')\n",
    "gsearch.fit(X_train, Y_train)\n",
    "max_depth = gsearch.best_params_['max_depth']\n",
    "print(gsearch.best_params_)\n",
    "\n",
    "cv_params = {'num_leaves': np.linspace(2, 50, 5, dtype=int)} # \n",
    "gbm = lgb.LGBMRegressor(seed=seed,max_depth=max_depth,verbose=-1)\n",
    "gsearch = GridSearchCV(gbm, param_grid=cv_params, cv=5, scoring='neg_mean_absolute_error')\n",
    "gsearch.fit(X_train, Y_train)\n",
    "num_leaves = gsearch.best_params_['num_leaves']\n",
    "print(gsearch.best_params_)"
   ]
  },
  {
   "cell_type": "code",
   "execution_count": null,
   "metadata": {},
   "outputs": [],
   "source": [
    "ml_model = model_list[1]\n",
    "clf_lgb = lgb.LGBMRegressor(max_depth=max_depth, num_leaves=num_leaves)\n",
    "clf_lgb.fit(X_train,Y_train)\n",
    "\n",
    "y_pred = clf_lgb.predict(X_test)         \n",
    "\n",
    "rmse = np.sqrt(mean_squared_error(Y_test, y_pred))\n",
    "r2 = r2_score(Y_test, y_pred)\n",
    "pcc = pearsonr(Y_test, y_pred)[0]\n",
    "pcc_p = pearsonr(Y_test, y_pred)[1]\n",
    "\n",
    "print('rmse=',rmse)\n",
    "print('r2=',r2)\n",
    "print('pcc=',pcc)\n",
    "print('pcc_p=',pcc_p)\n",
    "\n",
    "ax = plt.subplots(figsize=(3,3))\n",
    "plt.ylabel(\"true label\")\n",
    "plt.xlabel(\"pred label\")\n",
    "sns.regplot(x=y_pred,y=Y_test,x_jitter = 0.15,y_jitter = 0.15,\n",
    "            scatter_kws = {'color':'#800080','alpha':0.7,'s':15}, line_kws={\"color\": \"#4B0082\"},truncate=False)\n",
    "plt.title('large model (slope prediction)\\n' + tissue + ', ' + ml_model)\n",
    "\n",
    "plt.savefig(image_path + 'cm-large-slope-' + tissue + '-' + ml_model + '.png',dpi=300, bbox_inches = 'tight')\n",
    "plt.show()"
   ]
  },
  {
   "cell_type": "markdown",
   "metadata": {},
   "source": [
    "##### model 3: random forest"
   ]
  },
  {
   "cell_type": "code",
   "execution_count": null,
   "metadata": {},
   "outputs": [],
   "source": [
    "from sklearn.ensemble import RandomForestRegressor\n",
    "from sklearn.model_selection import GridSearchCV\n",
    "\n",
    "cv_params = {'n_estimators': np.linspace(10, 200, 10, dtype=int)} # 200\n",
    "rfModel = RandomForestRegressor(random_state = random.seed(seed))\n",
    "grid = GridSearchCV(\n",
    "    rfModel,cv_params,cv = 5,return_train_score = True, scoring='neg_mean_absolute_error')\n",
    "grid.fit(X_train, Y_train)\n",
    "n_estimators = grid.best_params_['n_estimators']\n",
    "print(grid.best_params_)\n",
    "\n",
    "cv_params = {'max_depth': np.linspace(1, 10, 10, dtype=int)} # 200\n",
    "rfModel = RandomForestRegressor(random_state = random.seed(seed),n_estimators=n_estimators)\n",
    "grid = GridSearchCV(\n",
    "    rfModel,cv_params,cv = 5,return_train_score = True, scoring='neg_mean_absolute_error')\n",
    "grid.fit(X_train, Y_train)\n",
    "max_depth=grid.best_params_['max_depth']\n",
    "print(grid.best_params_)"
   ]
  },
  {
   "cell_type": "code",
   "execution_count": null,
   "metadata": {},
   "outputs": [],
   "source": [
    "ml_model = model_list[2]\n",
    "clf_rf = RandomForestRegressor(n_estimators=n_estimators, max_depth=max_depth)\n",
    "clf_rf.fit(X_train,Y_train)\n",
    "\n",
    "y_pred = clf_rf.predict(X_test)   \n",
    "\n",
    "rmse = np.sqrt(mean_squared_error(Y_test, y_pred))\n",
    "r2 = r2_score(Y_test, y_pred)\n",
    "pcc = pearsonr(Y_test, y_pred)[0]\n",
    "pcc_p = pearsonr(Y_test, y_pred)[1]\n",
    "\n",
    "print('rmse=',rmse)\n",
    "print('r2=',r2)\n",
    "print('pcc=',pcc)\n",
    "print('pcc_p=',pcc_p)\n",
    "\n",
    "ax = plt.subplots(figsize=(3,3))\n",
    "plt.ylabel(\"true label\")\n",
    "plt.xlabel(\"pred label\")\n",
    "sns.regplot(x=y_pred,y=Y_test,x_jitter = 0.15,y_jitter = 0.15,\n",
    "            scatter_kws = {'color':'#800080','alpha':0.7,'s':15}, line_kws={\"color\": \"#4B0082\"},truncate=False)\n",
    "plt.title('large model (slope prediction)\\n' + tissue + ', ' + ml_model)\n",
    "\n",
    "plt.savefig(image_path + 'cm-large-slope-' + tissue + '-' + ml_model + '.png',dpi=300, bbox_inches = 'tight')\n",
    "plt.show()"
   ]
  },
  {
   "cell_type": "markdown",
   "metadata": {},
   "source": [
    "##### model 4: knn"
   ]
  },
  {
   "cell_type": "code",
   "execution_count": null,
   "metadata": {},
   "outputs": [],
   "source": [
    "from sklearn.neighbors import KNeighborsRegressor\n",
    "from sklearn.model_selection import GridSearchCV\n",
    "\n",
    "paramGride = {'n_neighbors': np.linspace(100, 300, 10, dtype=int)} \n",
    "\n",
    "knnModel = KNeighborsRegressor()\n",
    "grid = GridSearchCV(\n",
    "    knnModel,paramGride,cv = 5,return_train_score = True, scoring='roc_auc')\n",
    "grid = grid.fit(X_train,Y_train)\n",
    "grid.best_params_"
   ]
  },
  {
   "cell_type": "code",
   "execution_count": null,
   "metadata": {},
   "outputs": [],
   "source": [
    "ml_model = model_list[3]\n",
    "clf_knn = KNeighborsRegressor(n_neighbors = grid.best_params_['n_neighbors'])\n",
    "clf_knn.fit(X_train,Y_train)\n",
    "\n",
    "y_pred = clf_knn.predict(X_test)   \n",
    "\n",
    "rmse = np.sqrt(mean_squared_error(Y_test, y_pred))\n",
    "r2 = r2_score(Y_test, y_pred)\n",
    "pcc = pearsonr(Y_test, y_pred)[0]\n",
    "pcc_p = pearsonr(Y_test, y_pred)[1]\n",
    "\n",
    "print('rmse=',rmse)\n",
    "print('r2=',r2)\n",
    "print('pcc=',pcc)\n",
    "print('pcc_p=',pcc_p)\n",
    "\n",
    "ax = plt.subplots(figsize=(3,3))\n",
    "plt.ylabel(\"true label\")\n",
    "plt.xlabel(\"pred label\")\n",
    "sns.regplot(x=y_pred,y=Y_test,x_jitter = 0.15,y_jitter = 0.15,\n",
    "            scatter_kws = {'color':'#800080','alpha':0.7,'s':15}, line_kws={\"color\": \"#4B0082\"},truncate=False)\n",
    "plt.title('large model (slope prediction)\\n' + tissue + ', ' + ml_model)\n",
    "\n",
    "plt.savefig(image_path + 'cm-large-slope-' + tissue + '-' + ml_model + '.png',dpi=300, bbox_inches = 'tight')\n",
    "plt.show()"
   ]
  },
  {
   "cell_type": "markdown",
   "metadata": {},
   "source": [
    "##### model 5: svm"
   ]
  },
  {
   "cell_type": "code",
   "execution_count": null,
   "metadata": {},
   "outputs": [],
   "source": [
    "from sklearn.svm import SVR\n",
    "from sklearn.model_selection import GridSearchCV\n",
    "\n",
    "cv_params = {'gamma': [1e-4,1e-3,1e-2,1e-1,1,10,100,1000]} # 33\n",
    "svmModel = SVR()\n",
    "grid = GridSearchCV(\n",
    "    svmModel,cv_params,cv = 5,return_train_score = True, scoring='neg_mean_absolute_error')\n",
    "grid = grid.fit(X_train,Y_train)\n",
    "gamma = grid.best_params_['gamma']\n",
    "print(grid.best_params_)\n",
    "\n",
    "cv_params = {'C': [1e-4,1e-3,1e-2,1e-1,1,10,100,1000]} # 33\n",
    "svmModel = SVR(gamma=gamma)\n",
    "grid = GridSearchCV(\n",
    "    svmModel,cv_params,cv = 5,return_train_score = True, scoring='neg_mean_absolute_error')\n",
    "grid = grid.fit(X_train,Y_train)\n",
    "C = grid.best_params_['C']\n",
    "print(grid.best_params_)"
   ]
  },
  {
   "cell_type": "code",
   "execution_count": null,
   "metadata": {},
   "outputs": [],
   "source": [
    "ml_model = model_list[4]\n",
    "clf_svm = SVR(gamma = gamma, C = C)\n",
    "clf_svm.fit(X_train,Y_train)\n",
    "\n",
    "y_pred = clf_svm.predict(X_test)      \n",
    "\n",
    "rmse = np.sqrt(mean_squared_error(Y_test, y_pred))\n",
    "r2 = r2_score(Y_test, y_pred)\n",
    "pcc = pearsonr(Y_test, y_pred)[0]\n",
    "pcc_p = pearsonr(Y_test, y_pred)[1]\n",
    "\n",
    "print('rmse=',rmse)\n",
    "print('r2=',r2)\n",
    "print('pcc=',pcc)\n",
    "print('pcc_p=',pcc_p)\n",
    "\n",
    "ax = plt.subplots(figsize=(3,3))\n",
    "plt.ylabel(\"true label\")\n",
    "plt.xlabel(\"pred label\")\n",
    "sns.regplot(x=y_pred,y=Y_test,x_jitter = 0.15,y_jitter = 0.15,\n",
    "            scatter_kws = {'color':'#800080','alpha':0.7,'s':15}, line_kws={\"color\": \"#4B0082\"},truncate=False)\n",
    "plt.title('large model (slope prediction)\\n' + tissue + ', ' + ml_model)\n",
    "\n",
    "plt.savefig(image_path + 'cm-large-slope-' + tissue + '-' + ml_model + '.png',dpi=300, bbox_inches = 'tight')\n",
    "plt.show()"
   ]
  }
 ],
 "metadata": {
  "kernelspec": {
   "display_name": "benchmark-env",
   "language": "python",
   "name": "benchmark"
  },
  "language_info": {
   "codemirror_mode": {
    "name": "ipython",
    "version": 3
   },
   "file_extension": ".py",
   "mimetype": "text/x-python",
   "name": "python",
   "nbconvert_exporter": "python",
   "pygments_lexer": "ipython3",
   "version": "3.9.19"
  },
  "vscode": {
   "interpreter": {
    "hash": "6fff98fc3b3d81bd655c2cc48858186e4d9e2db7b515bf1c3221888f12a62f87"
   }
  }
 },
 "nbformat": 4,
 "nbformat_minor": 4
}
