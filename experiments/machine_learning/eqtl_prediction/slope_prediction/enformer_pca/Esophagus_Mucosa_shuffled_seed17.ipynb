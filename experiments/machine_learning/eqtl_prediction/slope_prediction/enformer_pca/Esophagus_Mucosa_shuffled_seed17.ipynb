{
 "cells": [
  {
   "cell_type": "markdown",
   "metadata": {},
   "source": [
    "### exp: eqtl prediction, slope prediction, enformer_pca for machine learning"
   ]
  },
  {
   "cell_type": "code",
   "execution_count": 1,
   "metadata": {},
   "outputs": [],
   "source": [
    "import os\n",
    "import pandas as pd\n",
    "import numpy as np\n",
    "import seaborn as sns\n",
    "from sklearn.metrics import r2_score, mean_squared_error\n",
    "from scipy.stats import pearsonr\n",
    "import matplotlib.pyplot as plt\n",
    "%matplotlib inline\n",
    "\n",
    "import warnings\n",
    "warnings.filterwarnings('ignore')"
   ]
  },
  {
   "cell_type": "code",
   "execution_count": 2,
   "metadata": {},
   "outputs": [],
   "source": [
    "model_size = ['small','middle','large']\n",
    "model_list = ['xgboost','lightgbm','random forest','knn','svm']\n",
    "tissue = 'Esophagus_Mucosa'\n",
    "data_path = '../../../../../datasets_embedding/enformer_pca/eqtl_datasets/slope_prediction/' + tissue + '/'\n",
    "image_path = 'images_shuffled_seed17/'\n",
    "# set seed\n",
    "seed = 17\n",
    "import random\n",
    "random.seed(seed)\n",
    "np.random.seed(seed)"
   ]
  },
  {
   "cell_type": "markdown",
   "metadata": {},
   "source": [
    "#### small model"
   ]
  },
  {
   "cell_type": "code",
   "execution_count": 3,
   "metadata": {},
   "outputs": [
    {
     "name": "stdout",
     "output_type": "stream",
     "text": [
      "              variant_id     slope  \\\n",
      "0   chr1_1407232_G_C_b38  0.291594   \n",
      "1   chr1_2493455_T_C_b38  0.487753   \n",
      "2  chr1_16889585_T_C_b38  0.884643   \n",
      "3  chr1_20508117_C_A_b38  0.500833   \n",
      "4  chr1_22025454_G_T_b38  0.611722   \n",
      "\n",
      "                                 enformer_pca_before  \\\n",
      "0  [[202.36255, 688.5728, -40.228096, -82.518814,...   \n",
      "1  [[-65.29568, 8.857646, -16.33868, 52.522633, -...   \n",
      "2  [[-83.12351, 22.751081, -44.27761, 6.29296, -2...   \n",
      "3  [[-46.71141, -49.939316, -5.245999, 22.846874,...   \n",
      "4  [[-30.530842, -72.420425, -63.157124, 9.621334...   \n",
      "\n",
      "                                  enformer_pca_after  \n",
      "0  [[204.9263, 687.50726, -40.21979, -83.02405, 2...  \n",
      "1  [[-65.295525, 8.846773, -16.341984, 52.48943, ...  \n",
      "2  [[-83.52668, 22.351522, -44.166607, 7.162732, ...  \n",
      "3  [[-47.005093, -49.85653, -5.038737, 22.799053,...  \n",
      "4  [[-30.659634, -72.47005, -63.30624, 6.50445, -...  \n",
      "X_train shape: (380, 17920)\n",
      "Y_train shape: (380,)\n",
      "X_test shape: (43, 17920)\n",
      "Y_test shape: (43,)\n"
     ]
    }
   ],
   "source": [
    "model = model_size[0]\n",
    "train_data = pd.read_pickle(data_path + model + '_train.dataset')\n",
    "valid_data = pd.read_pickle(data_path + model + '_valid.dataset')\n",
    "test_data = pd.read_pickle(data_path + model + '_test.dataset')\n",
    "print(train_data.head())\n",
    "\n",
    "merged_data = pd.concat([train_data, valid_data, test_data]) # for machine learning, grid search\n",
    "# new split\n",
    "merged_data = merged_data.sample(frac=1).reset_index(drop=True)\n",
    "train_data = merged_data[0:int(0.9*len(merged_data))].reset_index(drop=True)\n",
    "test_data = merged_data[int(0.9*len(merged_data)):].reset_index(drop=True)\n",
    "\n",
    "sample_list = []\n",
    "y_list = []\n",
    "for i in range(train_data.shape[0]):\n",
    "    feature_list = []\n",
    "    feature_list += train_data['enformer_pca_before'][i].flatten().tolist()\n",
    "    feature_list += train_data['enformer_pca_after'][i].flatten().tolist()\n",
    "    sample_list.append(feature_list)\n",
    "    y_list.append(train_data['slope'][i])\n",
    "X_train = np.array(sample_list)\n",
    "Y_train = np.array(y_list)\n",
    "print('X_train shape: ' + str(X_train.shape))\n",
    "print('Y_train shape: ' + str(Y_train.shape))\n",
    "\n",
    "sample_list = []\n",
    "y_list = []\n",
    "for i in range(test_data.shape[0]):\n",
    "    feature_list = []\n",
    "    feature_list += test_data['enformer_pca_before'][i].flatten().tolist()\n",
    "    feature_list += test_data['enformer_pca_after'][i].flatten().tolist()\n",
    "    sample_list.append(feature_list)\n",
    "    y_list.append(test_data['slope'][i])\n",
    "X_test = np.array(sample_list)\n",
    "Y_test = np.array(y_list)\n",
    "print('X_test shape: ' + str(X_test.shape))\n",
    "print('Y_test shape: ' + str(Y_test.shape))"
   ]
  },
  {
   "cell_type": "markdown",
   "metadata": {},
   "source": [
    "##### model 1: xgboost"
   ]
  },
  {
   "cell_type": "code",
   "execution_count": 4,
   "metadata": {},
   "outputs": [
    {
     "name": "stdout",
     "output_type": "stream",
     "text": [
      "{'n_estimators': 74}\n",
      "{'max_depth': 2}\n"
     ]
    }
   ],
   "source": [
    "# model 1: xgboost\n",
    "import xgboost as xgb\n",
    "from sklearn.model_selection import GridSearchCV\n",
    "\n",
    "cv_params = {'n_estimators': np.linspace(10, 300, 10, dtype=int)} # \n",
    "xgb_model = xgb.XGBRegressor(seed=seed)\n",
    "# https://scikit-learn.org/stable/modules/model_evaluation.html\n",
    "gs = GridSearchCV(xgb_model, cv_params, refit=True, cv=5, scoring='neg_mean_absolute_error')\n",
    "gs.fit(X_train,Y_train)\n",
    "n_estimators = gs.best_params_['n_estimators']\n",
    "print(gs.best_params_)\n",
    "\n",
    "cv_params = {'max_depth': np.linspace(1, 10, 10, dtype=int)} # \n",
    "xgb_model = xgb.XGBRegressor(seed=seed,n_estimators=n_estimators)\n",
    "gs = GridSearchCV(xgb_model, cv_params, refit=True, cv=5, scoring='neg_mean_absolute_error')\n",
    "gs.fit(X_train,Y_train)\n",
    "max_depth = gs.best_params_['max_depth']\n",
    "print(gs.best_params_)"
   ]
  },
  {
   "cell_type": "code",
   "execution_count": 5,
   "metadata": {},
   "outputs": [
    {
     "name": "stdout",
     "output_type": "stream",
     "text": [
      "rmse= 0.737782467315688\n",
      "r2= 0.009804523456085734\n",
      "pcc= 0.2022209202122134\n",
      "pcc_p= 0.1934434012974164\n"
     ]
    },
    {
     "data": {
      "image/png": "[encoded data removed]",
      "text/plain": [
       "<Figure size 300x300 with 1 Axes>"
      ]
     },
     "metadata": {},
     "output_type": "display_data"
    }
   ],
   "source": [
    "ml_model = model_list[0]\n",
    "\n",
    "clf_xgb = xgb.XGBRegressor(n_estimators=n_estimators,  max_depth=max_depth) # from grid search\n",
    "clf_xgb.fit(X_train,Y_train)\n",
    "\n",
    "y_pred = clf_xgb.predict(X_test)                                   \n",
    "\n",
    "rmse = np.sqrt(mean_squared_error(Y_test, y_pred))\n",
    "r2 = r2_score(Y_test, y_pred)\n",
    "pcc = pearsonr(Y_test, y_pred)[0]\n",
    "pcc_p = pearsonr(Y_test, y_pred)[1]\n",
    "\n",
    "print('rmse=',rmse)\n",
    "print('r2=',r2)\n",
    "print('pcc=',pcc)\n",
    "print('pcc_p=',pcc_p)\n",
    "\n",
    "ax = plt.subplots(figsize=(3,3))\n",
    "plt.ylabel(\"true label\")\n",
    "plt.xlabel(\"pred label\")\n",
    "sns.regplot(x=y_pred,y=Y_test,x_jitter = 0.15,y_jitter = 0.15,\n",
    "            scatter_kws = {'color':'#2E8B57','alpha':0.7,'s':15}, line_kws={\"color\": \"#006400\"},truncate=False)\n",
    "plt.title('small model (slope prediction)\\n' + tissue + ', ' + ml_model)\n",
    "\n",
    "plt.savefig(image_path + 'cm-small-slope-' + tissue + '-' + ml_model + '.png',dpi=300, bbox_inches = 'tight')\n",
    "plt.show()"
   ]
  },
  {
   "cell_type": "markdown",
   "metadata": {},
   "source": [
    "##### model 2:lightgbm"
   ]
  },
  {
   "cell_type": "code",
   "execution_count": null,
   "metadata": {},
   "outputs": [],
   "source": [
    "import lightgbm as lgb\n",
    "from sklearn.model_selection import GridSearchCV\n",
    "\n",
    "cv_params = {'max_depth': np.linspace(1, 50, 10, dtype=int)} # \n",
    "gbm = lgb.LGBMRegressor(seed=seed,verbose=-1)\n",
    "gsearch = GridSearchCV(gbm, param_grid=cv_params, cv=5, scoring='neg_mean_absolute_error')\n",
    "gsearch.fit(X_train, Y_train)\n",
    "max_depth = gsearch.best_params_['max_depth']\n",
    "print(gsearch.best_params_)\n",
    "\n",
    "cv_params = {'num_leaves': np.linspace(2, 50, 5, dtype=int)} # \n",
    "gbm = lgb.LGBMRegressor(seed=seed,max_depth=max_depth,verbose=-1)\n",
    "gsearch = GridSearchCV(gbm, param_grid=cv_params, cv=5, scoring='neg_mean_absolute_error')\n",
    "gsearch.fit(X_train, Y_train)\n",
    "num_leaves = gsearch.best_params_['num_leaves']\n",
    "print(gsearch.best_params_)"
   ]
  },
  {
   "cell_type": "code",
   "execution_count": null,
   "metadata": {},
   "outputs": [],
   "source": [
    "ml_model = model_list[1]\n",
    "\n",
    "clf_lgb = lgb.LGBMRegressor(max_depth=max_depth, num_leaves=num_leaves)\n",
    "clf_lgb.fit(X_train,Y_train)\n",
    "\n",
    "y_pred = clf_lgb.predict(X_test)                                   \n",
    "\n",
    "rmse = np.sqrt(mean_squared_error(Y_test, y_pred))\n",
    "r2 = r2_score(Y_test, y_pred)\n",
    "pcc = pearsonr(Y_test, y_pred)[0]\n",
    "pcc_p = pearsonr(Y_test, y_pred)[1]\n",
    "\n",
    "print('rmse=',rmse)\n",
    "print('r2=',r2)\n",
    "print('pcc=',pcc)\n",
    "print('pcc_p=',pcc_p)\n",
    "\n",
    "ax = plt.subplots(figsize=(3,3))\n",
    "plt.ylabel(\"true label\")\n",
    "plt.xlabel(\"pred label\")\n",
    "sns.regplot(x=y_pred,y=Y_test,x_jitter = 0.15,y_jitter = 0.15,\n",
    "            scatter_kws = {'color':'#2E8B57','alpha':0.7,'s':15}, line_kws={\"color\": \"#006400\"},truncate=False)\n",
    "plt.title('small model (slope prediction)\\n' + tissue + ', ' + ml_model)\n",
    "\n",
    "plt.savefig(image_path + 'cm-small-slope-' + tissue + '-' + ml_model + '.png',dpi=300, bbox_inches = 'tight')\n",
    "plt.show()"
   ]
  },
  {
   "cell_type": "markdown",
   "metadata": {},
   "source": [
    "##### model 3: random forest"
   ]
  },
  {
   "cell_type": "code",
   "execution_count": null,
   "metadata": {},
   "outputs": [],
   "source": [
    "from sklearn.ensemble import RandomForestRegressor\n",
    "from sklearn.model_selection import GridSearchCV\n",
    "\n",
    "cv_params = {'n_estimators': np.linspace(10, 200, 10, dtype=int)} # 200\n",
    "rfModel = RandomForestRegressor(random_state = random.seed(seed))\n",
    "grid = GridSearchCV(\n",
    "    rfModel,cv_params,cv = 5,return_train_score = True, scoring='neg_mean_absolute_error')\n",
    "grid.fit(X_train, Y_train)\n",
    "n_estimators = grid.best_params_['n_estimators']\n",
    "print(grid.best_params_)\n",
    "\n",
    "cv_params = {'max_depth': np.linspace(1, 10, 10, dtype=int)} # 200\n",
    "rfModel = RandomForestRegressor(random_state = random.seed(seed),n_estimators=n_estimators)\n",
    "grid = GridSearchCV(\n",
    "    rfModel,cv_params,cv = 5,return_train_score = True, scoring='neg_mean_absolute_error')\n",
    "grid.fit(X_train, Y_train)\n",
    "max_depth=grid.best_params_['max_depth']\n",
    "print(grid.best_params_)"
   ]
  },
  {
   "cell_type": "code",
   "execution_count": null,
   "metadata": {},
   "outputs": [],
   "source": [
    "ml_model = model_list[2]\n",
    "clf_rf = RandomForestRegressor(n_estimators=n_estimators, max_depth=max_depth)\n",
    "clf_rf.fit(X_train,Y_train)\n",
    "\n",
    "y_pred = clf_rf.predict(X_test)        \n",
    "\n",
    "rmse = np.sqrt(mean_squared_error(Y_test, y_pred))\n",
    "r2 = r2_score(Y_test, y_pred)\n",
    "pcc = pearsonr(Y_test, y_pred)[0]\n",
    "pcc_p = pearsonr(Y_test, y_pred)[1]\n",
    "\n",
    "print('rmse=',rmse)\n",
    "print('r2=',r2)\n",
    "print('pcc=',pcc)\n",
    "print('pcc_p=',pcc_p)\n",
    "\n",
    "ax = plt.subplots(figsize=(3,3))\n",
    "plt.ylabel(\"true label\")\n",
    "plt.xlabel(\"pred label\")\n",
    "sns.regplot(x=y_pred,y=Y_test,x_jitter = 0.15,y_jitter = 0.15,\n",
    "            scatter_kws = {'color':'#2E8B57','alpha':0.7,'s':15}, line_kws={\"color\": \"#006400\"},truncate=False)\n",
    "plt.title('small model (slope prediction)\\n' + tissue + ', ' + ml_model)\n",
    "\n",
    "plt.savefig(image_path + 'cm-small-slope-' + tissue + '-' + ml_model + '.png',dpi=300, bbox_inches = 'tight')\n",
    "plt.show()"
   ]
  },
  {
   "cell_type": "markdown",
   "metadata": {},
   "source": [
    "##### model 4: knn"
   ]
  },
  {
   "cell_type": "code",
   "execution_count": null,
   "metadata": {},
   "outputs": [],
   "source": [
    "from sklearn.neighbors import KNeighborsRegressor\n",
    "from sklearn.model_selection import GridSearchCV\n",
    "\n",
    "# 1:search 'n_estimators'\n",
    "paramGride = {'n_neighbors': np.linspace(100, 300, 10, dtype=int)} \n",
    "\n",
    "knnModel = KNeighborsRegressor()\n",
    "grid = GridSearchCV(\n",
    "    knnModel,paramGride,cv = 5,return_train_score = True, scoring='neg_mean_absolute_error')\n",
    "grid = grid.fit(X_train,Y_train)\n",
    "grid.best_params_"
   ]
  },
  {
   "cell_type": "code",
   "execution_count": null,
   "metadata": {},
   "outputs": [],
   "source": [
    "ml_model = model_list[3]\n",
    "clf_knn = KNeighborsRegressor(n_neighbors = grid.best_params_['n_neighbors'])\n",
    "clf_knn.fit(X_train,Y_train)\n",
    "\n",
    "y_pred = clf_knn.predict(X_test)    \n",
    "\n",
    "rmse = np.sqrt(mean_squared_error(Y_test, y_pred))\n",
    "r2 = r2_score(Y_test, y_pred)\n",
    "pcc = pearsonr(Y_test, y_pred)[0]\n",
    "pcc_p = pearsonr(Y_test, y_pred)[1]\n",
    "\n",
    "print('rmse=',rmse)\n",
    "print('r2=',r2)\n",
    "print('pcc=',pcc)\n",
    "print('pcc_p=',pcc_p)\n",
    "\n",
    "ax = plt.subplots(figsize=(3,3))\n",
    "plt.ylabel(\"true label\")\n",
    "plt.xlabel(\"pred label\")\n",
    "sns.regplot(x=y_pred,y=Y_test,x_jitter = 0.15,y_jitter = 0.15,\n",
    "            scatter_kws = {'color':'#2E8B57','alpha':0.7,'s':15}, line_kws={\"color\": \"#006400\"},truncate=False)\n",
    "plt.title('small model (slope prediction)\\n' + tissue + ', ' + ml_model)\n",
    "\n",
    "plt.savefig(image_path + 'cm-small-slope-' + tissue + '-' + ml_model + '.png',dpi=300, bbox_inches = 'tight')\n",
    "plt.show()"
   ]
  },
  {
   "cell_type": "markdown",
   "metadata": {},
   "source": [
    "##### model 5: svm"
   ]
  },
  {
   "cell_type": "code",
   "execution_count": null,
   "metadata": {},
   "outputs": [],
   "source": [
    "from sklearn.svm import SVR\n",
    "from sklearn.model_selection import GridSearchCV\n",
    "\n",
    "cv_params = {'gamma': [1e-4,1e-3,1e-2,1e-1,1,10,100,1000]} # 33\n",
    "svmModel = SVR()\n",
    "grid = GridSearchCV(\n",
    "    svmModel,cv_params,cv = 5,return_train_score = True, scoring='neg_mean_absolute_error')\n",
    "grid = grid.fit(X_train,Y_train)\n",
    "gamma = grid.best_params_['gamma']\n",
    "print(grid.best_params_)\n",
    "\n",
    "cv_params = {'C': [1e-4,1e-3,1e-2,1e-1,1,10,100,1000]} # 33\n",
    "svmModel = SVR(gamma=gamma)\n",
    "grid = GridSearchCV(\n",
    "    svmModel,cv_params,cv = 5,return_train_score = True, scoring='neg_mean_absolute_error')\n",
    "grid = grid.fit(X_train,Y_train)\n",
    "C = grid.best_params_['C']\n",
    "print(grid.best_params_)"
   ]
  },
  {
   "cell_type": "code",
   "execution_count": null,
   "metadata": {},
   "outputs": [],
   "source": [
    "ml_model = model_list[4]\n",
    "clf_svm = SVR(gamma = gamma, C = C)\n",
    "clf_svm.fit(X_train,Y_train)\n",
    "\n",
    "y_pred = clf_svm.predict(X_test)  \n",
    "\n",
    "rmse = np.sqrt(mean_squared_error(Y_test, y_pred))\n",
    "r2 = r2_score(Y_test, y_pred)\n",
    "pcc = pearsonr(Y_test, y_pred)[0]\n",
    "pcc_p = pearsonr(Y_test, y_pred)[1]\n",
    "\n",
    "print('rmse=',rmse)\n",
    "print('r2=',r2)\n",
    "print('pcc=',pcc)\n",
    "print('pcc_p=',pcc_p)\n",
    "\n",
    "ax = plt.subplots(figsize=(3,3))\n",
    "plt.ylabel(\"true label\")\n",
    "plt.xlabel(\"pred label\")\n",
    "sns.regplot(x=y_pred,y=Y_test,x_jitter = 0.15,y_jitter = 0.15,\n",
    "            scatter_kws = {'color':'#2E8B57','alpha':0.7,'s':15}, line_kws={\"color\": \"#006400\"},truncate=False)\n",
    "plt.title('small model (slope prediction)\\n' + tissue + ', ' + ml_model)\n",
    "\n",
    "plt.savefig(image_path + 'cm-small-slope-' + tissue + '-' + ml_model + '.png',dpi=300, bbox_inches = 'tight')\n",
    "plt.show()"
   ]
  },
  {
   "cell_type": "markdown",
   "metadata": {},
   "source": [
    "#### middle model"
   ]
  },
  {
   "cell_type": "code",
   "execution_count": null,
   "metadata": {},
   "outputs": [],
   "source": [
    "model = model_size[1]\n",
    "train_data = pd.read_pickle(data_path + model + '_train.dataset')\n",
    "valid_data = pd.read_pickle(data_path + model + '_valid.dataset')\n",
    "test_data = pd.read_pickle(data_path + model + '_test.dataset')\n",
    "print(train_data.head())\n",
    "\n",
    "merged_data = pd.concat([train_data, valid_data, test_data]) # for machine learning, grid search\n",
    "# new split\n",
    "merged_data = merged_data.sample(frac=1).reset_index(drop=True)\n",
    "train_data = merged_data[0:int(0.9*len(merged_data))].reset_index(drop=True)\n",
    "test_data = merged_data[int(0.9*len(merged_data)):].reset_index(drop=True)\n",
    "\n",
    "sample_list = []\n",
    "y_list = []\n",
    "for i in range(train_data.shape[0]):\n",
    "    feature_list = []\n",
    "    feature_list += train_data['enformer_pca_before'][i].flatten().tolist()\n",
    "    feature_list += train_data['enformer_pca_after'][i].flatten().tolist()\n",
    "    sample_list.append(feature_list)\n",
    "    y_list.append(train_data['slope'][i])\n",
    "X_train = np.array(sample_list)\n",
    "Y_train = np.array(y_list)\n",
    "print('X_train shape: ' + str(X_train.shape))\n",
    "print('Y_train shape: ' + str(Y_train.shape))\n",
    "\n",
    "sample_list = []\n",
    "y_list = []\n",
    "for i in range(test_data.shape[0]):\n",
    "    feature_list = []\n",
    "    feature_list += test_data['enformer_pca_before'][i].flatten().tolist()\n",
    "    feature_list += test_data['enformer_pca_after'][i].flatten().tolist()\n",
    "    sample_list.append(feature_list)\n",
    "    y_list.append(test_data['slope'][i])\n",
    "X_test = np.array(sample_list)\n",
    "Y_test = np.array(y_list)\n",
    "print('X_test shape: ' + str(X_test.shape))\n",
    "print('Y_test shape: ' + str(Y_test.shape))"
   ]
  },
  {
   "cell_type": "markdown",
   "metadata": {},
   "source": [
    "##### model 1: xgboost"
   ]
  },
  {
   "cell_type": "code",
   "execution_count": null,
   "metadata": {},
   "outputs": [],
   "source": [
    "# model 1: xgboost\n",
    "import xgboost as xgb\n",
    "from sklearn.model_selection import GridSearchCV\n",
    "\n",
    "cv_params = {'n_estimators': np.linspace(10, 300, 10, dtype=int)} # \n",
    "xgb_model = xgb.XGBRegressor(seed=seed)\n",
    "# https://scikit-learn.org/stable/modules/model_evaluation.html\n",
    "gs = GridSearchCV(xgb_model, cv_params, refit=True, cv=5, scoring='neg_mean_absolute_error')\n",
    "gs.fit(X_train,Y_train)\n",
    "n_estimators = gs.best_params_['n_estimators']\n",
    "print(gs.best_params_)\n",
    "\n",
    "cv_params = {'max_depth': np.linspace(1, 10, 10, dtype=int)} # \n",
    "xgb_model = xgb.XGBRegressor(seed=seed,n_estimators=n_estimators)\n",
    "gs = GridSearchCV(xgb_model, cv_params, refit=True, cv=5, scoring='neg_mean_absolute_error')\n",
    "gs.fit(X_train,Y_train)\n",
    "max_depth = gs.best_params_['max_depth']\n",
    "print(gs.best_params_)"
   ]
  },
  {
   "cell_type": "code",
   "execution_count": null,
   "metadata": {},
   "outputs": [],
   "source": [
    "ml_model = model_list[0]\n",
    "\n",
    "clf_xgb = xgb.XGBRegressor(n_estimators=n_estimators,  max_depth=max_depth) # from grid search\n",
    "clf_xgb.fit(X_train,Y_train)\n",
    "\n",
    "y_pred = clf_xgb.predict(X_test)                                   \n",
    "\n",
    "rmse = np.sqrt(mean_squared_error(Y_test, y_pred))\n",
    "r2 = r2_score(Y_test, y_pred)\n",
    "pcc = pearsonr(Y_test, y_pred)[0]\n",
    "pcc_p = pearsonr(Y_test, y_pred)[1]\n",
    "\n",
    "print('rmse=',rmse)\n",
    "print('r2=',r2)\n",
    "print('pcc=',pcc)\n",
    "print('pcc_p=',pcc_p)\n",
    "\n",
    "ax = plt.subplots(figsize=(3,3))\n",
    "plt.ylabel(\"true label\")\n",
    "plt.xlabel(\"pred label\")\n",
    "sns.regplot(x=y_pred,y=Y_test,x_jitter = 0.15,y_jitter = 0.15,\n",
    "            scatter_kws = {'color':'#D2691E','alpha':0.7,'s':15}, line_kws={\"color\": \"#8B4513\"},truncate=False)\n",
    "plt.title('middle model (slope prediction)\\n' + tissue + ', ' + ml_model)\n",
    "\n",
    "plt.savefig(image_path + 'cm-middle-slope-' + tissue + '-' + ml_model + '.png',dpi=300, bbox_inches = 'tight')\n",
    "plt.show()"
   ]
  },
  {
   "cell_type": "markdown",
   "metadata": {},
   "source": [
    "##### model 2:lightgbm"
   ]
  },
  {
   "cell_type": "code",
   "execution_count": null,
   "metadata": {},
   "outputs": [],
   "source": [
    "import lightgbm as lgb\n",
    "from sklearn.model_selection import GridSearchCV\n",
    "\n",
    "cv_params = {'max_depth': np.linspace(1, 50, 10, dtype=int)} # \n",
    "gbm = lgb.LGBMRegressor(seed=seed,verbose=-1)\n",
    "gsearch = GridSearchCV(gbm, param_grid=cv_params, cv=5, scoring='neg_mean_absolute_error')\n",
    "gsearch.fit(X_train, Y_train)\n",
    "max_depth = gsearch.best_params_['max_depth']\n",
    "print(gsearch.best_params_)\n",
    "\n",
    "cv_params = {'num_leaves': np.linspace(2, 50, 5, dtype=int)} # \n",
    "gbm = lgb.LGBMRegressor(seed=seed,max_depth=max_depth,verbose=-1)\n",
    "gsearch = GridSearchCV(gbm, param_grid=cv_params, cv=5, scoring='neg_mean_absolute_error')\n",
    "gsearch.fit(X_train, Y_train)\n",
    "num_leaves = gsearch.best_params_['num_leaves']\n",
    "print(gsearch.best_params_)"
   ]
  },
  {
   "cell_type": "code",
   "execution_count": null,
   "metadata": {},
   "outputs": [],
   "source": [
    "ml_model = model_list[1]\n",
    "clf_lgb = lgb.LGBMRegressor(max_depth=max_depth, num_leaves=num_leaves)\n",
    "clf_lgb.fit(X_train,Y_train)\n",
    "\n",
    "y_pred = clf_lgb.predict(X_test)   \n",
    "\n",
    "rmse = np.sqrt(mean_squared_error(Y_test, y_pred))\n",
    "r2 = r2_score(Y_test, y_pred)\n",
    "pcc = pearsonr(Y_test, y_pred)[0]\n",
    "pcc_p = pearsonr(Y_test, y_pred)[1]\n",
    "\n",
    "print('rmse=',rmse)\n",
    "print('r2=',r2)\n",
    "print('pcc=',pcc)\n",
    "print('pcc_p=',pcc_p)\n",
    "\n",
    "ax = plt.subplots(figsize=(3,3))\n",
    "plt.ylabel(\"true label\")\n",
    "plt.xlabel(\"pred label\")\n",
    "sns.regplot(x=y_pred,y=Y_test,x_jitter = 0.15,y_jitter = 0.15,\n",
    "            scatter_kws = {'color':'#D2691E','alpha':0.7,'s':15}, line_kws={\"color\": \"#8B4513\"},truncate=False)\n",
    "plt.title('middle model (slope prediction)\\n' + tissue + ', ' + ml_model)\n",
    "\n",
    "plt.savefig(image_path + 'cm-middle-slope-' + tissue + '-' + ml_model + '.png',dpi=300, bbox_inches = 'tight')\n",
    "plt.show()"
   ]
  },
  {
   "cell_type": "markdown",
   "metadata": {},
   "source": [
    "##### model 3: random forest"
   ]
  },
  {
   "cell_type": "code",
   "execution_count": null,
   "metadata": {},
   "outputs": [],
   "source": [
    "from sklearn.ensemble import RandomForestRegressor\n",
    "from sklearn.model_selection import GridSearchCV\n",
    "\n",
    "cv_params = {'n_estimators': np.linspace(10, 200, 10, dtype=int)} # 200\n",
    "rfModel = RandomForestRegressor(random_state = random.seed(seed))\n",
    "grid = GridSearchCV(\n",
    "    rfModel,cv_params,cv = 5,return_train_score = True, scoring='neg_mean_absolute_error')\n",
    "grid.fit(X_train, Y_train)\n",
    "n_estimators = grid.best_params_['n_estimators']\n",
    "print(grid.best_params_)\n",
    "\n",
    "cv_params = {'max_depth': np.linspace(1, 10, 10, dtype=int)} # 200\n",
    "rfModel = RandomForestRegressor(random_state = random.seed(seed),n_estimators=n_estimators)\n",
    "grid = GridSearchCV(\n",
    "    rfModel,cv_params,cv = 5,return_train_score = True, scoring='neg_mean_absolute_error')\n",
    "grid.fit(X_train, Y_train)\n",
    "max_depth=grid.best_params_['max_depth']\n",
    "print(grid.best_params_)"
   ]
  },
  {
   "cell_type": "code",
   "execution_count": null,
   "metadata": {},
   "outputs": [],
   "source": [
    "ml_model = model_list[2]\n",
    "clf_rf = RandomForestRegressor(n_estimators=n_estimators, max_depth=max_depth)\n",
    "clf_rf.fit(X_train,Y_train)\n",
    "\n",
    "y_pred = clf_rf.predict(X_test)         \n",
    "\n",
    "rmse = np.sqrt(mean_squared_error(Y_test, y_pred))\n",
    "r2 = r2_score(Y_test, y_pred)\n",
    "pcc = pearsonr(Y_test, y_pred)[0]\n",
    "pcc_p = pearsonr(Y_test, y_pred)[1]\n",
    "\n",
    "print('rmse=',rmse)\n",
    "print('r2=',r2)\n",
    "print('pcc=',pcc)\n",
    "print('pcc_p=',pcc_p)\n",
    "\n",
    "ax = plt.subplots(figsize=(3,3))\n",
    "plt.ylabel(\"true label\")\n",
    "plt.xlabel(\"pred label\")\n",
    "sns.regplot(x=y_pred,y=Y_test,x_jitter = 0.15,y_jitter = 0.15,\n",
    "            scatter_kws = {'color':'#D2691E','alpha':0.7,'s':15}, line_kws={\"color\": \"#8B4513\"},truncate=False)\n",
    "plt.title('middle model (slope prediction)\\n' + tissue + ', ' + ml_model)\n",
    "\n",
    "plt.savefig(image_path + 'cm-middle-slope-' + tissue + '-' + ml_model + '.png',dpi=300, bbox_inches = 'tight')\n",
    "plt.show()"
   ]
  },
  {
   "cell_type": "markdown",
   "metadata": {},
   "source": [
    "##### model 4: knn"
   ]
  },
  {
   "cell_type": "code",
   "execution_count": null,
   "metadata": {},
   "outputs": [],
   "source": [
    "from sklearn.neighbors import KNeighborsRegressor\n",
    "from sklearn.model_selection import GridSearchCV\n",
    "\n",
    "# 1:search 'n_estimators'\n",
    "paramGride = {'n_neighbors': np.linspace(100, 300, 10, dtype=int)} \n",
    "\n",
    "knnModel = KNeighborsRegressor()\n",
    "grid = GridSearchCV(\n",
    "    knnModel,paramGride,cv = 5,return_train_score = True, scoring='neg_mean_absolute_error')\n",
    "grid = grid.fit(X_train,Y_train)\n",
    "grid.best_params_"
   ]
  },
  {
   "cell_type": "code",
   "execution_count": null,
   "metadata": {},
   "outputs": [],
   "source": [
    "ml_model = model_list[3]\n",
    "clf_knn = KNeighborsRegressor(n_neighbors = grid.best_params_['n_neighbors'])\n",
    "clf_knn.fit(X_train,Y_train)\n",
    "\n",
    "y_pred = clf_knn.predict(X_test)  \n",
    "\n",
    "rmse = np.sqrt(mean_squared_error(Y_test, y_pred))\n",
    "r2 = r2_score(Y_test, y_pred)\n",
    "pcc = pearsonr(Y_test, y_pred)[0]\n",
    "pcc_p = pearsonr(Y_test, y_pred)[1]\n",
    "\n",
    "print('rmse=',rmse)\n",
    "print('r2=',r2)\n",
    "print('pcc=',pcc)\n",
    "print('pcc_p=',pcc_p)\n",
    "\n",
    "ax = plt.subplots(figsize=(3,3))\n",
    "plt.ylabel(\"true label\")\n",
    "plt.xlabel(\"pred label\")\n",
    "sns.regplot(x=y_pred,y=Y_test,x_jitter = 0.15,y_jitter = 0.15,\n",
    "            scatter_kws = {'color':'#D2691E','alpha':0.7,'s':15}, line_kws={\"color\": \"#8B4513\"},truncate=False)\n",
    "plt.title('middle model (slope prediction)\\n' + tissue + ', ' + ml_model)\n",
    "\n",
    "plt.savefig(image_path + 'cm-middle-slope-' + tissue + '-' + ml_model + '.png',dpi=300, bbox_inches = 'tight')\n",
    "plt.show()"
   ]
  },
  {
   "cell_type": "markdown",
   "metadata": {},
   "source": [
    "##### model 5: svm"
   ]
  },
  {
   "cell_type": "code",
   "execution_count": null,
   "metadata": {},
   "outputs": [],
   "source": [
    "from sklearn.svm import SVR\n",
    "from sklearn.model_selection import GridSearchCV\n",
    "\n",
    "cv_params = {'gamma': [1e-4,1e-3,1e-2,1e-1,1,10,100,1000]} # 33\n",
    "svmModel = SVR()\n",
    "grid = GridSearchCV(\n",
    "    svmModel,cv_params,cv = 5,return_train_score = True, scoring='neg_mean_absolute_error')\n",
    "grid = grid.fit(X_train,Y_train)\n",
    "gamma = grid.best_params_['gamma']\n",
    "print(grid.best_params_)\n",
    "\n",
    "cv_params = {'C': [1e-4,1e-3,1e-2,1e-1,1,10,100,1000]} # 33\n",
    "svmModel = SVR(gamma=gamma)\n",
    "grid = GridSearchCV(\n",
    "    svmModel,cv_params,cv = 5,return_train_score = True, scoring='neg_mean_absolute_error')\n",
    "grid = grid.fit(X_train,Y_train)\n",
    "C = grid.best_params_['C']\n",
    "print(grid.best_params_)"
   ]
  },
  {
   "cell_type": "code",
   "execution_count": null,
   "metadata": {},
   "outputs": [],
   "source": [
    "ml_model = model_list[4]\n",
    "clf_svm = SVR(gamma = gamma, C = C)\n",
    "clf_svm.fit(X_train,Y_train)\n",
    "\n",
    "y_pred = clf_svm.predict(X_test)      \n",
    "\n",
    "rmse = np.sqrt(mean_squared_error(Y_test, y_pred))\n",
    "r2 = r2_score(Y_test, y_pred)\n",
    "pcc = pearsonr(Y_test, y_pred)[0]\n",
    "pcc_p = pearsonr(Y_test, y_pred)[1]\n",
    "\n",
    "print('rmse=',rmse)\n",
    "print('r2=',r2)\n",
    "print('pcc=',pcc)\n",
    "print('pcc_p=',pcc_p)\n",
    "\n",
    "ax = plt.subplots(figsize=(3,3))\n",
    "plt.ylabel(\"true label\")\n",
    "plt.xlabel(\"pred label\")\n",
    "sns.regplot(x=y_pred,y=Y_test,x_jitter = 0.15,y_jitter = 0.15,\n",
    "            scatter_kws = {'color':'#D2691E','alpha':0.7,'s':15}, line_kws={\"color\": \"#8B4513\"},truncate=False)\n",
    "plt.title('middle model (slope prediction)\\n' + tissue + ', ' + ml_model)\n",
    "\n",
    "plt.savefig(image_path + 'cm-middle-slope-' + tissue + '-' + ml_model + '.png',dpi=300, bbox_inches = 'tight')\n",
    "plt.show()"
   ]
  },
  {
   "cell_type": "markdown",
   "metadata": {},
   "source": [
    "#### large model"
   ]
  },
  {
   "cell_type": "code",
   "execution_count": null,
   "metadata": {},
   "outputs": [],
   "source": [
    "model = model_size[2]\n",
    "train_data = pd.read_pickle(data_path + model + '_train.dataset')\n",
    "valid_data = pd.read_pickle(data_path + model + '_valid.dataset')\n",
    "test_data = pd.read_pickle(data_path + model + '_test.dataset')\n",
    "print(train_data.head())\n",
    "\n",
    "merged_data = pd.concat([train_data, valid_data, test_data]) # for machine learning, grid search\n",
    "# new split\n",
    "merged_data = merged_data.sample(frac=1).reset_index(drop=True)\n",
    "train_data = merged_data[0:int(0.9*len(merged_data))].reset_index(drop=True)\n",
    "test_data = merged_data[int(0.9*len(merged_data)):].reset_index(drop=True)\n",
    "\n",
    "sample_list = []\n",
    "y_list = []\n",
    "for i in range(train_data.shape[0]):\n",
    "    feature_list = []\n",
    "    feature_list += train_data['enformer_pca_before'][i].flatten().tolist()\n",
    "    feature_list += train_data['enformer_pca_after'][i].flatten().tolist()\n",
    "    sample_list.append(feature_list)\n",
    "    y_list.append(train_data['slope'][i])\n",
    "X_train = np.array(sample_list)\n",
    "Y_train = np.array(y_list)\n",
    "print('X_train shape: ' + str(X_train.shape))\n",
    "print('Y_train shape: ' + str(Y_train.shape))\n",
    "\n",
    "sample_list = []\n",
    "y_list = []\n",
    "for i in range(test_data.shape[0]):\n",
    "    feature_list = []\n",
    "    feature_list += test_data['enformer_pca_before'][i].flatten().tolist()\n",
    "    feature_list += test_data['enformer_pca_after'][i].flatten().tolist()\n",
    "    sample_list.append(feature_list)\n",
    "    y_list.append(test_data['slope'][i])\n",
    "X_test = np.array(sample_list)\n",
    "Y_test = np.array(y_list)\n",
    "print('X_test shape: ' + str(X_test.shape))\n",
    "print('Y_test shape: ' + str(Y_test.shape))"
   ]
  },
  {
   "cell_type": "markdown",
   "metadata": {},
   "source": [
    "##### model 1: xgboost"
   ]
  },
  {
   "cell_type": "code",
   "execution_count": null,
   "metadata": {},
   "outputs": [],
   "source": [
    "# model 1: xgboost\n",
    "import xgboost as xgb\n",
    "from sklearn.model_selection import GridSearchCV\n",
    "\n",
    "cv_params = {'n_estimators': np.linspace(10, 300, 10, dtype=int)} # \n",
    "xgb_model = xgb.XGBRegressor(seed=seed)\n",
    "# https://scikit-learn.org/stable/modules/model_evaluation.html\n",
    "gs = GridSearchCV(xgb_model, cv_params, refit=True, cv=5, scoring='neg_mean_absolute_error')\n",
    "gs.fit(X_train,Y_train)\n",
    "n_estimators = gs.best_params_['n_estimators']\n",
    "print(gs.best_params_)\n",
    "\n",
    "cv_params = {'max_depth': np.linspace(1, 10, 10, dtype=int)} # \n",
    "xgb_model = xgb.XGBRegressor(seed=seed,n_estimators=n_estimators)\n",
    "gs = GridSearchCV(xgb_model, cv_params, refit=True, cv=5, scoring='neg_mean_absolute_error')\n",
    "gs.fit(X_train,Y_train)\n",
    "max_depth = gs.best_params_['max_depth']\n",
    "print(gs.best_params_)"
   ]
  },
  {
   "cell_type": "code",
   "execution_count": null,
   "metadata": {},
   "outputs": [],
   "source": [
    "ml_model = model_list[0]\n",
    "clf_xgb = xgb.XGBRegressor(n_estimators=n_estimators,  max_depth=max_depth) # from grid search\n",
    "clf_xgb.fit(X_train,Y_train)\n",
    "\n",
    "y_pred = clf_xgb.predict(X_test)                                   \n",
    "\n",
    "rmse = np.sqrt(mean_squared_error(Y_test, y_pred))\n",
    "r2 = r2_score(Y_test, y_pred)\n",
    "pcc = pearsonr(Y_test, y_pred)[0]\n",
    "pcc_p = pearsonr(Y_test, y_pred)[1]\n",
    "\n",
    "print('rmse=',rmse)\n",
    "print('r2=',r2)\n",
    "print('pcc=',pcc)\n",
    "print('pcc_p=',pcc_p)\n",
    "\n",
    "ax = plt.subplots(figsize=(3,3))\n",
    "plt.ylabel(\"true label\")\n",
    "plt.xlabel(\"pred label\")\n",
    "sns.regplot(x=y_pred,y=Y_test,x_jitter = 0.15,y_jitter = 0.15,\n",
    "            scatter_kws = {'color':'#800080','alpha':0.7,'s':15}, line_kws={\"color\": \"#4B0082\"},truncate=False)\n",
    "plt.title('large model (slope prediction)\\n' + tissue + ', ' + ml_model)\n",
    "\n",
    "plt.savefig(image_path + 'cm-large-slope-' + tissue + '-' + ml_model + '.png',dpi=300, bbox_inches = 'tight')\n",
    "plt.show()"
   ]
  },
  {
   "cell_type": "markdown",
   "metadata": {},
   "source": [
    "##### model 2:lightgbm"
   ]
  },
  {
   "cell_type": "code",
   "execution_count": null,
   "metadata": {},
   "outputs": [],
   "source": [
    "import lightgbm as lgb\n",
    "from sklearn.model_selection import GridSearchCV\n",
    "\n",
    "cv_params = {'max_depth': np.linspace(1, 50, 10, dtype=int)} # \n",
    "gbm = lgb.LGBMRegressor(seed=seed,verbose=-1)\n",
    "gsearch = GridSearchCV(gbm, param_grid=cv_params, cv=5, scoring='neg_mean_absolute_error')\n",
    "gsearch.fit(X_train, Y_train)\n",
    "max_depth = gsearch.best_params_['max_depth']\n",
    "print(gsearch.best_params_)\n",
    "\n",
    "cv_params = {'num_leaves': np.linspace(2, 50, 5, dtype=int)} # \n",
    "gbm = lgb.LGBMRegressor(seed=seed,max_depth=max_depth,verbose=-1)\n",
    "gsearch = GridSearchCV(gbm, param_grid=cv_params, cv=5, scoring='neg_mean_absolute_error')\n",
    "gsearch.fit(X_train, Y_train)\n",
    "num_leaves = gsearch.best_params_['num_leaves']\n",
    "print(gsearch.best_params_)"
   ]
  },
  {
   "cell_type": "code",
   "execution_count": null,
   "metadata": {},
   "outputs": [],
   "source": [
    "ml_model = model_list[1]\n",
    "clf_lgb = lgb.LGBMRegressor(max_depth=max_depth, num_leaves=num_leaves)\n",
    "clf_lgb.fit(X_train,Y_train)\n",
    "\n",
    "y_pred = clf_lgb.predict(X_test)         \n",
    "\n",
    "rmse = np.sqrt(mean_squared_error(Y_test, y_pred))\n",
    "r2 = r2_score(Y_test, y_pred)\n",
    "pcc = pearsonr(Y_test, y_pred)[0]\n",
    "pcc_p = pearsonr(Y_test, y_pred)[1]\n",
    "\n",
    "print('rmse=',rmse)\n",
    "print('r2=',r2)\n",
    "print('pcc=',pcc)\n",
    "print('pcc_p=',pcc_p)\n",
    "\n",
    "ax = plt.subplots(figsize=(3,3))\n",
    "plt.ylabel(\"true label\")\n",
    "plt.xlabel(\"pred label\")\n",
    "sns.regplot(x=y_pred,y=Y_test,x_jitter = 0.15,y_jitter = 0.15,\n",
    "            scatter_kws = {'color':'#800080','alpha':0.7,'s':15}, line_kws={\"color\": \"#4B0082\"},truncate=False)\n",
    "plt.title('large model (slope prediction)\\n' + tissue + ', ' + ml_model)\n",
    "\n",
    "plt.savefig(image_path + 'cm-large-slope-' + tissue + '-' + ml_model + '.png',dpi=300, bbox_inches = 'tight')\n",
    "plt.show()"
   ]
  },
  {
   "cell_type": "markdown",
   "metadata": {},
   "source": [
    "##### model 3: random forest"
   ]
  },
  {
   "cell_type": "code",
   "execution_count": null,
   "metadata": {},
   "outputs": [],
   "source": [
    "from sklearn.ensemble import RandomForestRegressor\n",
    "from sklearn.model_selection import GridSearchCV\n",
    "\n",
    "cv_params = {'n_estimators': np.linspace(10, 200, 10, dtype=int)} # 200\n",
    "rfModel = RandomForestRegressor(random_state = random.seed(seed))\n",
    "grid = GridSearchCV(\n",
    "    rfModel,cv_params,cv = 5,return_train_score = True, scoring='neg_mean_absolute_error')\n",
    "grid.fit(X_train, Y_train)\n",
    "n_estimators = grid.best_params_['n_estimators']\n",
    "print(grid.best_params_)\n",
    "\n",
    "cv_params = {'max_depth': np.linspace(1, 10, 10, dtype=int)} # 200\n",
    "rfModel = RandomForestRegressor(random_state = random.seed(seed),n_estimators=n_estimators)\n",
    "grid = GridSearchCV(\n",
    "    rfModel,cv_params,cv = 5,return_train_score = True, scoring='neg_mean_absolute_error')\n",
    "grid.fit(X_train, Y_train)\n",
    "max_depth=grid.best_params_['max_depth']\n",
    "print(grid.best_params_)"
   ]
  },
  {
   "cell_type": "code",
   "execution_count": null,
   "metadata": {},
   "outputs": [],
   "source": [
    "ml_model = model_list[2]\n",
    "clf_rf = RandomForestRegressor(n_estimators=n_estimators, max_depth=max_depth)\n",
    "clf_rf.fit(X_train,Y_train)\n",
    "\n",
    "y_pred = clf_rf.predict(X_test)   \n",
    "\n",
    "rmse = np.sqrt(mean_squared_error(Y_test, y_pred))\n",
    "r2 = r2_score(Y_test, y_pred)\n",
    "pcc = pearsonr(Y_test, y_pred)[0]\n",
    "pcc_p = pearsonr(Y_test, y_pred)[1]\n",
    "\n",
    "print('rmse=',rmse)\n",
    "print('r2=',r2)\n",
    "print('pcc=',pcc)\n",
    "print('pcc_p=',pcc_p)\n",
    "\n",
    "ax = plt.subplots(figsize=(3,3))\n",
    "plt.ylabel(\"true label\")\n",
    "plt.xlabel(\"pred label\")\n",
    "sns.regplot(x=y_pred,y=Y_test,x_jitter = 0.15,y_jitter = 0.15,\n",
    "            scatter_kws = {'color':'#800080','alpha':0.7,'s':15}, line_kws={\"color\": \"#4B0082\"},truncate=False)\n",
    "plt.title('large model (slope prediction)\\n' + tissue + ', ' + ml_model)\n",
    "\n",
    "plt.savefig(image_path + 'cm-large-slope-' + tissue + '-' + ml_model + '.png',dpi=300, bbox_inches = 'tight')\n",
    "plt.show()"
   ]
  },
  {
   "cell_type": "markdown",
   "metadata": {},
   "source": [
    "##### model 4: knn"
   ]
  },
  {
   "cell_type": "code",
   "execution_count": null,
   "metadata": {},
   "outputs": [],
   "source": [
    "from sklearn.neighbors import KNeighborsRegressor\n",
    "from sklearn.model_selection import GridSearchCV\n",
    "\n",
    "# 1:search 'n_estimators'\n",
    "paramGride = {'n_neighbors': np.linspace(100, 300, 10, dtype=int)} \n",
    "\n",
    "knnModel = KNeighborsRegressor()\n",
    "grid = GridSearchCV(\n",
    "    knnModel,paramGride,cv = 5,return_train_score = True, scoring='roc_auc')\n",
    "grid = grid.fit(X_train,Y_train)\n",
    "grid.best_params_"
   ]
  },
  {
   "cell_type": "code",
   "execution_count": null,
   "metadata": {},
   "outputs": [],
   "source": [
    "ml_model = model_list[3]\n",
    "clf_knn = KNeighborsRegressor(n_neighbors = grid.best_params_['n_neighbors'])\n",
    "clf_knn.fit(X_train,Y_train)\n",
    "\n",
    "y_pred = clf_knn.predict(X_test)   \n",
    "\n",
    "rmse = np.sqrt(mean_squared_error(Y_test, y_pred))\n",
    "r2 = r2_score(Y_test, y_pred)\n",
    "pcc = pearsonr(Y_test, y_pred)[0]\n",
    "pcc_p = pearsonr(Y_test, y_pred)[1]\n",
    "\n",
    "print('rmse=',rmse)\n",
    "print('r2=',r2)\n",
    "print('pcc=',pcc)\n",
    "print('pcc_p=',pcc_p)\n",
    "\n",
    "ax = plt.subplots(figsize=(3,3))\n",
    "plt.ylabel(\"true label\")\n",
    "plt.xlabel(\"pred label\")\n",
    "sns.regplot(x=y_pred,y=Y_test,x_jitter = 0.15,y_jitter = 0.15,\n",
    "            scatter_kws = {'color':'#800080','alpha':0.7,'s':15}, line_kws={\"color\": \"#4B0082\"},truncate=False)\n",
    "plt.title('large model (slope prediction)\\n' + tissue + ', ' + ml_model)\n",
    "\n",
    "plt.savefig(image_path + 'cm-large-slope-' + tissue + '-' + ml_model + '.png',dpi=300, bbox_inches = 'tight')\n",
    "plt.show()"
   ]
  },
  {
   "cell_type": "markdown",
   "metadata": {},
   "source": [
    "##### model 5: svm"
   ]
  },
  {
   "cell_type": "code",
   "execution_count": null,
   "metadata": {},
   "outputs": [],
   "source": [
    "from sklearn.svm import SVR\n",
    "from sklearn.model_selection import GridSearchCV\n",
    "\n",
    "cv_params = {'gamma': [1e-4,1e-3,1e-2,1e-1,1,10,100,1000]} # 33\n",
    "svmModel = SVR()\n",
    "grid = GridSearchCV(\n",
    "    svmModel,cv_params,cv = 5,return_train_score = True, scoring='neg_mean_absolute_error')\n",
    "grid = grid.fit(X_train,Y_train)\n",
    "gamma = grid.best_params_['gamma']\n",
    "print(grid.best_params_)\n",
    "\n",
    "cv_params = {'C': [1e-4,1e-3,1e-2,1e-1,1,10,100,1000]} # 33\n",
    "svmModel = SVR(gamma=gamma)\n",
    "grid = GridSearchCV(\n",
    "    svmModel,cv_params,cv = 5,return_train_score = True, scoring='neg_mean_absolute_error')\n",
    "grid = grid.fit(X_train,Y_train)\n",
    "C = grid.best_params_['C']\n",
    "print(grid.best_params_)"
   ]
  },
  {
   "cell_type": "code",
   "execution_count": null,
   "metadata": {},
   "outputs": [],
   "source": [
    "ml_model = model_list[4]\n",
    "clf_svm = SVR(gamma = gamma, C = C)\n",
    "clf_svm.fit(X_train,Y_train)\n",
    "\n",
    "y_pred = clf_svm.predict(X_test)      \n",
    "\n",
    "rmse = np.sqrt(mean_squared_error(Y_test, y_pred))\n",
    "r2 = r2_score(Y_test, y_pred)\n",
    "pcc = pearsonr(Y_test, y_pred)[0]\n",
    "pcc_p = pearsonr(Y_test, y_pred)[1]\n",
    "\n",
    "print('rmse=',rmse)\n",
    "print('r2=',r2)\n",
    "print('pcc=',pcc)\n",
    "print('pcc_p=',pcc_p)\n",
    "\n",
    "ax = plt.subplots(figsize=(3,3))\n",
    "plt.ylabel(\"true label\")\n",
    "plt.xlabel(\"pred label\")\n",
    "sns.regplot(x=y_pred,y=Y_test,x_jitter = 0.15,y_jitter = 0.15,\n",
    "            scatter_kws = {'color':'#800080','alpha':0.7,'s':15}, line_kws={\"color\": \"#4B0082\"},truncate=False)\n",
    "plt.title('large model (slope prediction)\\n' + tissue + ', ' + ml_model)\n",
    "\n",
    "plt.savefig(image_path + 'cm-large-slope-' + tissue + '-' + ml_model + '.png',dpi=300, bbox_inches = 'tight')\n",
    "plt.show()"
   ]
  }
 ],
 "metadata": {
  "kernelspec": {
   "display_name": "benchmark-env",
   "language": "python",
   "name": "benchmark"
  },
  "language_info": {
   "codemirror_mode": {
    "name": "ipython",
    "version": 3
   },
   "file_extension": ".py",
   "mimetype": "text/x-python",
   "name": "python",
   "nbconvert_exporter": "python",
   "pygments_lexer": "ipython3",
   "version": "3.9.19"
  },
  "vscode": {
   "interpreter": {
    "hash": "6fff98fc3b3d81bd655c2cc48858186e4d9e2db7b515bf1c3221888f12a62f87"
   }
  }
 },
 "nbformat": 4,
 "nbformat_minor": 4
}
