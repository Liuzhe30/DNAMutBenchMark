{
 "cells": [
  {
   "cell_type": "markdown",
   "metadata": {},
   "source": [
    "### exp: eqtl prediction, slope prediction, enformer_pca for machine learning"
   ]
  },
  {
   "cell_type": "code",
   "execution_count": 1,
   "metadata": {},
   "outputs": [],
   "source": [
    "import os\n",
    "import pandas as pd\n",
    "import numpy as np\n",
    "import seaborn as sns\n",
    "from sklearn.metrics import r2_score, mean_squared_error\n",
    "from scipy.stats import pearsonr\n",
    "import matplotlib.pyplot as plt\n",
    "%matplotlib inline\n",
    "\n",
    "import warnings\n",
    "warnings.filterwarnings('ignore')"
   ]
  },
  {
   "cell_type": "code",
   "execution_count": 2,
   "metadata": {},
   "outputs": [],
   "source": [
    "model_size = ['small','middle','large']\n",
    "model_list = ['xgboost','lightgbm','random forest','knn','svm']\n",
    "tissue = 'Nerve_Tibial'\n",
    "data_path = '../../../../../datasets_embedding/enformer_pca/eqtl_datasets/slope_prediction/' + tissue + '/'\n",
    "image_path = 'images_shuffled_seed510/'\n",
    "# set seed\n",
    "seed = 510\n",
    "import random\n",
    "random.seed(seed)\n",
    "np.random.seed(seed)"
   ]
  },
  {
   "cell_type": "markdown",
   "metadata": {},
   "source": [
    "#### small model"
   ]
  },
  {
   "cell_type": "code",
   "execution_count": 3,
   "metadata": {},
   "outputs": [
    {
     "name": "stdout",
     "output_type": "stream",
     "text": [
      "              variant_id     slope  \\\n",
      "0   chr1_1407232_G_C_b38  0.436504   \n",
      "1   chr1_2526571_G_C_b38  0.500525   \n",
      "2   chr1_9687685_C_T_b38  0.738330   \n",
      "3  chr1_19075748_C_A_b38  0.404185   \n",
      "4  chr1_20508117_C_A_b38  0.996535   \n",
      "\n",
      "                                 enformer_pca_before  \\\n",
      "0  [[202.36174, 688.5729, -40.228092, -82.51749, ...   \n",
      "1  [[-64.85769, -7.3327265, 16.97524, 46.918682, ...   \n",
      "2  [[222.38568, -70.48221, -204.72684, 148.45766,...   \n",
      "3  [[-100.58155, -23.279356, 26.816816, -3.419595...   \n",
      "4  [[-46.71183, -49.94003, -5.246151, 22.846865, ...   \n",
      "\n",
      "                                  enformer_pca_after  \n",
      "0  [[204.92604, 687.5071, -40.220306, -83.023895,...  \n",
      "1  [[-64.88102, -9.749526, 15.611318, 46.643986, ...  \n",
      "2  [[222.21155, -72.841515, -180.03122, 175.536, ...  \n",
      "3  [[-100.58486, -23.145569, 26.993353, -3.271375...  \n",
      "4  [[-47.0057, -49.855946, -5.038662, 22.799059, ...  \n",
      "X_train shape: (409, 17920)\n",
      "Y_train shape: (409,)\n",
      "X_test shape: (46, 17920)\n",
      "Y_test shape: (46,)\n"
     ]
    }
   ],
   "source": [
    "model = model_size[0]\n",
    "train_data = pd.read_pickle(data_path + model + '_train.dataset')\n",
    "valid_data = pd.read_pickle(data_path + model + '_valid.dataset')\n",
    "test_data = pd.read_pickle(data_path + model + '_test.dataset')\n",
    "print(train_data.head())\n",
    "\n",
    "merged_data = pd.concat([train_data, valid_data, test_data]) # for machine learning, grid search\n",
    "# new split\n",
    "merged_data = merged_data.sample(frac=1).reset_index(drop=True)\n",
    "train_data = merged_data[0:int(0.9*len(merged_data))].reset_index(drop=True)\n",
    "test_data = merged_data[int(0.9*len(merged_data)):].reset_index(drop=True)\n",
    "\n",
    "sample_list = []\n",
    "y_list = []\n",
    "for i in range(train_data.shape[0]):\n",
    "    feature_list = []\n",
    "    feature_list += train_data['enformer_pca_before'][i].flatten().tolist()\n",
    "    feature_list += train_data['enformer_pca_after'][i].flatten().tolist()\n",
    "    sample_list.append(feature_list)\n",
    "    y_list.append(train_data['slope'][i])\n",
    "X_train = np.array(sample_list)\n",
    "Y_train = np.array(y_list)\n",
    "print('X_train shape: ' + str(X_train.shape))\n",
    "print('Y_train shape: ' + str(Y_train.shape))\n",
    "\n",
    "sample_list = []\n",
    "y_list = []\n",
    "for i in range(test_data.shape[0]):\n",
    "    feature_list = []\n",
    "    feature_list += test_data['enformer_pca_before'][i].flatten().tolist()\n",
    "    feature_list += test_data['enformer_pca_after'][i].flatten().tolist()\n",
    "    sample_list.append(feature_list)\n",
    "    y_list.append(test_data['slope'][i])\n",
    "X_test = np.array(sample_list)\n",
    "Y_test = np.array(y_list)\n",
    "print('X_test shape: ' + str(X_test.shape))\n",
    "print('Y_test shape: ' + str(Y_test.shape))"
   ]
  },
  {
   "cell_type": "markdown",
   "metadata": {},
   "source": [
    "##### model 1: xgboost"
   ]
  },
  {
   "cell_type": "code",
   "execution_count": 4,
   "metadata": {},
   "outputs": [
    {
     "name": "stdout",
     "output_type": "stream",
     "text": [
      "{'n_estimators': 74}\n",
      "{'max_depth': 1}\n"
     ]
    }
   ],
   "source": [
    "# model 1: xgboost\n",
    "import xgboost as xgb\n",
    "from sklearn.model_selection import GridSearchCV\n",
    "\n",
    "cv_params = {'n_estimators': np.linspace(10, 300, 10, dtype=int)} # \n",
    "xgb_model = xgb.XGBRegressor(seed=seed)\n",
    "# https://scikit-learn.org/stable/modules/model_evaluation.html\n",
    "gs = GridSearchCV(xgb_model, cv_params, refit=True, cv=5, scoring='neg_mean_absolute_error')\n",
    "gs.fit(X_train,Y_train)\n",
    "n_estimators = gs.best_params_['n_estimators']\n",
    "print(gs.best_params_)\n",
    "\n",
    "cv_params = {'max_depth': np.linspace(1, 10, 10, dtype=int)} # \n",
    "xgb_model = xgb.XGBRegressor(seed=seed,n_estimators=n_estimators)\n",
    "gs = GridSearchCV(xgb_model, cv_params, refit=True, cv=5, scoring='neg_mean_absolute_error')\n",
    "gs.fit(X_train,Y_train)\n",
    "max_depth = gs.best_params_['max_depth']\n",
    "print(gs.best_params_)"
   ]
  },
  {
   "cell_type": "code",
   "execution_count": 5,
   "metadata": {},
   "outputs": [
    {
     "name": "stdout",
     "output_type": "stream",
     "text": [
      "rmse= 0.7934353969540235\n",
      "r2= -0.19229854581010986\n",
      "pcc= -0.02738264247159909\n",
      "pcc_p= 0.8566495069538678\n"
     ]
    },
    {
     "data": {
      "image/png": "[encoded data removed]",
      "text/plain": [
       "<Figure size 300x300 with 1 Axes>"
      ]
     },
     "metadata": {},
     "output_type": "display_data"
    }
   ],
   "source": [
    "ml_model = model_list[0]\n",
    "\n",
    "clf_xgb = xgb.XGBRegressor(n_estimators=n_estimators,  max_depth=max_depth) # from grid search\n",
    "clf_xgb.fit(X_train,Y_train)\n",
    "\n",
    "y_pred = clf_xgb.predict(X_test)                                   \n",
    "\n",
    "rmse = np.sqrt(mean_squared_error(Y_test, y_pred))\n",
    "r2 = r2_score(Y_test, y_pred)\n",
    "pcc = pearsonr(Y_test, y_pred)[0]\n",
    "pcc_p = pearsonr(Y_test, y_pred)[1]\n",
    "\n",
    "print('rmse=',rmse)\n",
    "print('r2=',r2)\n",
    "print('pcc=',pcc)\n",
    "print('pcc_p=',pcc_p)\n",
    "\n",
    "ax = plt.subplots(figsize=(3,3))\n",
    "plt.ylabel(\"true label\")\n",
    "plt.xlabel(\"pred label\")\n",
    "sns.regplot(x=y_pred,y=Y_test,x_jitter = 0.15,y_jitter = 0.15,\n",
    "            scatter_kws = {'color':'#2E8B57','alpha':0.7,'s':15}, line_kws={\"color\": \"#006400\"},truncate=False)\n",
    "plt.title('small model (slope prediction)\\n' + tissue + ', ' + ml_model)\n",
    "\n",
    "plt.savefig(image_path + 'cm-small-slope-' + tissue + '-' + ml_model + '.png',dpi=300, bbox_inches = 'tight')\n",
    "plt.show()"
   ]
  },
  {
   "cell_type": "markdown",
   "metadata": {},
   "source": [
    "##### model 2:lightgbm"
   ]
  },
  {
   "cell_type": "code",
   "execution_count": 6,
   "metadata": {},
   "outputs": [
    {
     "name": "stdout",
     "output_type": "stream",
     "text": [
      "{'max_depth': 17}\n",
      "{'num_leaves': 14}\n"
     ]
    }
   ],
   "source": [
    "import lightgbm as lgb\n",
    "from sklearn.model_selection import GridSearchCV\n",
    "\n",
    "cv_params = {'max_depth': np.linspace(1, 50, 10, dtype=int)} # \n",
    "gbm = lgb.LGBMRegressor(seed=seed,verbose=-1)\n",
    "gsearch = GridSearchCV(gbm, param_grid=cv_params, cv=5, scoring='neg_mean_absolute_error')\n",
    "gsearch.fit(X_train, Y_train)\n",
    "max_depth = gsearch.best_params_['max_depth']\n",
    "print(gsearch.best_params_)\n",
    "\n",
    "cv_params = {'num_leaves': np.linspace(2, 50, 5, dtype=int)} # \n",
    "gbm = lgb.LGBMRegressor(seed=seed,max_depth=max_depth,verbose=-1)\n",
    "gsearch = GridSearchCV(gbm, param_grid=cv_params, cv=5, scoring='neg_mean_absolute_error')\n",
    "gsearch.fit(X_train, Y_train)\n",
    "num_leaves = gsearch.best_params_['num_leaves']\n",
    "print(gsearch.best_params_)"
   ]
  },
  {
   "cell_type": "code",
   "execution_count": 7,
   "metadata": {},
   "outputs": [
    {
     "name": "stdout",
     "output_type": "stream",
     "text": [
      "[LightGBM] [Info] Auto-choosing col-wise multi-threading, the overhead of testing was 0.322596 seconds.\n",
      "You can set `force_col_wise=true` to remove the overhead.\n",
      "[LightGBM] [Info] Total Bins 2451370\n",
      "[LightGBM] [Info] Number of data points in the train set: 409, number of used features: 17920\n",
      "[LightGBM] [Info] Start training from score 0.052539\n",
      "rmse= 0.7519986573839554\n",
      "r2= -0.07101610595971586\n",
      "pcc= 0.08517538506379395\n",
      "pcc_p= 0.5735617470300033\n"
     ]
    },
    {
     "data": {
      "image/png": "[encoded data removed]",
      "text/plain": [
       "<Figure size 300x300 with 1 Axes>"
      ]
     },
     "metadata": {},
     "output_type": "display_data"
    }
   ],
   "source": [
    "ml_model = model_list[1]\n",
    "\n",
    "clf_lgb = lgb.LGBMRegressor(max_depth=max_depth, num_leaves=num_leaves)\n",
    "clf_lgb.fit(X_train,Y_train)\n",
    "\n",
    "y_pred = clf_lgb.predict(X_test)                                   \n",
    "\n",
    "rmse = np.sqrt(mean_squared_error(Y_test, y_pred))\n",
    "r2 = r2_score(Y_test, y_pred)\n",
    "pcc = pearsonr(Y_test, y_pred)[0]\n",
    "pcc_p = pearsonr(Y_test, y_pred)[1]\n",
    "\n",
    "print('rmse=',rmse)\n",
    "print('r2=',r2)\n",
    "print('pcc=',pcc)\n",
    "print('pcc_p=',pcc_p)\n",
    "\n",
    "ax = plt.subplots(figsize=(3,3))\n",
    "plt.ylabel(\"true label\")\n",
    "plt.xlabel(\"pred label\")\n",
    "sns.regplot(x=y_pred,y=Y_test,x_jitter = 0.15,y_jitter = 0.15,\n",
    "            scatter_kws = {'color':'#2E8B57','alpha':0.7,'s':15}, line_kws={\"color\": \"#006400\"},truncate=False)\n",
    "plt.title('small model (slope prediction)\\n' + tissue + ', ' + ml_model)\n",
    "\n",
    "plt.savefig(image_path + 'cm-small-slope-' + tissue + '-' + ml_model + '.png',dpi=300, bbox_inches = 'tight')\n",
    "plt.show()"
   ]
  },
  {
   "cell_type": "markdown",
   "metadata": {},
   "source": [
    "##### model 3: random forest"
   ]
  },
  {
   "cell_type": "code",
   "execution_count": 8,
   "metadata": {},
   "outputs": [
    {
     "name": "stdout",
     "output_type": "stream",
     "text": [
      "{'n_estimators': 73}\n",
      "{'max_depth': 6}\n"
     ]
    }
   ],
   "source": [
    "from sklearn.ensemble import RandomForestRegressor\n",
    "from sklearn.model_selection import GridSearchCV\n",
    "\n",
    "cv_params = {'n_estimators': np.linspace(10, 200, 10, dtype=int)} # 200\n",
    "rfModel = RandomForestRegressor(random_state = random.seed(seed))\n",
    "grid = GridSearchCV(\n",
    "    rfModel,cv_params,cv = 5,return_train_score = True, scoring='neg_mean_absolute_error')\n",
    "grid.fit(X_train, Y_train)\n",
    "n_estimators = grid.best_params_['n_estimators']\n",
    "print(grid.best_params_)\n",
    "\n",
    "cv_params = {'max_depth': np.linspace(1, 10, 10, dtype=int)} # 200\n",
    "rfModel = RandomForestRegressor(random_state = random.seed(seed),n_estimators=n_estimators)\n",
    "grid = GridSearchCV(\n",
    "    rfModel,cv_params,cv = 5,return_train_score = True, scoring='neg_mean_absolute_error')\n",
    "grid.fit(X_train, Y_train)\n",
    "max_depth=grid.best_params_['max_depth']\n",
    "print(grid.best_params_)"
   ]
  },
  {
   "cell_type": "code",
   "execution_count": 9,
   "metadata": {},
   "outputs": [
    {
     "name": "stdout",
     "output_type": "stream",
     "text": [
      "rmse= 0.7503267757255265\n",
      "r2= -0.06625912487779795\n",
      "pcc= -0.04691850408081969\n",
      "pcc_p= 0.7568424602295661\n"
     ]
    },
    {
     "data": {
      "image/png": "[encoded data removed]",
      "text/plain": [
       "<Figure size 300x300 with 1 Axes>"
      ]
     },
     "metadata": {},
     "output_type": "display_data"
    }
   ],
   "source": [
    "ml_model = model_list[2]\n",
    "clf_rf = RandomForestRegressor(n_estimators=n_estimators, max_depth=max_depth)\n",
    "clf_rf.fit(X_train,Y_train)\n",
    "\n",
    "y_pred = clf_rf.predict(X_test)        \n",
    "\n",
    "rmse = np.sqrt(mean_squared_error(Y_test, y_pred))\n",
    "r2 = r2_score(Y_test, y_pred)\n",
    "pcc = pearsonr(Y_test, y_pred)[0]\n",
    "pcc_p = pearsonr(Y_test, y_pred)[1]\n",
    "\n",
    "print('rmse=',rmse)\n",
    "print('r2=',r2)\n",
    "print('pcc=',pcc)\n",
    "print('pcc_p=',pcc_p)\n",
    "\n",
    "ax = plt.subplots(figsize=(3,3))\n",
    "plt.ylabel(\"true label\")\n",
    "plt.xlabel(\"pred label\")\n",
    "sns.regplot(x=y_pred,y=Y_test,x_jitter = 0.15,y_jitter = 0.15,\n",
    "            scatter_kws = {'color':'#2E8B57','alpha':0.7,'s':15}, line_kws={\"color\": \"#006400\"},truncate=False)\n",
    "plt.title('small model (slope prediction)\\n' + tissue + ', ' + ml_model)\n",
    "\n",
    "plt.savefig(image_path + 'cm-small-slope-' + tissue + '-' + ml_model + '.png',dpi=300, bbox_inches = 'tight')\n",
    "plt.show()"
   ]
  },
  {
   "cell_type": "markdown",
   "metadata": {},
   "source": [
    "##### model 4: knn"
   ]
  },
  {
   "cell_type": "code",
   "execution_count": 10,
   "metadata": {},
   "outputs": [
    {
     "data": {
      "text/plain": [
       "{'n_neighbors': 300}"
      ]
     },
     "execution_count": 10,
     "metadata": {},
     "output_type": "execute_result"
    }
   ],
   "source": [
    "from sklearn.neighbors import KNeighborsRegressor\n",
    "from sklearn.model_selection import GridSearchCV\n",
    "\n",
    "# 1:search 'n_estimators'\n",
    "paramGride = {'n_neighbors': np.linspace(100, 300, 10, dtype=int)} \n",
    "\n",
    "knnModel = KNeighborsRegressor()\n",
    "grid = GridSearchCV(\n",
    "    knnModel,paramGride,cv = 5,return_train_score = True, scoring='neg_mean_absolute_error')\n",
    "grid = grid.fit(X_train,Y_train)\n",
    "grid.best_params_"
   ]
  },
  {
   "cell_type": "code",
   "execution_count": 11,
   "metadata": {},
   "outputs": [
    {
     "name": "stdout",
     "output_type": "stream",
     "text": [
      "rmse= 0.7294045213775683\n",
      "r2= -0.007624627282022622\n",
      "pcc= 0.02075872284716627\n",
      "pcc_p= 0.8910841627872004\n"
     ]
    },
    {
     "data": {
      "image/png": "[encoded data removed]",
      "text/plain": [
       "<Figure size 300x300 with 1 Axes>"
      ]
     },
     "metadata": {},
     "output_type": "display_data"
    }
   ],
   "source": [
    "ml_model = model_list[3]\n",
    "clf_knn = KNeighborsRegressor(n_neighbors = grid.best_params_['n_neighbors'])\n",
    "clf_knn.fit(X_train,Y_train)\n",
    "\n",
    "y_pred = clf_knn.predict(X_test)    \n",
    "\n",
    "rmse = np.sqrt(mean_squared_error(Y_test, y_pred))\n",
    "r2 = r2_score(Y_test, y_pred)\n",
    "pcc = pearsonr(Y_test, y_pred)[0]\n",
    "pcc_p = pearsonr(Y_test, y_pred)[1]\n",
    "\n",
    "print('rmse=',rmse)\n",
    "print('r2=',r2)\n",
    "print('pcc=',pcc)\n",
    "print('pcc_p=',pcc_p)\n",
    "\n",
    "ax = plt.subplots(figsize=(3,3))\n",
    "plt.ylabel(\"true label\")\n",
    "plt.xlabel(\"pred label\")\n",
    "sns.regplot(x=y_pred,y=Y_test,x_jitter = 0.15,y_jitter = 0.15,\n",
    "            scatter_kws = {'color':'#2E8B57','alpha':0.7,'s':15}, line_kws={\"color\": \"#006400\"},truncate=False)\n",
    "plt.title('small model (slope prediction)\\n' + tissue + ', ' + ml_model)\n",
    "\n",
    "plt.savefig(image_path + 'cm-small-slope-' + tissue + '-' + ml_model + '.png',dpi=300, bbox_inches = 'tight')\n",
    "plt.show()"
   ]
  },
  {
   "cell_type": "markdown",
   "metadata": {},
   "source": [
    "##### model 5: svm"
   ]
  },
  {
   "cell_type": "code",
   "execution_count": 4,
   "metadata": {},
   "outputs": [
    {
     "name": "stdout",
     "output_type": "stream",
     "text": [
      "{'gamma': 0.0001}\n",
      "{'C': 0.0001}\n"
     ]
    }
   ],
   "source": [
    "from sklearn.svm import SVR\n",
    "from sklearn.model_selection import GridSearchCV\n",
    "\n",
    "cv_params = {'gamma': [1e-4,1e-3,1e-2,1e-1,1,10,100,1000]} # 33\n",
    "svmModel = SVR()\n",
    "grid = GridSearchCV(\n",
    "    svmModel,cv_params,cv = 5,return_train_score = True, scoring='neg_mean_absolute_error')\n",
    "grid = grid.fit(X_train,Y_train)\n",
    "gamma = grid.best_params_['gamma']\n",
    "print(grid.best_params_)\n",
    "\n",
    "cv_params = {'C': [1e-4,1e-3,1e-2,1e-1,1,10,100,1000]} # 33\n",
    "svmModel = SVR(gamma=gamma)\n",
    "grid = GridSearchCV(\n",
    "    svmModel,cv_params,cv = 5,return_train_score = True, scoring='neg_mean_absolute_error')\n",
    "grid = grid.fit(X_train,Y_train)\n",
    "C = grid.best_params_['C']\n",
    "print(grid.best_params_)"
   ]
  },
  {
   "cell_type": "code",
   "execution_count": 5,
   "metadata": {},
   "outputs": [
    {
     "name": "stdout",
     "output_type": "stream",
     "text": [
      "rmse= 0.7383147502328592\n",
      "r2= -0.03239278627941089\n",
      "pcc= nan\n",
      "pcc_p= nan\n"
     ]
    },
    {
     "data": {
      "image/png": "[encoded data removed]",
      "text/plain": [
       "<Figure size 300x300 with 1 Axes>"
      ]
     },
     "metadata": {},
     "output_type": "display_data"
    }
   ],
   "source": [
    "ml_model = model_list[4]\n",
    "clf_svm = SVR(gamma = gamma, C = C)\n",
    "clf_svm.fit(X_train,Y_train)\n",
    "\n",
    "y_pred = clf_svm.predict(X_test)  \n",
    "\n",
    "rmse = np.sqrt(mean_squared_error(Y_test, y_pred))\n",
    "r2 = r2_score(Y_test, y_pred)\n",
    "pcc = pearsonr(Y_test, y_pred)[0]\n",
    "pcc_p = pearsonr(Y_test, y_pred)[1]\n",
    "\n",
    "print('rmse=',rmse)\n",
    "print('r2=',r2)\n",
    "print('pcc=',pcc)\n",
    "print('pcc_p=',pcc_p)\n",
    "\n",
    "ax = plt.subplots(figsize=(3,3))\n",
    "plt.ylabel(\"true label\")\n",
    "plt.xlabel(\"pred label\")\n",
    "sns.regplot(x=y_pred,y=Y_test,x_jitter = 0.15,y_jitter = 0.15,\n",
    "            scatter_kws = {'color':'#2E8B57','alpha':0.7,'s':15}, line_kws={\"color\": \"#006400\"},truncate=False)\n",
    "plt.title('small model (slope prediction)\\n' + tissue + ', ' + ml_model)\n",
    "\n",
    "plt.savefig(image_path + 'cm-small-slope-' + tissue + '-' + ml_model + '.png',dpi=300, bbox_inches = 'tight')\n",
    "plt.show()"
   ]
  },
  {
   "cell_type": "markdown",
   "metadata": {},
   "source": [
    "#### middle model"
   ]
  },
  {
   "cell_type": "code",
   "execution_count": 3,
   "metadata": {},
   "outputs": [
    {
     "name": "stdout",
     "output_type": "stream",
     "text": [
      "             variant_id     slope  \\\n",
      "0   chr1_989148_C_A_b38  0.753825   \n",
      "1   chr1_999842_C_A_b38  0.757170   \n",
      "2  chr1_1733506_G_A_b38  1.414804   \n",
      "3  chr1_1777680_C_T_b38  0.248043   \n",
      "4  chr1_2189679_C_T_b38  0.558117   \n",
      "\n",
      "                                 enformer_pca_before  \\\n",
      "0  [[-60.144806, 31.240004, 73.60575, -30.321962,...   \n",
      "1  [[97.44921, -132.65726, 86.68343, -75.311, 56....   \n",
      "2  [[-70.106346, 62.64318, 7.9296565, -53.16309, ...   \n",
      "3  [[-64.10961, 64.719124, -28.92437, -8.265841, ...   \n",
      "4  [[89.205246, -39.044422, 163.36935, 316.2038, ...   \n",
      "\n",
      "                                  enformer_pca_after  \n",
      "0  [[-60.109074, 31.235514, 73.56032, -30.37453, ...  \n",
      "1  [[98.55062, -131.75844, 86.78515, -74.994774, ...  \n",
      "2  [[-70.109604, 62.641273, 7.9302077, -53.167393...  \n",
      "3  [[-64.251595, 64.83696, -29.164341, -8.316112,...  \n",
      "4  [[89.020905, -39.654995, 163.20837, 317.38507,...  \n",
      "X_train shape: (598, 17920)\n",
      "Y_train shape: (598,)\n",
      "X_test shape: (67, 17920)\n",
      "Y_test shape: (67,)\n"
     ]
    }
   ],
   "source": [
    "model = model_size[1]\n",
    "train_data = pd.read_pickle(data_path + model + '_train.dataset')\n",
    "valid_data = pd.read_pickle(data_path + model + '_valid.dataset')\n",
    "test_data = pd.read_pickle(data_path + model + '_test.dataset')\n",
    "print(train_data.head())\n",
    "\n",
    "merged_data = pd.concat([train_data, valid_data, test_data]) # for machine learning, grid search\n",
    "# new split\n",
    "merged_data = merged_data.sample(frac=1).reset_index(drop=True)\n",
    "train_data = merged_data[0:int(0.9*len(merged_data))].reset_index(drop=True)\n",
    "test_data = merged_data[int(0.9*len(merged_data)):].reset_index(drop=True)\n",
    "\n",
    "sample_list = []\n",
    "y_list = []\n",
    "for i in range(train_data.shape[0]):\n",
    "    feature_list = []\n",
    "    feature_list += train_data['enformer_pca_before'][i].flatten().tolist()\n",
    "    feature_list += train_data['enformer_pca_after'][i].flatten().tolist()\n",
    "    sample_list.append(feature_list)\n",
    "    y_list.append(train_data['slope'][i])\n",
    "X_train = np.array(sample_list)\n",
    "Y_train = np.array(y_list)\n",
    "print('X_train shape: ' + str(X_train.shape))\n",
    "print('Y_train shape: ' + str(Y_train.shape))\n",
    "\n",
    "sample_list = []\n",
    "y_list = []\n",
    "for i in range(test_data.shape[0]):\n",
    "    feature_list = []\n",
    "    feature_list += test_data['enformer_pca_before'][i].flatten().tolist()\n",
    "    feature_list += test_data['enformer_pca_after'][i].flatten().tolist()\n",
    "    sample_list.append(feature_list)\n",
    "    y_list.append(test_data['slope'][i])\n",
    "X_test = np.array(sample_list)\n",
    "Y_test = np.array(y_list)\n",
    "print('X_test shape: ' + str(X_test.shape))\n",
    "print('Y_test shape: ' + str(Y_test.shape))"
   ]
  },
  {
   "cell_type": "markdown",
   "metadata": {},
   "source": [
    "##### model 1: xgboost"
   ]
  },
  {
   "cell_type": "code",
   "execution_count": 7,
   "metadata": {},
   "outputs": [
    {
     "name": "stdout",
     "output_type": "stream",
     "text": [
      "{'n_estimators': 10}\n",
      "{'max_depth': 9}\n"
     ]
    }
   ],
   "source": [
    "# model 1: xgboost\n",
    "import xgboost as xgb\n",
    "from sklearn.model_selection import GridSearchCV\n",
    "\n",
    "cv_params = {'n_estimators': np.linspace(10, 300, 10, dtype=int)} # \n",
    "xgb_model = xgb.XGBRegressor(seed=seed)\n",
    "# https://scikit-learn.org/stable/modules/model_evaluation.html\n",
    "gs = GridSearchCV(xgb_model, cv_params, refit=True, cv=5, scoring='neg_mean_absolute_error')\n",
    "gs.fit(X_train,Y_train)\n",
    "n_estimators = gs.best_params_['n_estimators']\n",
    "print(gs.best_params_)\n",
    "\n",
    "cv_params = {'max_depth': np.linspace(1, 10, 10, dtype=int)} # \n",
    "xgb_model = xgb.XGBRegressor(seed=seed,n_estimators=n_estimators)\n",
    "gs = GridSearchCV(xgb_model, cv_params, refit=True, cv=5, scoring='neg_mean_absolute_error')\n",
    "gs.fit(X_train,Y_train)\n",
    "max_depth = gs.best_params_['max_depth']\n",
    "print(gs.best_params_)"
   ]
  },
  {
   "cell_type": "code",
   "execution_count": 8,
   "metadata": {},
   "outputs": [
    {
     "name": "stdout",
     "output_type": "stream",
     "text": [
      "rmse= 0.8229666802940208\n",
      "r2= -0.08832045314318537\n",
      "pcc= 0.15616177528041145\n",
      "pcc_p= 0.20696942647327937\n"
     ]
    },
    {
     "data": {
      "image/png": "[encoded data removed]",
      "text/plain": [
       "<Figure size 300x300 with 1 Axes>"
      ]
     },
     "metadata": {},
     "output_type": "display_data"
    }
   ],
   "source": [
    "ml_model = model_list[0]\n",
    "\n",
    "clf_xgb = xgb.XGBRegressor(n_estimators=n_estimators,  max_depth=max_depth) # from grid search\n",
    "clf_xgb.fit(X_train,Y_train)\n",
    "\n",
    "y_pred = clf_xgb.predict(X_test)                                   \n",
    "\n",
    "rmse = np.sqrt(mean_squared_error(Y_test, y_pred))\n",
    "r2 = r2_score(Y_test, y_pred)\n",
    "pcc = pearsonr(Y_test, y_pred)[0]\n",
    "pcc_p = pearsonr(Y_test, y_pred)[1]\n",
    "\n",
    "print('rmse=',rmse)\n",
    "print('r2=',r2)\n",
    "print('pcc=',pcc)\n",
    "print('pcc_p=',pcc_p)\n",
    "\n",
    "ax = plt.subplots(figsize=(3,3))\n",
    "plt.ylabel(\"true label\")\n",
    "plt.xlabel(\"pred label\")\n",
    "sns.regplot(x=y_pred,y=Y_test,x_jitter = 0.15,y_jitter = 0.15,\n",
    "            scatter_kws = {'color':'#D2691E','alpha':0.7,'s':15}, line_kws={\"color\": \"#8B4513\"},truncate=False)\n",
    "plt.title('middle model (slope prediction)\\n' + tissue + ', ' + ml_model)\n",
    "\n",
    "plt.savefig(image_path + 'cm-middle-slope-' + tissue + '-' + ml_model + '.png',dpi=300, bbox_inches = 'tight')\n",
    "plt.show()"
   ]
  },
  {
   "cell_type": "markdown",
   "metadata": {},
   "source": [
    "##### model 2:lightgbm"
   ]
  },
  {
   "cell_type": "code",
   "execution_count": 9,
   "metadata": {},
   "outputs": [
    {
     "name": "stdout",
     "output_type": "stream",
     "text": [
      "{'max_depth': 11}\n",
      "{'num_leaves': 14}\n"
     ]
    }
   ],
   "source": [
    "import lightgbm as lgb\n",
    "from sklearn.model_selection import GridSearchCV\n",
    "\n",
    "cv_params = {'max_depth': np.linspace(1, 50, 10, dtype=int)} # \n",
    "gbm = lgb.LGBMRegressor(seed=seed,verbose=-1)\n",
    "gsearch = GridSearchCV(gbm, param_grid=cv_params, cv=5, scoring='neg_mean_absolute_error')\n",
    "gsearch.fit(X_train, Y_train)\n",
    "max_depth = gsearch.best_params_['max_depth']\n",
    "print(gsearch.best_params_)\n",
    "\n",
    "cv_params = {'num_leaves': np.linspace(2, 50, 5, dtype=int)} # \n",
    "gbm = lgb.LGBMRegressor(seed=seed,max_depth=max_depth,verbose=-1)\n",
    "gsearch = GridSearchCV(gbm, param_grid=cv_params, cv=5, scoring='neg_mean_absolute_error')\n",
    "gsearch.fit(X_train, Y_train)\n",
    "num_leaves = gsearch.best_params_['num_leaves']\n",
    "print(gsearch.best_params_)"
   ]
  },
  {
   "cell_type": "code",
   "execution_count": 10,
   "metadata": {},
   "outputs": [
    {
     "name": "stdout",
     "output_type": "stream",
     "text": [
      "[LightGBM] [Info] Auto-choosing col-wise multi-threading, the overhead of testing was 0.317624 seconds.\n",
      "You can set `force_col_wise=true` to remove the overhead.\n",
      "[LightGBM] [Info] Total Bins 3578596\n",
      "[LightGBM] [Info] Number of data points in the train set: 598, number of used features: 17920\n",
      "[LightGBM] [Info] Start training from score 0.033031\n",
      "rmse= 0.7309079462277097\n",
      "r2= 0.14154476444942776\n",
      "pcc= 0.47625537719594496\n",
      "pcc_p= 4.626347429278699e-05\n"
     ]
    },
    {
     "data": {
      "image/png": "[encoded data removed]",
      "text/plain": [
       "<Figure size 300x300 with 1 Axes>"
      ]
     },
     "metadata": {},
     "output_type": "display_data"
    }
   ],
   "source": [
    "ml_model = model_list[1]\n",
    "clf_lgb = lgb.LGBMRegressor(max_depth=max_depth, num_leaves=num_leaves)\n",
    "clf_lgb.fit(X_train,Y_train)\n",
    "\n",
    "y_pred = clf_lgb.predict(X_test)   \n",
    "\n",
    "rmse = np.sqrt(mean_squared_error(Y_test, y_pred))\n",
    "r2 = r2_score(Y_test, y_pred)\n",
    "pcc = pearsonr(Y_test, y_pred)[0]\n",
    "pcc_p = pearsonr(Y_test, y_pred)[1]\n",
    "\n",
    "print('rmse=',rmse)\n",
    "print('r2=',r2)\n",
    "print('pcc=',pcc)\n",
    "print('pcc_p=',pcc_p)\n",
    "\n",
    "ax = plt.subplots(figsize=(3,3))\n",
    "plt.ylabel(\"true label\")\n",
    "plt.xlabel(\"pred label\")\n",
    "sns.regplot(x=y_pred,y=Y_test,x_jitter = 0.15,y_jitter = 0.15,\n",
    "            scatter_kws = {'color':'#D2691E','alpha':0.7,'s':15}, line_kws={\"color\": \"#8B4513\"},truncate=False)\n",
    "plt.title('middle model (slope prediction)\\n' + tissue + ', ' + ml_model)\n",
    "\n",
    "plt.savefig(image_path + 'cm-middle-slope-' + tissue + '-' + ml_model + '.png',dpi=300, bbox_inches = 'tight')\n",
    "plt.show()"
   ]
  },
  {
   "cell_type": "markdown",
   "metadata": {},
   "source": [
    "##### model 3: random forest"
   ]
  },
  {
   "cell_type": "code",
   "execution_count": 4,
   "metadata": {},
   "outputs": [],
   "source": [
    "from sklearn.ensemble import RandomForestRegressor\n",
    "from sklearn.model_selection import GridSearchCV\n",
    "\n",
    "cv_params = {'n_estimators': np.linspace(10, 200, 10, dtype=int)} # 200\n",
    "rfModel = RandomForestRegressor(random_state = random.seed(seed))\n",
    "grid = GridSearchCV(\n",
    "    rfModel,cv_params,cv = 5,return_train_score = True, scoring='neg_mean_absolute_error')\n",
    "grid.fit(X_train, Y_train)\n",
    "n_estimators = grid.best_params_['n_estimators']\n",
    "print(grid.best_params_)\n",
    "\n",
    "cv_params = {'max_depth': np.linspace(1, 10, 10, dtype=int)} # 200\n",
    "rfModel = RandomForestRegressor(random_state = random.seed(seed),n_estimators=n_estimators)\n",
    "grid = GridSearchCV(\n",
    "    rfModel,cv_params,cv = 5,return_train_score = True, scoring='neg_mean_absolute_error')\n",
    "grid.fit(X_train, Y_train)\n",
    "max_depth=grid.best_params_['max_depth']\n",
    "print(grid.best_params_)"
   ]
  },
  {
   "cell_type": "code",
   "execution_count": null,
   "metadata": {},
   "outputs": [],
   "source": [
    "ml_model = model_list[2]\n",
    "clf_rf = RandomForestRegressor(n_estimators=n_estimators, max_depth=max_depth)\n",
    "clf_rf.fit(X_train,Y_train)\n",
    "\n",
    "y_pred = clf_rf.predict(X_test)         \n",
    "\n",
    "rmse = np.sqrt(mean_squared_error(Y_test, y_pred))\n",
    "r2 = r2_score(Y_test, y_pred)\n",
    "pcc = pearsonr(Y_test, y_pred)[0]\n",
    "pcc_p = pearsonr(Y_test, y_pred)[1]\n",
    "\n",
    "print('rmse=',rmse)\n",
    "print('r2=',r2)\n",
    "print('pcc=',pcc)\n",
    "print('pcc_p=',pcc_p)\n",
    "\n",
    "ax = plt.subplots(figsize=(3,3))\n",
    "plt.ylabel(\"true label\")\n",
    "plt.xlabel(\"pred label\")\n",
    "sns.regplot(x=y_pred,y=Y_test,x_jitter = 0.15,y_jitter = 0.15,\n",
    "            scatter_kws = {'color':'#D2691E','alpha':0.7,'s':15}, line_kws={\"color\": \"#8B4513\"},truncate=False)\n",
    "plt.title('middle model (slope prediction)\\n' + tissue + ', ' + ml_model)\n",
    "\n",
    "plt.savefig(image_path + 'cm-middle-slope-' + tissue + '-' + ml_model + '.png',dpi=300, bbox_inches = 'tight')\n",
    "plt.show()"
   ]
  },
  {
   "cell_type": "markdown",
   "metadata": {},
   "source": [
    "##### model 4: knn"
   ]
  },
  {
   "cell_type": "code",
   "execution_count": null,
   "metadata": {},
   "outputs": [],
   "source": [
    "from sklearn.neighbors import KNeighborsRegressor\n",
    "from sklearn.model_selection import GridSearchCV\n",
    "\n",
    "# 1:search 'n_estimators'\n",
    "paramGride = {'n_neighbors': np.linspace(100, 300, 10, dtype=int)} \n",
    "\n",
    "knnModel = KNeighborsRegressor()\n",
    "grid = GridSearchCV(\n",
    "    knnModel,paramGride,cv = 5,return_train_score = True, scoring='neg_mean_absolute_error')\n",
    "grid = grid.fit(X_train,Y_train)\n",
    "grid.best_params_"
   ]
  },
  {
   "cell_type": "code",
   "execution_count": null,
   "metadata": {},
   "outputs": [],
   "source": [
    "ml_model = model_list[3]\n",
    "clf_knn = KNeighborsRegressor(n_neighbors = grid.best_params_['n_neighbors'])\n",
    "clf_knn.fit(X_train,Y_train)\n",
    "\n",
    "y_pred = clf_knn.predict(X_test)  \n",
    "\n",
    "rmse = np.sqrt(mean_squared_error(Y_test, y_pred))\n",
    "r2 = r2_score(Y_test, y_pred)\n",
    "pcc = pearsonr(Y_test, y_pred)[0]\n",
    "pcc_p = pearsonr(Y_test, y_pred)[1]\n",
    "\n",
    "print('rmse=',rmse)\n",
    "print('r2=',r2)\n",
    "print('pcc=',pcc)\n",
    "print('pcc_p=',pcc_p)\n",
    "\n",
    "ax = plt.subplots(figsize=(3,3))\n",
    "plt.ylabel(\"true label\")\n",
    "plt.xlabel(\"pred label\")\n",
    "sns.regplot(x=y_pred,y=Y_test,x_jitter = 0.15,y_jitter = 0.15,\n",
    "            scatter_kws = {'color':'#D2691E','alpha':0.7,'s':15}, line_kws={\"color\": \"#8B4513\"},truncate=False)\n",
    "plt.title('middle model (slope prediction)\\n' + tissue + ', ' + ml_model)\n",
    "\n",
    "plt.savefig(image_path + 'cm-middle-slope-' + tissue + '-' + ml_model + '.png',dpi=300, bbox_inches = 'tight')\n",
    "plt.show()"
   ]
  },
  {
   "cell_type": "markdown",
   "metadata": {},
   "source": [
    "##### model 5: svm"
   ]
  },
  {
   "cell_type": "code",
   "execution_count": null,
   "metadata": {},
   "outputs": [],
   "source": [
    "from sklearn.svm import SVR\n",
    "from sklearn.model_selection import GridSearchCV\n",
    "\n",
    "cv_params = {'gamma': [1e-4,1e-3,1e-2,1e-1,1,10,100,1000]} # 33\n",
    "svmModel = SVR()\n",
    "grid = GridSearchCV(\n",
    "    svmModel,cv_params,cv = 5,return_train_score = True, scoring='neg_mean_absolute_error')\n",
    "grid = grid.fit(X_train,Y_train)\n",
    "gamma = grid.best_params_['gamma']\n",
    "print(grid.best_params_)\n",
    "\n",
    "cv_params = {'C': [1e-4,1e-3,1e-2,1e-1,1,10,100,1000]} # 33\n",
    "svmModel = SVR(gamma=gamma)\n",
    "grid = GridSearchCV(\n",
    "    svmModel,cv_params,cv = 5,return_train_score = True, scoring='neg_mean_absolute_error')\n",
    "grid = grid.fit(X_train,Y_train)\n",
    "C = grid.best_params_['C']\n",
    "print(grid.best_params_)"
   ]
  },
  {
   "cell_type": "code",
   "execution_count": null,
   "metadata": {},
   "outputs": [],
   "source": [
    "ml_model = model_list[4]\n",
    "clf_svm = SVR(gamma = gamma, C = C)\n",
    "clf_svm.fit(X_train,Y_train)\n",
    "\n",
    "y_pred = clf_svm.predict(X_test)      \n",
    "\n",
    "rmse = np.sqrt(mean_squared_error(Y_test, y_pred))\n",
    "r2 = r2_score(Y_test, y_pred)\n",
    "pcc = pearsonr(Y_test, y_pred)[0]\n",
    "pcc_p = pearsonr(Y_test, y_pred)[1]\n",
    "\n",
    "print('rmse=',rmse)\n",
    "print('r2=',r2)\n",
    "print('pcc=',pcc)\n",
    "print('pcc_p=',pcc_p)\n",
    "\n",
    "ax = plt.subplots(figsize=(3,3))\n",
    "plt.ylabel(\"true label\")\n",
    "plt.xlabel(\"pred label\")\n",
    "sns.regplot(x=y_pred,y=Y_test,x_jitter = 0.15,y_jitter = 0.15,\n",
    "            scatter_kws = {'color':'#D2691E','alpha':0.7,'s':15}, line_kws={\"color\": \"#8B4513\"},truncate=False)\n",
    "plt.title('middle model (slope prediction)\\n' + tissue + ', ' + ml_model)\n",
    "\n",
    "plt.savefig(image_path + 'cm-middle-slope-' + tissue + '-' + ml_model + '.png',dpi=300, bbox_inches = 'tight')\n",
    "plt.show()"
   ]
  },
  {
   "cell_type": "markdown",
   "metadata": {},
   "source": [
    "#### large model"
   ]
  },
  {
   "cell_type": "code",
   "execution_count": null,
   "metadata": {},
   "outputs": [],
   "source": [
    "model = model_size[2]\n",
    "train_data = pd.read_pickle(data_path + model + '_train.dataset')\n",
    "valid_data = pd.read_pickle(data_path + model + '_valid.dataset')\n",
    "test_data = pd.read_pickle(data_path + model + '_test.dataset')\n",
    "print(train_data.head())\n",
    "\n",
    "merged_data = pd.concat([train_data, valid_data, test_data]) # for machine learning, grid search\n",
    "# new split\n",
    "merged_data = merged_data.sample(frac=1).reset_index(drop=True)\n",
    "train_data = merged_data[0:int(0.9*len(merged_data))].reset_index(drop=True)\n",
    "test_data = merged_data[int(0.9*len(merged_data)):].reset_index(drop=True)\n",
    "\n",
    "sample_list = []\n",
    "y_list = []\n",
    "for i in range(train_data.shape[0]):\n",
    "    feature_list = []\n",
    "    feature_list += train_data['enformer_pca_before'][i].flatten().tolist()\n",
    "    feature_list += train_data['enformer_pca_after'][i].flatten().tolist()\n",
    "    sample_list.append(feature_list)\n",
    "    y_list.append(train_data['slope'][i])\n",
    "X_train = np.array(sample_list)\n",
    "Y_train = np.array(y_list)\n",
    "print('X_train shape: ' + str(X_train.shape))\n",
    "print('Y_train shape: ' + str(Y_train.shape))\n",
    "\n",
    "sample_list = []\n",
    "y_list = []\n",
    "for i in range(test_data.shape[0]):\n",
    "    feature_list = []\n",
    "    feature_list += test_data['enformer_pca_before'][i].flatten().tolist()\n",
    "    feature_list += test_data['enformer_pca_after'][i].flatten().tolist()\n",
    "    sample_list.append(feature_list)\n",
    "    y_list.append(test_data['slope'][i])\n",
    "X_test = np.array(sample_list)\n",
    "Y_test = np.array(y_list)\n",
    "print('X_test shape: ' + str(X_test.shape))\n",
    "print('Y_test shape: ' + str(Y_test.shape))"
   ]
  },
  {
   "cell_type": "markdown",
   "metadata": {},
   "source": [
    "##### model 1: xgboost"
   ]
  },
  {
   "cell_type": "code",
   "execution_count": null,
   "metadata": {},
   "outputs": [],
   "source": [
    "# model 1: xgboost\n",
    "import xgboost as xgb\n",
    "from sklearn.model_selection import GridSearchCV\n",
    "\n",
    "cv_params = {'n_estimators': np.linspace(10, 300, 10, dtype=int)} # \n",
    "xgb_model = xgb.XGBRegressor(seed=seed)\n",
    "# https://scikit-learn.org/stable/modules/model_evaluation.html\n",
    "gs = GridSearchCV(xgb_model, cv_params, refit=True, cv=5, scoring='neg_mean_absolute_error')\n",
    "gs.fit(X_train,Y_train)\n",
    "n_estimators = gs.best_params_['n_estimators']\n",
    "print(gs.best_params_)\n",
    "\n",
    "cv_params = {'max_depth': np.linspace(1, 10, 10, dtype=int)} # \n",
    "xgb_model = xgb.XGBRegressor(seed=seed,n_estimators=n_estimators)\n",
    "gs = GridSearchCV(xgb_model, cv_params, refit=True, cv=5, scoring='neg_mean_absolute_error')\n",
    "gs.fit(X_train,Y_train)\n",
    "max_depth = gs.best_params_['max_depth']\n",
    "print(gs.best_params_)"
   ]
  },
  {
   "cell_type": "code",
   "execution_count": null,
   "metadata": {},
   "outputs": [],
   "source": [
    "ml_model = model_list[0]\n",
    "clf_xgb = xgb.XGBRegressor(n_estimators=n_estimators,  max_depth=max_depth) # from grid search\n",
    "clf_xgb.fit(X_train,Y_train)\n",
    "\n",
    "y_pred = clf_xgb.predict(X_test)                                   \n",
    "\n",
    "rmse = np.sqrt(mean_squared_error(Y_test, y_pred))\n",
    "r2 = r2_score(Y_test, y_pred)\n",
    "pcc = pearsonr(Y_test, y_pred)[0]\n",
    "pcc_p = pearsonr(Y_test, y_pred)[1]\n",
    "\n",
    "print('rmse=',rmse)\n",
    "print('r2=',r2)\n",
    "print('pcc=',pcc)\n",
    "print('pcc_p=',pcc_p)\n",
    "\n",
    "ax = plt.subplots(figsize=(3,3))\n",
    "plt.ylabel(\"true label\")\n",
    "plt.xlabel(\"pred label\")\n",
    "sns.regplot(x=y_pred,y=Y_test,x_jitter = 0.15,y_jitter = 0.15,\n",
    "            scatter_kws = {'color':'#800080','alpha':0.7,'s':15}, line_kws={\"color\": \"#4B0082\"},truncate=False)\n",
    "plt.title('large model (slope prediction)\\n' + tissue + ', ' + ml_model)\n",
    "\n",
    "plt.savefig(image_path + 'cm-large-slope-' + tissue + '-' + ml_model + '.png',dpi=300, bbox_inches = 'tight')\n",
    "plt.show()"
   ]
  },
  {
   "cell_type": "markdown",
   "metadata": {},
   "source": [
    "##### model 2:lightgbm"
   ]
  },
  {
   "cell_type": "code",
   "execution_count": null,
   "metadata": {},
   "outputs": [],
   "source": [
    "import lightgbm as lgb\n",
    "from sklearn.model_selection import GridSearchCV\n",
    "\n",
    "cv_params = {'max_depth': np.linspace(1, 50, 10, dtype=int)} # \n",
    "gbm = lgb.LGBMRegressor(seed=seed,verbose=-1)\n",
    "gsearch = GridSearchCV(gbm, param_grid=cv_params, cv=5, scoring='neg_mean_absolute_error')\n",
    "gsearch.fit(X_train, Y_train)\n",
    "max_depth = gsearch.best_params_['max_depth']\n",
    "print(gsearch.best_params_)\n",
    "\n",
    "cv_params = {'num_leaves': np.linspace(2, 50, 5, dtype=int)} # \n",
    "gbm = lgb.LGBMRegressor(seed=seed,max_depth=max_depth,verbose=-1)\n",
    "gsearch = GridSearchCV(gbm, param_grid=cv_params, cv=5, scoring='neg_mean_absolute_error')\n",
    "gsearch.fit(X_train, Y_train)\n",
    "num_leaves = gsearch.best_params_['num_leaves']\n",
    "print(gsearch.best_params_)"
   ]
  },
  {
   "cell_type": "code",
   "execution_count": null,
   "metadata": {},
   "outputs": [],
   "source": [
    "ml_model = model_list[1]\n",
    "clf_lgb = lgb.LGBMRegressor(max_depth=max_depth, num_leaves=num_leaves)\n",
    "clf_lgb.fit(X_train,Y_train)\n",
    "\n",
    "y_pred = clf_lgb.predict(X_test)         \n",
    "\n",
    "rmse = np.sqrt(mean_squared_error(Y_test, y_pred))\n",
    "r2 = r2_score(Y_test, y_pred)\n",
    "pcc = pearsonr(Y_test, y_pred)[0]\n",
    "pcc_p = pearsonr(Y_test, y_pred)[1]\n",
    "\n",
    "print('rmse=',rmse)\n",
    "print('r2=',r2)\n",
    "print('pcc=',pcc)\n",
    "print('pcc_p=',pcc_p)\n",
    "\n",
    "ax = plt.subplots(figsize=(3,3))\n",
    "plt.ylabel(\"true label\")\n",
    "plt.xlabel(\"pred label\")\n",
    "sns.regplot(x=y_pred,y=Y_test,x_jitter = 0.15,y_jitter = 0.15,\n",
    "            scatter_kws = {'color':'#800080','alpha':0.7,'s':15}, line_kws={\"color\": \"#4B0082\"},truncate=False)\n",
    "plt.title('large model (slope prediction)\\n' + tissue + ', ' + ml_model)\n",
    "\n",
    "plt.savefig(image_path + 'cm-large-slope-' + tissue + '-' + ml_model + '.png',dpi=300, bbox_inches = 'tight')\n",
    "plt.show()"
   ]
  },
  {
   "cell_type": "markdown",
   "metadata": {},
   "source": [
    "##### model 3: random forest"
   ]
  },
  {
   "cell_type": "code",
   "execution_count": null,
   "metadata": {},
   "outputs": [],
   "source": [
    "from sklearn.ensemble import RandomForestRegressor\n",
    "from sklearn.model_selection import GridSearchCV\n",
    "\n",
    "cv_params = {'n_estimators': np.linspace(10, 200, 10, dtype=int)} # 200\n",
    "rfModel = RandomForestRegressor(random_state = random.seed(seed))\n",
    "grid = GridSearchCV(\n",
    "    rfModel,cv_params,cv = 5,return_train_score = True, scoring='neg_mean_absolute_error')\n",
    "grid.fit(X_train, Y_train)\n",
    "n_estimators = grid.best_params_['n_estimators']\n",
    "print(grid.best_params_)\n",
    "\n",
    "cv_params = {'max_depth': np.linspace(1, 10, 10, dtype=int)} # 200\n",
    "rfModel = RandomForestRegressor(random_state = random.seed(seed),n_estimators=n_estimators)\n",
    "grid = GridSearchCV(\n",
    "    rfModel,cv_params,cv = 5,return_train_score = True, scoring='neg_mean_absolute_error')\n",
    "grid.fit(X_train, Y_train)\n",
    "max_depth=grid.best_params_['max_depth']\n",
    "print(grid.best_params_)"
   ]
  },
  {
   "cell_type": "code",
   "execution_count": null,
   "metadata": {},
   "outputs": [],
   "source": [
    "ml_model = model_list[2]\n",
    "clf_rf = RandomForestRegressor(n_estimators=n_estimators, max_depth=max_depth)\n",
    "clf_rf.fit(X_train,Y_train)\n",
    "\n",
    "y_pred = clf_rf.predict(X_test)   \n",
    "\n",
    "rmse = np.sqrt(mean_squared_error(Y_test, y_pred))\n",
    "r2 = r2_score(Y_test, y_pred)\n",
    "pcc = pearsonr(Y_test, y_pred)[0]\n",
    "pcc_p = pearsonr(Y_test, y_pred)[1]\n",
    "\n",
    "print('rmse=',rmse)\n",
    "print('r2=',r2)\n",
    "print('pcc=',pcc)\n",
    "print('pcc_p=',pcc_p)\n",
    "\n",
    "ax = plt.subplots(figsize=(3,3))\n",
    "plt.ylabel(\"true label\")\n",
    "plt.xlabel(\"pred label\")\n",
    "sns.regplot(x=y_pred,y=Y_test,x_jitter = 0.15,y_jitter = 0.15,\n",
    "            scatter_kws = {'color':'#800080','alpha':0.7,'s':15}, line_kws={\"color\": \"#4B0082\"},truncate=False)\n",
    "plt.title('large model (slope prediction)\\n' + tissue + ', ' + ml_model)\n",
    "\n",
    "plt.savefig(image_path + 'cm-large-slope-' + tissue + '-' + ml_model + '.png',dpi=300, bbox_inches = 'tight')\n",
    "plt.show()"
   ]
  },
  {
   "cell_type": "markdown",
   "metadata": {},
   "source": [
    "##### model 4: knn"
   ]
  },
  {
   "cell_type": "code",
   "execution_count": null,
   "metadata": {},
   "outputs": [],
   "source": [
    "from sklearn.neighbors import KNeighborsRegressor\n",
    "from sklearn.model_selection import GridSearchCV\n",
    "\n",
    "# 1:search 'n_estimators'\n",
    "paramGride = {'n_neighbors': np.linspace(100, 300, 10, dtype=int)} \n",
    "\n",
    "knnModel = KNeighborsRegressor()\n",
    "grid = GridSearchCV(\n",
    "    knnModel,paramGride,cv = 5,return_train_score = True, scoring='roc_auc')\n",
    "grid = grid.fit(X_train,Y_train)\n",
    "grid.best_params_"
   ]
  },
  {
   "cell_type": "code",
   "execution_count": null,
   "metadata": {},
   "outputs": [],
   "source": [
    "ml_model = model_list[3]\n",
    "clf_knn = KNeighborsRegressor(n_neighbors = grid.best_params_['n_neighbors'])\n",
    "clf_knn.fit(X_train,Y_train)\n",
    "\n",
    "y_pred = clf_knn.predict(X_test)   \n",
    "\n",
    "rmse = np.sqrt(mean_squared_error(Y_test, y_pred))\n",
    "r2 = r2_score(Y_test, y_pred)\n",
    "pcc = pearsonr(Y_test, y_pred)[0]\n",
    "pcc_p = pearsonr(Y_test, y_pred)[1]\n",
    "\n",
    "print('rmse=',rmse)\n",
    "print('r2=',r2)\n",
    "print('pcc=',pcc)\n",
    "print('pcc_p=',pcc_p)\n",
    "\n",
    "ax = plt.subplots(figsize=(3,3))\n",
    "plt.ylabel(\"true label\")\n",
    "plt.xlabel(\"pred label\")\n",
    "sns.regplot(x=y_pred,y=Y_test,x_jitter = 0.15,y_jitter = 0.15,\n",
    "            scatter_kws = {'color':'#800080','alpha':0.7,'s':15}, line_kws={\"color\": \"#4B0082\"},truncate=False)\n",
    "plt.title('large model (slope prediction)\\n' + tissue + ', ' + ml_model)\n",
    "\n",
    "plt.savefig(image_path + 'cm-large-slope-' + tissue + '-' + ml_model + '.png',dpi=300, bbox_inches = 'tight')\n",
    "plt.show()"
   ]
  },
  {
   "cell_type": "markdown",
   "metadata": {},
   "source": [
    "##### model 5: svm"
   ]
  },
  {
   "cell_type": "code",
   "execution_count": null,
   "metadata": {},
   "outputs": [],
   "source": [
    "from sklearn.svm import SVR\n",
    "from sklearn.model_selection import GridSearchCV\n",
    "\n",
    "cv_params = {'gamma': [1e-4,1e-3,1e-2,1e-1,1,10,100,1000]} # 33\n",
    "svmModel = SVR()\n",
    "grid = GridSearchCV(\n",
    "    svmModel,cv_params,cv = 5,return_train_score = True, scoring='neg_mean_absolute_error')\n",
    "grid = grid.fit(X_train,Y_train)\n",
    "gamma = grid.best_params_['gamma']\n",
    "print(grid.best_params_)\n",
    "\n",
    "cv_params = {'C': [1e-4,1e-3,1e-2,1e-1,1,10,100,1000]} # 33\n",
    "svmModel = SVR(gamma=gamma)\n",
    "grid = GridSearchCV(\n",
    "    svmModel,cv_params,cv = 5,return_train_score = True, scoring='neg_mean_absolute_error')\n",
    "grid = grid.fit(X_train,Y_train)\n",
    "C = grid.best_params_['C']\n",
    "print(grid.best_params_)"
   ]
  },
  {
   "cell_type": "code",
   "execution_count": null,
   "metadata": {},
   "outputs": [],
   "source": [
    "ml_model = model_list[4]\n",
    "clf_svm = SVR(gamma = gamma, C = C)\n",
    "clf_svm.fit(X_train,Y_train)\n",
    "\n",
    "y_pred = clf_svm.predict(X_test)      \n",
    "\n",
    "rmse = np.sqrt(mean_squared_error(Y_test, y_pred))\n",
    "r2 = r2_score(Y_test, y_pred)\n",
    "pcc = pearsonr(Y_test, y_pred)[0]\n",
    "pcc_p = pearsonr(Y_test, y_pred)[1]\n",
    "\n",
    "print('rmse=',rmse)\n",
    "print('r2=',r2)\n",
    "print('pcc=',pcc)\n",
    "print('pcc_p=',pcc_p)\n",
    "\n",
    "ax = plt.subplots(figsize=(3,3))\n",
    "plt.ylabel(\"true label\")\n",
    "plt.xlabel(\"pred label\")\n",
    "sns.regplot(x=y_pred,y=Y_test,x_jitter = 0.15,y_jitter = 0.15,\n",
    "            scatter_kws = {'color':'#800080','alpha':0.7,'s':15}, line_kws={\"color\": \"#4B0082\"},truncate=False)\n",
    "plt.title('large model (slope prediction)\\n' + tissue + ', ' + ml_model)\n",
    "\n",
    "plt.savefig(image_path + 'cm-large-slope-' + tissue + '-' + ml_model + '.png',dpi=300, bbox_inches = 'tight')\n",
    "plt.show()"
   ]
  }
 ],
 "metadata": {
  "kernelspec": {
   "display_name": "Python 3.9.12 64-bit",
   "language": "python",
   "name": "python3"
  },
  "language_info": {
   "codemirror_mode": {
    "name": "ipython",
    "version": 3
   },
   "file_extension": ".py",
   "mimetype": "text/x-python",
   "name": "python",
   "nbconvert_exporter": "python",
   "pygments_lexer": "ipython3",
   "version": "3.9.12"
  },
  "vscode": {
   "interpreter": {
    "hash": "6fff98fc3b3d81bd655c2cc48858186e4d9e2db7b515bf1c3221888f12a62f87"
   }
  }
 },
 "nbformat": 4,
 "nbformat_minor": 4
}
